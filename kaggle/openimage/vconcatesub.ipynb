{
 "cells": [
  {
   "cell_type": "code",
   "execution_count": 1,
   "metadata": {
    "ExecuteTime": {
     "end_time": "2019-08-05T12:35:34.890872Z",
     "start_time": "2019-08-05T12:35:34.449277Z"
    }
   },
   "outputs": [],
   "source": [
    "import pandas as pd"
   ]
  },
  {
   "cell_type": "code",
   "execution_count": 2,
   "metadata": {
    "ExecuteTime": {
     "end_time": "2019-08-05T12:35:36.444196Z",
     "start_time": "2019-08-05T12:35:34.890872Z"
    }
   },
   "outputs": [
    {
     "data": {
      "text/html": [
       "<div>\n",
       "<style scoped>\n",
       "    .dataframe tbody tr th:only-of-type {\n",
       "        vertical-align: middle;\n",
       "    }\n",
       "\n",
       "    .dataframe tbody tr th {\n",
       "        vertical-align: top;\n",
       "    }\n",
       "\n",
       "    .dataframe thead th {\n",
       "        text-align: right;\n",
       "    }\n",
       "</style>\n",
       "<table border=\"1\" class=\"dataframe\">\n",
       "  <thead>\n",
       "    <tr style=\"text-align: right;\">\n",
       "      <th></th>\n",
       "      <th>ImageID</th>\n",
       "      <th>PredictionString</th>\n",
       "    </tr>\n",
       "  </thead>\n",
       "  <tbody>\n",
       "    <tr>\n",
       "      <th>0</th>\n",
       "      <td>b5d912e06f74e948</td>\n",
       "      <td>/m/04yx4 0.8513652086257935 0.43385112 0.28740...</td>\n",
       "    </tr>\n",
       "    <tr>\n",
       "      <th>1</th>\n",
       "      <td>be137cf6bb0b62d5</td>\n",
       "      <td>/m/0hg7b 0.7785665988922119 0.021946797 0.2579...</td>\n",
       "    </tr>\n",
       "    <tr>\n",
       "      <th>2</th>\n",
       "      <td>8d65ca08cb5ce8e8</td>\n",
       "      <td>/m/0nybt 0.6117721796035767 0.28921688 0.48958...</td>\n",
       "    </tr>\n",
       "    <tr>\n",
       "      <th>3</th>\n",
       "      <td>4d3ad1e52ad8c065</td>\n",
       "      <td>/m/0dzct 0.8881123065948486 0.4327386 0.072321...</td>\n",
       "    </tr>\n",
       "    <tr>\n",
       "      <th>4</th>\n",
       "      <td>9b94408691c7d7bf</td>\n",
       "      <td>/m/063rgb 0.6159067153930664 0.0 0.0 0.6780492...</td>\n",
       "    </tr>\n",
       "  </tbody>\n",
       "</table>\n",
       "</div>"
      ],
      "text/plain": [
       "            ImageID                                   PredictionString\n",
       "0  b5d912e06f74e948  /m/04yx4 0.8513652086257935 0.43385112 0.28740...\n",
       "1  be137cf6bb0b62d5  /m/0hg7b 0.7785665988922119 0.021946797 0.2579...\n",
       "2  8d65ca08cb5ce8e8  /m/0nybt 0.6117721796035767 0.28921688 0.48958...\n",
       "3  4d3ad1e52ad8c065  /m/0dzct 0.8881123065948486 0.4327386 0.072321...\n",
       "4  9b94408691c7d7bf  /m/063rgb 0.6159067153930664 0.0 0.0 0.6780492..."
      ]
     },
     "execution_count": 2,
     "metadata": {},
     "output_type": "execute_result"
    }
   ],
   "source": [
    "df1 = pd.read_csv(\"C:/Users/hmnsh/Downloads/submission_co_corrected0-2.csv\")\n",
    "df1.head()"
   ]
  },
  {
   "cell_type": "code",
   "execution_count": 3,
   "metadata": {
    "ExecuteTime": {
     "end_time": "2019-08-05T12:35:38.037495Z",
     "start_time": "2019-08-05T12:35:36.444196Z"
    }
   },
   "outputs": [
    {
     "data": {
      "text/html": [
       "<div>\n",
       "<style scoped>\n",
       "    .dataframe tbody tr th:only-of-type {\n",
       "        vertical-align: middle;\n",
       "    }\n",
       "\n",
       "    .dataframe tbody tr th {\n",
       "        vertical-align: top;\n",
       "    }\n",
       "\n",
       "    .dataframe thead th {\n",
       "        text-align: right;\n",
       "    }\n",
       "</style>\n",
       "<table border=\"1\" class=\"dataframe\">\n",
       "  <thead>\n",
       "    <tr style=\"text-align: right;\">\n",
       "      <th></th>\n",
       "      <th>ImageID</th>\n",
       "      <th>PredictionString</th>\n",
       "    </tr>\n",
       "  </thead>\n",
       "  <tbody>\n",
       "    <tr>\n",
       "      <th>0</th>\n",
       "      <td>f3da24bc0ad4e989</td>\n",
       "      <td>/m/04yx4 0.7623876929283142 0.065751284 0.3980...</td>\n",
       "    </tr>\n",
       "    <tr>\n",
       "      <th>1</th>\n",
       "      <td>6e00099b932d057b</td>\n",
       "      <td>/m/0dzct 0.8822681903839111 0.11205666 0.31925...</td>\n",
       "    </tr>\n",
       "    <tr>\n",
       "      <th>2</th>\n",
       "      <td>9905185d19c4e499</td>\n",
       "      <td>/m/0138tl 0.7920055389404297 0.0 0.06199 0.967...</td>\n",
       "    </tr>\n",
       "    <tr>\n",
       "      <th>3</th>\n",
       "      <td>92fbdef4136dc826</td>\n",
       "      <td>/m/015p6 0.9981708526611328 0.38870314 0.34941...</td>\n",
       "    </tr>\n",
       "    <tr>\n",
       "      <th>4</th>\n",
       "      <td>363d4dca1dadeada</td>\n",
       "      <td>/m/01g317 0.8063486814498901 0.7626353 0.04384...</td>\n",
       "    </tr>\n",
       "  </tbody>\n",
       "</table>\n",
       "</div>"
      ],
      "text/plain": [
       "            ImageID                                   PredictionString\n",
       "0  f3da24bc0ad4e989  /m/04yx4 0.7623876929283142 0.065751284 0.3980...\n",
       "1  6e00099b932d057b  /m/0dzct 0.8822681903839111 0.11205666 0.31925...\n",
       "2  9905185d19c4e499  /m/0138tl 0.7920055389404297 0.0 0.06199 0.967...\n",
       "3  92fbdef4136dc826  /m/015p6 0.9981708526611328 0.38870314 0.34941...\n",
       "4  363d4dca1dadeada  /m/01g317 0.8063486814498901 0.7626353 0.04384..."
      ]
     },
     "execution_count": 3,
     "metadata": {},
     "output_type": "execute_result"
    }
   ],
   "source": [
    "df2 = pd.read_csv(\"C:/Users/hmnsh/Downloads/submission_co_corrected2-4.csv\")\n",
    "df2.head()"
   ]
  },
  {
   "cell_type": "code",
   "execution_count": 4,
   "metadata": {
    "ExecuteTime": {
     "end_time": "2019-08-05T12:35:38.855617Z",
     "start_time": "2019-08-05T12:35:38.038544Z"
    }
   },
   "outputs": [
    {
     "data": {
      "text/html": [
       "<div>\n",
       "<style scoped>\n",
       "    .dataframe tbody tr th:only-of-type {\n",
       "        vertical-align: middle;\n",
       "    }\n",
       "\n",
       "    .dataframe tbody tr th {\n",
       "        vertical-align: top;\n",
       "    }\n",
       "\n",
       "    .dataframe thead th {\n",
       "        text-align: right;\n",
       "    }\n",
       "</style>\n",
       "<table border=\"1\" class=\"dataframe\">\n",
       "  <thead>\n",
       "    <tr style=\"text-align: right;\">\n",
       "      <th></th>\n",
       "      <th>ImageID</th>\n",
       "      <th>PredictionString</th>\n",
       "    </tr>\n",
       "  </thead>\n",
       "  <tbody>\n",
       "    <tr>\n",
       "      <th>0</th>\n",
       "      <td>9ebdc1320ead66e2</td>\n",
       "      <td>/m/07j7r 0.8348236680030823 0.008202486 0.3635...</td>\n",
       "    </tr>\n",
       "    <tr>\n",
       "      <th>1</th>\n",
       "      <td>9863a478a5b9ec60</td>\n",
       "      <td>/m/03bt1vf 0.7719643712043762 0.2971434 0.4886...</td>\n",
       "    </tr>\n",
       "    <tr>\n",
       "      <th>2</th>\n",
       "      <td>46ef0da2632263e3</td>\n",
       "      <td>/m/04yx4 0.8730794191360474 0.7971036 0.391640...</td>\n",
       "    </tr>\n",
       "    <tr>\n",
       "      <th>3</th>\n",
       "      <td>ba7ee80384252c2f</td>\n",
       "      <td>/m/01bl7v 0.904625415802002 0.7170742 0.114035...</td>\n",
       "    </tr>\n",
       "    <tr>\n",
       "      <th>4</th>\n",
       "      <td>e52c08d648d7af98</td>\n",
       "      <td>/m/07j7r 0.7688062787055969 0.62266725 0.08487...</td>\n",
       "    </tr>\n",
       "  </tbody>\n",
       "</table>\n",
       "</div>"
      ],
      "text/plain": [
       "            ImageID                                   PredictionString\n",
       "0  9ebdc1320ead66e2  /m/07j7r 0.8348236680030823 0.008202486 0.3635...\n",
       "1  9863a478a5b9ec60  /m/03bt1vf 0.7719643712043762 0.2971434 0.4886...\n",
       "2  46ef0da2632263e3  /m/04yx4 0.8730794191360474 0.7971036 0.391640...\n",
       "3  ba7ee80384252c2f  /m/01bl7v 0.904625415802002 0.7170742 0.114035...\n",
       "4  e52c08d648d7af98  /m/07j7r 0.7688062787055969 0.62266725 0.08487..."
      ]
     },
     "execution_count": 4,
     "metadata": {},
     "output_type": "execute_result"
    }
   ],
   "source": [
    "df3 = pd.read_csv(\"C:/Users/hmnsh/Downloads/submission_co_corrected4-5.csv\")\n",
    "df3.head()"
   ]
  },
  {
   "cell_type": "code",
   "execution_count": 5,
   "metadata": {
    "ExecuteTime": {
     "end_time": "2019-08-05T12:35:40.026383Z",
     "start_time": "2019-08-05T12:35:38.857125Z"
    }
   },
   "outputs": [
    {
     "data": {
      "text/html": [
       "<div>\n",
       "<style scoped>\n",
       "    .dataframe tbody tr th:only-of-type {\n",
       "        vertical-align: middle;\n",
       "    }\n",
       "\n",
       "    .dataframe tbody tr th {\n",
       "        vertical-align: top;\n",
       "    }\n",
       "\n",
       "    .dataframe thead th {\n",
       "        text-align: right;\n",
       "    }\n",
       "</style>\n",
       "<table border=\"1\" class=\"dataframe\">\n",
       "  <thead>\n",
       "    <tr style=\"text-align: right;\">\n",
       "      <th></th>\n",
       "      <th>ImageID</th>\n",
       "      <th>PredictionString</th>\n",
       "    </tr>\n",
       "  </thead>\n",
       "  <tbody>\n",
       "    <tr>\n",
       "      <th>0</th>\n",
       "      <td>8fc281821ec6f9ce</td>\n",
       "      <td>/m/0cmf2 0.968939483165741 0.4266345 0.4665919...</td>\n",
       "    </tr>\n",
       "    <tr>\n",
       "      <th>1</th>\n",
       "      <td>e055ae04a9440bfc</td>\n",
       "      <td>/m/0dzct 0.9859538674354553 0.66144824 0.30706...</td>\n",
       "    </tr>\n",
       "    <tr>\n",
       "      <th>2</th>\n",
       "      <td>222aafb571e4a39d</td>\n",
       "      <td>/m/0cgh4 0.6521431803703308 0.2250492 0.028355...</td>\n",
       "    </tr>\n",
       "    <tr>\n",
       "      <th>3</th>\n",
       "      <td>eb8d4dd4cca9bfbf</td>\n",
       "      <td>/m/01g317 0.653771698474884 0.503423 0.570437 ...</td>\n",
       "    </tr>\n",
       "    <tr>\n",
       "      <th>4</th>\n",
       "      <td>7c5481fe6391568e</td>\n",
       "      <td>/m/0d4v4 0.9000517129898071 0.87458897 0.20507...</td>\n",
       "    </tr>\n",
       "  </tbody>\n",
       "</table>\n",
       "</div>"
      ],
      "text/plain": [
       "            ImageID                                   PredictionString\n",
       "0  8fc281821ec6f9ce  /m/0cmf2 0.968939483165741 0.4266345 0.4665919...\n",
       "1  e055ae04a9440bfc  /m/0dzct 0.9859538674354553 0.66144824 0.30706...\n",
       "2  222aafb571e4a39d  /m/0cgh4 0.6521431803703308 0.2250492 0.028355...\n",
       "3  eb8d4dd4cca9bfbf  /m/01g317 0.653771698474884 0.503423 0.570437 ...\n",
       "4  7c5481fe6391568e  /m/0d4v4 0.9000517129898071 0.87458897 0.20507..."
      ]
     },
     "execution_count": 5,
     "metadata": {},
     "output_type": "execute_result"
    }
   ],
   "source": [
    "df4 = pd.read_csv(\"C:/Users/hmnsh/Downloads/submission_co_corrected50-65.csv\")\n",
    "df4.head()"
   ]
  },
  {
   "cell_type": "code",
   "execution_count": 6,
   "metadata": {
    "ExecuteTime": {
     "end_time": "2019-08-05T12:35:41.290406Z",
     "start_time": "2019-08-05T12:35:40.027043Z"
    }
   },
   "outputs": [
    {
     "data": {
      "text/html": [
       "<div>\n",
       "<style scoped>\n",
       "    .dataframe tbody tr th:only-of-type {\n",
       "        vertical-align: middle;\n",
       "    }\n",
       "\n",
       "    .dataframe tbody tr th {\n",
       "        vertical-align: top;\n",
       "    }\n",
       "\n",
       "    .dataframe thead th {\n",
       "        text-align: right;\n",
       "    }\n",
       "</style>\n",
       "<table border=\"1\" class=\"dataframe\">\n",
       "  <thead>\n",
       "    <tr style=\"text-align: right;\">\n",
       "      <th></th>\n",
       "      <th>ImageID</th>\n",
       "      <th>PredictionString</th>\n",
       "    </tr>\n",
       "  </thead>\n",
       "  <tbody>\n",
       "    <tr>\n",
       "      <th>0</th>\n",
       "      <td>a16ccf53079b7c3b</td>\n",
       "      <td>/m/06msq 0.3577132821083069 0.4039613 0.098094...</td>\n",
       "    </tr>\n",
       "    <tr>\n",
       "      <th>1</th>\n",
       "      <td>44dc4e0c0cb4986f</td>\n",
       "      <td>/m/0342h 0.9541490077972412 0.1183933 0.634465...</td>\n",
       "    </tr>\n",
       "    <tr>\n",
       "      <th>2</th>\n",
       "      <td>44960561303eb79b</td>\n",
       "      <td>/m/03120 0.4755990207195282 0.8454966 0.702012...</td>\n",
       "    </tr>\n",
       "    <tr>\n",
       "      <th>3</th>\n",
       "      <td>aed9c8d045de7073</td>\n",
       "      <td>/m/0k4j 0.9624020457267761 0.06437214 0.272923...</td>\n",
       "    </tr>\n",
       "    <tr>\n",
       "      <th>4</th>\n",
       "      <td>e633dc8bf1b0fb97</td>\n",
       "      <td>/m/01j61q 0.8489207625389099 0.014884539 0.013...</td>\n",
       "    </tr>\n",
       "  </tbody>\n",
       "</table>\n",
       "</div>"
      ],
      "text/plain": [
       "            ImageID                                   PredictionString\n",
       "0  a16ccf53079b7c3b  /m/06msq 0.3577132821083069 0.4039613 0.098094...\n",
       "1  44dc4e0c0cb4986f  /m/0342h 0.9541490077972412 0.1183933 0.634465...\n",
       "2  44960561303eb79b  /m/03120 0.4755990207195282 0.8454966 0.702012...\n",
       "3  aed9c8d045de7073  /m/0k4j 0.9624020457267761 0.06437214 0.272923...\n",
       "4  e633dc8bf1b0fb97  /m/01j61q 0.8489207625389099 0.014884539 0.013..."
      ]
     },
     "execution_count": 6,
     "metadata": {},
     "output_type": "execute_result"
    }
   ],
   "source": [
    "df5 = pd.read_csv(\"C:/Users/hmnsh/Downloads/submission_co_corrected65-80.csv\")\n",
    "df5.head()"
   ]
  },
  {
   "cell_type": "code",
   "execution_count": 7,
   "metadata": {
    "ExecuteTime": {
     "end_time": "2019-08-05T12:35:42.930518Z",
     "start_time": "2019-08-05T12:35:41.290406Z"
    }
   },
   "outputs": [
    {
     "data": {
      "text/html": [
       "<div>\n",
       "<style scoped>\n",
       "    .dataframe tbody tr th:only-of-type {\n",
       "        vertical-align: middle;\n",
       "    }\n",
       "\n",
       "    .dataframe tbody tr th {\n",
       "        vertical-align: top;\n",
       "    }\n",
       "\n",
       "    .dataframe thead th {\n",
       "        text-align: right;\n",
       "    }\n",
       "</style>\n",
       "<table border=\"1\" class=\"dataframe\">\n",
       "  <thead>\n",
       "    <tr style=\"text-align: right;\">\n",
       "      <th></th>\n",
       "      <th>ImageID</th>\n",
       "      <th>PredictionString</th>\n",
       "    </tr>\n",
       "  </thead>\n",
       "  <tbody>\n",
       "    <tr>\n",
       "      <th>0</th>\n",
       "      <td>710b29035bf88a33</td>\n",
       "      <td>/m/01g317 0.6814851760864258 0.33416006 0.2711...</td>\n",
       "    </tr>\n",
       "    <tr>\n",
       "      <th>1</th>\n",
       "      <td>5fb4c440f70e7c1c</td>\n",
       "      <td>/m/0bt_c3 0.9846441745758057 0.049634036 0.051...</td>\n",
       "    </tr>\n",
       "    <tr>\n",
       "      <th>2</th>\n",
       "      <td>1afcb9eab3aea4c5</td>\n",
       "      <td>/m/03jm5 0.9382523894309998 0.000882334 0.1726...</td>\n",
       "    </tr>\n",
       "    <tr>\n",
       "      <th>3</th>\n",
       "      <td>b9a858dd9432bd57</td>\n",
       "      <td>/m/03vt0 0.8846098780632019 0.08146881 0.33137...</td>\n",
       "    </tr>\n",
       "    <tr>\n",
       "      <th>4</th>\n",
       "      <td>659f38bf9dfa0b14</td>\n",
       "      <td>/m/09f_2 0.988486647605896 0.12375878 0.481292...</td>\n",
       "    </tr>\n",
       "  </tbody>\n",
       "</table>\n",
       "</div>"
      ],
      "text/plain": [
       "            ImageID                                   PredictionString\n",
       "0  710b29035bf88a33  /m/01g317 0.6814851760864258 0.33416006 0.2711...\n",
       "1  5fb4c440f70e7c1c  /m/0bt_c3 0.9846441745758057 0.049634036 0.051...\n",
       "2  1afcb9eab3aea4c5  /m/03jm5 0.9382523894309998 0.000882334 0.1726...\n",
       "3  b9a858dd9432bd57  /m/03vt0 0.8846098780632019 0.08146881 0.33137...\n",
       "4  659f38bf9dfa0b14  /m/09f_2 0.988486647605896 0.12375878 0.481292..."
      ]
     },
     "execution_count": 7,
     "metadata": {},
     "output_type": "execute_result"
    }
   ],
   "source": [
    "df6 = pd.read_csv(\"C:/Users/hmnsh/Downloads/submission_co_corrected80-99.csv\")\n",
    "df6.head()"
   ]
  },
  {
   "cell_type": "code",
   "execution_count": 8,
   "metadata": {
    "ExecuteTime": {
     "end_time": "2019-08-05T12:35:42.950518Z",
     "start_time": "2019-08-05T12:35:42.930518Z"
    }
   },
   "outputs": [
    {
     "data": {
      "text/html": [
       "<div>\n",
       "<style scoped>\n",
       "    .dataframe tbody tr th:only-of-type {\n",
       "        vertical-align: middle;\n",
       "    }\n",
       "\n",
       "    .dataframe tbody tr th {\n",
       "        vertical-align: top;\n",
       "    }\n",
       "\n",
       "    .dataframe thead th {\n",
       "        text-align: right;\n",
       "    }\n",
       "</style>\n",
       "<table border=\"1\" class=\"dataframe\">\n",
       "  <thead>\n",
       "    <tr style=\"text-align: right;\">\n",
       "      <th></th>\n",
       "      <th>ImageID</th>\n",
       "      <th>PredictionString</th>\n",
       "    </tr>\n",
       "  </thead>\n",
       "  <tbody>\n",
       "    <tr>\n",
       "      <th>0</th>\n",
       "      <td>b5d912e06f74e948</td>\n",
       "      <td>/m/04yx4 0.8513652086257935 0.43385112 0.28740...</td>\n",
       "    </tr>\n",
       "    <tr>\n",
       "      <th>1</th>\n",
       "      <td>be137cf6bb0b62d5</td>\n",
       "      <td>/m/0hg7b 0.7785665988922119 0.021946797 0.2579...</td>\n",
       "    </tr>\n",
       "    <tr>\n",
       "      <th>2</th>\n",
       "      <td>8d65ca08cb5ce8e8</td>\n",
       "      <td>/m/0nybt 0.6117721796035767 0.28921688 0.48958...</td>\n",
       "    </tr>\n",
       "    <tr>\n",
       "      <th>3</th>\n",
       "      <td>4d3ad1e52ad8c065</td>\n",
       "      <td>/m/0dzct 0.8881123065948486 0.4327386 0.072321...</td>\n",
       "    </tr>\n",
       "    <tr>\n",
       "      <th>4</th>\n",
       "      <td>9b94408691c7d7bf</td>\n",
       "      <td>/m/063rgb 0.6159067153930664 0.0 0.0 0.6780492...</td>\n",
       "    </tr>\n",
       "  </tbody>\n",
       "</table>\n",
       "</div>"
      ],
      "text/plain": [
       "            ImageID                                   PredictionString\n",
       "0  b5d912e06f74e948  /m/04yx4 0.8513652086257935 0.43385112 0.28740...\n",
       "1  be137cf6bb0b62d5  /m/0hg7b 0.7785665988922119 0.021946797 0.2579...\n",
       "2  8d65ca08cb5ce8e8  /m/0nybt 0.6117721796035767 0.28921688 0.48958...\n",
       "3  4d3ad1e52ad8c065  /m/0dzct 0.8881123065948486 0.4327386 0.072321...\n",
       "4  9b94408691c7d7bf  /m/063rgb 0.6159067153930664 0.0 0.0 0.6780492..."
      ]
     },
     "execution_count": 8,
     "metadata": {},
     "output_type": "execute_result"
    }
   ],
   "source": [
    "frames = [df1, df2, df3, df4, df5, df6]\n",
    "result = pd.concat(frames)\n",
    "result.head()"
   ]
  },
  {
   "cell_type": "code",
   "execution_count": 9,
   "metadata": {
    "ExecuteTime": {
     "end_time": "2019-08-05T12:35:44.799548Z",
     "start_time": "2019-08-05T12:35:42.950518Z"
    }
   },
   "outputs": [
    {
     "name": "stdout",
     "output_type": "stream",
     "text": [
      "Duplicate Rows except first occurrence based on all columns are :\n",
      "Empty DataFrame\n",
      "Columns: [ImageID, PredictionString]\n",
      "Index: []\n"
     ]
    }
   ],
   "source": [
    "# Select duplicate rows except first occurrence based on all columns\n",
    "duplicateRowsDF = result[result.duplicated()]\n",
    " \n",
    "print(\"Duplicate Rows except first occurrence based on all columns are :\")\n",
    "print(duplicateRowsDF)"
   ]
  },
  {
   "cell_type": "code",
   "execution_count": 14,
   "metadata": {
    "ExecuteTime": {
     "end_time": "2019-08-05T12:38:51.390374Z",
     "start_time": "2019-08-05T12:38:51.362373Z"
    }
   },
   "outputs": [
    {
     "data": {
      "text/plain": [
       "99999"
      ]
     },
     "execution_count": 14,
     "metadata": {},
     "output_type": "execute_result"
    }
   ],
   "source": [
    "len(result.ImageID.unique())"
   ]
  },
  {
   "cell_type": "code",
   "execution_count": 12,
   "metadata": {
    "ExecuteTime": {
     "end_time": "2019-08-05T12:36:34.734292Z",
     "start_time": "2019-08-05T12:36:21.728095Z"
    }
   },
   "outputs": [],
   "source": [
    "result.to_csv('submission_co_corrected.csv', index=False)"
   ]
  }
 ],
 "metadata": {
  "hide_input": false,
  "kernelspec": {
   "display_name": "Python 3",
   "language": "python",
   "name": "python3"
  },
  "language_info": {
   "codemirror_mode": {
    "name": "ipython",
    "version": 3
   },
   "file_extension": ".py",
   "mimetype": "text/x-python",
   "name": "python",
   "nbconvert_exporter": "python",
   "pygments_lexer": "ipython3",
   "version": "3.6.8"
  },
  "latex_envs": {
   "LaTeX_envs_menu_present": true,
   "autoclose": false,
   "autocomplete": true,
   "bibliofile": "biblio.bib",
   "cite_by": "apalike",
   "current_citInitial": 1,
   "eqLabelWithNumbers": true,
   "eqNumInitial": 1,
   "hotkeys": {
    "equation": "Ctrl-E",
    "itemize": "Ctrl-I"
   },
   "labels_anchors": false,
   "latex_user_defs": false,
   "report_style_numbering": false,
   "user_envs_cfg": false
  },
  "varInspector": {
   "cols": {
    "lenName": 16,
    "lenType": 16,
    "lenVar": 40
   },
   "kernels_config": {
    "python": {
     "delete_cmd_postfix": "",
     "delete_cmd_prefix": "del ",
     "library": "var_list.py",
     "varRefreshCmd": "print(var_dic_list())"
    },
    "r": {
     "delete_cmd_postfix": ") ",
     "delete_cmd_prefix": "rm(",
     "library": "var_list.r",
     "varRefreshCmd": "cat(var_dic_list()) "
    }
   },
   "types_to_exclude": [
    "module",
    "function",
    "builtin_function_or_method",
    "instance",
    "_Feature"
   ],
   "window_display": false
  }
 },
 "nbformat": 4,
 "nbformat_minor": 2
}
