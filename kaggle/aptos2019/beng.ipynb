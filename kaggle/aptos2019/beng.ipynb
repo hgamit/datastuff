{
 "cells": [
  {
   "cell_type": "code",
   "execution_count": 1,
   "metadata": {
    "ExecuteTime": {
     "end_time": "2019-08-24T20:19:53.016825Z",
     "start_time": "2019-08-24T20:19:51.186677Z"
    }
   },
   "outputs": [],
   "source": [
    "import cv2 , glob , numpy\n",
    "from matplotlib import pyplot as plt\n",
    "import pandas as pd\n",
    "import numpy as np\n"
   ]
  },
  {
   "cell_type": "code",
   "execution_count": 2,
   "metadata": {
    "ExecuteTime": {
     "end_time": "2019-08-24T03:24:01.486445Z",
     "start_time": "2019-08-24T03:24:01.400324Z"
    }
   },
   "outputs": [
    {
     "data": {
      "text/html": [
       "<div>\n",
       "<style scoped>\n",
       "    .dataframe tbody tr th:only-of-type {\n",
       "        vertical-align: middle;\n",
       "    }\n",
       "\n",
       "    .dataframe tbody tr th {\n",
       "        vertical-align: top;\n",
       "    }\n",
       "\n",
       "    .dataframe thead th {\n",
       "        text-align: right;\n",
       "    }\n",
       "</style>\n",
       "<table border=\"1\" class=\"dataframe\">\n",
       "  <thead>\n",
       "    <tr style=\"text-align: right;\">\n",
       "      <th></th>\n",
       "      <th>id_code</th>\n",
       "      <th>diagnosis</th>\n",
       "    </tr>\n",
       "  </thead>\n",
       "  <tbody>\n",
       "    <tr>\n",
       "      <th>0</th>\n",
       "      <td>10_left</td>\n",
       "      <td>0</td>\n",
       "    </tr>\n",
       "    <tr>\n",
       "      <th>1</th>\n",
       "      <td>10_right</td>\n",
       "      <td>0</td>\n",
       "    </tr>\n",
       "    <tr>\n",
       "      <th>2</th>\n",
       "      <td>13_left</td>\n",
       "      <td>0</td>\n",
       "    </tr>\n",
       "    <tr>\n",
       "      <th>3</th>\n",
       "      <td>13_right</td>\n",
       "      <td>0</td>\n",
       "    </tr>\n",
       "    <tr>\n",
       "      <th>4</th>\n",
       "      <td>15_left</td>\n",
       "      <td>1</td>\n",
       "    </tr>\n",
       "  </tbody>\n",
       "</table>\n",
       "</div>"
      ],
      "text/plain": [
       "    id_code  diagnosis\n",
       "0   10_left          0\n",
       "1  10_right          0\n",
       "2   13_left          0\n",
       "3  13_right          0\n",
       "4   15_left          1"
      ]
     },
     "execution_count": 2,
     "metadata": {},
     "output_type": "execute_result"
    }
   ],
   "source": [
    "train_df_2015 = pd.read_csv('C:/Users/hmnsh/repos/resized-2015-2019-blindness-detection-images/trainlabels/trainLabels15.csv')\n",
    "train_df_2015 = train_df_2015.rename(index=str, columns={\"image\": \"id_code\", \"level\": \"diagnosis\"})\n",
    "train_df_2015.head()"
   ]
  },
  {
   "cell_type": "code",
   "execution_count": 3,
   "metadata": {
    "ExecuteTime": {
     "end_time": "2019-08-24T03:24:01.579955Z",
     "start_time": "2019-08-24T03:24:01.486445Z"
    }
   },
   "outputs": [
    {
     "data": {
      "text/html": [
       "<div>\n",
       "<style scoped>\n",
       "    .dataframe tbody tr th:only-of-type {\n",
       "        vertical-align: middle;\n",
       "    }\n",
       "\n",
       "    .dataframe tbody tr th {\n",
       "        vertical-align: top;\n",
       "    }\n",
       "\n",
       "    .dataframe thead th {\n",
       "        text-align: right;\n",
       "    }\n",
       "</style>\n",
       "<table border=\"1\" class=\"dataframe\">\n",
       "  <thead>\n",
       "    <tr style=\"text-align: right;\">\n",
       "      <th></th>\n",
       "      <th>id_code</th>\n",
       "      <th>diagnosis</th>\n",
       "    </tr>\n",
       "  </thead>\n",
       "  <tbody>\n",
       "    <tr>\n",
       "      <th>0</th>\n",
       "      <td>1_left</td>\n",
       "      <td>0</td>\n",
       "    </tr>\n",
       "    <tr>\n",
       "      <th>1</th>\n",
       "      <td>1_right</td>\n",
       "      <td>0</td>\n",
       "    </tr>\n",
       "    <tr>\n",
       "      <th>2</th>\n",
       "      <td>2_left</td>\n",
       "      <td>0</td>\n",
       "    </tr>\n",
       "    <tr>\n",
       "      <th>3</th>\n",
       "      <td>2_right</td>\n",
       "      <td>0</td>\n",
       "    </tr>\n",
       "    <tr>\n",
       "      <th>4</th>\n",
       "      <td>3_left</td>\n",
       "      <td>2</td>\n",
       "    </tr>\n",
       "  </tbody>\n",
       "</table>\n",
       "</div>"
      ],
      "text/plain": [
       "   id_code  diagnosis\n",
       "0   1_left          0\n",
       "1  1_right          0\n",
       "2   2_left          0\n",
       "3  2_right          0\n",
       "4   3_left          2"
      ]
     },
     "execution_count": 3,
     "metadata": {},
     "output_type": "execute_result"
    }
   ],
   "source": [
    "df_test_2015 = pd.read_csv('C:/Users/hmnsh/repos/resized-2015-2019-blindness-detection-images/trainlabels/testLabels15.csv')\n",
    "df_test_2015 = df_test_2015.rename(index=str, columns={\"image\": \"id_code\", \"level\": \"diagnosis\"})\n",
    "df_test_2015.drop(\"Usage\" ,axis=1, inplace=True)\n",
    "df_test_2015.head()"
   ]
  },
  {
   "cell_type": "code",
   "execution_count": 4,
   "metadata": {
    "ExecuteTime": {
     "end_time": "2019-08-24T03:24:01.595955Z",
     "start_time": "2019-08-24T03:24:01.579955Z"
    }
   },
   "outputs": [
    {
     "data": {
      "text/html": [
       "<div>\n",
       "<style scoped>\n",
       "    .dataframe tbody tr th:only-of-type {\n",
       "        vertical-align: middle;\n",
       "    }\n",
       "\n",
       "    .dataframe tbody tr th {\n",
       "        vertical-align: top;\n",
       "    }\n",
       "\n",
       "    .dataframe thead th {\n",
       "        text-align: right;\n",
       "    }\n",
       "</style>\n",
       "<table border=\"1\" class=\"dataframe\">\n",
       "  <thead>\n",
       "    <tr style=\"text-align: right;\">\n",
       "      <th></th>\n",
       "      <th>id_code</th>\n",
       "      <th>diagnosis</th>\n",
       "    </tr>\n",
       "  </thead>\n",
       "  <tbody>\n",
       "    <tr>\n",
       "      <th>0</th>\n",
       "      <td>10_left</td>\n",
       "      <td>0</td>\n",
       "    </tr>\n",
       "    <tr>\n",
       "      <th>1</th>\n",
       "      <td>10_right</td>\n",
       "      <td>0</td>\n",
       "    </tr>\n",
       "    <tr>\n",
       "      <th>2</th>\n",
       "      <td>13_left</td>\n",
       "      <td>0</td>\n",
       "    </tr>\n",
       "    <tr>\n",
       "      <th>3</th>\n",
       "      <td>13_right</td>\n",
       "      <td>0</td>\n",
       "    </tr>\n",
       "    <tr>\n",
       "      <th>4</th>\n",
       "      <td>15_left</td>\n",
       "      <td>1</td>\n",
       "    </tr>\n",
       "  </tbody>\n",
       "</table>\n",
       "</div>"
      ],
      "text/plain": [
       "    id_code  diagnosis\n",
       "0   10_left          0\n",
       "1  10_right          0\n",
       "2   13_left          0\n",
       "3  13_right          0\n",
       "4   15_left          1"
      ]
     },
     "execution_count": 4,
     "metadata": {},
     "output_type": "execute_result"
    }
   ],
   "source": [
    "train_df_2015 = train_df_2015.append(df_test_2015, ignore_index=True)\n",
    "train_df_2015.head()"
   ]
  },
  {
   "cell_type": "code",
   "execution_count": 5,
   "metadata": {
    "ExecuteTime": {
     "end_time": "2019-08-24T03:24:01.617678Z",
     "start_time": "2019-08-24T03:24:01.595955Z"
    }
   },
   "outputs": [
    {
     "data": {
      "text/plain": [
       "(88702, 2)"
      ]
     },
     "execution_count": 5,
     "metadata": {},
     "output_type": "execute_result"
    }
   ],
   "source": [
    "train_df_2015.shape"
   ]
  },
  {
   "cell_type": "code",
   "execution_count": 6,
   "metadata": {
    "ExecuteTime": {
     "end_time": "2019-08-24T03:24:01.698107Z",
     "start_time": "2019-08-24T03:24:01.617678Z"
    }
   },
   "outputs": [
    {
     "name": "stderr",
     "output_type": "stream",
     "text": [
      "A subdirectory or file -p already exists.\n",
      "Error occurred while processing: -p.\n",
      "A subdirectory or file C:/Users/hmnsh/repos/resized-2015-2019-blindness-detection-images/label_0 already exists.\n",
      "Error occurred while processing: C:/Users/hmnsh/repos/resized-2015-2019-blindness-detection-images/label_0.\n",
      "A subdirectory or file -p already exists.\n",
      "Error occurred while processing: -p.\n",
      "A subdirectory or file C:/Users/hmnsh/repos/resized-2015-2019-blindness-detection-images/label_1 already exists.\n",
      "Error occurred while processing: C:/Users/hmnsh/repos/resized-2015-2019-blindness-detection-images/label_1.\n",
      "A subdirectory or file -p already exists.\n",
      "Error occurred while processing: -p.\n",
      "A subdirectory or file C:/Users/hmnsh/repos/resized-2015-2019-blindness-detection-images/label_2 already exists.\n",
      "Error occurred while processing: C:/Users/hmnsh/repos/resized-2015-2019-blindness-detection-images/label_2.\n",
      "A subdirectory or file -p already exists.\n",
      "Error occurred while processing: -p.\n",
      "A subdirectory or file C:/Users/hmnsh/repos/resized-2015-2019-blindness-detection-images/label_3 already exists.\n",
      "Error occurred while processing: C:/Users/hmnsh/repos/resized-2015-2019-blindness-detection-images/label_3.\n",
      "A subdirectory or file -p already exists.\n",
      "Error occurred while processing: -p.\n",
      "A subdirectory or file C:/Users/hmnsh/repos/resized-2015-2019-blindness-detection-images/label_4 already exists.\n",
      "Error occurred while processing: C:/Users/hmnsh/repos/resized-2015-2019-blindness-detection-images/label_4.\n"
     ]
    }
   ],
   "source": [
    "label_0 = \"C:/Users/hmnsh/repos/resized-2015-2019-blindness-detection-images/label_0\"\n",
    "label_1 = \"C:/Users/hmnsh/repos/resized-2015-2019-blindness-detection-images/label_1\"\n",
    "label_2 = \"C:/Users/hmnsh/repos/resized-2015-2019-blindness-detection-images/label_2\"\n",
    "label_3 = \"C:/Users/hmnsh/repos/resized-2015-2019-blindness-detection-images/label_3\"\n",
    "label_4 = \"C:/Users/hmnsh/repos/resized-2015-2019-blindness-detection-images/label_4\"\n",
    "!mkdir -p \"C:/Users/hmnsh/repos/resized-2015-2019-blindness-detection-images/label_0\"\n",
    "!mkdir -p \"C:/Users/hmnsh/repos/resized-2015-2019-blindness-detection-images/label_1\"\n",
    "!mkdir -p \"C:/Users/hmnsh/repos/resized-2015-2019-blindness-detection-images/label_2\"\n",
    "!mkdir -p \"C:/Users/hmnsh/repos/resized-2015-2019-blindness-detection-images/label_3\"\n",
    "!mkdir -p \"C:/Users/hmnsh/repos/resized-2015-2019-blindness-detection-images/label_4\""
   ]
  },
  {
   "cell_type": "code",
   "execution_count": 7,
   "metadata": {
    "ExecuteTime": {
     "end_time": "2019-08-24T03:24:01.821284Z",
     "start_time": "2019-08-24T03:24:01.698107Z"
    }
   },
   "outputs": [
    {
     "name": "stderr",
     "output_type": "stream",
     "text": [
      "C:\\ProgramData\\Anaconda3\\lib\\site-packages\\pandas\\core\\frame.py:6692: FutureWarning: Sorting because non-concatenation axis is not aligned. A future version\n",
      "of pandas will change to not sort by default.\n",
      "\n",
      "To accept the future behavior, pass 'sort=False'.\n",
      "\n",
      "To retain the current behavior and silence the warning, pass 'sort=True'.\n",
      "\n",
      "  sort=sort)\n"
     ]
    }
   ],
   "source": [
    "from worker import *"
   ]
  },
  {
   "cell_type": "code",
   "execution_count": 8,
   "metadata": {
    "ExecuteTime": {
     "end_time": "2019-08-24T03:27:24.245783Z",
     "start_time": "2019-08-24T03:24:01.821284Z"
    }
   },
   "outputs": [
    {
     "name": "stdout",
     "output_type": "stream",
     "text": [
      "Wall time: 3min 22s\n"
     ]
    }
   ],
   "source": [
    "%%time\n",
    "if __name__ ==  '__main__':\n",
    "    train_df_2015 = parallelize_dataframe(train_df_2015, process_img)"
   ]
  },
  {
   "cell_type": "code",
   "execution_count": 8,
   "metadata": {
    "ExecuteTime": {
     "end_time": "2019-08-24T13:36:22.900319Z",
     "start_time": "2019-08-24T13:36:22.872318Z"
    }
   },
   "outputs": [],
   "source": [
    "#print(files_no_ext)"
   ]
  },
  {
   "cell_type": "code",
   "execution_count": 3,
   "metadata": {
    "ExecuteTime": {
     "end_time": "2019-08-24T20:53:38.252280Z",
     "start_time": "2019-08-24T20:53:38.196239Z"
    }
   },
   "outputs": [],
   "source": [
    "import os\n",
    "l=os.listdir(\"C:/Users/hmnsh/repos/resized-2015-2019-blindness-detection-images/good\")\n",
    "files_no_ext = [x.split('.')[0] for x in l]\n",
    "# Creating a dataframe object from listoftuples\n",
    "files_no_ext = pd.DataFrame(files_no_ext) \n",
    "files_no_ext.to_csv('files_no_ext.csv',index=False)"
   ]
  }
 ],
 "metadata": {
  "hide_input": false,
  "kernelspec": {
   "display_name": "Python 3",
   "language": "python",
   "name": "python3"
  },
  "language_info": {
   "codemirror_mode": {
    "name": "ipython",
    "version": 3
   },
   "file_extension": ".py",
   "mimetype": "text/x-python",
   "name": "python",
   "nbconvert_exporter": "python",
   "pygments_lexer": "ipython3",
   "version": "3.6.8"
  },
  "latex_envs": {
   "LaTeX_envs_menu_present": true,
   "autoclose": false,
   "autocomplete": true,
   "bibliofile": "biblio.bib",
   "cite_by": "apalike",
   "current_citInitial": 1,
   "eqLabelWithNumbers": true,
   "eqNumInitial": 1,
   "hotkeys": {
    "equation": "Ctrl-E",
    "itemize": "Ctrl-I"
   },
   "labels_anchors": false,
   "latex_user_defs": false,
   "report_style_numbering": false,
   "user_envs_cfg": false
  },
  "varInspector": {
   "cols": {
    "lenName": 16,
    "lenType": 16,
    "lenVar": 40
   },
   "kernels_config": {
    "python": {
     "delete_cmd_postfix": "",
     "delete_cmd_prefix": "del ",
     "library": "var_list.py",
     "varRefreshCmd": "print(var_dic_list())"
    },
    "r": {
     "delete_cmd_postfix": ") ",
     "delete_cmd_prefix": "rm(",
     "library": "var_list.r",
     "varRefreshCmd": "cat(var_dic_list()) "
    }
   },
   "types_to_exclude": [
    "module",
    "function",
    "builtin_function_or_method",
    "instance",
    "_Feature"
   ],
   "window_display": false
  }
 },
 "nbformat": 4,
 "nbformat_minor": 2
}
