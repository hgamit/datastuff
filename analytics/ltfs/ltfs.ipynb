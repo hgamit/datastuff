{
 "cells": [
  {
   "cell_type": "markdown",
   "metadata": {},
   "source": [
    "#### Vehicle Loan Default Prediction\n",
    "\n",
    "Questions:\n",
    "\n",
    "1. Who are the loan defaulters/spend? \n",
    "2. Usual Amount taken by loan defaulter?\n",
    "\n",
    "\n",
    "### why not a model to predict if a customer will be defaulting the loan based on his records?"
   ]
  },
  {
   "cell_type": "code",
   "execution_count": 1,
   "metadata": {},
   "outputs": [],
   "source": [
    "#Load the Librarys\n",
    "import pandas as pd\n",
    "import numpy as np\n",
    "import seaborn as sns\n",
    "import matplotlib.pyplot as plt"
   ]
  },
  {
   "cell_type": "code",
   "execution_count": 2,
   "metadata": {},
   "outputs": [],
   "source": [
    "#loading the data with encode \n",
    "train = pd.read_csv(\"input/train.csv\")\n",
    "test = pd.read_csv(\"input/test.csv\")"
   ]
  },
  {
   "cell_type": "code",
   "execution_count": 3,
   "metadata": {},
   "outputs": [
    {
     "data": {
      "text/html": [
       "<div>\n",
       "<style scoped>\n",
       "    .dataframe tbody tr th:only-of-type {\n",
       "        vertical-align: middle;\n",
       "    }\n",
       "\n",
       "    .dataframe tbody tr th {\n",
       "        vertical-align: top;\n",
       "    }\n",
       "\n",
       "    .dataframe thead th {\n",
       "        text-align: right;\n",
       "    }\n",
       "</style>\n",
       "<table border=\"1\" class=\"dataframe\">\n",
       "  <thead>\n",
       "    <tr style=\"text-align: right;\">\n",
       "      <th></th>\n",
       "      <th>UniqueID</th>\n",
       "      <th>disbursed_amount</th>\n",
       "      <th>asset_cost</th>\n",
       "      <th>ltv</th>\n",
       "      <th>branch_id</th>\n",
       "      <th>supplier_id</th>\n",
       "      <th>manufacturer_id</th>\n",
       "      <th>Current_pincode_ID</th>\n",
       "      <th>Date.of.Birth</th>\n",
       "      <th>Employment.Type</th>\n",
       "      <th>...</th>\n",
       "      <th>SEC.SANCTIONED.AMOUNT</th>\n",
       "      <th>SEC.DISBURSED.AMOUNT</th>\n",
       "      <th>PRIMARY.INSTAL.AMT</th>\n",
       "      <th>SEC.INSTAL.AMT</th>\n",
       "      <th>NEW.ACCTS.IN.LAST.SIX.MONTHS</th>\n",
       "      <th>DELINQUENT.ACCTS.IN.LAST.SIX.MONTHS</th>\n",
       "      <th>AVERAGE.ACCT.AGE</th>\n",
       "      <th>CREDIT.HISTORY.LENGTH</th>\n",
       "      <th>NO.OF_INQUIRIES</th>\n",
       "      <th>loan_default</th>\n",
       "    </tr>\n",
       "  </thead>\n",
       "  <tbody>\n",
       "    <tr>\n",
       "      <th>0</th>\n",
       "      <td>420825</td>\n",
       "      <td>50578</td>\n",
       "      <td>58400</td>\n",
       "      <td>89.55</td>\n",
       "      <td>67</td>\n",
       "      <td>22807</td>\n",
       "      <td>45</td>\n",
       "      <td>1441</td>\n",
       "      <td>01-01-84</td>\n",
       "      <td>Salaried</td>\n",
       "      <td>...</td>\n",
       "      <td>0</td>\n",
       "      <td>0</td>\n",
       "      <td>0</td>\n",
       "      <td>0</td>\n",
       "      <td>0</td>\n",
       "      <td>0</td>\n",
       "      <td>0yrs 0mon</td>\n",
       "      <td>0yrs 0mon</td>\n",
       "      <td>0</td>\n",
       "      <td>0</td>\n",
       "    </tr>\n",
       "    <tr>\n",
       "      <th>1</th>\n",
       "      <td>537409</td>\n",
       "      <td>47145</td>\n",
       "      <td>65550</td>\n",
       "      <td>73.23</td>\n",
       "      <td>67</td>\n",
       "      <td>22807</td>\n",
       "      <td>45</td>\n",
       "      <td>1502</td>\n",
       "      <td>31-07-85</td>\n",
       "      <td>Self employed</td>\n",
       "      <td>...</td>\n",
       "      <td>0</td>\n",
       "      <td>0</td>\n",
       "      <td>1991</td>\n",
       "      <td>0</td>\n",
       "      <td>0</td>\n",
       "      <td>1</td>\n",
       "      <td>1yrs 11mon</td>\n",
       "      <td>1yrs 11mon</td>\n",
       "      <td>0</td>\n",
       "      <td>1</td>\n",
       "    </tr>\n",
       "    <tr>\n",
       "      <th>2</th>\n",
       "      <td>417566</td>\n",
       "      <td>53278</td>\n",
       "      <td>61360</td>\n",
       "      <td>89.63</td>\n",
       "      <td>67</td>\n",
       "      <td>22807</td>\n",
       "      <td>45</td>\n",
       "      <td>1497</td>\n",
       "      <td>24-08-85</td>\n",
       "      <td>Self employed</td>\n",
       "      <td>...</td>\n",
       "      <td>0</td>\n",
       "      <td>0</td>\n",
       "      <td>0</td>\n",
       "      <td>0</td>\n",
       "      <td>0</td>\n",
       "      <td>0</td>\n",
       "      <td>0yrs 0mon</td>\n",
       "      <td>0yrs 0mon</td>\n",
       "      <td>0</td>\n",
       "      <td>0</td>\n",
       "    </tr>\n",
       "    <tr>\n",
       "      <th>3</th>\n",
       "      <td>624493</td>\n",
       "      <td>57513</td>\n",
       "      <td>66113</td>\n",
       "      <td>88.48</td>\n",
       "      <td>67</td>\n",
       "      <td>22807</td>\n",
       "      <td>45</td>\n",
       "      <td>1501</td>\n",
       "      <td>30-12-93</td>\n",
       "      <td>Self employed</td>\n",
       "      <td>...</td>\n",
       "      <td>0</td>\n",
       "      <td>0</td>\n",
       "      <td>31</td>\n",
       "      <td>0</td>\n",
       "      <td>0</td>\n",
       "      <td>0</td>\n",
       "      <td>0yrs 8mon</td>\n",
       "      <td>1yrs 3mon</td>\n",
       "      <td>1</td>\n",
       "      <td>1</td>\n",
       "    </tr>\n",
       "    <tr>\n",
       "      <th>4</th>\n",
       "      <td>539055</td>\n",
       "      <td>52378</td>\n",
       "      <td>60300</td>\n",
       "      <td>88.39</td>\n",
       "      <td>67</td>\n",
       "      <td>22807</td>\n",
       "      <td>45</td>\n",
       "      <td>1495</td>\n",
       "      <td>09-12-77</td>\n",
       "      <td>Self employed</td>\n",
       "      <td>...</td>\n",
       "      <td>0</td>\n",
       "      <td>0</td>\n",
       "      <td>0</td>\n",
       "      <td>0</td>\n",
       "      <td>0</td>\n",
       "      <td>0</td>\n",
       "      <td>0yrs 0mon</td>\n",
       "      <td>0yrs 0mon</td>\n",
       "      <td>1</td>\n",
       "      <td>1</td>\n",
       "    </tr>\n",
       "    <tr>\n",
       "      <th>5</th>\n",
       "      <td>518279</td>\n",
       "      <td>54513</td>\n",
       "      <td>61900</td>\n",
       "      <td>89.66</td>\n",
       "      <td>67</td>\n",
       "      <td>22807</td>\n",
       "      <td>45</td>\n",
       "      <td>1501</td>\n",
       "      <td>08-09-90</td>\n",
       "      <td>Self employed</td>\n",
       "      <td>...</td>\n",
       "      <td>0</td>\n",
       "      <td>0</td>\n",
       "      <td>1347</td>\n",
       "      <td>0</td>\n",
       "      <td>0</td>\n",
       "      <td>0</td>\n",
       "      <td>1yrs 9mon</td>\n",
       "      <td>2yrs 0mon</td>\n",
       "      <td>0</td>\n",
       "      <td>0</td>\n",
       "    </tr>\n",
       "  </tbody>\n",
       "</table>\n",
       "<p>6 rows × 41 columns</p>\n",
       "</div>"
      ],
      "text/plain": [
       "   UniqueID  disbursed_amount  asset_cost    ltv  branch_id  supplier_id  \\\n",
       "0    420825             50578       58400  89.55         67        22807   \n",
       "1    537409             47145       65550  73.23         67        22807   \n",
       "2    417566             53278       61360  89.63         67        22807   \n",
       "3    624493             57513       66113  88.48         67        22807   \n",
       "4    539055             52378       60300  88.39         67        22807   \n",
       "5    518279             54513       61900  89.66         67        22807   \n",
       "\n",
       "   manufacturer_id  Current_pincode_ID Date.of.Birth Employment.Type  ...  \\\n",
       "0               45                1441      01-01-84        Salaried  ...   \n",
       "1               45                1502      31-07-85   Self employed  ...   \n",
       "2               45                1497      24-08-85   Self employed  ...   \n",
       "3               45                1501      30-12-93   Self employed  ...   \n",
       "4               45                1495      09-12-77   Self employed  ...   \n",
       "5               45                1501      08-09-90   Self employed  ...   \n",
       "\n",
       "  SEC.SANCTIONED.AMOUNT  SEC.DISBURSED.AMOUNT  PRIMARY.INSTAL.AMT  \\\n",
       "0                     0                     0                   0   \n",
       "1                     0                     0                1991   \n",
       "2                     0                     0                   0   \n",
       "3                     0                     0                  31   \n",
       "4                     0                     0                   0   \n",
       "5                     0                     0                1347   \n",
       "\n",
       "   SEC.INSTAL.AMT  NEW.ACCTS.IN.LAST.SIX.MONTHS  \\\n",
       "0               0                             0   \n",
       "1               0                             0   \n",
       "2               0                             0   \n",
       "3               0                             0   \n",
       "4               0                             0   \n",
       "5               0                             0   \n",
       "\n",
       "   DELINQUENT.ACCTS.IN.LAST.SIX.MONTHS  AVERAGE.ACCT.AGE  \\\n",
       "0                                    0         0yrs 0mon   \n",
       "1                                    1        1yrs 11mon   \n",
       "2                                    0         0yrs 0mon   \n",
       "3                                    0         0yrs 8mon   \n",
       "4                                    0         0yrs 0mon   \n",
       "5                                    0         1yrs 9mon   \n",
       "\n",
       "   CREDIT.HISTORY.LENGTH  NO.OF_INQUIRIES  loan_default  \n",
       "0              0yrs 0mon                0             0  \n",
       "1             1yrs 11mon                0             1  \n",
       "2              0yrs 0mon                0             0  \n",
       "3              1yrs 3mon                1             1  \n",
       "4              0yrs 0mon                1             1  \n",
       "5              2yrs 0mon                0             0  \n",
       "\n",
       "[6 rows x 41 columns]"
      ]
     },
     "execution_count": 3,
     "metadata": {},
     "output_type": "execute_result"
    }
   ],
   "source": [
    "train.loc[:5,'UniqueID':'loan_default'] #loan_default, DisbursalDate"
   ]
  },
  {
   "cell_type": "code",
   "execution_count": 10,
   "metadata": {},
   "outputs": [],
   "source": [
    "# Printing unique values in our dataset\n",
    "#print(test.nunique())"
   ]
  },
  {
   "cell_type": "code",
   "execution_count": 20,
   "metadata": {},
   "outputs": [],
   "source": [
    "#Couting null in each column\n",
    "#test.isnull().sum()"
   ]
  },
  {
   "cell_type": "code",
   "execution_count": 27,
   "metadata": {},
   "outputs": [],
   "source": [
    "#Searching nans\n",
    "#nans = lambda df: df[df.isnull().any(axis=1)]\n",
    "#nans(train)"
   ]
  },
  {
   "cell_type": "code",
   "execution_count": 19,
   "metadata": {},
   "outputs": [],
   "source": [
    "#values = {'Employment.Type': \"Unspecified\"}\n",
    "#train = train.fillna(value=values)\n",
    "#values = {'Employment.Type': \"Unspecified\"}\n",
    "#test = test.fillna(value=values)"
   ]
  },
  {
   "cell_type": "code",
   "execution_count": 21,
   "metadata": {},
   "outputs": [],
   "source": [
    "#train = train.dropna(axis=0)"
   ]
  },
  {
   "cell_type": "code",
   "execution_count": 25,
   "metadata": {},
   "outputs": [],
   "source": [
    "# Select duplicate rows except first occurrence based on all columns\n",
    "#duplicateRowsDF = test[test.duplicated()]\n",
    " \n",
    "#print(\"Duplicate Rows except first occurrence based on all columns are :\")\n",
    "#print(duplicateRowsDF)"
   ]
  },
  {
   "cell_type": "code",
   "execution_count": 22,
   "metadata": {},
   "outputs": [
    {
     "name": "stdout",
     "output_type": "stream",
     "text": [
      "Train (233154, 41)\n",
      "Test (112392, 40)\n"
     ]
    }
   ],
   "source": [
    "print(\"Train\",train.shape)\n",
    "print('Test',test.shape)\n",
    "#test.loc[:5,'UniqueID':'loan_default'] #loan_default, DisbursalDate"
   ]
  },
  {
   "cell_type": "markdown",
   "metadata": {},
   "source": [
    "\n",
    "#### Independent-\n",
    "\n",
    "\n",
    "#### ID:\n",
    "\n",
    "- UniqueID                               233154 non-null int64 -- Unique project Id\n",
    "- branch_id                              233154 non-null int64 -- Branch where the loan was disbursed\n",
    "- supplier_id                            233154 non-null int64 -- Vehicle Dealer where the loan was disbursed\n",
    "- manufacturer_id                        233154 non-null int64 -- Vehicle manufacturer(Hero, Honda, TVS etc.)\n",
    "- Current_pincode_ID                     233154 non-null int64 -- Current pincode of the customer\n",
    "- State_ID                               233154 non-null int64 -- State of disbursement\n",
    "- Employee_code_ID                       233154 non-null int64 -- Employee of the organization who logged the disbursement\n",
    "\n",
    "\n",
    "#### Continuous\n",
    "- ltv                                    233154 non-null float64 -- Loan to Value of the asset\n",
    "- disbursed_amount                       233154 non-null int64 -- Amount of Loan disbursed\n",
    "- asset_cost                             233154 non-null int64 -- Cost of the Asset\n",
    "- PRI.CURRENT.BALANCE                    233154 non-null int64 -- amount\n",
    "- PRI.SANCTIONED.AMOUNT                  233154 non-null int64 -- amount\n",
    "- PRI.DISBURSED.AMOUNT                   233154 non-null int64 -- amount\n",
    "- SEC.CURRENT.BALANCE                    233154 non-null int64 -- amount\n",
    "- SEC.SANCTIONED.AMOUNT                  233154 non-null int64 -- amount\n",
    "- SEC.DISBURSED.AMOUNT                   233154 non-null int64 -- amount\n",
    "- PRIMARY.INSTAL.AMT                     233154 non-null int64 -- EMI Amount of the primary loan\n",
    "- SEC.INSTAL.AMT                         233154 non-null int64 -- EMI Amount of the secondary loan\n",
    "\n",
    "#### Discrete:\n",
    "\n",
    "- PERFORM_CNS.SCORE                      233154 non-null int64 -- Bureau Score\n",
    "- PRI.NO.OF.ACCTS                        233154 non-null int64 -- count\n",
    "- PRI.ACTIVE.ACCTS                       233154 non-null int64 -- count\n",
    "- PRI.OVERDUE.ACCTS                      233154 non-null int64 -- count\n",
    "- SEC.NO.OF.ACCTS                        233154 non-null int64 -- count\n",
    "- SEC.ACTIVE.ACCTS                       233154 non-null int64 -- count\n",
    "- SEC.OVERDUE.ACCTS                      233154 non-null int64 -- count\n",
    "- NEW.ACCTS.IN.LAST.SIX.MONTHS           233154 non-null int64 -- new loans\n",
    "- DELINQUENT.ACCTS.IN.LAST.SIX.MONTHS    233154 non-null int64 -- defaulted loans\n",
    "- AVERAGE.ACCT.AGE                       233154 non-null object - avg since first loan\n",
    "- CREDIT.HISTORY.LENGTH                  233154 non-null object - time since first loan\n",
    "- NO.OF_INQUIRIES                        233154 non-null int64 - no. of enquiries for the loan\n",
    "\n",
    "#### Date:\n",
    "- Date.of.Birth                          233154 non-null object -- Time\n",
    "- DisbursalDate                          233154 non-null object\n",
    "\n",
    "#### Categorical: Nominal\n",
    "- Employment.Type                        225493 non-null object -- Salaried/Self Employed\n",
    "- PERFORM_CNS.SCORE.DESCRIPTION          233154 non-null object -- Bureau Score Description\n",
    "- MobileNo_Avl_Flag                      233154 non-null int64 -- Mobile given or not\n",
    "- Aadhar_flag                            233154 non-null int64 --\n",
    "- PAN_flag                               233154 non-null int64\n",
    "- VoterID_flag                           233154 non-null int64\n",
    "- Driving_flag                           233154 non-null int64\n",
    "- Passport_flag                          233154 non-null int64\n",
    "\n",
    "##### Dependent- Nominal\n",
    "- loan_default                           233154 non-null int64 -- TARGET, Payment default in the first EMI on due date"
   ]
  },
  {
   "cell_type": "code",
   "execution_count": 32,
   "metadata": {},
   "outputs": [
    {
     "name": "stdout",
     "output_type": "stream",
     "text": [
      "0    78.29\n",
      "1    21.71\n",
      "Name: loan_default, dtype: float64\n"
     ]
    }
   ],
   "source": [
    "percentage_dist = round(train['loan_default'].value_counts(normalize=True) * 100,2)\n",
    "print(percentage_dist)"
   ]
  },
  {
   "cell_type": "code",
   "execution_count": 33,
   "metadata": {},
   "outputs": [
    {
     "data": {
      "image/png": "[encoded data removed]",
      "text/plain": [
       "<Figure size 432x288 with 1 Axes>"
      ]
     },
     "metadata": {},
     "output_type": "display_data"
    }
   ],
   "source": [
    "sns.set(style='darkgrid')\n",
    "sns.countplot(y = 'loan_default',\n",
    "              data = train,\n",
    "              order = percentage_dist.index)\n",
    "plt.show()"
   ]
  },
  {
   "cell_type": "code",
   "execution_count": 34,
   "metadata": {},
   "outputs": [
    {
     "name": "stdout",
     "output_type": "stream",
     "text": [
      "Self employed    54.74\n",
      "Salaried         41.97\n",
      "Unspecified       3.29\n",
      "Name: Employment.Type, dtype: float64\n"
     ]
    }
   ],
   "source": [
    "percentage_dist = round(train['Employment.Type'].value_counts(normalize=True) * 100,2)\n",
    "print(percentage_dist)"
   ]
  },
  {
   "cell_type": "markdown",
   "metadata": {},
   "source": [
    "#### Feature Extraction: \n",
    "\n",
    "    - Convert timestamp to calc age in months.\n",
    "    - One hot encode categorical values"
   ]
  },
  {
   "cell_type": "code",
   "execution_count": 36,
   "metadata": {},
   "outputs": [],
   "source": [
    "#Month Counter function\n",
    "def con_months(s):\n",
    "    s = str(s).split(' ')\n",
    "    return (int(''.join(filter(str.isdigit, s[0])))*12+int(''.join(filter(str.isdigit, s[1]))))\n",
    "\n",
    "def get_features(df_rm):\n",
    "    df_rm['Avg_Act_Age'] = df_rm.apply(lambda r: con_months(r['AVERAGE.ACCT.AGE']), axis=1)\n",
    "    df_rm['Credit_his_len'] = df_rm.apply(lambda r: con_months(r['CREDIT.HISTORY.LENGTH']), axis=1)\n",
    "    df_rm['DOB'] = pd.to_datetime(df_rm['Date.of.Birth'], format='%d-%m-%y').dt.strftime('%Y-%m-%d')\n",
    "    df_rm['DisbursalDate'] = pd.to_datetime(df_rm['DisbursalDate'], format='%d-%m-%y').dt.strftime('%Y-%m-%d')\n",
    "    df_rm['DisbursalDate'] = pd.to_datetime(df_rm['DisbursalDate'])\n",
    "    df_rm['DOB'] = pd.to_datetime(df_rm['DOB'])\n",
    "    df_rm['nb_months'] = ((df_rm.DisbursalDate - df_rm.DOB)/np.timedelta64(1, 'M')).round().astype(int)\n",
    "    onehot = pd.get_dummies(df_rm['Employment.Type'])\n",
    "    df_rm = onehot.join(df_rm)\n",
    "    onehot = pd.get_dummies(df_rm['PERFORM_CNS.SCORE.DESCRIPTION'])\n",
    "    df_rm = onehot.join(df_rm)\n",
    "\n",
    "    return(df_rm)\n",
    "\n",
    "train = get_features(train)\n",
    "test = get_features(test)"
   ]
  },
  {
   "cell_type": "code",
   "execution_count": 40,
   "metadata": {},
   "outputs": [],
   "source": [
    "col=['A-Very Low Risk', 'B-Very Low Risk','C-Very Low Risk', 'D-Very Low Risk', 'E-Low Risk', 'F-Low Risk', 'G-Low Risk','H-Medium Risk','I-Medium Risk','J-High Risk','K-High Risk','L-Very High Risk','M-Very High Risk','No Bureau History Available', 'Not Scored: No Activity seen on the customer (Inactive)', 'Not Scored: No Updates available in last 36 months', 'Not Scored: Not Enough Info available on the customer', 'Not Scored: Only a Guarantor','Not Scored: Sufficient History Not Available', 'Salaried', 'Self employed', 'disbursed_amount', 'asset_cost','ltv', 'MobileNo_Avl_Flag', 'Aadhar_flag','PAN_flag','VoterID_flag','Driving_flag','Passport_flag','PERFORM_CNS.SCORE',\n",
    "'PRI.NO.OF.ACCTS', 'PRI.ACTIVE.ACCTS', 'PRI.OVERDUE.ACCTS','PRI.CURRENT.BALANCE','PRI.SANCTIONED.AMOUNT','PRI.DISBURSED.AMOUNT','SEC.NO.OF.ACCTS','SEC.ACTIVE.ACCTS','SEC.OVERDUE.ACCTS',\n",
    "'SEC.CURRENT.BALANCE','SEC.SANCTIONED.AMOUNT','SEC.DISBURSED.AMOUNT','PRIMARY.INSTAL.AMT','SEC.INSTAL.AMT','NEW.ACCTS.IN.LAST.SIX.MONTHS','DELINQUENT.ACCTS.IN.LAST.SIX.MONTHS','NO.OF_INQUIRIES','Unspecified','Avg_Act_Age','Credit_his_len','nb_months'] #'AVERAGE.ACCT.AGE','CREDIT.HISTORY.LENGTH',"
   ]
  },
  {
   "cell_type": "markdown",
   "metadata": {},
   "source": [
    "#### Creating model and Testing Accuracy\n",
    "\n",
    "1. RandomForestClassifier - 65%\n",
    "2. XGBClassifier - 67%"
   ]
  },
  {
   "cell_type": "code",
   "execution_count": 41,
   "metadata": {},
   "outputs": [],
   "source": [
    "from sklearn import *\n",
    "from sklearn.ensemble import RandomForestClassifier\n",
    "import xgboost as xgb\n",
    "from xgboost import XGBClassifier\n",
    "\n",
    "X_train, X_test, y_train, y_test = model_selection.train_test_split(train[col].fillna(-1), train[['loan_default']], random_state=1, stratify=train[['loan_default']], \n",
    "                                                    test_size=0.25)\n",
    "#Normalizing the features \n",
    "import math\n",
    "from sklearn.preprocessing import StandardScaler\n",
    "sc_X = StandardScaler() \n",
    "X_train = sc_X.fit_transform(X_train) \n",
    "X_test = sc_X.transform(X_test)\n",
    "X_valid = sc_X.transform(test[col])"
   ]
  },
  {
   "cell_type": "code",
   "execution_count": 42,
   "metadata": {
    "scrolled": true
   },
   "outputs": [
    {
     "data": {
      "text/plain": [
       "OneVsRestClassifier(estimator=RandomForestClassifier(bootstrap=True, class_weight=None, criterion='gini',\n",
       "            max_depth=7, max_features='auto', max_leaf_nodes=None,\n",
       "            min_impurity_decrease=0.0, min_impurity_split=None,\n",
       "            min_samples_leaf=1, min_samples_split=2,\n",
       "            min_weight_fraction_leaf=0.0, n_estimators=1000, n_jobs=1,\n",
       "            oob_score=False, random_state=33, verbose=0, warm_start=False),\n",
       "          n_jobs=1)"
      ]
     },
     "execution_count": 42,
     "metadata": {},
     "output_type": "execute_result"
    }
   ],
   "source": [
    "model = multiclass.OneVsRestClassifier(ensemble.RandomForestClassifier(max_depth = 7, n_estimators=1000, random_state=33))\n",
    "#model = multiclass.OneVsRestClassifier(ensemble.ExtraTreesClassifier(n_jobs=-1, n_estimators=100, random_state=33))\n",
    "\n",
    "#param_dist = {'objective': 'binary:logistic', 'max_depth': 1, 'n_estimators':1000, 'num_round':1000, 'eval_metric': 'logloss'}\n",
    "#model = multiclass.OneVsRestClassifier(xgb.XGBClassifier(**param_dist))\n",
    "\n",
    "model.fit(X_train, y_train)"
   ]
  },
  {
   "cell_type": "code",
   "execution_count": 43,
   "metadata": {},
   "outputs": [],
   "source": [
    "import math\n",
    "import pickle\n",
    "# save the model to disk\n",
    "filename = 'RandomForestClassifier.sav'\n",
    "pickle.dump(model, open(filename, 'wb'))"
   ]
  },
  {
   "cell_type": "code",
   "execution_count": 69,
   "metadata": {},
   "outputs": [
    {
     "name": "stdout",
     "output_type": "stream",
     "text": [
      "Accuracy: 0.6026088923031009\n"
     ]
    }
   ],
   "source": [
    "# some time later...\n",
    "filename = 'RandomForestClassifier.sav'\n",
    "# load the model from disk\n",
    "loaded_model = pickle.load(open(filename, 'rb'))\n",
    "print('Accuracy:',(math.exp(-metrics.log_loss(y_test, loaded_model.predict_proba(X_test)))))\n",
    "#Making predictions on the Test Set\n",
    "valid_pred = loaded_model.predict_proba(X_valid)\n",
    "test['loan_default'] = valid_pred\n",
    "test[['UniqueID', 'loan_default']].to_csv('submissionRF.csv', index=False)"
   ]
  },
  {
   "cell_type": "code",
   "execution_count": 45,
   "metadata": {},
   "outputs": [
    {
     "name": "stderr",
     "output_type": "stream",
     "text": [
      "C:\\ProgramData\\Anaconda3\\lib\\site-packages\\sklearn\\utils\\validation.py:578: DataConversionWarning: A column-vector y was passed when a 1d array was expected. Please change the shape of y to (n_samples, ), for example using ravel().\n",
      "  y = column_or_1d(y, warn=True)\n"
     ]
    },
    {
     "name": "stdout",
     "output_type": "stream",
     "text": [
      "[[45585    51]\n",
      " [12605    48]]\n",
      "0.7828749849885913\n"
     ]
    }
   ],
   "source": [
    "#Fitting Logistic Regression to Training Set\n",
    "from sklearn.linear_model import LogisticRegression\n",
    "classifierObj = LogisticRegression(random_state=0)\n",
    "classifierObj.fit(X_train, y_train)\n",
    "#Making predictions on the Test Set\n",
    "y_pred = classifierObj.predict(X_test)\n",
    "#Evaluating the predictions using a Confusion Matrix\n",
    "from sklearn.metrics import confusion_matrix\n",
    "cm = confusion_matrix(y_test, y_pred)\n",
    "print(cm)\n",
    "print(classifierObj.score(X_test, y_test))"
   ]
  },
  {
   "cell_type": "code",
   "execution_count": 46,
   "metadata": {},
   "outputs": [],
   "source": [
    "filename = 'LogisticRegression.sav'\n",
    "pickle.dump(classifierObj, open(filename, 'wb'))"
   ]
  },
  {
   "cell_type": "code",
   "execution_count": 47,
   "metadata": {},
   "outputs": [],
   "source": [
    "#Making predictions on the Test Set\n",
    "valid_pred = classifierObj.predict(X_valid)"
   ]
  },
  {
   "cell_type": "code",
   "execution_count": 66,
   "metadata": {},
   "outputs": [],
   "source": [
    "test['loan_default'] = valid_pred\n",
    "test[['UniqueID', 'loan_default']].to_csv('submission.csv', index=False)"
   ]
  },
  {
   "cell_type": "code",
   "execution_count": 70,
   "metadata": {},
   "outputs": [
    {
     "name": "stdout",
     "output_type": "stream",
     "text": [
      "[[35632 10004]\n",
      " [ 9304  3349]]\n",
      "0.6687539673008629\n"
     ]
    }
   ],
   "source": [
    "from sklearn.tree import DecisionTreeClassifier\n",
    "#Fitting Classifier to Training Set. Create a classifier object here and call it classifierObj\n",
    "classifierObj = DecisionTreeClassifier(criterion='entropy')\n",
    "classifierObj.fit(X_train,y_train)\n",
    "#Making predictions on the Test Set\n",
    "y_pred = classifierObj.predict(X_test)\n",
    "cm = confusion_matrix(y_test, y_pred)\n",
    "print(cm)\n",
    "print(classifierObj.score(X_test, y_test))\n",
    "#Making predictions on the Test Set\n",
    "valid_pred = classifierObj.predict(X_valid)\n",
    "test['loan_default'] = valid_pred\n",
    "test[['UniqueID', 'loan_default']].to_csv('submissionDT.csv', index=False)"
   ]
  },
  {
   "cell_type": "code",
   "execution_count": 71,
   "metadata": {},
   "outputs": [
    {
     "name": "stderr",
     "output_type": "stream",
     "text": [
      "C:\\ProgramData\\Anaconda3\\lib\\site-packages\\ipykernel_launcher.py:4: DataConversionWarning: A column-vector y was passed when a 1d array was expected. Please change the shape of y to (n_samples,), for example using ravel().\n",
      "  after removing the cwd from sys.path.\n"
     ]
    },
    {
     "name": "stdout",
     "output_type": "stream",
     "text": [
      "[[43750  1886]\n",
      " [11775   878]]\n",
      "0.7656333098869427\n"
     ]
    }
   ],
   "source": [
    "#Fitting Classifier to Training Set. Create a classifier object here and call it classifierObj \n",
    "from sklearn.ensemble import RandomForestClassifier \n",
    "classifierObj = RandomForestClassifier(criterion='entropy') \n",
    "classifierObj.fit(X_train,y_train)\n",
    "#Making predictions on the Test Set\n",
    "y_pred = classifierObj.predict(X_test)\n",
    "cm = confusion_matrix(y_test, y_pred)\n",
    "print(cm)\n",
    "print(classifierObj.score(X_test, y_test))\n",
    "#Making predictions on the Test Set\n",
    "valid_pred = classifierObj.predict(X_valid)\n",
    "test['loan_default'] = valid_pred\n",
    "test[['UniqueID', 'loan_default']].to_csv('submissionRF.csv', index=False)"
   ]
  }
 ],
 "metadata": {
  "hide_input": false,
  "kernelspec": {
   "display_name": "Python 3",
   "language": "python",
   "name": "python3"
  },
  "language_info": {
   "codemirror_mode": {
    "name": "ipython",
    "version": 3
   },
   "file_extension": ".py",
   "mimetype": "text/x-python",
   "name": "python",
   "nbconvert_exporter": "python",
   "pygments_lexer": "ipython3",
   "version": "3.6.8"
  },
  "latex_envs": {
   "LaTeX_envs_menu_present": true,
   "autoclose": false,
   "autocomplete": true,
   "bibliofile": "biblio.bib",
   "cite_by": "apalike",
   "current_citInitial": 1,
   "eqLabelWithNumbers": true,
   "eqNumInitial": 1,
   "hotkeys": {
    "equation": "Ctrl-E",
    "itemize": "Ctrl-I"
   },
   "labels_anchors": false,
   "latex_user_defs": false,
   "report_style_numbering": false,
   "user_envs_cfg": false
  }
 },
 "nbformat": 4,
 "nbformat_minor": 2
}
