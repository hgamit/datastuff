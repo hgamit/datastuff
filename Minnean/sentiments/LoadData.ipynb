{
 "cells": [
  {
   "cell_type": "markdown",
   "metadata": {},
   "source": [
    "Google NLP API Basics: https://cloud.google.com/natural-language/docs/basics \n",
    "\n",
    "Document Analysis: WE HAVE IT\n",
    "\n",
    "documentSentiment contains the overall sentiment of the document, which consists of the following fields:\n",
    "- score of the sentiment ranges between -1.0 (negative) and 1.0 (positive) and corresponds to the overall emotional leaning of the text.\n",
    "- magnitude indicates the overall strength of emotion (both positive and negative) within the given text, between 0.0 and +inf. Unlike score, magnitude is not normalized; each expression of emotion within the text (both positive and negative) contributes to the text's magnitude (so longer text blocks may have greater magnitudes).\n",
    "- Clearly Positive*  \"score\": 0.8, \"magnitude\": 3.0\n",
    "- Clearly Negative* \"score\": -0.6, \"magnitude\": 4.0\n",
    "- Neutral \"score\": 0.1, \"magnitude\": 0.0\n",
    "- Mixed \"score\": 0.0, \"magnitude\": 4.0\n",
    "\n",
    "Entity analysis: WE HAVE IT\n",
    "\n",
    "- salience indicates the importance or relevance of this entity to the entire document text. This score can assist information retrieval and summarization by prioritizing salient entities. Scores closer to 0.0 are less important, while scores closer to 1.0 are highly important.\n",
    "- mentions indicate offset positions within the text where an entity is mentioned. \n",
    "\n",
    "Entity sentiment analysis responses: WE DON’T HAVE IT\n",
    "The Natural Language API processes the given text to extract the entities and determine sentiment. An Entity Sentiment Analysis request returns a response containing the entities that were found in the document content, a mentions entry for each time the entity is mentioned and the numerical score and magnitude values for each mention. The overall score and magnitude values for an entity are an aggregate of the specific score and magnitude values for each mention of the entity."
   ]
  },
  {
   "cell_type": "code",
   "execution_count": 1,
   "metadata": {
    "ExecuteTime": {
     "end_time": "2020-03-03T20:55:22.723785Z",
     "start_time": "2020-03-03T20:55:21.856267Z"
    }
   },
   "outputs": [
    {
     "name": "stdout",
     "output_type": "stream",
     "text": [
      "(1200, 26)\n"
     ]
    },
    {
     "data": {
      "text/html": [
       "<div>\n",
       "<style scoped>\n",
       "    .dataframe tbody tr th:only-of-type {\n",
       "        vertical-align: middle;\n",
       "    }\n",
       "\n",
       "    .dataframe tbody tr th {\n",
       "        vertical-align: top;\n",
       "    }\n",
       "\n",
       "    .dataframe thead th {\n",
       "        text-align: right;\n",
       "    }\n",
       "</style>\n",
       "<table border=\"1\" class=\"dataframe\">\n",
       "  <thead>\n",
       "    <tr style=\"text-align: right;\">\n",
       "      <th></th>\n",
       "      <th>newstime</th>\n",
       "      <th>newsheadline</th>\n",
       "      <th>score</th>\n",
       "      <th>magnitude</th>\n",
       "    </tr>\n",
       "  </thead>\n",
       "  <tbody>\n",
       "    <tr>\n",
       "      <td>0</td>\n",
       "      <td>4-Dec-18</td>\n",
       "      <td>China 2018 soybean imports to fall below 90m m...</td>\n",
       "      <td>0.0</td>\n",
       "      <td>0.9</td>\n",
       "    </tr>\n",
       "    <tr>\n",
       "      <td>1</td>\n",
       "      <td>7-May-19</td>\n",
       "      <td>Canadian wheat stocks down on record exports, ...</td>\n",
       "      <td>-0.2</td>\n",
       "      <td>4.9</td>\n",
       "    </tr>\n",
       "    <tr>\n",
       "      <td>2</td>\n",
       "      <td>23-Apr-19</td>\n",
       "      <td>Ukraine's spring barley planting nears end as ...</td>\n",
       "      <td>0.0</td>\n",
       "      <td>0.9</td>\n",
       "    </tr>\n",
       "    <tr>\n",
       "      <td>3</td>\n",
       "      <td>25-Jun-19</td>\n",
       "      <td>Brazil’s Santos port to strike Wednesday for i...</td>\n",
       "      <td>0.0</td>\n",
       "      <td>0.9</td>\n",
       "    </tr>\n",
       "    <tr>\n",
       "      <td>4</td>\n",
       "      <td>11-Apr-19</td>\n",
       "      <td>US net soybean sales nosedive on lack of China...</td>\n",
       "      <td>-0.1</td>\n",
       "      <td>2.4</td>\n",
       "    </tr>\n",
       "  </tbody>\n",
       "</table>\n",
       "</div>"
      ],
      "text/plain": [
       "    newstime                                       newsheadline  score  \\\n",
       "0   4-Dec-18  China 2018 soybean imports to fall below 90m m...    0.0   \n",
       "1   7-May-19  Canadian wheat stocks down on record exports, ...   -0.2   \n",
       "2  23-Apr-19  Ukraine's spring barley planting nears end as ...    0.0   \n",
       "3  25-Jun-19  Brazil’s Santos port to strike Wednesday for i...    0.0   \n",
       "4  11-Apr-19  US net soybean sales nosedive on lack of China...   -0.1   \n",
       "\n",
       "   magnitude  \n",
       "0        0.9  \n",
       "1        4.9  \n",
       "2        0.9  \n",
       "3        0.9  \n",
       "4        2.4  "
      ]
     },
     "execution_count": 1,
     "metadata": {},
     "output_type": "execute_result"
    }
   ],
   "source": [
    "import pandas as pd\n",
    "dataset = pd.read_csv('./agrisentiment.csv',nrows=1200)\n",
    "\n",
    "print(dataset.shape)\n",
    "dataset_new = dataset.filter(['newstime', 'newsheadline', 'score', 'magnitude'])\n",
    "dataset_new.head()"
   ]
  },
  {
   "cell_type": "code",
   "execution_count": 2,
   "metadata": {
    "ExecuteTime": {
     "end_time": "2020-03-03T20:55:22.820538Z",
     "start_time": "2020-03-03T20:55:22.725752Z"
    }
   },
   "outputs": [
    {
     "name": "stdout",
     "output_type": "stream",
     "text": [
      "<class 'pandas.core.frame.DataFrame'>\n",
      "RangeIndex: 1200 entries, 0 to 1199\n",
      "Data columns (total 4 columns):\n",
      "newstime        1200 non-null datetime64[ns]\n",
      "newsheadline    1200 non-null object\n",
      "score           1200 non-null float64\n",
      "magnitude       1200 non-null float64\n",
      "dtypes: datetime64[ns](1), float64(2), object(1)\n",
      "memory usage: 37.6+ KB\n"
     ]
    }
   ],
   "source": [
    "dataset_new['newstime'] = pd.to_datetime(dataset_new['newstime'])\n",
    "dataset_new.info()"
   ]
  },
  {
   "cell_type": "code",
   "execution_count": 3,
   "metadata": {
    "ExecuteTime": {
     "end_time": "2020-03-03T20:55:22.848437Z",
     "start_time": "2020-03-03T20:55:22.824501Z"
    }
   },
   "outputs": [],
   "source": [
    "dataset_new.to_csv(\"news_score.csv\", index=False)"
   ]
  }
 ],
 "metadata": {
  "hide_input": false,
  "kernelspec": {
   "display_name": "Python 3",
   "language": "python",
   "name": "python3"
  },
  "language_info": {
   "codemirror_mode": {
    "name": "ipython",
    "version": 3
   },
   "file_extension": ".py",
   "mimetype": "text/x-python",
   "name": "python",
   "nbconvert_exporter": "python",
   "pygments_lexer": "ipython3",
   "version": "3.7.4"
  },
  "latex_envs": {
   "LaTeX_envs_menu_present": true,
   "autoclose": false,
   "autocomplete": true,
   "bibliofile": "biblio.bib",
   "cite_by": "apalike",
   "current_citInitial": 1,
   "eqLabelWithNumbers": true,
   "eqNumInitial": 1,
   "hotkeys": {
    "equation": "Ctrl-E",
    "itemize": "Ctrl-I"
   },
   "labels_anchors": false,
   "latex_user_defs": false,
   "report_style_numbering": false,
   "user_envs_cfg": false
  },
  "varInspector": {
   "cols": {
    "lenName": 16,
    "lenType": 16,
    "lenVar": 40
   },
   "kernels_config": {
    "python": {
     "delete_cmd_postfix": "",
     "delete_cmd_prefix": "del ",
     "library": "var_list.py",
     "varRefreshCmd": "print(var_dic_list())"
    },
    "r": {
     "delete_cmd_postfix": ") ",
     "delete_cmd_prefix": "rm(",
     "library": "var_list.r",
     "varRefreshCmd": "cat(var_dic_list()) "
    }
   },
   "types_to_exclude": [
    "module",
    "function",
    "builtin_function_or_method",
    "instance",
    "_Feature"
   ],
   "window_display": false
  }
 },
 "nbformat": 4,
 "nbformat_minor": 2
}
