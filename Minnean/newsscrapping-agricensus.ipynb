{
 "cells": [
  {
   "cell_type": "code",
   "execution_count": 3,
   "metadata": {
    "ExecuteTime": {
     "end_time": "2019-12-10T18:23:44.536304Z",
     "start_time": "2019-12-10T18:23:43.376078Z"
    }
   },
   "outputs": [
    {
     "name": "stdout",
     "output_type": "stream",
     "text": [
      "Number of News articles 3536\n"
     ]
    }
   ],
   "source": [
    "# importing the necessary packages\n",
    "import requests\n",
    "from bs4 import BeautifulSoup\n",
    "import numpy as np\n",
    "import pandas as pd\n",
    "import time, pdb\n",
    "\n",
    "coverpage_news = []\n",
    "website = 'https://www.iasoybeans.com/'\n",
    "\n",
    "for i in range(5):\n",
    "    url = website+\"search/news/?q=soybean&p=\" + str(i)\n",
    "    r1 = requests.get(url)\n",
    "    coverpage = r1.content\n",
    "    soup1 = BeautifulSoup(coverpage, 'html5lib')\n",
    "    for li in soup1.find_all('li'):\n",
    "        h3 = li.findChildren('h3')\n",
    "        for a in h3:\n",
    "            #print(a.find('a')['href'])\n",
    "            coverpage_news.extend(a.find('a')['href'])\n",
    "\n",
    "print(\"Number of News articles\", len(coverpage_news))"
   ]
  },
  {
   "cell_type": "code",
   "execution_count": 2,
   "metadata": {
    "ExecuteTime": {
     "end_time": "2019-12-10T14:41:20.572713Z",
     "start_time": "2019-12-10T14:41:20.479646Z"
    }
   },
   "outputs": [
    {
     "data": {
      "text/html": [
       "<div>\n",
       "<style scoped>\n",
       "    .dataframe tbody tr th:only-of-type {\n",
       "        vertical-align: middle;\n",
       "    }\n",
       "\n",
       "    .dataframe tbody tr th {\n",
       "        vertical-align: top;\n",
       "    }\n",
       "\n",
       "    .dataframe thead th {\n",
       "        text-align: right;\n",
       "    }\n",
       "</style>\n",
       "<table border=\"1\" class=\"dataframe\">\n",
       "  <thead>\n",
       "    <tr style=\"text-align: right;\">\n",
       "      <th></th>\n",
       "      <th>link</th>\n",
       "    </tr>\n",
       "  </thead>\n",
       "  <tbody>\n",
       "    <tr>\n",
       "      <th>2755</th>\n",
       "      <td>/Article/US-bean-crushing-hits-record-in-Decem...</td>\n",
       "    </tr>\n",
       "    <tr>\n",
       "      <th>2756</th>\n",
       "      <td>/Article/Ukraine-grain-exports-reach-22-8-mill...</td>\n",
       "    </tr>\n",
       "    <tr>\n",
       "      <th>2757</th>\n",
       "      <td>/Article/La-Nina-fears-push-soy-futures-up-as-...</td>\n",
       "    </tr>\n",
       "    <tr>\n",
       "      <th>2758</th>\n",
       "      <td>/Article/US-export-inspections-see-corn-underp...</td>\n",
       "    </tr>\n",
       "    <tr>\n",
       "      <th>2759</th>\n",
       "      <td>/Article/Brazil-soybean-exports-reach-700-000-...</td>\n",
       "    </tr>\n",
       "  </tbody>\n",
       "</table>\n",
       "</div>"
      ],
      "text/plain": [
       "                                                   link\n",
       "2755  /Article/US-bean-crushing-hits-record-in-Decem...\n",
       "2756  /Article/Ukraine-grain-exports-reach-22-8-mill...\n",
       "2757  /Article/La-Nina-fears-push-soy-futures-up-as-...\n",
       "2758  /Article/US-export-inspections-see-corn-underp...\n",
       "2759  /Article/Brazil-soybean-exports-reach-700-000-..."
      ]
     },
     "execution_count": 2,
     "metadata": {},
     "output_type": "execute_result"
    }
   ],
   "source": [
    "newslinks = []\n",
    "for div in coverpage_news:\n",
    "    newslinks.append(div.find('a')['href'])\n",
    "    \n",
    "    \n",
    "newslinks = pd.DataFrame(\n",
    "    {'link': newslinks})\n",
    "\n",
    "#len(test['Article Link'].unique())\n",
    "newslinks.tail()"
   ]
  },
  {
   "cell_type": "code",
   "execution_count": 10,
   "metadata": {
    "ExecuteTime": {
     "end_time": "2019-12-10T14:47:05.830125Z",
     "start_time": "2019-12-10T14:47:05.314577Z"
    }
   },
   "outputs": [
    {
     "name": "stdout",
     "output_type": "stream",
     "text": [
      "https://www.agricensus.com/Article/Conab-nudges-Brazil-soybean-output-estimate-upwards-9729.html\n",
      "b'<!DOCTYPE html>\\r\\n<html xmlns=\"http://www.w3.org/1999/xhtml\" lang=\"en\">\\r\\n<head>\\r\\n<meta charset=\"UTF-8\">\\r\\n<meta http-equiv=\"Content-Type\" content=\"text/html;charset=UTF-8\">\\r\\n<meta name=\"viewport\" content=\"width=device-width,initial-scale=1\"/>\\r\\n<title>Conab nudges Brazil soybean output estimate upwards</title>\\r\\n<link rel=\"manifest\" href=\"/manifest_agri.json\" />\\r\\n\\r\\n\\r\\n<style>html{height:100%}body{background:#f5f5f5;padding:0px;margin:0px;font-family:Arial, sans-serif;font-size:18px;color:#666;height:100%}section{display:block;overflow:auto}a{color:#060;text-decoration:none}.skin-body [class^=\"icon-\"]:before,.skin-body [class*=\" icon-\"]:before{margin-left:0px}.skin-body{display:flex;flex-flow:column nowrap;min-height:101%}@media print{.skin-body{min-height:auto}body>*:not(.skin-body){display:none}}.skin-header{display:block;background:#FFF;position:sticky;top:0px;z-index:10;left:0;right:0;border-bottom:5px solid #EB2}.skin-header-nav1 a{color:inherit}.skin-header-wrap{display:flex;align-items:center;flex-wrap:wrap;margin:8px 8px 0 8px;position:relative}.skin-header-logo{flex:0 0 auto;margin:0 16px;width:230px}.skin-header-logo img{width:100%;height:auto;display:block}.skin-header-nav1{font-size:20px;flex:0 0 auto;align-self:flex-end;display:flex;padding:8px 16px 0 16px;box-sizing:border-box}.skin-header-nav1>div:not(:last-child){margin-right:2em}.skin-header-usr{flex:0 0 auto;margin-left:auto}.skin-header-usr>div{display:inline-block}.skin-header-usr span:before{font-size:1.3em}.skin-header-usr span.icon-search{margin-left:8px}.skin-header-usr .trial-button{padding:3px 2em;background-color:#090;color:#FFF;border-radius:5px;margin-right:2em}.skin-header-usr .subscribe-button{padding:3px 1em;background-color:#090;color:#FFF;border-radius:5px;margin-right:1em}.ProfileCircle{display:inline-block;border-radius:50%;background:#DDD;color:#090;width:2.2em;line-height:2.2em;text-align:center}.skin-header-usr .ProfileCircle .icon-register:before{margin-right:0}@media (max-width: 1023px){.skin-header-nav1{order:3;width:100%}}@media (max-width: 525px){.skin-header-usr .trial-button{margin-right:.5em;padding:3px .5em}.skin-header-usr .subscribe-button{display:none}.skin-header-usr .login-button>span:nth-of-type(1){display:none}.skin-header-logo{width:180px}}@media (max-width: 485px){.skin-header-search span:nth-of-type(1){display:none}}@media (max-width: 424px){.skin-header-nav1>div:not(:last-child){margin-right:16px}}@media (max-width: 374px){.skin-header-usr .trial-button{display:none}}.skin-header .nav-more-menu a,.skin-header-usr a{color:#060}.nav-more.open .nav-more-menu{display:block}.nav-more{position:relative}.nav-more.open .icon-arrow-down:before{transform:rotate(180deg)}.nav-more-handle{cursor:pointer}.nav-more-menu{margin:0;list-style-type:none;display:none;position:absolute;box-shadow:2px 2px 5px 0px #BBB;background:#FFF;z-index:15;left:-17px;min-width:260px;margin-top:-1px;border:1px solid #CCC;font-size:18px;color:#666;padding:8px;padding-top:24px}.nav-more-menu td{vertical-align:top;white-space:nowrap}.nav-more-menu td>p,.nav-more-menu>p{border-bottom:1px solid #CCC;margin:0;padding:0 8px;margin-bottom:16px;white-space:nowrap}.nav-more-menu>p:last-child{border-bottom:none}.skin-main{flex:1 0 auto}.skin-footer{background:#361 linear-gradient(#361, #673) 50% 0% no-repeat;background-size:cover;color:#F5F5F5;margin-top:40px}.skin-footer{background-image:url(/i/footer.jpg)}.skin-footer a{color:inherit}.skin-footer-wrap{display:flex;justify-content:space-between;flex-wrap:wrap;padding:8px 16px}.skin-footer-nav{flex:0 0 288px;padding:8px}.skin-footer-txt{flex:0 1 425px;padding:8px}@media (max-width: 1199px){.skin-footer-txt{order:-1;flex:1 1 100%}}.skin-footer-map{flex:0 0 288px;padding:8px}.skin-footer-copyright{text-align:center;line-height:50px;background:#000;opacity:0.6;font-size:16px}.PageBar{box-shadow:0 0 5px 1px #CCC;background:#FFF;padding:16px;margin:16px 8px;overflow:hidden}.PageBar b,.PageBar a{padding:3px}.wrap-max{margin:0 auto;max-width:1200px;width:100%;box-sizing:border-box}.shadow-box{box-shadow:0 0 5px 1px #CCC;background:#FFF}.shadow-box:hover{box-shadow:none}.hover-noshadow:hover{box-shadow:none}.section-title{font-weight:bold;font-size:24px;color:#666;margin:24px 8px 0 8px;padding:0 16px;border-bottom:5px solid #EEBB22}.market-comentary-section .section-title,.price-assessments-section .section-title{border-bottom-color:#BFBFBF}.section-body{margin:0 8px 16px 8px;padding:16px;background:#FFF;box-shadow:0 0 5px 1px #CCC}.section-body-flex{display:flex;flex-wrap:wrap;margin:0 8px 16px 8px;padding:8px;background:#FFF;box-shadow:0 0 5px 1px #CCC}.whea-color{color:#99712A}.whea-background-color{background-color:#99712A;color:#FFF}.whea-border-color{border-color:#99712A}.corn-color{color:#f2c417}.corn-background-color{background-color:#f2c417;color:#FFF}.corn-border-color{border-color:#f2c417}.soya-color{color:#208e45}.soya-background-color{background-color:#208e45;color:#FFF}.soya-border-color{border-color:#208e45}.barl-color{color:#994433}.barl-background-color{background-color:#994433;color:#FFF}.barl-border-color{border-color:#994433}.voil-color{color:#F1EC38}.voil-background-color{background-color:#F1EC38;color:#666}.voil-border-color{border-color:#F1EC38}.meal-color{color:#EBD09B}.meal-background-color{background-color:#EBD09B;color:#FFF}.meal-border-color{border-color:#EBD09B}.PriceAPMTable{border-collapse:collapse;border:none;width:100%;background:#FFF;font-size:16px}.PriceAPMTable thead td{background-color:#AC9;font-weight:bold}.PriceAPMTable thead.toggle td.toggle{cursor:pointer}.PriceAPMTable thead.toggle td.toggle:after{content:\\'\\\\e803\\';font-family:\\'fontello\\';display:inline-block;margin-left:.5em;transform:rotate(180deg)}.PriceAPMTable thead.toggle.close td.toggle:after{transform:rotate(0deg)}.PriceAPMTable thead.toggle.close+tbody{display:none}.PriceAPMTable tbody tr{border-bottom:1px solid #cfd5bf}.PriceAPMTable td{padding-top:10px;padding-right:4px;padding-left:4px;padding-bottom:1px;text-align:right}.PriceAPMTable tr.Premium{background:#eee}.PriceAPMTable tr.Brand{font-weight:bold}.PriceAPMTable tr td:nth-child(1),.PriceAPMTable tr td:nth-child(2){text-align:left}.PriceAPMTable tr td.apm{text-align:right;max-width:150px}.PriceAPMTable tbody td.apm{background:#ccddbb66}.PriceAPMTable tr td.apm>span{display:inline-block;padding:2px;min-width:50px}.PriceAPMTable tr td.apm>span:nth-child(1){font-weight:bold}.PriceAPMTable tr td.apm>span:nth-child(2),.PriceAPMTable tr td.apm>span:nth-child(3){font-size:12px;display:inline-block;padding:2px}.PriceAPMTable td.brandname{font-size:0.8em;white-space:nowrap;width:1px}.icon-star:before{color:#090}.PayedConntent{background:#eee;color:#333;padding:1em}.PayedConntent a{font-weight:bold}div.Errors{color:#C30}.Client input,.Client textarea,.Client select,.Client button,.Client .inputLike{width:100%;box-sizing:border-box;padding:6px;font-size:1em;margin:8px 0;outline-color:#EB2;outline-width:1px;outline-offset:-1px;background:#FFF}.Client input,.Client textarea,.Client select,.Client .inputLike{border:1px solid #ccc}.Client input[type=checkbox],.Client input[type=radio]{width:auto;margin:0;vertical-align:middle}.Client button{border:none;background-color:#090;color:#FFF;cursor:pointer;display:block;text-align:center;border-radius:5px}.buttonLink{padding:3px 1em;background-color:#090;color:#FFF;border-radius:5px;border:none;cursor:pointer}.buttonLink:disabled{background-color:#0905;cursor:default}@CHARSET \"UTF-8\";ul.myCheckList{list-style:none;padding:0;margin-left:2em}ul.myCheckList li{margin-bottom:1em}ul.myCheckList li:before{content:\"\\\\2714\";margin-left:-1em;margin-top:-.2em;color:green;position:absolute;font-size:1.5em}ul.myCheckList.orange li:before{color:#F72}body.BETinyMCEBody{background:#FFF;font-family:Arial, sans-serif;font-size:18px;color:#666}table.myHolidaysTable{border-collapse:collapse}table.myHolidaysTable thead{font-weight:bold;border-bottom:1px solid #333}table.myHolidaysTable td{padding:3px}table.myHolidaysTable td:nth-child(2){border-left:1px solid #333;border-right:1px solid #333}table.myAgriCensus1{border-collapse:collapse;font-size:16px;border:none}table.myAgriCensus1 td,table.myAgriCensus1 th{padding:3px;border:none}table.myAgriCensus1 thead{background-color:#AC9}table.myAgriCensus1 tbody tr{border-bottom:1px solid #cfd5bf}table.myAgriCensus2{border-collapse:collapse;font-size:16px;border:none}table.myAgriCensus2 td,table.myAgriCensus2 th{padding:3px;border:none}table.myAgriCensus2 tr:nth-child(1){background-color:#CDB;border:none}table.myAgriCensus2 tr:nth-child(2){background-color:#AC9;border:none}table.myAgriCensus2 tbody tr{border-bottom:1px solid #cfd5bf}tr.myAgriCensusTitle1{background-color:#CDB;border:none}tr.myAgriCensusHeader1{background-color:#AC9;border:none}@font-face{font-family:\\'fontello\\';src:url(\"/i/icons-font/fontello-69791ef6/css/../font/fontello.eot?76040452\");src:url(\"/i/icons-font/fontello-69791ef6/css/../font/fontello.eot?76040452#iefix\") format(\"embedded-opentype\"),url(\"/i/icons-font/fontello-69791ef6/css/../font/fontello.woff2?76040452\") format(\"woff2\"),url(\"/i/icons-font/fontello-69791ef6/css/../font/fontello.woff?76040452\") format(\"woff\"),url(\"/i/icons-font/fontello-69791ef6/css/../font/fontello.ttf?76040452\") format(\"truetype\"),url(\"/i/icons-font/fontello-69791ef6/css/../font/fontello.svg?76040452#fontello\") format(\"svg\");font-weight:normal;font-style:normal}[class^=\"icon-\"]:before,[class*=\" icon-\"]:before{font-family:\"fontello\";font-style:normal;font-weight:normal;speak:none;display:inline-block;text-decoration:inherit;width:1em;margin-right:.2em;text-align:center;font-variant:normal;text-transform:none;line-height:1em;margin-left:.2em;-webkit-font-smoothing:antialiased;-moz-osx-font-smoothing:grayscale}.icon-home:before{content:\\'\\\\e800\\'}.icon-bell:before{content:\\'\\\\e801\\'}.icon-print:before{content:\\'\\\\e802\\'}.icon-arrow-down:before{content:\\'\\\\e803\\'}.icon-back:before{content:\\'\\\\e804\\'}.icon-arrow-up:before{content:\\'\\\\e805\\'}.icon-mobile:before{content:\\'\\\\e806\\'}.icon-read-more-arrow:before{content:\\'\\\\e807\\'}.icon-cornn:before{content:\\'\\\\e808\\'}.icon-mail:before{content:\\'\\\\e809\\'}.icon-corn:before{content:\\'\\\\e80a\\'}.icon-search:before{content:\\'\\\\e80b\\'}.icon-location:before{content:\\'\\\\e80c\\'}.icon-register:before{content:\\'\\\\e80d\\'}.icon-soyan:before{content:\\'\\\\e80e\\'}.icon-soya:before{content:\\'\\\\e80f\\'}.icon-up:before{content:\\'\\\\e810\\'}.icon-whea:before{content:\\'\\\\e811\\'}.icon-whean:before{content:\\'\\\\e812\\'}.icon-star:before{content:\\'\\\\e813\\'}.icon-star-empty:before{content:\\'\\\\e814\\'}.icon-barl:before{content:\\'\\\\e815\\'}.icon-barln:before{content:\\'\\\\e816\\'}.icon-meal:before{content:\\'\\\\e817\\'}.icon-mealn:before{content:\\'\\\\e818\\'}.icon-voil:before{content:\\'\\\\e819\\'}.icon-voiln:before{content:\\'\\\\e81a\\'}.icon-calendar:before{content:\\'\\\\e81b\\'}.icon-twitter:before{content:\\'\\\\f099\\'}.icon-doc-text:before{content:\\'\\\\f0f6\\'}.icon-file-pdf:before{content:\\'\\\\f1c1\\'}.icon-file-excel:before{content:\\'\\\\f1c3\\'}.icon-linkedin-squared:before{content:\\'\\\\f30c\\'}.news-list-block{padding:8px;margin:0px 8px 16px 8px;page-break-inside:avoid;display:flex;overflow:hidden;background:#FFF}.news-list-img{padding:8px;flex:0 0 280px}@media (max-width: 767px){.news-list-img{display:none}}.news-list-img img{width:100%;height:auto;max-width:280px}.news-list-text{flex:1 1 100%;padding:8px;display:flex;flex-flow:column nowrap}.news-list-title{font-size:20px;margin:0;margin-bottom:16px}.news-list-date-author{font-size:16px;margin-bottom:16px}.news-list-description{margin-bottom:16px}.news-list-readmore{text-align:right;margin-top:auto;font-size:16px}.news-list-tags{margin-bottom:16px;font-size:16px}.news-list-tags a{color:#99AA88;border:1px solid #99AA88;padding:2px 6px;transition:color 0.4s ease 0s, background-color 0.4s ease 0s;display:inline-block;height:1em;margin-bottom:3px}.news-list-tags a:hover{color:#FFF;background-color:#99AA88}.news-list-2cols{display:flex;flex-wrap:wrap}.news-list-2cols .news-list-block{flex:1 1 480px}.news-list-2cols .news-list-img{flex:0 0 240px}.news-list-3cols{display:flex;flex-wrap:wrap}.news-list-3cols .news-list-block{flex:1 1 300px}.news-list-3cols .news-list-img{display:none}.market-comentary-section .news-list-block{flex:1 1 50%;box-shadow:none;margin:0;padding:0}@media (max-width: 600px){.market-comentary-section .news-list-block{flex:1 1 100%}}.market-comentary-header{padding:8px;margin-bottom:16px}.market-comentary-header:before{font-size:40px;vertical-align:middle}.headlines{flex:0 0 300px;font-size:16px;display:flex;flex-flow:column}.headlines .section-title{border-bottom-color:#E2F0D9}.headlines-body{padding:8px;margin:0 8px 16px 8px;height:100%;column-width:300px;overflow:hidden;padding-bottom:24px}.headlines-body>div{page-break-inside:avoid;padding:8px;border-bottom:1px solid #ddd;margin-bottom:8px}.headlines-date{font-size:0.9em;margin-bottom:.5em}.news-block{display:flex}@media (max-width: 1024px){.news-block{display:block}}.news-view{padding:16px;margin:0 8px 32px 8px}.news-view-share{float:left}.news-view-share a{cursor:pointer}.news-view-back{text-align:right;float:right}.headlines-body{height:auto}.market-comentary-header{margin:52px 8px 0 8px}@media print{.skin-body{min-height:1%}header.skin-header{display:none}footer{display:none}article{display:none}.section-title{display:none}.news-view-share{display:none}.news-view-back{display:none}.headlines{display:none}}.RegisterInArticle{max-width:900px}.RegisterInArticle .register-section .section-title{font-size:18px}.register-section .section-body{box-shadow:none}article .register-section .section-body,section .register-section .section-body{margin:0;padding:0}.register-section .section-body>div{background:#EEE;overflow:hidden;padding:8px}.register-title{margin:1em 0;text-align:center;font-weight:bold}.register-field-phone-code{position:relative;white-space:nowrap;display:inline-block}#registerSelectValue:after{position:absolute;right:0;content:\"\\xe2\\x96\\xbc\";font-size:0.9em}#country_code{position:absolute;top:-8px;left:0;opacity:0;z-index:20}#country_code option{color:initial}\\n\\n/*# sourceMappingURL=3622243c49b32d7560f425e401c45742.css.map */</style>\\r\\n\\r\\n<script>\\r\\n!function(t,e,n){function r(t,e,n){t.addEventListener(e,function(){o(n)})}function o(t){c[t].l=1,c[t].r.forEach(function(e){e(t)})}function i(t){var e=0,n=null,r={then:function(t){n=t,this.r()},r:function(r){e>0||(t=t.filter(function(t){return c[t].l?0:t!=r}),0==t.length&&(e=2,n()))}};return t=t.filter(function(t){var e=c[t];return e.l?0:(e.r.push(r.r),e.ld(),1)}),r}function l(t,n,o){return o||(o=[]),n&&r(n,\"load\",t),c[t]={l:0,r:[],ld:function(){!this.l&&n&&i(o).then(function(){e.head.appendChild(n)})}},n}if(!t[n]){String.prototype.jqEscape=function(){return this.replace(/([:.\\\\[\\\\]])/g,\"\\\\\\\\$1\")},Element.prototype.matches||(Element.prototype.matches=Element.prototype.msMatchesSelector||Element.prototype.webkitMatchesSelector),Element.prototype.closest||(Element.prototype.closest=function(t){var e=this;if(!document.documentElement.contains(e))return null;do{if(e.matches(t))return e;e=e.parentElement||e.parentNode}while(null!==e);return null}),window.NodeList&&!NodeList.prototype.forEach&&(NodeList.prototype.forEach=function(t,e){e=e||window;for(var n=0;n<this.length;n++)t.call(e,this[n],n,this)});var c={};t[n]={defer:function(t,e){i(e).then(t)},addJS:function(t,n,r){var o=e.createElement(\"script\");return o.src=n,o.async=!0,l(t,o,r)},addCSS:function(t,n,r){var o=e.createElement(\"link\");return o.rel=\"stylesheet\",o.href=n,l(t,o,r)}},l(\"ready\"),l(\"load\"),r(t,\"DOMContentLoaded\",\"ready\"),r(t,\"load\",\"load\")}}(window,document,\"ITTI\");\\r\\n\\r\\nITTI.addJS(\\'jq\\',\\'/oss/jquery/jquery-1.11.1.min.js\\',[]);\\r\\nITTI.addJS(\\'jqcookie\\',\\'/oss/jquery/jquery.cookie.min.js\\',[\\'jq\\']);\\r\\nITTI.addCSS(\\'jquiCSS\\',\\'/oss/jquery/jquery-ui-1.12.1.base/jquery-ui.min.css\\',[\\'ready\\']);\\r\\nITTI.addJS(\\'jqui\\',\\'/oss/jquery/jquery-ui-1.12.1.base/jquery-ui.min.js\\',[\\'jq\\', \\'jquiCSS\\']);\\r\\nITTI.addJS(\\'jqTimePicker\\',\\'/oss/jquery/jquery.datetimepicker-1.5/jquery-ui-timepicker-addon.js\\',[\\'jqui\\']);\\r\\nITTI.addCSS(\\'chosenCSS\\',\\'/oss/chosen_v1.8.7/chosen.min.css\\',[\\'ready\\']);\\r\\nITTI.addJS(\\'chosen\\',\\'/oss/chosen_v1.8.7/chosen.jquery.min.js\\',[\\'jq\\', \\'chosenCSS\\']);\\r\\n\\r\\n\\r\\nfunction ajaxInnerHTML(el, url){\\r\\n\\tvar xmlHttp = new XMLHttpRequest();\\r\\n\\txmlHttp.onload=function(){\\r\\n\\t\\tel.innerHTML = this.responseText;\\r\\n\\t\\tel.querySelectorAll(\\'script\\').forEach(function(i){window.setTimeout(eval, 0, i.textContent);});\\r\\n\\t\\t};\\r\\n\\txmlHttp.open(\"GET\", url, true);\\r\\n\\txmlHttp.send(null);\\r\\n}\\r\\n\\r\\n\\r\\n\\r\\nITTI.defer(function(){\\r\\n\\tdocument.querySelectorAll(\\'img[data-src]\\').forEach(function(i){i.setAttribute(\\'src\\', i.getAttribute(\\'data-src\\'))});\\r\\n\\tdocument.querySelectorAll(\\'*[data-innerHtml-url]\\').forEach(function(i){ajaxInnerHTML(i, i.getAttribute(\\'data-innerHtml-url\\'))});\\r\\n\\r\\n\\tdocument.querySelectorAll(\\'thead.toggle\\').forEach(function(el){\\r\\n\\t\\tel.querySelector(\\'td.toggle\\').addEventListener(\\'click\\',function(){el.classList.toggle(\\'close\\');});\\r\\n\\t});\\r\\n\\r\\n},[\\'ready\\']);\\r\\n\\r\\nITTI.defer(function(){\\r\\n\\tvar openedMenu;\\r\\n\\r\\n\\tvar closeOpened=function(e){\\r\\n\\t\\tif (openedMenu && (!openedMenu.contains(e.target)) ) {\\r\\n\\t\\t\\topenedMenu.classList.remove(\\'open\\');\\r\\n\\t\\t}\\r\\n\\t};\\r\\n\\r\\n\\tdocument.querySelectorAll(\\'.nav-more\\').forEach(function(e){\\r\\n\\t\\tvar h = e.querySelector(\\'.nav-more-handle\\');\\r\\n\\t\\tvar m = e.querySelector(\\'.nav-more-menu\\');\\r\\n\\t\\th.addEventListener(\\'click\\',function(ev){\\r\\n\\t\\t\\tcloseOpened(ev);\\r\\n\\r\\n\\t\\t\\tif(e.classList.contains(\\'open\\')){\\r\\n\\r\\n\\t\\t\\t\\t\\te.classList.remove(\\'open\\');\\r\\n\\t\\t\\t\\t\\topenedMenu = null;\\r\\n\\r\\n\\t\\t\\t} else {\\r\\n\\t\\t\\t\\te.classList.add(\\'open\\');\\r\\n\\t\\t\\t\\topenedMenu = e;\\r\\n\\t\\t\\t}\\r\\n\\t\\t});\\r\\n\\t});\\r\\n\\r\\n\\twindow.addEventListener(\\'click\\',closeOpened);\\r\\n},[\\'ready\\']);\\r\\n\\r\\n\\r\\n</script>\\r\\n\\r\\n<!-- Global site tag (gtag.js) - Google Analytics -->\\r\\n<script async src=\"https://www.googletagmanager.com/gtag/js?id=UA-109034223-1\"></script>\\r\\n<script>\\r\\nwindow.dataLayer=window.dataLayer||[];\\r\\nfunction gtag(){dataLayer.push(arguments);}\\r\\ngtag(\\'js\\', new Date());\\r\\ngtag(\\'config\\', \\'UA-109034223-1\\', {\"custom_map\":{\"dimension1\":\"ClientStatus\",\"dimension2\":\"ClientHash\"}});\\r\\n</script>\\r\\n\\r\\n<link rel=\"canonical\" href=\"https://www.agricensus.com/Article/Conab-nudges-Brazil-soybean-output-estimate-upwards-9729.html\" /><script async src=\"/templates/Articles/sharebuttons.js?v=1\"></script>\\r\\n</head>\\r\\n<body>\\r\\n\\r\\n<div class=\"skin-body\">\\r\\n<header class=\"skin-header\">\\r\\n<div class=\"wrap-max\">\\r\\n\\t<div class=\"skin-header-wrap\">\\r\\n\\r\\n\\r\\n\\t\\t<div class=\"skin-header-logo\">\\r\\n\\t\\t\\t<a href=\"/\" title=\"AgriCensus\" style=\"position: absolute;left:-25px;top:31px;\"><span class=\"icon-home\"></span></a>\\r\\n\\t\\t\\t<a href=\"/\" title=\"AgriCensus\"><img src=\"/i/AgriCensusLogo.svg\" width=\"230\" height=\"50\" alt=\"AgriCensus\"></a>\\r\\n\\t\\t</div>\\r\\n\\r\\n\\t\\t<div class=\"skin-header-nav1\">\\r\\n\\r\\n\\t\\t\\t\\t<div class=\"nav-more\">\\r\\n\\t\\t\\t\\t\\t<div class=\"nav-more-handle\">News<span class=\"icon-arrow-down\"></span></div>\\r\\n\\t\\t\\t\\t\\t<div class=\"nav-more-menu\">\\r\\n\\r\\n\\t\\t\\t\\t\\t\\t<p><a href=\"/news/\">Latest News</a></p>\\r\\n\\t\\t\\t\\t\\t\\t\\t<p><a href=\"/wheat-news/\">Wheat</a></p>\\r\\n\\t\\t\\t\\t\\t\\t\\t<p><a href=\"/corn-news/\">Corn</a></p>\\r\\n\\t\\t\\t\\t\\t\\t\\t<p><a href=\"/soy-news/\">Soybean</a></p>\\r\\n\\t\\t\\t\\t\\t\\t\\t<p><a href=\"/barley-news/\">Barley</a></p>\\r\\n\\t\\t\\t\\t\\t\\t\\t<p><a href=\"/vegoil-news/\">Vegoils</a></p>\\r\\n\\t\\t\\t\\t\\t\\t\\t<p><a href=\"/meal-news/\">Meals</a></p>\\r\\n\\r\\n\\t\\t\\t\\t\\t\\t\\t<br>\\r\\n\\t\\t\\t\\t\\t\\t<p><a href=\"/market-commentary/\"><b>Market Commentaries</b></a></p>\\r\\n\\t\\t\\t\\t\\t\\t<p><a href=\"/apm-commentary-and-rationale/\"><b>APM Commentary &amp; Rationale</b></a></p>\\r\\n\\t\\t\\t\\t\\t\\t\\t<br>\\r\\n\\r\\n\\t\\t\\t\\t\\t\\t<p><b>Topics</b></p>\\r\\n\\t\\t\\t\\t\\t\\t\\t<p><a href=\"/market-news/\">Markets</a></p>\\r\\n\\t\\t\\t\\t\\t\\t\\t<p><a href=\"/corporate-news/\">Corporate</a></p>\\r\\n\\t\\t\\t\\t\\t\\t\\t<p><a href=\"/policy-news/\">Policy</a></p>\\r\\n\\t\\t\\t\\t\\t\\t\\t<br>\\r\\n\\t\\t\\t\\t\\t\\t<p><a href=\"/search/\"><b>Archive Search</b></a></p>\\r\\n\\r\\n\\r\\n\\r\\n\\t\\t\\t\\t\\t</div>\\r\\n\\t\\t\\t\\t</div>\\r\\n\\r\\n\\t\\t\\t\\t<div class=\"nav-more\">\\r\\n\\t\\t\\t\\t\\t<div class=\"nav-more-handle\">Prices<span class=\"icon-arrow-down\"></span></div>\\r\\n\\t\\t\\t\\t\\t<div class=\"nav-more-menu\" style=\"left:-135px;\">\\r\\n\\t\\t\\t\\t\\t\\t<table>\\r\\n\\t\\t\\t\\t\\t\\t<tr style=\"font-size: 16px;\">\\r\\n\\t\\t\\t\\t\\t\\t\\t<td style=\"padding-bottom:25px;\">AgriCensus Price Markers<br>(APM) & monthly averages</td>\\r\\n\\t\\t\\t\\t\\t\\t\\t<td>&nbsp; &nbsp;</td>\\r\\n\\t\\t\\t\\t\\t\\t\\t<td>Physical Forward Curves</td>\\r\\n\\t\\t\\t\\t\\t\\t</tr>\\r\\n\\t\\t\\t\\t\\t\\t<tr>\\r\\n\\t\\t\\t\\t\\t\\t<td>\\r\\n\\t\\t\\t\\t\\t\\t\\t<p><a href=\"/prices/?market=WHEA\">Wheat</a></p><p><a href=\"/prices/?market=CORN\">Corn</a></p><p><a href=\"/prices/?market=SOYA\">Soybean</a></p><p><a href=\"/prices/?market=BARL\">Barley</a></p><p><a href=\"/prices/?market=VOIL\">Vegoils</a></p><p><a href=\"/prices/?market=MEAL\">Meals</a></p><p><a href=\"/prices/?market=FRGT\">Freight Indications (weekly)</a></p><p><a href=\"/prices/?market=CRSH\">Crush Margin</a></p>\\t\\t\\t\\t\\t\\t\\t<p><a href=\"/prices/\">All Prices</a></p>\\r\\n\\r\\n\\t\\t\\t\\t\\t\\t</td>\\r\\n\\t\\t\\t\\t\\t\\t<td></td>\\r\\n\\t\\t\\t\\t\\t\\t<td>\\r\\n\\t\\t\\t\\t\\t\\t\\t<p><a href=\"/prices-forward-curve/?market=WHEA\">Wheat</a></p><p><a href=\"/prices-forward-curve/?market=CORN\">Corn</a></p><p><a href=\"/prices-forward-curve/?market=SOYA\">Soybean</a></p><p><a href=\"/prices-forward-curve/?market=VOIL\">Vegoils</a></p><p><a href=\"/prices-forward-curve/?market=MEAL\">Meals</a></p><p><a href=\"/prices-forward-curve/?market=CRSH\">Crush Margin</a></p>\\t\\t\\t\\t\\t\\t\\t<p><a href=\"/prices-forward-curve/\">All Prices</a></p>\\r\\n\\t\\t\\t\\t\\t\\t</td>\\r\\n\\t\\t\\t\\t\\t\\t</tr>\\r\\n\\t\\t\\t\\t\\t\\t<tr>\\r\\n\\t\\t\\t\\t\\t\\t\\t<td colspan=\"3\">\\r\\n\\t\\t\\t\\t\\t\\t\\t<br/>\\r\\n\\t\\t\\t\\t\\t\\t\\t<a href=\"/price-specifications/\">Specifications</a><br/><br/>\\r\\n\\t\\t\\t\\t\\t\\t\\t<a href=\"/prices-methodology/\">Pricing Methodology</a><br/><br/>\\r\\n\\t\\t\\t\\t\\t\\t\\t<a href=\"/publishing-schedule/\">Publishing Schedule</a>\\r\\n\\t\\t\\t\\t\\t\\t\\t</td>\\r\\n\\t\\t\\t\\t\\t\\t</tr>\\r\\n\\t\\t\\t\\t\\t\\t</table>\\r\\n\\r\\n\\r\\n\\t\\t\\t\\t\\t</div>\\r\\n\\t\\t\\t\\t</div>\\r\\n\\r\\n\\r\\n\\t\\t\\t\\t<div class=\"nav-more\">\\r\\n\\t\\t\\t\\t\\t<div class=\"nav-more-handle\">Data<span class=\"icon-arrow-down\"></span></div>\\r\\n\\t\\t\\t\\t\\t<div class=\"nav-more-menu\" style=\"left:-130px;\">\\r\\n\\t\\t\\t\\t\\t\\t<p><a href=\"/tenders/\">Tender Dashboard</a></p>\\r\\n\\t\\t\\t\\t\\t\\t<p><a href=\"/crop-forecasts/\">Crop Forecasts</a></p>\\r\\n\\t\\t\\t\\t\\t\\t<p><a href=\"/export-dashboard/\">Export Dashboard</a></p>\\r\\n\\t\\t\\t\\t\\t\\t<p><a href=\"/china-soybean/\">China Dashboard</a></p>\\r\\n\\t\\t\\t\\t\\t\\t<p><a href=\"/soybean-crush/\">Soybean Crush Dashboard</a></p>\\r\\n\\t\\t\\t\\t\\t\\t<p><a href=\"/planting-harvest-calendar/\">Crop Calendar</a></p>\\r\\n\\t\\t\\t\\t\\t</div>\\r\\n\\t\\t\\t\\t</div>\\r\\n\\r\\n\\r\\n\\t\\t\\t\\t<div class=\"skin-header-search\"><a href=\"/search/\" title=\"Search\"><span>Search</span> <span class=\"icon-search\"></span></a></div>\\r\\n\\r\\n\\r\\n\\t\\t</div>\\r\\n\\t\\t<div class=\"skin-header-usr\">\\r\\n\\r\\n\\t\\t\\t<div class=\"web-widget-popup-wrap\" data-innerHtml-url=\"/templates/Client/widget.php\">\\r\\n\\t\\t\\t\\t<a href=\"/client/\" class=\"ProfileCircle\"><span class=\"icon-register\"></span></a>\\r\\n\\t\\t\\t</div>\\r\\n\\t\\t</div>\\r\\n\\t</div>\\r\\n</div>\\r\\n</header>\\r\\n\\r\\n<main class=\"skin-main\">\\r\\n\\t\\t<article data-url=\"/Article/Conab-nudges-Brazil-soybean-output-estimate-upwards-9729.html\" data-title=\"Conab nudges Brazil soybean output estimate upwards\">\\r\\n\\r\\n\\t\\t<div class=\"wrap-max\">\\r\\n\\t\\t\\t<div class=\"news-block\">\\r\\n\\r\\n\\t\\t\\t\\t<div>\\r\\n\\t\\t\\t\\t\\t<div class=\"section-title\">&nbsp;</div>\\r\\n\\t\\t\\t\\t\\t<div class=\"shadow-box news-view\">\\r\\n\\t\\t\\t\\t\\t\\t<div class=\"news-list-tags\"><a href=\"/search/?market=CORN\">Corn</a> <a href=\"/search/?market=SOYA\">Soybean</a> <a href=\"/search/?category=Market\">Market</a> </div>\\r\\n\\r\\n\\t\\t\\t\\t\\t\\t<h1 class=\"news-list-title\">Conab nudges Brazil soybean output estimate upwards</h1>\\r\\n\\r\\n\\t\\t\\t\\t\\t\\t<div class=\"news-list-date-author\">1 hour ago | <a href=\"/articles-by/Andy-Allan/\"><span>Andy Allan</span></a></div>\\r\\n\\r\\n\\t\\t\\t\\t\\t\\t<div class=\"news-view-body\"><p>Brazil\\xe2\\x80\\x99s food statistics agency has revised upwards its estimate of next year\\xe2\\x80\\x99s soybean crop...<div style=\"text-align:center;\">\\r\\nAlready subscribing? <a href=\"/client/\">Please log in</a>.\\r\\n</div>\\r\\n<br>\\r\\n<section class=\"register-section wrap-max\">\\r\\n\\t<div class=\"section-body hover-noshadow\"><div>\\r\\n\\t\\t<div class=\"register-title\">To read this article and see the full service, register now for a 14 day trial</div>\\r\\n\\r\\n\\t\\t\\t\\t<script>function spamChecked(d){document.getElementById(\\'spamChecked\\').checked = true;}</script>\\r\\n\\t\\t<form method=\"post\" id=\"RegisterForm\" action=\"/register/\" class=\"Client\" style=\"max-width: 750px; margin: 0 auto;\">\\r\\n\\t\\t\\t<div style=\"display: flex; flex-wrap: wrap;\">\\r\\n\\r\\n\\t\\t\\t\\t<input name=\"first_name\" type=\"text\" required placeholder=\"First Name\" value=\"\" style=\"flex: 1 0 100px; margin-right:8px;\">\\r\\n\\r\\n\\t\\t\\t\\t<input name=\"last_name\" type=\"text\" required placeholder=\"Last Name\" value=\"\" style=\"flex: 1 0 100px; margin-right:8px;\">\\r\\n\\r\\n\\r\\n\\t\\t\\t\\t<input name=\"email\" type=\"email\" required placeholder=\"Work Email\" value=\"\" style=\"margin-right:8px;\">\\r\\n\\r\\n\\t\\t\\t\\t<div style=\"display: flex; flex: 1 1 340px;\">\\r\\n\\t\\t\\t\\t\\t<div class=\"inputLike register-field-phone-code\" style=\"width: 70px; margin-right: 8px;\">\\r\\n\\t\\t\\t\\t\\t\\t<select id=\"country_code\" name=\"country_code\" required value=\"\"></select>\\r\\n\\t\\t\\t\\t\\t\\t<input type=\"hidden\" readonly id=\"phone_code\" name=\"phone_code\" value=\"\" >\\r\\n\\t\\t\\t\\t\\t\\t<div id=\"registerSelectValue\">+000</div>\\r\\n\\t\\t\\t\\t\\t</div>\\r\\n\\r\\n\\t\\t\\t\\t\\t<input name=\"phone_number\" type=\"tel\" required placeholder=\"Phone Number\" value=\"\" style=\"flex: 1 0 100px; margin-right:8px;\">\\r\\n\\t\\t\\t\\t</div>\\r\\n\\r\\n\\t\\t\\t\\t<input name=\"company_name\" type=\"text\" required placeholder=\"Company\" value=\"\" style=\"flex: 1 0 332px; margin-right:8px;\">\\r\\n\\r\\n\\t\\t\\t\\t<div style=\"display: flex; flex: 1 1 340px; flex-wrap: wrap;\">\\r\\n\\t\\t\\t\\t\\t<input name=\"password\" type=\"password\" required placeholder=\"Password\" value=\"\" style=\"flex: 1 0 160px; margin-right:8px;\">\\r\\n\\r\\n\\t\\t\\t\\t\\t<input name=\"confirm_password\" type=\"password\" required placeholder=\"Confirm password\" value=\"\" style=\"flex: 1 0 160px; margin-right:8px;\">\\r\\n\\t\\t\\t\\t</div>\\r\\n\\r\\n\\t\\t\\t\\t<div style=\"margin-bottom: 10px;\"><label style=\"line-height: 1.5em;\"><input type=\"checkbox\" required=\"required\"> I agree to the AgriCensus <a href=\"/terms-of-use/\" target=\"_blank\">Terms of Service</a>, and <a href=\"/privacy-policy/\" target=\"_blank\">Privacy Policy</a></label></div>\\r\\n\\r\\n\\t\\t\\t</div>\\r\\n\\t\\t\\t<br>\\r\\n\\t\\t\\t<div style=\"max-width: 300px; margin: 0 auto;\">\\r\\n\\t\\t\\t\\t<div style=\"height:1px;\"><input id=\"spamChecked\" type=\"checkbox\" required=\"required\"></div>\\r\\n\\t\\t\\t\\t<div class=\"g-recaptcha\" data-sitekey=\"6LetRYgUAAAAACNdrQ6XrpXIsH6dFH9k_DgRk9oY\" data-callback=\"spamChecked\"></div>\\r\\n\\t\\t\\t\\t<button name=\"doRegister\">Register for Free Trial</button>\\r\\n\\t\\t\\t</div>\\r\\n\\t\\t</form>\\r\\n<p style=\"text-align: center;\">For the next 14 days you will have access to</p>\\r\\n<div style=\"margin: 0 auto; max-width: 600px;\">\\r\\n<p><strong>Live news:</strong>&nbsp;Full coverage of the wheat, corn, soy and barley markets<br /><strong>Price assessments:</strong>&nbsp;Daily spot and forward prices<br /><strong>Tender dashboard:</strong>&nbsp;See who has won each tender, and at what price<br /><strong>Export trade dashboard:</strong>&nbsp;Track all the latest data<br /><strong>Crop forecast table:</strong> All the key analysts and organisations<br /><strong>News archive:</strong>&nbsp;Fully searchable, full history</p>\\r\\n<p>Plus, you will receive the <strong>AgriCensus Daily Report, </strong>and be able to receive price indications and market comment via<strong> WhatsApp </strong>or <strong>WeChat</strong></p>\\r\\n</div>\\t</div></div>\\r\\n</section>\\r\\n<script async src=\"/templates/Register/Register.js\"></script>\\r\\n<script src=\"https://www.google.com/recaptcha/api.js\" async defer></script>\\r\\n\\r\\n<p>&nbsp;</p></div>\\r\\n\\r\\n\\t\\t\\t\\t\\t\\t\\r\\n\\r\\n\\t\\t\\t\\t\\t\\t\\r\\n\\t\\t\\t\\t\\t</div>\\r\\n\\t\\t\\t\\t</div>\\r\\n\\r\\n\\t\\t\\t\\t<div class=\"headlines\">\\r\\n\\t\\t\\t\\t\\t\\r\\n\\t<div class=\"section-title\">Related articles</div>\\r\\n\\t<div class=\"shadow-box headlines-body\">\\r\\n\\t\\t<div><div class=\"headlines-date\">13 Nov 2019</div><a href=\"/Article/Brazil-s-soybean-crop-to-hit-new-high-despite-planting-problems-Conab-9360.html\">Brazil\\xe2\\x80\\x99s soybean crop to hit new high despite planting problems: Conab </a></div>\\r\\n\\t</div>\\r\\n\\r\\n\\t\\t\\t\\t</div>\\r\\n\\t\\t\\t</div>\\r\\n\\t\\t</div>\\r\\n\\r\\n<script type=\"application/ld+json\">\\r\\n{\\r\\n\"@context\":\"http://schema.org\",\\r\\n\"@type\":\"NewsArticle\",\\r\\n\"mainEntityOfPage\":{\"@type\":\"WebPage\",\"@id\":\"https://www.agricensus.com/Article/Conab-nudges-Brazil-soybean-output-estimate-upwards-9729.html\"},\\r\\n\"headline\":\"Conab nudges Brazil soybean output estimate upwards\",\\r\\n\"image\":\"https://www.agricensus.com/files/img/33fdd6d0e3b087b7c601b95875ad97e8_280x210c_soy-407931_640.jpg\",\\r\\n\"datePublished\":\"2019-12-10T13:32:00+00:00\",\\r\\n\"dateModified\":\"2019-12-10T13:34:15+00:00\",\\r\\n\"author\":{\"@type\":\"Person\",\"name\":\"Andy Allan\"},\\r\\n\"publisher\":{\"name\":\"AgriCensus\",\"@type\":\"Organization\",\"logo\":{\"@type\":\"ImageObject\",\"url\":\"https://www.agricensus.com/i/AgriCensus228x60.png\"}},\\r\\n\"description\":\"Brazil\\xe2\\x80\\x99s food statistics agency has revised upwards its estimate of next year\\xe2\\x80\\x99s soybean crop...\",\\r\\n\"isAccessibleForFree\": \"False\",\\r\\n\"hasPart\":{\"@type\":\"WebPageElement\",\"isAccessibleForFree\":\"False\",\"cssSelector\":\".news-view-body\"}\\r\\n}\\r\\n</script>\\r\\n\\t</article>\\r\\n\\r\\n</main>\\r\\n\\r\\n\\r\\n<footer class=\"skin-footer\">\\r\\n\\t<div class=\"skin-footer-wrap\">\\r\\n\\t\\t<div class=\"skin-footer-nav\">\\r\\n\\t\\t\\t<p><a href=\"/register/\">Register</a></p>\\r\\n\\t\\t\\t<p><a href=\"/subscribe/\">Subscribe</a></p>\\r\\n\\t\\t\\t<p><a href=\"/about-us/\">About Us</a></p>\\r\\n\\t\\t\\t<p><a href=\"/contact-us/\">Contact Us</a></p>\\r\\n\\t\\t\\t<p><a href=\"/prices-methodology/\">Pricing Methodology</a></p>\\r\\n\\r\\n\\t\\t</div>\\r\\n\\r\\n\\t\\t<div class=\"skin-footer-txt\">\\r\\n\\t\\t\\t<p><strong>AgriCensus is a Price Reporting Agency (PRA)</strong> specialising in providing market moving news and benchmark prices for the bulk agriculture markets.</p>\\r\\n\\t\\t\\t<p>We are always looking for great people to join us. <a href=\"/job-vacancies/\">View current vacancies.</a></p>\\r\\n\\t\\t</div>\\r\\n\\r\\n\\t\\t<div class=\"skin-footer-map\">\\r\\n\\t\\t\\t<p>AgriCensus</p>\\r\\n\\t\\t\\t<p><a class=\"icon-location\" href=\"https://www.google.com/maps/search/?api=1&amp;query=20%20St%20Thomas%20Street,%20London%20SE1%209RS\" target=\"_blank\" rel=\"noopener\">20 St Thomas Street, London SE1 9RS</a></p>\\r\\n\\t\\t\\t<p><a class=\"icon-mobile\" href=\"tel:+447880095774\">+44 (0) 7880 095774</a></p>\\r\\n\\t\\t\\t<p><a class=\"icon-mail\" href=\"mailto:info@agricensus.com\">info@agricensus.com</a></p>\\r\\n\\t\\t\\t<p>Follow us\\r\\n\\t\\t\\t<a class=\"icon-twitter\" href=\"https://twitter.com/AgriCensus\" target=\"_blank\" rel=\"noopener\" title=\"Follow us on Twitter\"></a>\\r\\n\\t\\t\\t<a class=\"icon-linkedin-squared\" href=\"https://www.linkedin.com/company/censuscommodities\" target=\"_blank\" rel=\"noopener\" title=\"Follow us on LinkedIn\"></a>\\r\\n\\t\\t\\t</p>\\r\\n\\t\\t</div>\\r\\n\\t</div>\\r\\n\\r\\n\\t<div class=\"skin-footer-copyright\">\\r\\n\\t\\t<a href=\"/copyright/\">\\xc2\\xa9 2019 Census Commodity Data Ltd, all rights reserved</a> |\\r\\n\\t\\t<a href=\"/terms-of-use/\">Terms of Service</a> |\\r\\n\\t\\t<a href=\"/privacy-policy/\">Privacy &amp; Cookie Policy</a>\\r\\n\\t</div>\\r\\n</footer>\\r\\n</div>\\r\\n\\r\\n\\r\\n\\r\\n</body>\\r\\n</html>'\n"
     ]
    }
   ],
   "source": [
    "import pdb\n",
    "\n",
    "# Scraping the first 5 articles\n",
    "number_of_articles = 5\n",
    "# Empty lists for content, links and titles\n",
    "news_contents = []\n",
    "list_links = []\n",
    "list_titles = []\n",
    "news_keywords = []\n",
    "news_published_time = []\n",
    "source_orgs = []\n",
    "\n",
    "for link in test:\n",
    "    # Reading the content (it is divided in paragraphs)\n",
    "    \n",
    "    link= \"https://www.agricensus.com\"+link\n",
    "    article = requests.get(link)\n",
    "    article_content = article.content\n",
    "    print(link)\n",
    "    print(article_content)"
   ]
  },
  {
   "cell_type": "code",
   "execution_count": 12,
   "metadata": {
    "ExecuteTime": {
     "end_time": "2019-12-10T15:32:18.693113Z",
     "start_time": "2019-12-10T15:32:17.530034Z"
    }
   },
   "outputs": [
    {
     "name": "stdout",
     "output_type": "stream",
     "text": [
      "https://www.agricensus.com/Article/Conab-nudges-Brazil-soybean-output-estimate-upwards-9729.html\n"
     ]
    },
    {
     "ename": "TypeError",
     "evalue": "'NoneType' object is not subscriptable",
     "output_type": "error",
     "traceback": [
      "\u001b[1;31m---------------------------------------------------------------------------\u001b[0m",
      "\u001b[1;31mTypeError\u001b[0m                                 Traceback (most recent call last)",
      "\u001b[1;32m<ipython-input-12-a369cd903668>\u001b[0m in \u001b[0;36m<module>\u001b[1;34m\u001b[0m\n\u001b[0;32m     23\u001b[0m    \u001b[0marticle_content\u001b[0m \u001b[1;33m=\u001b[0m \u001b[0marticle\u001b[0m\u001b[1;33m.\u001b[0m\u001b[0mcontent\u001b[0m\u001b[1;33m\u001b[0m\u001b[1;33m\u001b[0m\u001b[0m\n\u001b[0;32m     24\u001b[0m    \u001b[0msoup_article\u001b[0m \u001b[1;33m=\u001b[0m \u001b[0mBeautifulSoup\u001b[0m\u001b[1;33m(\u001b[0m\u001b[0marticle_content\u001b[0m\u001b[1;33m,\u001b[0m \u001b[1;34m'html5lib'\u001b[0m\u001b[1;33m)\u001b[0m\u001b[1;33m\u001b[0m\u001b[1;33m\u001b[0m\u001b[0m\n\u001b[1;32m---> 25\u001b[1;33m    \u001b[0marticle_keys\u001b[0m \u001b[1;33m=\u001b[0m \u001b[0msoup_article\u001b[0m\u001b[1;33m.\u001b[0m\u001b[0mfind\u001b[0m\u001b[1;33m(\u001b[0m\u001b[1;34m\"meta\"\u001b[0m\u001b[1;33m,\u001b[0m \u001b[1;33m{\u001b[0m\u001b[1;34m\"itemprop\"\u001b[0m\u001b[1;33m:\u001b[0m\u001b[1;34m\"specialty\"\u001b[0m\u001b[1;33m}\u001b[0m\u001b[1;33m)\u001b[0m\u001b[1;33m[\u001b[0m\u001b[1;34m'content'\u001b[0m\u001b[1;33m]\u001b[0m\u001b[1;33m\u001b[0m\u001b[1;33m\u001b[0m\u001b[0m\n\u001b[0m\u001b[0;32m     26\u001b[0m    \u001b[0msource_org\u001b[0m \u001b[1;33m=\u001b[0m \u001b[0msoup_article\u001b[0m\u001b[1;33m.\u001b[0m\u001b[0mfind\u001b[0m\u001b[1;33m(\u001b[0m\u001b[1;34m\"meta\"\u001b[0m\u001b[1;33m,\u001b[0m \u001b[1;33m{\u001b[0m\u001b[1;34m\"itemprop\"\u001b[0m\u001b[1;33m:\u001b[0m\u001b[1;34m\"sourceOrganization\"\u001b[0m\u001b[1;33m}\u001b[0m\u001b[1;33m)\u001b[0m\u001b[1;33m[\u001b[0m\u001b[1;34m'content'\u001b[0m\u001b[1;33m]\u001b[0m\u001b[1;33m\u001b[0m\u001b[1;33m\u001b[0m\u001b[0m\n\u001b[0;32m     27\u001b[0m    \u001b[0marticle_published_time\u001b[0m \u001b[1;33m=\u001b[0m \u001b[0msoup_article\u001b[0m\u001b[1;33m.\u001b[0m\u001b[0mfind\u001b[0m\u001b[1;33m(\u001b[0m\u001b[1;34m\"meta\"\u001b[0m\u001b[1;33m,\u001b[0m \u001b[1;33m{\u001b[0m\u001b[1;34m\"itemprop\"\u001b[0m\u001b[1;33m:\u001b[0m\u001b[1;34m\"dateCreated\"\u001b[0m\u001b[1;33m}\u001b[0m\u001b[1;33m)\u001b[0m\u001b[1;33m[\u001b[0m\u001b[1;34m'content'\u001b[0m\u001b[1;33m]\u001b[0m\u001b[1;33m\u001b[0m\u001b[1;33m\u001b[0m\u001b[0m\n",
      "\u001b[1;31mTypeError\u001b[0m: 'NoneType' object is not subscriptable"
     ]
    }
   ],
   "source": [
    "# Scraping the first 5 articles\n",
    "number_of_articles = 5\n",
    "# Empty lists for content, links and titles\n",
    "news_contents = []\n",
    "list_links = []\n",
    "list_titles = []\n",
    "news_keywords = []\n",
    "news_published_time = []\n",
    "source_orgs = []\n",
    "\n",
    "# Getting the link of the article\n",
    "for n, link in enumerate(coverpage_news):\n",
    "    # Reading the content (it is divided in paragraphs)\n",
    "    link= website+link\n",
    "    print(link)\n",
    "    article = requests.get(link)\n",
    "    article_content = article.content\n",
    "    # Getting the title\n",
    "    title = article_content.find('h1').get_text() #.find('a')\n",
    "    list_titles.append(title)\n",
    "    list_links.append(link)\n",
    "    # Reading the content (it is divided in paragraphs)\n",
    "    soup_article = BeautifulSoup(article_content, 'html5lib')\n",
    "    article_keys = soup_article.find(\"span\"})['content']\n",
    "    article_published_time = soup_article.find(\"span\")['content']\n",
    "    news_keywords.append(article_keys)\n",
    "    news_published_time.append(article_published_time)\n",
    "    body = soup_article.find_all('div', class_='group')\n",
    "    #pdb.set_trace()\n",
    "    print(link)\n",
    "    final_article = \"\"\n",
    "\n",
    "    if len(body) == 0:\n",
    "        body = soup_article.find(\"div\", {\"id\": \"video-meta-data\"})#.find('p', id_='video-meta-data')\n",
    "        body = [body]\n",
    "        #continue\n",
    "        pdb.set_trace()\n",
    " #final_article = \"\"\n",
    "#        news_contents.append(final_article)\n",
    "    #print(n, \"article\")\n",
    "    #print(article_keys)\n",
    "    #print(news_published_time)\n",
    "    x = body[0].find_all('p')\n",
    "    # Unifying the paragraphs\n",
    "    list_paragraphs = []\n",
    "    for p in np.arange(0, len(x)):\n",
    "        #print(p)\n",
    "        paragraph = x[p].get_text()\n",
    "        list_paragraphs.append(paragraph)\n",
    "        final_article = \" \".join(list_paragraphs)\n",
    "        \n",
    "    news_contents.append(final_article)"
   ]
  },
  {
   "cell_type": "code",
   "execution_count": null,
   "metadata": {
    "ExecuteTime": {
     "end_time": "2019-12-10T14:41:21.179446Z",
     "start_time": "2019-12-10T14:39:48.304Z"
    }
   },
   "outputs": [],
   "source": [
    "# df_features\n",
    "df_features = pd.DataFrame(\n",
    "     {'Article Content': news_contents,\n",
    "      'Article Title': list_titles,\n",
    "      'Article Link': list_links,\n",
    "      'news_keywords': news_keywords,\n",
    "      'news_published_time': news_published_time,\n",
    "      'source_site': source_orgs\n",
    "    })\n",
    "\n",
    "df_features.head()"
   ]
  },
  {
   "cell_type": "code",
   "execution_count": null,
   "metadata": {
    "ExecuteTime": {
     "end_time": "2019-12-10T14:41:21.181439Z",
     "start_time": "2019-12-10T14:39:48.307Z"
    }
   },
   "outputs": [],
   "source": [
    "df_features.tail(10)"
   ]
  }
 ],
 "metadata": {
  "hide_input": false,
  "kernelspec": {
   "display_name": "Python 3",
   "language": "python",
   "name": "python3"
  },
  "language_info": {
   "codemirror_mode": {
    "name": "ipython",
    "version": 3
   },
   "file_extension": ".py",
   "mimetype": "text/x-python",
   "name": "python",
   "nbconvert_exporter": "python",
   "pygments_lexer": "ipython3",
   "version": "3.7.3"
  },
  "latex_envs": {
   "LaTeX_envs_menu_present": true,
   "autoclose": false,
   "autocomplete": true,
   "bibliofile": "biblio.bib",
   "cite_by": "apalike",
   "current_citInitial": 1,
   "eqLabelWithNumbers": true,
   "eqNumInitial": 1,
   "hotkeys": {
    "equation": "Ctrl-E",
    "itemize": "Ctrl-I"
   },
   "labels_anchors": false,
   "latex_user_defs": false,
   "report_style_numbering": false,
   "user_envs_cfg": false
  },
  "varInspector": {
   "cols": {
    "lenName": 16,
    "lenType": 16,
    "lenVar": 40
   },
   "kernels_config": {
    "python": {
     "delete_cmd_postfix": "",
     "delete_cmd_prefix": "del ",
     "library": "var_list.py",
     "varRefreshCmd": "print(var_dic_list())"
    },
    "r": {
     "delete_cmd_postfix": ") ",
     "delete_cmd_prefix": "rm(",
     "library": "var_list.r",
     "varRefreshCmd": "cat(var_dic_list()) "
    }
   },
   "types_to_exclude": [
    "module",
    "function",
    "builtin_function_or_method",
    "instance",
    "_Feature"
   ],
   "window_display": false
  }
 },
 "nbformat": 4,
 "nbformat_minor": 2
}
