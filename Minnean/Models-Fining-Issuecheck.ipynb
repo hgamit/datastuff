{
 "cells": [
  {
   "cell_type": "code",
   "execution_count": 1,
   "metadata": {
    "ExecuteTime": {
     "end_time": "2019-11-07T06:21:19.483283Z",
     "start_time": "2019-11-07T06:21:16.841280Z"
    }
   },
   "outputs": [
    {
     "name": "stdout",
     "output_type": "stream",
     "text": [
      "(490, 7)\n"
     ]
    },
    {
     "data": {
      "text/plain": [
       "<matplotlib.lines.Line2D at 0x29e184e96a0>"
      ]
     },
     "execution_count": 1,
     "metadata": {},
     "output_type": "execute_result"
    }
   ],
   "source": [
    "# Recurrent Neural Network\n",
    "\n",
    "#https://www.youtube.com/watch?v=zwqwlR48ztQ\n",
    "\n",
    "# Recurrent Neural Network\n",
    "\n",
    "# Part 1 - Data Preprocessing\n",
    "\n",
    "# Importing the libraries\n",
    "import numpy as np\n",
    "import matplotlib.pyplot as plt\n",
    "import pandas as pd\n",
    "\n",
    "# Importing the training set\n",
    "dataset_train = pd.read_csv('./marketdata/zsh20.csv')\n",
    "#dataset_train = dataset_train[dataset_train[\"Volume\"] != 0]\n",
    "\n",
    "dataset_train.Time = pd.to_datetime(dataset_train.Time.str.replace('D', 'T'))\n",
    "dataset_train = dataset_train.sort_values('Time')\n",
    "dataset_train.set_index('Time', inplace=True)\n",
    "print(dataset_train.shape)\n",
    "ax = dataset_train[\"Last\"].plot(figsize=(14, 7))\n",
    "ax.axvline(\"26-04-2019\", linestyle=\"--\", c=\"black\")\n",
    "ax.axvline(\"08-09-2019\", linestyle=\"--\", c=\"black\")"
   ]
  },
  {
   "cell_type": "code",
   "execution_count": 2,
   "metadata": {
    "ExecuteTime": {
     "end_time": "2019-11-07T06:21:19.498911Z",
     "start_time": "2019-11-07T06:21:19.483283Z"
    }
   },
   "outputs": [
    {
     "data": {
      "text/plain": [
       "(362, 7)"
      ]
     },
     "execution_count": 2,
     "metadata": {},
     "output_type": "execute_result"
    }
   ],
   "source": [
    "df_train = dataset_train[dataset_train.index < \"26-04-2019\"]\n",
    "df_train.shape"
   ]
  },
  {
   "cell_type": "code",
   "execution_count": 3,
   "metadata": {
    "ExecuteTime": {
     "end_time": "2019-11-07T06:21:19.511861Z",
     "start_time": "2019-11-07T06:21:19.498911Z"
    }
   },
   "outputs": [
    {
     "data": {
      "text/plain": [
       "(73, 7)"
      ]
     },
     "execution_count": 3,
     "metadata": {},
     "output_type": "execute_result"
    }
   ],
   "source": [
    "df_val = dataset_train[(dataset_train.index >= \"26-04-2019\") & (dataset_train.index < \"08-09-2019\")]\n",
    "df_val.shape"
   ]
  },
  {
   "cell_type": "code",
   "execution_count": 4,
   "metadata": {
    "ExecuteTime": {
     "end_time": "2019-11-07T06:21:21.406771Z",
     "start_time": "2019-11-07T06:21:19.511861Z"
    }
   },
   "outputs": [],
   "source": [
    "training_set = dataset_train.iloc[:, 1:7].values\n",
    "\n",
    "# Feature Scaling\n",
    "from sklearn.preprocessing import MinMaxScaler\n",
    "sc = MinMaxScaler(feature_range = (-1, 1))\n",
    "training_set_scaled = sc.fit_transform(training_set)"
   ]
  },
  {
   "cell_type": "code",
   "execution_count": 5,
   "metadata": {
    "ExecuteTime": {
     "end_time": "2019-11-07T06:21:21.436774Z",
     "start_time": "2019-11-07T06:21:21.406771Z"
    }
   },
   "outputs": [],
   "source": [
    "# Creating a data structure with 15 timesteps and 1 output - we use last 15 prices to predict next. \n",
    "#This takes data from 15th row onwards\n",
    "X_whole = []\n",
    "y_whole = []\n",
    "\n",
    "X_whole_vchange = []\n",
    "y_whole_vchange = []\n",
    "\n",
    "\n",
    "X_whole_wvap = []\n",
    "y_whole_wvap = []\n",
    "\n",
    "sequence_size = 1\n",
    "for i in range(sequence_size, len(training_set_scaled)):\n",
    "    X_whole = np.append(X_whole, training_set_scaled[i-sequence_size:i, 2])\n",
    "    #X_whole = np.append(X_whole, training_set_scaled[i, 6])\n",
    "    #X_whole = np.append(X_whole, training_set_scaled[i, 7])\n",
    "    y_whole.append(training_set_scaled[i, 2])\n",
    "\n",
    "sz = training_set_scaled.shape[0]-sequence_size\n",
    "X_whole, y_whole = np.array(X_whole.reshape(sz,sequence_size)), np.array(y_whole)"
   ]
  },
  {
   "cell_type": "code",
   "execution_count": 6,
   "metadata": {
    "ExecuteTime": {
     "end_time": "2019-11-07T06:21:21.450340Z",
     "start_time": "2019-11-07T06:21:21.436774Z"
    }
   },
   "outputs": [],
   "source": [
    "#Train -valid and Test split in time order\n",
    "X_train = X_whole[0:362,:].copy()\n",
    "X_valid = X_whole[362:420,:].copy()\n",
    "X_test = X_whole[420:,:].copy()\n",
    "\n",
    "y_train = y_whole[0:362].copy()\n",
    "y_valid = y_whole[362:420].copy()\n",
    "y_test = y_whole[420:].copy()"
   ]
  },
  {
   "cell_type": "code",
   "execution_count": 7,
   "metadata": {
    "ExecuteTime": {
     "end_time": "2019-11-07T06:22:22.299761Z",
     "start_time": "2019-11-07T06:21:21.450340Z"
    }
   },
   "outputs": [
    {
     "name": "stderr",
     "output_type": "stream",
     "text": [
      "Using TensorFlow backend.\n"
     ]
    },
    {
     "name": "stdout",
     "output_type": "stream",
     "text": [
      "Wall time: 1min\n"
     ]
    }
   ],
   "source": [
    "%%time\n",
    "# Part 2 - Building the RNN\n",
    "\n",
    "# Reshaping\n",
    "X_train = np.reshape(X_train, (X_train.shape[0], X_train.shape[1], 1))\n",
    "X_valid = np.reshape(X_valid, (X_valid.shape[0], X_valid.shape[1], 1))\n",
    "#X_whole = np.reshape(X_whole, (X_whole.shape[0], X_whole.shape[1], 1))\n",
    "\n",
    "# Importing the Keras libraries and packages\n",
    "from keras.models import Sequential\n",
    "from keras.layers import Dense\n",
    "from keras.layers import LSTM\n",
    "from keras.layers import Dropout\n",
    "\n",
    "# Initialising the RNN\n",
    "regressor = Sequential()\n",
    "\n",
    "# Adding the first LSTM layer and some Dropout regularisation\n",
    "regressor.add(LSTM(units = 50, return_sequences = True, input_shape = (X_train.shape[1], 1)))\n",
    "regressor.add(Dropout(0.2))\n",
    "\n",
    "# Adding a second LSTM layer and some Dropout regularisation\n",
    "regressor.add(LSTM(units = 50, return_sequences = True))\n",
    "regressor.add(Dropout(0.2))\n",
    "\n",
    "# Adding a third LSTM layer and some Dropout regularisation\n",
    "regressor.add(LSTM(units = 50, return_sequences = True))\n",
    "regressor.add(Dropout(0.2))\n",
    "\n",
    "#regressor.add(LSTM(units = 50, return_sequences = True))\n",
    "#regressor.add(Dropout(0.2))\n",
    "\n",
    "# Adding a fourth LSTM layer and some Dropout regularisation\n",
    "regressor.add(LSTM(units = 50))\n",
    "regressor.add(Dropout(0.2))\n",
    "\n",
    "# Adding the output layer\n",
    "regressor.add(Dense(units = 1))\n",
    "\n",
    "from keras import optimizers\n",
    "sgd = optimizers.SGD(lr=0.01, decay=1e-6, momentum=0.9, nesterov=True)\n",
    "adm = optimizers.Adam(learning_rate=0.001, beta_1=0.9, beta_2=0.999, amsgrad=False)\n",
    "# Compiling the RNN\n",
    "regressor.compile(optimizer = adm, loss = 'mean_squared_error' , metrics=[\"mean_squared_error\"])\n",
    "\n",
    "# Fitting the RNN to the Training set #, validation_data=(X_valid, y_valid)\n",
    "hist = regressor.fit(X_train, y_train, validation_data=(X_valid, y_valid), epochs = 400, batch_size = 8, verbose=0)"
   ]
  },
  {
   "cell_type": "code",
   "execution_count": 8,
   "metadata": {
    "ExecuteTime": {
     "end_time": "2019-11-07T06:22:22.688874Z",
     "start_time": "2019-11-07T06:22:22.299761Z"
    }
   },
   "outputs": [
    {
     "name": "stdout",
     "output_type": "stream",
     "text": [
      "dict_keys(['val_loss', 'val_mean_squared_error', 'loss', 'mean_squared_error'])\n"
     ]
    },
    {
     "data": {
      "image/png": "[encoded data removed]",
      "text/plain": [
       "<Figure size 1008x864 with 2 Axes>"
      ]
     },
     "metadata": {
      "needs_background": "light"
     },
     "output_type": "display_data"
    }
   ],
   "source": [
    "#regressor.save_weights(\"zns20_400epoch_Rsqr98.h5\")\n",
    "#print(\"Saved model to disk\")\n",
    "# load weights into new model\n",
    "#loaded_model.load_weights(\"model.h5\")\n",
    "#print(\"Loaded model from disk\")\n",
    "\n",
    "plt.figure(figsize=(14,12))\n",
    "plt.suptitle('Training Evaluation', fontsize=24)\n",
    "\n",
    "plt.subplot(2,2,1)\n",
    "#Plotting Training history\n",
    "print(hist.history.keys())\n",
    "\n",
    "# Visualising the results\n",
    "plt.plot(hist.history['loss'], color = 'blue',  label = 'train_loss')\n",
    "plt.plot(hist.history['val_loss'], color = 'red',  label = 'val_loss')\n",
    "plt.title('Losses')\n",
    "plt.xlabel('epoch')\n",
    "plt.ylabel('loss')\n",
    "plt.legend()\n",
    "#plt.show()\n",
    "plt.subplot(2,2,2)\n",
    "# Visualising the results\n",
    "plt.plot(hist.history['mean_squared_error'], color = 'blue',  label = 'train_mean_squared_error')\n",
    "plt.plot(hist.history['val_mean_squared_error'], color = 'red',  label = 'val_mean_squared_error')\n",
    "plt.title('mean_squared_error')\n",
    "plt.xlabel('epoch')\n",
    "plt.ylabel('mean_squared_error')\n",
    "plt.legend()\n",
    "plt.show()"
   ]
  },
  {
   "cell_type": "code",
   "execution_count": 9,
   "metadata": {
    "ExecuteTime": {
     "end_time": "2019-11-07T06:22:22.696856Z",
     "start_time": "2019-11-07T06:22:22.688874Z"
    }
   },
   "outputs": [
    {
     "data": {
      "text/plain": [
       "69"
      ]
     },
     "execution_count": 9,
     "metadata": {},
     "output_type": "execute_result"
    }
   ],
   "source": [
    "#create empty table with 6 fields to inverse\n",
    "test_data = np.zeros(shape=(len(y_test), 6) )\n",
    "test_data[:,2] = y_test\n",
    "real_stock_price = sc.inverse_transform(test_data)[:,2]\n",
    "real_stock_price.shape[0]"
   ]
  },
  {
   "cell_type": "code",
   "execution_count": 10,
   "metadata": {
    "ExecuteTime": {
     "end_time": "2019-11-07T06:22:23.480320Z",
     "start_time": "2019-11-07T06:22:22.696856Z"
    }
   },
   "outputs": [
    {
     "ename": "IndexError",
     "evalue": "index 1 is out of bounds for axis 1 with size 1",
     "output_type": "error",
     "traceback": [
      "\u001b[1;31m---------------------------------------------------------------------------\u001b[0m",
      "\u001b[1;31mIndexError\u001b[0m                                Traceback (most recent call last)",
      "\u001b[1;32m<ipython-input-10-129b10b4201d>\u001b[0m in \u001b[0;36m<module>\u001b[1;34m\u001b[0m\n\u001b[0;32m     48\u001b[0m \u001b[1;33m\u001b[0m\u001b[0m\n\u001b[0;32m     49\u001b[0m     \u001b[1;32mfor\u001b[0m \u001b[0mj\u001b[0m \u001b[1;32min\u001b[0m \u001b[0mrange\u001b[0m\u001b[1;33m(\u001b[0m\u001b[0msequence_size\u001b[0m\u001b[1;33m)\u001b[0m\u001b[1;33m:\u001b[0m\u001b[1;33m\u001b[0m\u001b[1;33m\u001b[0m\u001b[0m\n\u001b[1;32m---> 50\u001b[1;33m         \u001b[0mxw\u001b[0m\u001b[1;33m[\u001b[0m\u001b[1;33m:\u001b[0m\u001b[1;33m,\u001b[0m\u001b[0mj\u001b[0m\u001b[1;33m]\u001b[0m\u001b[1;33m=\u001b[0m\u001b[0mxw\u001b[0m\u001b[1;33m[\u001b[0m\u001b[1;33m:\u001b[0m\u001b[1;33m,\u001b[0m\u001b[0mj\u001b[0m\u001b[1;33m+\u001b[0m\u001b[1;36m1\u001b[0m\u001b[1;33m]\u001b[0m\u001b[1;33m\u001b[0m\u001b[1;33m\u001b[0m\u001b[0m\n\u001b[0m\u001b[0;32m     51\u001b[0m \u001b[1;33m\u001b[0m\u001b[0m\n\u001b[0;32m     52\u001b[0m     \u001b[0mxw\u001b[0m\u001b[1;33m[\u001b[0m\u001b[1;33m:\u001b[0m\u001b[1;33m,\u001b[0m\u001b[0msequence_size\u001b[0m\u001b[1;33m-\u001b[0m\u001b[1;36m1\u001b[0m\u001b[1;33m]\u001b[0m\u001b[1;33m=\u001b[0m\u001b[0my_pred1\u001b[0m\u001b[1;33m\u001b[0m\u001b[1;33m\u001b[0m\u001b[0m\n",
      "\u001b[1;31mIndexError\u001b[0m: index 1 is out of bounds for axis 1 with size 1"
     ]
    }
   ],
   "source": [
    "from keras.models import model_from_json\n",
    "def load_model(model_name):\n",
    "    # load json and create model\n",
    "    json_file = open(model_name+'.json', 'r')\n",
    "    loaded_model_json = json_file.read()\n",
    "    json_file.close()\n",
    "    loaded_model = model_from_json(loaded_model_json)\n",
    "    # load weights into new model\n",
    "    loaded_model.load_weights(model_name+\".h5\")\n",
    "    print(\"Loaded model from disk\")\n",
    "    return loaded_model\n",
    "\n",
    "\n",
    "\n",
    "soy_close = regressor\n",
    "#soy_vwap = load_model(\"zsh20_1000epoch_Rsqr99_vwap_oct25\")\n",
    "#soy_vchange = load_model(\"./models25oct/zsh20_1500epoch_Rsqr91_vchange\")\n",
    "\n",
    "#soy_close = load_model(\"zsk20_1000epoch_Rsqr99\")\n",
    "#soy_vwap = load_model(\"zsk20_1000epoch_Rsqr99_vwap\")\n",
    "#soy_vchange = load_model(\"zsk20_1500epoch_Rsqr91_vchange\")\n",
    "\n",
    "#soy_close = load_model(\"zsn20_1000epoch_Rsqr99\")\n",
    "#soy_vwap = load_model(\"zsn20_1000epoch_Rsqr99_vwap\")\n",
    "#soy_vchange = load_model(\"zsn20_1500epoch_Rsqr91_vchange\")\n",
    "\n",
    "#predicting on new data\n",
    "xw=X_whole[-1,:].copy()\n",
    "xw=xw.reshape(1,-1)\n",
    "xw=np.reshape(xw,(xw.shape[0], xw.shape[1], 1))\n",
    "\n",
    "y_pred_w = []\n",
    "\n",
    "num_of_pred = real_stock_price.shape[0]\n",
    "\n",
    "for i in range(0,num_of_pred):\n",
    "    \n",
    "    y_pred1=soy_close.predict(xw)\n",
    "    test_data = np.zeros(shape=(len(y_pred1), 6) )\n",
    "    test_data[:,2] = y_pred1\n",
    "    y_transformed  = sc.inverse_transform(test_data)[:,2]\n",
    "    y_pred_w = np.append(y_pred_w,y_transformed)\n",
    "    \n",
    "#    print(xw)\n",
    "#    print(xwvap)\n",
    "#    print(xvchange)\n",
    "#    print(y_pred1,y_pred2,y_pred3)\n",
    "    \n",
    "    for j in range(sequence_size):\n",
    "        xw[:,j]=xw[:,j+1]\n",
    "        \n",
    "    xw[:,sequence_size-1]=y_pred1\n",
    "\n",
    "#    print(xw)\n",
    "#    print(xwvap)\n",
    "#    print(xvchange)\n",
    "    \n",
    "print(y_pred_w)\n",
    "predicted_stock_price = y_pred_w\n",
    "predicted_stock_price.shape[0]"
   ]
  },
  {
   "cell_type": "code",
   "execution_count": null,
   "metadata": {
    "ExecuteTime": {
     "end_time": "2019-11-07T06:22:23.480320Z",
     "start_time": "2019-11-07T06:21:16.879Z"
    },
    "scrolled": false
   },
   "outputs": [],
   "source": [
    "# Part 3 - Making the predictions and visualising the results\n",
    "#real_stock_price = sc.inverse_transform(y_test.reshape(-1, 1))\n",
    "#X_test = np.reshape(X_test, (X_test.shape[0], X_test.shape[1], 1))\n",
    "#predicted_stock_price = regressor.predict(X_test)\n",
    "# create empty table with 6 fields to inverse\n",
    "#test_data = np.zeros(shape=(len(predicted_stock_price), 6) )\n",
    "#test_data[:,2] = predicted_stock_price.reshape(1,-1)\n",
    "#predicted_stock_price = sc.inverse_transform(test_data)[:,2]\n",
    "\n",
    "\n",
    "#predicted_stock_price = sc.inverse_transform(predicted_stock_price)\n",
    "\n",
    "from sklearn.metrics import mean_absolute_error\n",
    "from math import sqrt\n",
    "# report performance\n",
    "from sklearn.metrics import mean_squared_error\n",
    "print(\"sqrt mean_squared_error: \", sqrt(mean_squared_error(real_stock_price, predicted_stock_price)))\n",
    "print(\"mean_squared_error: \", mean_squared_error(real_stock_price, predicted_stock_price))\n",
    "mean_absolute_error = mean_absolute_error(real_stock_price, predicted_stock_price)\n",
    "print(\"mean_absolute_error: \", mean_absolute_error)\n",
    "\n",
    "fig = plt.figure(figsize=(12,8))\n",
    "# Visualising the results\n",
    "plt.plot(real_stock_price, color = 'red',  marker='o', label = 'Real Stock Price')\n",
    "plt.plot(predicted_stock_price, color = 'blue',  marker='o', label = 'Predicted Stock Price')\n",
    "plt.title('Stock Price Prediction')\n",
    "plt.xlabel('Time')\n",
    "plt.ylabel('Stock Price')\n",
    "plt.legend()\n",
    "plt.show()"
   ]
  },
  {
   "cell_type": "code",
   "execution_count": null,
   "metadata": {
    "ExecuteTime": {
     "end_time": "2019-11-07T06:22:23.484321Z",
     "start_time": "2019-11-07T06:21:16.883Z"
    }
   },
   "outputs": [],
   "source": [
    "#real_stock_price, predicted_stock_price\n",
    "SS_Residual = sum((real_stock_price-predicted_stock_price)**2)\n",
    "SS_Total = sum((real_stock_price-np.mean(real_stock_price))**2)\n",
    "r_squared = 1 - (float(SS_Residual))/SS_Total\n",
    "adjusted_r_squared = 1 - (1-r_squared)*(len(real_stock_price)-1)/(len(real_stock_price)-X_train.shape[1]-1)\n",
    "print (\"R Squared:\", r_squared, \"\\nAdjusted R Squared:\", adjusted_r_squared)"
   ]
  },
  {
   "cell_type": "code",
   "execution_count": null,
   "metadata": {
    "ExecuteTime": {
     "end_time": "2019-11-07T06:22:23.484321Z",
     "start_time": "2019-11-07T06:21:16.886Z"
    }
   },
   "outputs": [],
   "source": [
    "'''import plotly.express as px\n",
    "\n",
    "# Getting the real stock price \n",
    "# Importing the training set\n",
    "dataset_train = pd.read_csv('./marketdata/zsh20.csv')\n",
    "#dataset_train = dataset_train[dataset_train[\"Volume\"] != 0]\n",
    "training_set = dataset_train.iloc[:, 4:5].values\n",
    "real_stock_price = dataset_train.iloc[422:, 4:5].values\n",
    "\n",
    "prices = pd.DataFrame(real_stock_price, columns=[\"prices\"])\n",
    "prices[\"Time\"] = dataset_train[\"Time\"].iloc[422:].values\n",
    "prices['data'] = 'real_stock_price'\n",
    "\n",
    "prices1 = pd.DataFrame(predicted_stock_price, columns=[\"prices\"])\n",
    "prices1[\"Time\"] = dataset_train[\"Time\"].iloc[422:].values\n",
    "prices1['data'] = 'predicted_stock_price'\n",
    "prices1.fillna(\"10/26/2019\", inplace=True)\n",
    "\n",
    "prices = prices.append(prices1, ignore_index=True)\n",
    "\n",
    "fig = px.line(prices, x=\"Time\", y=\"prices\", line_dash=\"data\")\n",
    "fig.show()'''"
   ]
  }
 ],
 "metadata": {
  "hide_input": false,
  "kernelspec": {
   "display_name": "Python 3",
   "language": "python",
   "name": "python3"
  },
  "language_info": {
   "codemirror_mode": {
    "name": "ipython",
    "version": 3
   },
   "file_extension": ".py",
   "mimetype": "text/x-python",
   "name": "python",
   "nbconvert_exporter": "python",
   "pygments_lexer": "ipython3",
   "version": "3.7.3"
  },
  "latex_envs": {
   "LaTeX_envs_menu_present": true,
   "autoclose": false,
   "autocomplete": true,
   "bibliofile": "biblio.bib",
   "cite_by": "apalike",
   "current_citInitial": 1,
   "eqLabelWithNumbers": true,
   "eqNumInitial": 1,
   "hotkeys": {
    "equation": "Ctrl-E",
    "itemize": "Ctrl-I"
   },
   "labels_anchors": false,
   "latex_user_defs": false,
   "report_style_numbering": false,
   "user_envs_cfg": false
  },
  "varInspector": {
   "cols": {
    "lenName": 16,
    "lenType": 16,
    "lenVar": 40
   },
   "kernels_config": {
    "python": {
     "delete_cmd_postfix": "",
     "delete_cmd_prefix": "del ",
     "library": "var_list.py",
     "varRefreshCmd": "print(var_dic_list())"
    },
    "r": {
     "delete_cmd_postfix": ") ",
     "delete_cmd_prefix": "rm(",
     "library": "var_list.r",
     "varRefreshCmd": "cat(var_dic_list()) "
    }
   },
   "types_to_exclude": [
    "module",
    "function",
    "builtin_function_or_method",
    "instance",
    "_Feature"
   ],
   "window_display": false
  }
 },
 "nbformat": 4,
 "nbformat_minor": 2
}
