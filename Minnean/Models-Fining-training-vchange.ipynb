{
 "cells": [
  {
   "cell_type": "code",
   "execution_count": 1,
   "metadata": {
    "ExecuteTime": {
     "end_time": "2019-11-04T07:03:15.405204Z",
     "start_time": "2019-11-04T07:03:10.320709Z"
    }
   },
   "outputs": [
    {
     "name": "stdout",
     "output_type": "stream",
     "text": [
      "(747, 7)\n"
     ]
    },
    {
     "data": {
      "text/plain": [
       "<matplotlib.lines.Line2D at 0x174775608d0>"
      ]
     },
     "execution_count": 1,
     "metadata": {},
     "output_type": "execute_result"
    }
   ],
   "source": [
    "# Recurrent Neural Network\n",
    "\n",
    "#https://www.youtube.com/watch?v=zwqwlR48ztQ\n",
    "\n",
    "# Recurrent Neural Network\n",
    "\n",
    "# Part 1 - Data Preprocessing\n",
    "\n",
    "# Importing the libraries\n",
    "import numpy as np\n",
    "import matplotlib.pyplot as plt\n",
    "import pandas as pd\n",
    "\n",
    "# Importing the training set\n",
    "dataset_train = pd.read_csv('./marketdata/zsn20_daily_price-history-11-04-2019.csv')\n",
    "#dataset_train = pd.read_csv('./marketdata/soybean/zsk20_daily_price-history-10-25-2019.csv')\n",
    "#dataset_train = dataset_train[dataset_train[\"Volume\"] != 0]\n",
    "\n",
    "dataset_train.Time = pd.to_datetime(dataset_train.Time.str.replace('D', 'T'))\n",
    "dataset_train = dataset_train.sort_values('Time')\n",
    "dataset_train.set_index('Time', inplace=True)\n",
    "print(dataset_train.shape)\n",
    "ax = dataset_train[\"Last\"].plot(figsize=(14, 7))\n",
    "ax.axvline(\"26-04-2019\", linestyle=\"--\", c=\"black\")\n",
    "ax.axvline(\"08-09-2019\", linestyle=\"--\", c=\"black\")"
   ]
  },
  {
   "cell_type": "code",
   "execution_count": null,
   "metadata": {
    "ExecuteTime": {
     "end_time": "2019-11-04T06:54:48.482889Z",
     "start_time": "2019-11-04T06:54:48.473961Z"
    }
   },
   "outputs": [],
   "source": [
    "df_train = dataset_train[dataset_train.index < \"26-04-2019\"]\n",
    "df_train.shape"
   ]
  },
  {
   "cell_type": "code",
   "execution_count": null,
   "metadata": {
    "ExecuteTime": {
     "end_time": "2019-11-04T06:54:53.327815Z",
     "start_time": "2019-11-04T06:54:53.318392Z"
    }
   },
   "outputs": [],
   "source": [
    "df_val = dataset_train[(dataset_train.index >= \"26-04-2019\") & (dataset_train.index < \"08-09-2019\")]\n",
    "df_val.shape"
   ]
  },
  {
   "cell_type": "code",
   "execution_count": 2,
   "metadata": {
    "ExecuteTime": {
     "end_time": "2019-11-04T07:03:22.090297Z",
     "start_time": "2019-11-04T07:03:16.238484Z"
    }
   },
   "outputs": [],
   "source": [
    "training_set = dataset_train.iloc[:, 1:7].values\n",
    "\n",
    "# Feature Scaling\n",
    "from sklearn.preprocessing import MinMaxScaler\n",
    "sc = MinMaxScaler(feature_range = (-1, 1))\n",
    "training_set_scaled = sc.fit_transform(training_set)"
   ]
  },
  {
   "cell_type": "code",
   "execution_count": 3,
   "metadata": {
    "ExecuteTime": {
     "end_time": "2019-11-04T07:03:23.367490Z",
     "start_time": "2019-11-04T07:03:23.104115Z"
    }
   },
   "outputs": [],
   "source": [
    "# Creating a data structure with 15 timesteps and 1 output - we use last 15 prices to predict next. \n",
    "#This takes data from 15th row onwards\n",
    "X_whole = []\n",
    "y_whole = []\n",
    "\n",
    "X_whole_vchange = []\n",
    "y_whole_vchange = []\n",
    "\n",
    "\n",
    "X_whole_wvap = []\n",
    "y_whole_wvap = []\n",
    "\n",
    "sequence_size = 1\n",
    "for i in range(sequence_size, len(training_set_scaled)):\n",
    "    X_whole = np.append(X_whole, training_set_scaled[i-sequence_size:i, 2])\n",
    "    #X_whole = np.append(X_whole, training_set_scaled[i, 6])\n",
    "    #X_whole = np.append(X_whole, training_set_scaled[i, 7])\n",
    "    vwap = 0\n",
    "    vol = 0\n",
    "    vchg = 0\n",
    "    for j in range(sequence_size):\n",
    "        if (j+i<training_set_scaled.shape[0]):\n",
    "            vwap += (((np.sum(training_set_scaled[j+i, 0:3]))/3) * training_set_scaled[j+i, 4])\n",
    "            vchg += (((training_set_scaled[j+i, 3])) * training_set_scaled[j+i, 4])\n",
    "            vol += training_set_scaled[j+i, 4]\n",
    "    #if vwap !=0  and vol != 0:\n",
    "    X_whole = np.append(X_whole, vwap/vol)\n",
    "    X_whole = np.append(X_whole, vchg/vol)\n",
    "    y_whole.append(training_set_scaled[i, 2])\n",
    "\n",
    "sz = training_set_scaled.shape[0]-sequence_size\n",
    "X_whole, y_whole = np.array(X_whole.reshape(sz,sequence_size+2)), np.array(y_whole)\n",
    "\n",
    "\n",
    "for i in range(sequence_size, len(X_whole)):\n",
    "    X_whole_wvap = np.append(X_whole_wvap,X_whole[i-sequence_size:i, sequence_size])\n",
    "    X_whole_wvap = np.append(X_whole_wvap,X_whole[i, 0])\n",
    "    X_whole_wvap = np.append(X_whole_wvap,X_whole[i, sequence_size+1])\n",
    "    y_whole_wvap.append(X_whole[i, sequence_size])\n",
    "    \n",
    "    X_whole_vchange = np.append(X_whole_vchange,X_whole[i-sequence_size:i, sequence_size+1])\n",
    "    X_whole_vchange = np.append(X_whole_vchange,X_whole[i, 0])\n",
    "    X_whole_vchange = np.append(X_whole_vchange,X_whole[i, sequence_size])\n",
    "    y_whole_vchange.append(X_whole[i, sequence_size+1])\n",
    "\n",
    "sz1 = X_whole.shape[0]-sequence_size\n",
    "X_whole_wvap, y_whole_wvap = np.array(X_whole_wvap.reshape(sz1,sequence_size+2)), np.array(y_whole_wvap)\n",
    "X_whole_vchange, y_whole_vchange = np.array(X_whole_vchange.reshape(sz1,sequence_size+2)), np.array(y_whole_vchange)"
   ]
  },
  {
   "cell_type": "code",
   "execution_count": 4,
   "metadata": {
    "ExecuteTime": {
     "end_time": "2019-11-04T07:08:05.947561Z",
     "start_time": "2019-11-04T07:03:26.885617Z"
    }
   },
   "outputs": [
    {
     "name": "stderr",
     "output_type": "stream",
     "text": [
      "Using TensorFlow backend.\n"
     ]
    },
    {
     "name": "stdout",
     "output_type": "stream",
     "text": [
      "Wall time: 4min 39s\n"
     ]
    }
   ],
   "source": [
    "%%time\n",
    "# Part 2 - Building the RNN\n",
    "\n",
    "# Reshaping\n",
    "#X_train = np.reshape(X_train, (X_train.shape[0], X_train.shape[1], 1))\n",
    "#X_valid = np.reshape(X_valid, (X_valid.shape[0], X_valid.shape[1], 1))\n",
    "X_whole_vchange = np.reshape(X_whole_vchange, (X_whole_vchange.shape[0], X_whole_vchange.shape[1], 1))\n",
    "\n",
    "# Importing the Keras libraries and packages\n",
    "from keras.models import Sequential\n",
    "from keras.layers import Dense\n",
    "from keras.layers import LSTM\n",
    "from keras.layers import Dropout\n",
    "\n",
    "# Initialising the RNN\n",
    "regressor = Sequential()\n",
    "\n",
    "# Adding the first LSTM layer and some Dropout regularisation\n",
    "regressor.add(LSTM(units = 50, return_sequences = True, input_shape = (X_whole_vchange.shape[1], 1)))\n",
    "regressor.add(Dropout(0.2))\n",
    "\n",
    "# Adding a second LSTM layer and some Dropout regularisation\n",
    "regressor.add(LSTM(units = 50, return_sequences = True))\n",
    "regressor.add(Dropout(0.2))\n",
    "\n",
    "# Adding a third LSTM layer and some Dropout regularisation\n",
    "regressor.add(LSTM(units = 50, return_sequences = True))\n",
    "regressor.add(Dropout(0.2))\n",
    "\n",
    "#regressor.add(LSTM(units = 50, return_sequences = True))\n",
    "#regressor.add(Dropout(0.2))\n",
    "\n",
    "# Adding a fourth LSTM layer and some Dropout regularisation\n",
    "regressor.add(LSTM(units = 50))\n",
    "regressor.add(Dropout(0.2))\n",
    "\n",
    "# Adding the output layer\n",
    "regressor.add(Dense(units = 1))\n",
    "\n",
    "from keras import optimizers\n",
    "sgd = optimizers.SGD(lr=0.01, decay=1e-6, momentum=0.9, nesterov=True)\n",
    "adm = optimizers.Adam(learning_rate=0.001, beta_1=0.9, beta_2=0.999, amsgrad=False)\n",
    "# Compiling the RNN\n",
    "regressor.compile(optimizer = adm, loss = 'mean_squared_error' , metrics=[\"mean_squared_error\"])\n",
    "\n",
    "# Fitting the RNN to the Training set #, validation_data=(X_valid, y_valid)\n",
    "hist = regressor.fit(X_whole_vchange, y_whole_vchange, epochs = 1500, batch_size = 64, verbose=0)"
   ]
  },
  {
   "cell_type": "code",
   "execution_count": 5,
   "metadata": {
    "ExecuteTime": {
     "end_time": "2019-11-04T07:08:07.811581Z",
     "start_time": "2019-11-04T07:08:06.551690Z"
    }
   },
   "outputs": [
    {
     "name": "stdout",
     "output_type": "stream",
     "text": [
      "Saved model to disk\n",
      "Loaded model from disk\n",
      "dict_keys(['loss', 'mean_squared_error'])\n"
     ]
    },
    {
     "data": {
      "image/png": "[encoded data removed]",
      "text/plain": [
       "<Figure size 1008x864 with 2 Axes>"
      ]
     },
     "metadata": {
      "needs_background": "light"
     },
     "output_type": "display_data"
    }
   ],
   "source": [
    "from keras.models import model_from_json\n",
    "# serialize model to JSON\n",
    "model_json = regressor.to_json()\n",
    "with open(\"zsn20_1500epoch_Rsqr91_vchange.json\", \"w\") as json_file:\n",
    "    json_file.write(model_json)\n",
    "# serialize weights to HDF5\n",
    "regressor.save_weights(\"zsn20_1500epoch_Rsqr91_vchange.h5\")\n",
    "print(\"Saved model to disk\")\n",
    " \n",
    "# later...\n",
    " \n",
    "# load json and create model\n",
    "json_file = open('zsn20_1500epoch_Rsqr91_vchange.json', 'r')\n",
    "loaded_model_json = json_file.read()\n",
    "json_file.close()\n",
    "loaded_model = model_from_json(loaded_model_json)\n",
    "# load weights into new model\n",
    "loaded_model.load_weights(\"zsn20_1500epoch_Rsqr91_vchange.h5\")\n",
    "print(\"Loaded model from disk\")\n",
    "\n",
    "plt.figure(figsize=(14,12))\n",
    "plt.suptitle('Training Evaluation', fontsize=24)\n",
    "\n",
    "plt.subplot(2,2,1)\n",
    "#Plotting Training history\n",
    "print(hist.history.keys())\n",
    "\n",
    "# Visualising the results\n",
    "plt.plot(hist.history['loss'], color = 'blue',  label = 'train_loss')\n",
    "#plt.plot(hist.history['val_loss'], color = 'red',  label = 'val_loss')\n",
    "plt.title('Losses')\n",
    "plt.xlabel('epoch')\n",
    "plt.ylabel('loss')\n",
    "plt.legend()\n",
    "#plt.show()\n",
    "plt.subplot(2,2,2)\n",
    "# Visualising the results\n",
    "plt.plot(hist.history['mean_squared_error'], color = 'blue',  label = 'train_mean_squared_error')\n",
    "#plt.plot(hist.history['val_mean_squared_error'], color = 'red',  label = 'val_mean_squared_error')\n",
    "plt.title('mean_squared_error')\n",
    "plt.xlabel('epoch')\n",
    "plt.ylabel('mean_squared_error')\n",
    "plt.legend()\n",
    "plt.show()"
   ]
  },
  {
   "cell_type": "code",
   "execution_count": null,
   "metadata": {
    "ExecuteTime": {
     "end_time": "2019-11-04T03:05:00.896707Z",
     "start_time": "2019-11-04T03:04:59.764735Z"
    }
   },
   "outputs": [],
   "source": [
    "#create empty table with 6 fields to inverse\n",
    "test_data = np.zeros(shape=(len(y_test), 6) )\n",
    "test_data[:,2] = y_test\n",
    "real_stock_price = sc.inverse_transform(test_data)[:,2]\n",
    "#real_stock_price"
   ]
  },
  {
   "cell_type": "code",
   "execution_count": null,
   "metadata": {
    "ExecuteTime": {
     "end_time": "2019-11-04T03:05:00.911674Z",
     "start_time": "2019-11-04T03:02:03.917Z"
    },
    "scrolled": false
   },
   "outputs": [],
   "source": [
    "# Part 3 - Making the predictions and visualising the results\n",
    "#real_stock_price = sc.inverse_transform(y_test.reshape(-1, 1))\n",
    "X_test = np.reshape(X_test, (X_test.shape[0], X_test.shape[1], 1))\n",
    "predicted_stock_price = regressor.predict(X_test)\n",
    "# create empty table with 6 fields to inverse\n",
    "test_data = np.zeros(shape=(len(predicted_stock_price), 6) )\n",
    "test_data[:,2] = predicted_stock_price.reshape(1,-1)\n",
    "predicted_stock_price = sc.inverse_transform(test_data)[:,2]\n",
    "\n",
    "\n",
    "#predicted_stock_price = sc.inverse_transform(predicted_stock_price)\n",
    "\n",
    "from sklearn.metrics import mean_absolute_error\n",
    "from math import sqrt\n",
    "# report performance\n",
    "from sklearn.metrics import mean_squared_error\n",
    "print(\"sqrt mean_squared_error: \", sqrt(mean_squared_error(real_stock_price, predicted_stock_price)))\n",
    "print(\"mean_squared_error: \", mean_squared_error(real_stock_price, predicted_stock_price))\n",
    "mean_absolute_error = mean_absolute_error(real_stock_price, predicted_stock_price)\n",
    "print(\"mean_absolute_error: \", mean_absolute_error)\n",
    "\n",
    "fig = plt.figure(figsize=(12,8))\n",
    "# Visualising the results\n",
    "plt.plot(real_stock_price, color = 'red',  marker='o', label = 'Real Stock Price')\n",
    "plt.plot(predicted_stock_price, color = 'blue',  marker='o', label = 'Predicted Stock Price')\n",
    "plt.title('Stock Price Prediction')\n",
    "plt.xlabel('Time')\n",
    "plt.ylabel('Stock Price')\n",
    "plt.legend()\n",
    "plt.show()"
   ]
  },
  {
   "cell_type": "code",
   "execution_count": null,
   "metadata": {
    "ExecuteTime": {
     "end_time": "2019-11-04T03:05:00.913662Z",
     "start_time": "2019-11-04T03:02:03.922Z"
    }
   },
   "outputs": [],
   "source": [
    "#real_stock_price, predicted_stock_price\n",
    "SS_Residual = sum((real_stock_price-predicted_stock_price)**2)\n",
    "SS_Total = sum((real_stock_price-np.mean(real_stock_price))**2)\n",
    "r_squared = 1 - (float(SS_Residual))/SS_Total\n",
    "adjusted_r_squared = 1 - (1-r_squared)*(len(real_stock_price)-1)/(len(real_stock_price)-X_train.shape[1]-1)\n",
    "print (\"R Squared:\", r_squared, \"\\nAdjusted R Squared:\", adjusted_r_squared)"
   ]
  },
  {
   "cell_type": "code",
   "execution_count": null,
   "metadata": {
    "ExecuteTime": {
     "end_time": "2019-11-04T03:05:00.915657Z",
     "start_time": "2019-11-04T03:02:03.928Z"
    }
   },
   "outputs": [],
   "source": [
    "'''import plotly.express as px\n",
    "\n",
    "# Getting the real stock price \n",
    "# Importing the training set\n",
    "dataset_train = pd.read_csv('./marketdata/zsh20.csv')\n",
    "#dataset_train = dataset_train[dataset_train[\"Volume\"] != 0]\n",
    "training_set = dataset_train.iloc[:, 4:5].values\n",
    "real_stock_price = dataset_train.iloc[422:, 4:5].values\n",
    "\n",
    "prices = pd.DataFrame(real_stock_price, columns=[\"prices\"])\n",
    "prices[\"Time\"] = dataset_train[\"Time\"].iloc[422:].values\n",
    "prices['data'] = 'real_stock_price'\n",
    "\n",
    "prices1 = pd.DataFrame(predicted_stock_price, columns=[\"prices\"])\n",
    "prices1[\"Time\"] = dataset_train[\"Time\"].iloc[422:].values\n",
    "prices1['data'] = 'predicted_stock_price'\n",
    "prices1.fillna(\"10/26/2019\", inplace=True)\n",
    "\n",
    "prices = prices.append(prices1, ignore_index=True)\n",
    "\n",
    "fig = px.line(prices, x=\"Time\", y=\"prices\", line_dash=\"data\")\n",
    "fig.show()'''"
   ]
  }
 ],
 "metadata": {
  "hide_input": false,
  "kernelspec": {
   "display_name": "Python 3",
   "language": "python",
   "name": "python3"
  },
  "language_info": {
   "codemirror_mode": {
    "name": "ipython",
    "version": 3
   },
   "file_extension": ".py",
   "mimetype": "text/x-python",
   "name": "python",
   "nbconvert_exporter": "python",
   "pygments_lexer": "ipython3",
   "version": "3.7.3"
  },
  "latex_envs": {
   "LaTeX_envs_menu_present": true,
   "autoclose": false,
   "autocomplete": true,
   "bibliofile": "biblio.bib",
   "cite_by": "apalike",
   "current_citInitial": 1,
   "eqLabelWithNumbers": true,
   "eqNumInitial": 1,
   "hotkeys": {
    "equation": "Ctrl-E",
    "itemize": "Ctrl-I"
   },
   "labels_anchors": false,
   "latex_user_defs": false,
   "report_style_numbering": false,
   "user_envs_cfg": false
  },
  "varInspector": {
   "cols": {
    "lenName": 16,
    "lenType": 16,
    "lenVar": 40
   },
   "kernels_config": {
    "python": {
     "delete_cmd_postfix": "",
     "delete_cmd_prefix": "del ",
     "library": "var_list.py",
     "varRefreshCmd": "print(var_dic_list())"
    },
    "r": {
     "delete_cmd_postfix": ") ",
     "delete_cmd_prefix": "rm(",
     "library": "var_list.r",
     "varRefreshCmd": "cat(var_dic_list()) "
    }
   },
   "types_to_exclude": [
    "module",
    "function",
    "builtin_function_or_method",
    "instance",
    "_Feature"
   ],
   "window_display": false
  }
 },
 "nbformat": 4,
 "nbformat_minor": 2
}
