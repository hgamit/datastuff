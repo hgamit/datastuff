{
 "cells": [
  {
   "cell_type": "code",
   "execution_count": 29,
   "metadata": {
    "ExecuteTime": {
     "end_time": "2019-10-28T04:02:06.422421Z",
     "start_time": "2019-10-28T04:02:05.873457Z"
    }
   },
   "outputs": [
    {
     "data": {
      "text/html": [
       "        <script type=\"text/javascript\">\n",
       "        window.PlotlyConfig = {MathJaxConfig: 'local'};\n",
       "        if (window.MathJax) {MathJax.Hub.Config({SVG: {font: \"STIX-Web\"}});}\n",
       "        if (typeof require !== 'undefined') {\n",
       "        require.undef(\"plotly\");\n",
       "        requirejs.config({\n",
       "            paths: {\n",
       "                'plotly': ['https://cdn.plot.ly/plotly-latest.min']\n",
       "            }\n",
       "        });\n",
       "        require(['plotly'], function(Plotly) {\n",
       "            window._Plotly = Plotly;\n",
       "        });\n",
       "        }\n",
       "        </script>\n",
       "        "
      ]
     },
     "metadata": {},
     "output_type": "display_data"
    }
   ],
   "source": [
    "#https://machinelearningmastery.com/time-series-forecasting-long-short-term-memory-network-python/\n",
    "#https://machinelearningmastery.com/multi-step-time-series-forecasting/\n",
    "\n",
    "import re\n",
    "import pdb\n",
    "import numpy as np\n",
    "import pandas as pd\n",
    "import matplotlib.pyplot as plt\n",
    "import seaborn as sns\n",
    "%matplotlib inline\n",
    "\n",
    "\n",
    "import plotly.offline as py\n",
    "py.init_notebook_mode(connected=True)\n",
    "import plotly.graph_objs as go\n",
    "import plotly.tools as tls"
   ]
  },
  {
   "cell_type": "code",
   "execution_count": 30,
   "metadata": {
    "ExecuteTime": {
     "end_time": "2019-10-28T04:02:10.779500Z",
     "start_time": "2019-10-28T04:02:10.761509Z"
    }
   },
   "outputs": [],
   "source": [
    "#Supporting Functions\n",
    "def rename_col(df, suffix):\n",
    "    for col_name in list(df):\n",
    "        col_name_new = col_name +  \"_\" + suffix\n",
    "        df.rename(columns={col_name: col_name_new}, inplace=True)\n",
    "        \n",
    "    return df\n",
    "\n",
    "def calculate_returns(df):\n",
    "    df['returnsClosePrev1'] = df['Last']-df['Last'].shift(-1)\n",
    "    df['returnsClosePrev2'] = df['Last']-df['Last'].shift(-2)\n",
    "    df['returnsClosePrev3'] = df['Last']-df['Last'].shift(-3)\n",
    "    df['returnsClosePrev4'] = df['Last']-df['Last'].shift(-4)\n",
    "    df['returnsClosePrev5'] = df['Last']-df['Last'].shift(-5)\n",
    "    df['returnsClosePrev10'] = df['Last']-df['Last'].shift(-10)\n",
    "    \n",
    "    df['returnsCloseNext1'] = df['Last']-df['Last'].shift(+1)\n",
    "    df['returnsCloseNext2'] = df['Last']-df['Last'].shift(+2)\n",
    "    df['returnsCloseNext3'] = df['Last']-df['Last'].shift(+3)\n",
    "    df['returnsCloseNext4'] = df['Last']-df['Last'].shift(+4)\n",
    "    df['returnsCloseNext5'] = df['Last']-df['Last'].shift(+5)\n",
    "    df['returnsCloseNext10'] = df['Last']-df['Last'].shift(+10)\n",
    "\n",
    "    \n",
    "    return df\n",
    "\n",
    "def plot_line(df, wanted_col, date_col, img_title, y_label):\n",
    "    \n",
    "    #Generic price change plot line comparison\n",
    "    fig = go.Figure()\n",
    "\n",
    "    cols = list(df)\n",
    "\n",
    "    cols = [ele for ele in cols if ele in wanted_col] \n",
    "\n",
    "    data = []\n",
    "    for col_name in cols:\n",
    "\n",
    "        data.append(go.Scatter(x=df[date_col].dt.strftime(date_format='%Y-%m-%d'), y=df[col_name],\n",
    "                        #mode='lines',\n",
    "                        name=col_name))\n",
    "        #pdb.set_trace()\n",
    "    layout = go.Layout(dict(title = img_title,\n",
    "                      xaxis = dict(title = ''),\n",
    "                      yaxis = dict(title = y_label),\n",
    "                      ),legend=dict(\n",
    "                    orientation=\"h\"))\n",
    "    py.iplot(dict(data=data, layout=layout), filename='basic-line', image_width=800,\n",
    "        image_height=500)\n",
    "    \n",
    "    \n",
    "def read_file(filename, symbol):\n",
    "    df = pd.read_csv(filename)\n",
    "    df.rename(columns={\"Open Int\": \"Open_Int\"}, inplace=True)\n",
    "    df['Time'] = df['Time'].astype('datetime64[ns]')\n",
    "    df[\"Symbol\"] = symbol\n",
    "    #df = calculate_returns(df)\n",
    "    print(f'{df.shape[0]} samples and {df.shape[1]} features in the {symbol} contract dataset.')\n",
    "    return df"
   ]
  },
  {
   "cell_type": "code",
   "execution_count": 49,
   "metadata": {
    "ExecuteTime": {
     "end_time": "2019-10-28T04:17:08.466243Z",
     "start_time": "2019-10-28T04:17:07.858694Z"
    }
   },
   "outputs": [
    {
     "name": "stdout",
     "output_type": "stream",
     "text": [
      "490 samples and 9 features in the ZSH20 contract dataset.\n",
      "585 samples and 9 features in the ZSH19 contract dataset.\n",
      "585 samples and 9 features in the ZSH18 contract dataset.\n",
      "584 samples and 9 features in the ZSH17 contract dataset.\n",
      "584 samples and 9 features in the ZSH16 contract dataset.\n",
      "584 samples and 9 features in the ZSH15 contract dataset.\n",
      "586 samples and 9 features in the ZSH14 contract dataset.\n",
      "588 samples and 9 features in the ZSH13 contract dataset.\n",
      "585 samples and 9 features in the ZSH12 contract dataset.\n"
     ]
    },
    {
     "data": {
      "text/html": [
       "<div>\n",
       "<style scoped>\n",
       "    .dataframe tbody tr th:only-of-type {\n",
       "        vertical-align: middle;\n",
       "    }\n",
       "\n",
       "    .dataframe tbody tr th {\n",
       "        vertical-align: top;\n",
       "    }\n",
       "\n",
       "    .dataframe thead th {\n",
       "        text-align: right;\n",
       "    }\n",
       "</style>\n",
       "<table border=\"1\" class=\"dataframe\">\n",
       "  <thead>\n",
       "    <tr style=\"text-align: right;\">\n",
       "      <th></th>\n",
       "      <th>Time</th>\n",
       "      <th>Open</th>\n",
       "      <th>High</th>\n",
       "      <th>Low</th>\n",
       "      <th>Last</th>\n",
       "      <th>Change</th>\n",
       "      <th>Volume</th>\n",
       "      <th>Open_Int</th>\n",
       "      <th>Symbol</th>\n",
       "    </tr>\n",
       "  </thead>\n",
       "  <tbody>\n",
       "    <tr>\n",
       "      <th>485</th>\n",
       "      <td>2017-11-21</td>\n",
       "      <td>998.0</td>\n",
       "      <td>998.0</td>\n",
       "      <td>998.0</td>\n",
       "      <td>998.0</td>\n",
       "      <td>-0.5</td>\n",
       "      <td>0</td>\n",
       "      <td>0</td>\n",
       "      <td>ZSH20</td>\n",
       "    </tr>\n",
       "    <tr>\n",
       "      <th>486</th>\n",
       "      <td>2017-11-20</td>\n",
       "      <td>998.5</td>\n",
       "      <td>998.5</td>\n",
       "      <td>998.5</td>\n",
       "      <td>998.5</td>\n",
       "      <td>2.0</td>\n",
       "      <td>0</td>\n",
       "      <td>0</td>\n",
       "      <td>ZSH20</td>\n",
       "    </tr>\n",
       "    <tr>\n",
       "      <th>487</th>\n",
       "      <td>2017-11-17</td>\n",
       "      <td>996.5</td>\n",
       "      <td>996.5</td>\n",
       "      <td>996.5</td>\n",
       "      <td>996.5</td>\n",
       "      <td>13.5</td>\n",
       "      <td>0</td>\n",
       "      <td>0</td>\n",
       "      <td>ZSH20</td>\n",
       "    </tr>\n",
       "    <tr>\n",
       "      <th>488</th>\n",
       "      <td>2017-11-16</td>\n",
       "      <td>983.0</td>\n",
       "      <td>983.0</td>\n",
       "      <td>983.0</td>\n",
       "      <td>983.0</td>\n",
       "      <td>-2.0</td>\n",
       "      <td>0</td>\n",
       "      <td>0</td>\n",
       "      <td>ZSH20</td>\n",
       "    </tr>\n",
       "    <tr>\n",
       "      <th>489</th>\n",
       "      <td>2017-11-15</td>\n",
       "      <td>985.0</td>\n",
       "      <td>985.0</td>\n",
       "      <td>985.0</td>\n",
       "      <td>985.0</td>\n",
       "      <td>6.5</td>\n",
       "      <td>0</td>\n",
       "      <td>0</td>\n",
       "      <td>ZSH20</td>\n",
       "    </tr>\n",
       "  </tbody>\n",
       "</table>\n",
       "</div>"
      ],
      "text/plain": [
       "          Time   Open   High    Low   Last  Change  Volume  Open_Int Symbol\n",
       "485 2017-11-21  998.0  998.0  998.0  998.0    -0.5       0         0  ZSH20\n",
       "486 2017-11-20  998.5  998.5  998.5  998.5     2.0       0         0  ZSH20\n",
       "487 2017-11-17  996.5  996.5  996.5  996.5    13.5       0         0  ZSH20\n",
       "488 2017-11-16  983.0  983.0  983.0  983.0    -2.0       0         0  ZSH20\n",
       "489 2017-11-15  985.0  985.0  985.0  985.0     6.5       0         0  ZSH20"
      ]
     },
     "execution_count": 49,
     "metadata": {},
     "output_type": "execute_result"
    }
   ],
   "source": [
    "ug_data_mar20 = read_file('./marketdata/soybean/zsh20_daily_price-history-10-25-2019.csv', \"ZSH20\")\n",
    "ug_data_mar19 = read_file('./marketdata/soybean/zsh19_daily_price-history-10-25-2019.csv', \"ZSH19\")\n",
    "ug_data_mar19['Adjusted_Time'] = ug_data_mar19['Time'].apply(lambda x: x + pd.DateOffset(years=1))\n",
    "ug_data_mar18 = read_file('./marketdata/soybean/zsh18_daily_price-history-10-25-2019.csv', \"ZSH18\")\n",
    "ug_data_mar18['Adjusted_Time'] = ug_data_mar18['Time'].apply(lambda x: x + pd.DateOffset(years=2))\n",
    "ug_data_mar17 = read_file('./marketdata/soybean/zsh17_daily_price-history-10-25-2019.csv', \"ZSH17\")\n",
    "ug_data_mar17['Adjusted_Time'] = ug_data_mar17['Time'].apply(lambda x: x + pd.DateOffset(years=3))\n",
    "ug_data_mar16 = read_file('./marketdata/soybean/zsh16_daily_price-history-10-25-2019.csv', \"ZSH16\")\n",
    "ug_data_mar16['Adjusted_Time'] = ug_data_mar16['Time'].apply(lambda x: x + pd.DateOffset(years=4))\n",
    "ug_data_mar15 = read_file('./marketdata/soybean/zsh15_daily_price-history-10-25-2019.csv', \"ZSH15\")\n",
    "ug_data_mar15['Adjusted_Time'] = ug_data_mar15['Time'].apply(lambda x: x + pd.DateOffset(years=5))\n",
    "ug_data_mar14 = read_file('./marketdata/soybean/zsh14_daily_price-history-10-25-2019.csv', \"ZSH14\")\n",
    "ug_data_mar14['Adjusted_Time'] = ug_data_mar14['Time'].apply(lambda x: x + pd.DateOffset(years=6))\n",
    "ug_data_mar13 = read_file('./marketdata/soybean/zsh13_daily_price-history-10-25-2019.csv', \"ZSH13\")\n",
    "ug_data_mar13['Adjusted_Time'] = ug_data_mar13['Time'].apply(lambda x: x + pd.DateOffset(years=7))\n",
    "ug_data_mar12 = read_file('./marketdata/soybean/zsh12_daily_price-history-10-25-2019.csv', \"ZSH12\")\n",
    "ug_data_mar12['Adjusted_Time'] = ug_data_mar12['Time'].apply(lambda x: x + pd.DateOffset(years=8))\n",
    "ug_data_mar20.tail()"
   ]
  },
  {
   "cell_type": "code",
   "execution_count": null,
   "metadata": {},
   "outputs": [],
   "source": [
    "#Concating March prices \n",
    "#frames = [ug_data_mar20, ug_data_mar19, ug_data_mar18, ug_data_mar17]\n",
    "#ug_data_mar16, ug_data_mar15, ug_data_mar14, ug_data_mar13, ug_data_mar12\n",
    "\n",
    "#result = pd.concat(frames, ignore_index=True)\n",
    "#result = pd.merge(ug_data_july, result,  left_on='Date_july', right_on='Date_mar', how='outer')\n",
    "#pd.concat([result, ug_data_july], axis=1)\n",
    "#result.drop(['Date_mar', 'Date_may'], axis=1, inplace=True)\n",
    "#result.reset_index(drop=True)\n",
    "#result.shape"
   ]
  },
  {
   "cell_type": "code",
   "execution_count": 52,
   "metadata": {
    "ExecuteTime": {
     "end_time": "2019-10-28T04:19:39.761176Z",
     "start_time": "2019-10-28T04:19:39.745176Z"
    }
   },
   "outputs": [
    {
     "data": {
      "text/html": [
       "<div>\n",
       "<style scoped>\n",
       "    .dataframe tbody tr th:only-of-type {\n",
       "        vertical-align: middle;\n",
       "    }\n",
       "\n",
       "    .dataframe tbody tr th {\n",
       "        vertical-align: top;\n",
       "    }\n",
       "\n",
       "    .dataframe thead th {\n",
       "        text-align: right;\n",
       "    }\n",
       "</style>\n",
       "<table border=\"1\" class=\"dataframe\">\n",
       "  <thead>\n",
       "    <tr style=\"text-align: right;\">\n",
       "      <th></th>\n",
       "      <th>Time</th>\n",
       "      <th>Open</th>\n",
       "      <th>High</th>\n",
       "      <th>Low</th>\n",
       "      <th>Last</th>\n",
       "      <th>Change</th>\n",
       "      <th>Volume</th>\n",
       "      <th>Open_Int</th>\n",
       "      <th>Symbol</th>\n",
       "    </tr>\n",
       "  </thead>\n",
       "  <tbody>\n",
       "    <tr>\n",
       "      <th>489</th>\n",
       "      <td>2017-11-15</td>\n",
       "      <td>985.0</td>\n",
       "      <td>985.0</td>\n",
       "      <td>985.0</td>\n",
       "      <td>985.0</td>\n",
       "      <td>6.5</td>\n",
       "      <td>0</td>\n",
       "      <td>0</td>\n",
       "      <td>ZSH20</td>\n",
       "    </tr>\n",
       "    <tr>\n",
       "      <th>488</th>\n",
       "      <td>2017-11-16</td>\n",
       "      <td>983.0</td>\n",
       "      <td>983.0</td>\n",
       "      <td>983.0</td>\n",
       "      <td>983.0</td>\n",
       "      <td>-2.0</td>\n",
       "      <td>0</td>\n",
       "      <td>0</td>\n",
       "      <td>ZSH20</td>\n",
       "    </tr>\n",
       "    <tr>\n",
       "      <th>487</th>\n",
       "      <td>2017-11-17</td>\n",
       "      <td>996.5</td>\n",
       "      <td>996.5</td>\n",
       "      <td>996.5</td>\n",
       "      <td>996.5</td>\n",
       "      <td>13.5</td>\n",
       "      <td>0</td>\n",
       "      <td>0</td>\n",
       "      <td>ZSH20</td>\n",
       "    </tr>\n",
       "    <tr>\n",
       "      <th>486</th>\n",
       "      <td>2017-11-20</td>\n",
       "      <td>998.5</td>\n",
       "      <td>998.5</td>\n",
       "      <td>998.5</td>\n",
       "      <td>998.5</td>\n",
       "      <td>2.0</td>\n",
       "      <td>0</td>\n",
       "      <td>0</td>\n",
       "      <td>ZSH20</td>\n",
       "    </tr>\n",
       "    <tr>\n",
       "      <th>485</th>\n",
       "      <td>2017-11-21</td>\n",
       "      <td>998.0</td>\n",
       "      <td>998.0</td>\n",
       "      <td>998.0</td>\n",
       "      <td>998.0</td>\n",
       "      <td>-0.5</td>\n",
       "      <td>0</td>\n",
       "      <td>0</td>\n",
       "      <td>ZSH20</td>\n",
       "    </tr>\n",
       "  </tbody>\n",
       "</table>\n",
       "</div>"
      ],
      "text/plain": [
       "          Time   Open   High    Low   Last  Change  Volume  Open_Int Symbol\n",
       "489 2017-11-15  985.0  985.0  985.0  985.0     6.5       0         0  ZSH20\n",
       "488 2017-11-16  983.0  983.0  983.0  983.0    -2.0       0         0  ZSH20\n",
       "487 2017-11-17  996.5  996.5  996.5  996.5    13.5       0         0  ZSH20\n",
       "486 2017-11-20  998.5  998.5  998.5  998.5     2.0       0         0  ZSH20\n",
       "485 2017-11-21  998.0  998.0  998.0  998.0    -0.5       0         0  ZSH20"
      ]
     },
     "execution_count": 52,
     "metadata": {},
     "output_type": "execute_result"
    }
   ],
   "source": [
    "ug_data_mar20 = ug_data_mar20.sort_values('Time')\n",
    "ug_data_mar20.head()"
   ]
  },
  {
   "cell_type": "code",
   "execution_count": 55,
   "metadata": {
    "ExecuteTime": {
     "end_time": "2019-10-28T04:21:15.767724Z",
     "start_time": "2019-10-28T04:21:15.751725Z"
    }
   },
   "outputs": [],
   "source": [
    "from pandas import DataFrame\n",
    "from pandas import Series\n",
    "from pandas import concat\n",
    "from pandas import read_csv\n",
    "from pandas import datetime\n",
    "from sklearn.metrics import mean_squared_error\n",
    "from sklearn.preprocessing import MinMaxScaler\n",
    "from keras.models import Sequential\n",
    "from keras.layers import Dense\n",
    "from keras.layers import LSTM\n",
    "from math import sqrt\n",
    "from matplotlib import pyplot\n",
    "import numpy\n",
    "\n",
    "# date-time parsing function for loading the dataset\n",
    "def parser(x):\n",
    "\treturn datetime.strptime('190'+x, '%Y-%m')\n",
    "\n",
    "# frame a sequence as a supervised learning problem\n",
    "def timeseries_to_supervised(data, lag=1):\n",
    "\tdf = DataFrame(data)\n",
    "\tcolumns = [df.shift(i) for i in range(1, lag+1)]\n",
    "\tcolumns.append(df)\n",
    "\tdf = concat(columns, axis=1)\n",
    "\tdf.fillna(0, inplace=True)\n",
    "\treturn df\n",
    "\n",
    "# create a differenced series\n",
    "def difference(dataset, interval=1):\n",
    "\tdiff = list()\n",
    "\tfor i in range(interval, len(dataset)):\n",
    "\t\tvalue = dataset[i] - dataset[i - interval]\n",
    "\t\tdiff.append(value)\n",
    "\treturn Series(diff)\n",
    "\n",
    "# invert differenced value\n",
    "def inverse_difference(history, yhat, interval=1):\n",
    "\treturn yhat + history[-interval]\n",
    "\n",
    "# scale train and test data to [-1, 1]\n",
    "def scale(train, test):\n",
    "\t# fit scaler\n",
    "\tscaler = MinMaxScaler(feature_range=(-1, 1))\n",
    "\tscaler = scaler.fit(train)\n",
    "\t# transform train\n",
    "\ttrain = train.reshape(train.shape[0], train.shape[1])\n",
    "\ttrain_scaled = scaler.transform(train)\n",
    "\t# transform test\n",
    "\ttest = test.reshape(test.shape[0], test.shape[1])\n",
    "\ttest_scaled = scaler.transform(test)\n",
    "\treturn scaler, train_scaled, test_scaled\n",
    "\n",
    "# inverse scaling for a forecasted value\n",
    "def invert_scale(scaler, X, value):\n",
    "\tnew_row = [x for x in X] + [value]\n",
    "\tarray = numpy.array(new_row)\n",
    "\tarray = array.reshape(1, len(array))\n",
    "\tinverted = scaler.inverse_transform(array)\n",
    "\treturn inverted[0, -1]\n",
    "\n",
    "# fit an LSTM network to training data\n",
    "def fit_lstm(train, batch_size, nb_epoch, neurons):\n",
    "\tX, y = train[:, 0:-1], train[:, -1]\n",
    "\tX = X.reshape(X.shape[0], 1, X.shape[1])\n",
    "\tmodel = Sequential()\n",
    "\tmodel.add(LSTM(neurons, batch_input_shape=(batch_size, X.shape[1], X.shape[2]), stateful=True))\n",
    "\tmodel.add(Dense(1))\n",
    "\tmodel.compile(loss='mean_squared_error', optimizer='adam')\n",
    "\tfor i in range(nb_epoch):\n",
    "\t\tmodel.fit(X, y, epochs=1, batch_size=batch_size, verbose=0, shuffle=False)\n",
    "\t\tmodel.reset_states()\n",
    "\treturn model\n",
    "\n",
    "# make a one-step forecast\n",
    "def forecast_lstm(model, batch_size, X):\n",
    "\tX = X.reshape(1, 1, len(X))\n",
    "\tyhat = model.predict(X, batch_size=batch_size)\n",
    "\treturn yhat[0,0]"
   ]
  },
  {
   "cell_type": "code",
   "execution_count": 53,
   "metadata": {
    "ExecuteTime": {
     "end_time": "2019-10-28T04:19:42.683188Z",
     "start_time": "2019-10-28T04:19:42.675189Z"
    }
   },
   "outputs": [],
   "source": [
    "# transform data to be stationary\n",
    "raw_values = ug_data_mar20[\"Last\"].values\n",
    "diff_values = difference(raw_values, 1)\n",
    "\n",
    "# transform data to be supervised learning\n",
    "supervised = timeseries_to_supervised(diff_values, 1)\n",
    "supervised_values = supervised.values\n",
    "\n",
    "# split data into train and test-sets\n",
    "train, test = supervised_values[0:-100], supervised_values[-100:]"
   ]
  },
  {
   "cell_type": "markdown",
   "metadata": {},
   "source": [
    "#For a time series problem, we can achieve this by using the observation from the last time step (t-1) as the input and the observation at the current time step (t) as the output."
   ]
  },
  {
   "cell_type": "code",
   "execution_count": 57,
   "metadata": {
    "ExecuteTime": {
     "end_time": "2019-10-28T04:49:55.502484Z",
     "start_time": "2019-10-28T04:37:26.284338Z"
    }
   },
   "outputs": [
    {
     "name": "stdout",
     "output_type": "stream",
     "text": [
      "1) Test RMSE: 8.569\n",
      "2) Test RMSE: 8.572\n",
      "3) Test RMSE: 8.588\n",
      "4) Test RMSE: 8.591\n",
      "5) Test RMSE: 8.572\n",
      "6) Test RMSE: 8.565\n",
      "7) Test RMSE: 8.553\n",
      "8) Test RMSE: 8.580\n",
      "9) Test RMSE: 8.579\n",
      "10) Test RMSE: 8.572\n",
      "11) Test RMSE: 8.580\n",
      "12) Test RMSE: 8.572\n",
      "13) Test RMSE: 8.561\n",
      "14) Test RMSE: 8.574\n",
      "15) Test RMSE: 8.566\n",
      "16) Test RMSE: 8.558\n",
      "17) Test RMSE: 8.551\n",
      "18) Test RMSE: 8.565\n",
      "19) Test RMSE: 8.573\n",
      "20) Test RMSE: 8.555\n",
      "21) Test RMSE: 8.563\n",
      "22) Test RMSE: 8.568\n",
      "23) Test RMSE: 8.572\n",
      "24) Test RMSE: 8.558\n",
      "25) Test RMSE: 8.542\n",
      "26) Test RMSE: 8.562\n",
      "27) Test RMSE: 8.561\n",
      "28) Test RMSE: 8.548\n",
      "29) Test RMSE: 8.560\n",
      "30) Test RMSE: 8.567\n",
      "            rmse\n",
      "count  30.000000\n",
      "mean    8.566601\n",
      "std     0.011151\n",
      "min     8.542206\n",
      "25%     8.560629\n",
      "50%     8.566391\n",
      "75%     8.572425\n",
      "max     8.590681\n"
     ]
    },
    {
     "data": {
      "image/png": "[encoded data removed]",
      "text/plain": [
       "<Figure size 432x288 with 1 Axes>"
      ]
     },
     "metadata": {
      "needs_background": "light"
     },
     "output_type": "display_data"
    }
   ],
   "source": [
    "# transform the scale of the data\n",
    "scaler, train_scaled, test_scaled = scale(train, test)\n",
    "\n",
    "# repeat experiment\n",
    "repeats = 30\n",
    "error_scores = list()\n",
    "for r in range(repeats):\n",
    "\t# fit the model\n",
    "\tlstm_model = fit_lstm(train_scaled, 1, 50, 4)\n",
    "\t# forecast the entire training dataset to build up state for forecasting\n",
    "\ttrain_reshaped = train_scaled[:, 0].reshape(len(train_scaled), 1, 1)\n",
    "\tlstm_model.predict(train_reshaped, batch_size=1)\n",
    "\t# walk-forward validation on the test data\n",
    "\tpredictions = list()\n",
    "\tfor i in range(len(test_scaled)):\n",
    "\t\t# make one-step forecast\n",
    "\t\tX, y = test_scaled[i, 0:-1], test_scaled[i, -1]\n",
    "\t\tyhat = forecast_lstm(lstm_model, 1, X)\n",
    "\t\t# invert scaling\n",
    "\t\tyhat = invert_scale(scaler, X, yhat)\n",
    "\t\t# invert differencing\n",
    "\t\tyhat = inverse_difference(raw_values, yhat, len(test_scaled)+1-i)\n",
    "\t\t# store forecast\n",
    "\t\tpredictions.append(yhat)\n",
    "\t# report performance\n",
    "\trmse = sqrt(mean_squared_error(raw_values[-100:], predictions))\n",
    "\tprint('%d) Test RMSE: %.3f' % (r+1, rmse))\n",
    "\terror_scores.append(rmse)\n",
    "\n",
    "# summarize results\n",
    "results = DataFrame()\n",
    "results['rmse'] = error_scores\n",
    "print(results.describe())\n",
    "results.boxplot()\n",
    "pyplot.show()"
   ]
  },
  {
   "cell_type": "code",
   "execution_count": 63,
   "metadata": {
    "ExecuteTime": {
     "end_time": "2019-10-28T04:53:36.431688Z",
     "start_time": "2019-10-28T04:53:36.350881Z"
    }
   },
   "outputs": [
    {
     "name": "stdout",
     "output_type": "stream",
     "text": [
      "Test RMSE: 8.567\n"
     ]
    }
   ],
   "source": [
    "# walk-forward validation on the test data\n",
    "predictions = list()\n",
    "for i in range(len(test_scaled)):\n",
    "\t# make one-step forecast\n",
    "\tX, y = test_scaled[i, 0:-1], test_scaled[i, -1]\n",
    "\tyhat = forecast_lstm(lstm_model, 1, X)\n",
    "\t# invert scaling\n",
    "\tyhat = invert_scale(scaler, X, yhat)\n",
    "\t# invert differencing\n",
    "\tyhat = inverse_difference(raw_values, yhat, len(test_scaled)+1-i)\n",
    "\t# store forecast\n",
    "\tpredictions.append(yhat)\n",
    "\texpected = raw_values[len(train) + i + 1]\n",
    "\t#print('Month=%d, Predicted=%f, Expected=%f' % (i+1, yhat, expected))\n",
    "#report performance\n",
    "rmse = sqrt(mean_squared_error(raw_values[-100:], predictions))\n",
    "print('Test RMSE: %.3f' % rmse)"
   ]
  },
  {
   "cell_type": "code",
   "execution_count": 69,
   "metadata": {
    "ExecuteTime": {
     "end_time": "2019-10-28T18:50:53.909351Z",
     "start_time": "2019-10-28T18:50:53.883408Z"
    }
   },
   "outputs": [
    {
     "data": {
      "text/plain": [
       "-0.02953586497890298"
      ]
     },
     "execution_count": 69,
     "metadata": {},
     "output_type": "execute_result"
    }
   ],
   "source": [
    "test_scaled[0, -1]"
   ]
  },
  {
   "cell_type": "code",
   "execution_count": 67,
   "metadata": {
    "ExecuteTime": {
     "end_time": "2019-10-28T04:54:36.147777Z",
     "start_time": "2019-10-28T04:54:36.139825Z"
    }
   },
   "outputs": [
    {
     "data": {
      "text/plain": [
       "array([[-0.3164557 , -0.02953586],\n",
       "       [-0.02953586, -0.34177215],\n",
       "       [-0.34177215,  0.13924051],\n",
       "       [ 0.13924051,  0.07172996],\n",
       "       [ 0.07172996,  0.55274262],\n",
       "       [ 0.55274262,  0.28270042],\n",
       "       [ 0.28270042,  0.25738397],\n",
       "       [ 0.25738397,  0.47679325],\n",
       "       [ 0.47679325,  0.06329114],\n",
       "       [ 0.06329114, -0.25738397],\n",
       "       [-0.25738397,  0.45147679],\n",
       "       [ 0.45147679, -0.42616034],\n",
       "       [-0.42616034,  0.18987342],\n",
       "       [ 0.18987342, -0.24050633],\n",
       "       [-0.24050633, -0.23206751],\n",
       "       [-0.23206751, -0.14767932],\n",
       "       [-0.14767932,  0.35021097],\n",
       "       [ 0.35021097, -0.4092827 ],\n",
       "       [-0.4092827 , -0.29113924],\n",
       "       [-0.29113924,  0.34177215],\n",
       "       [ 0.34177215, -0.44303797],\n",
       "       [-0.44303797,  0.13924051],\n",
       "       [ 0.13924051,  0.25738397],\n",
       "       [ 0.25738397,  0.30801688],\n",
       "       [ 0.30801688,  0.16455696],\n",
       "       [ 0.16455696,  0.47679325],\n",
       "       [ 0.47679325, -0.35021097],\n",
       "       [-0.35021097, -0.43459916],\n",
       "       [-0.43459916, -0.14767932],\n",
       "       [-0.14767932, -0.02109705],\n",
       "       [-0.02109705,  0.67088608],\n",
       "       [ 0.67088608, -0.39240506],\n",
       "       [-0.39240506, -0.0464135 ],\n",
       "       [-0.0464135 ,  0.1814346 ],\n",
       "       [ 0.1814346 , -0.19831224],\n",
       "       [-0.19831224,  0.06329114],\n",
       "       [ 0.06329114,  0.13924051],\n",
       "       [ 0.13924051, -0.21518987],\n",
       "       [-0.21518987, -0.44303797],\n",
       "       [-0.44303797, -0.5443038 ],\n",
       "       [-0.5443038 ,  0.10548523],\n",
       "       [ 0.10548523,  0.00421941],\n",
       "       [ 0.00421941, -0.08016878],\n",
       "       [-0.08016878,  0.05485232],\n",
       "       [ 0.05485232,  0.55274262],\n",
       "       [ 0.55274262,  0.30801688],\n",
       "       [ 0.30801688, -0.34177215],\n",
       "       [-0.34177215,  0.3164557 ],\n",
       "       [ 0.3164557 , -0.32489451],\n",
       "       [-0.32489451, -0.20675105],\n",
       "       [-0.20675105,  0.34177215],\n",
       "       [ 0.34177215, -0.4092827 ],\n",
       "       [-0.4092827 ,  0.07172996],\n",
       "       [ 0.07172996,  0.18987342],\n",
       "       [ 0.18987342, -0.13924051],\n",
       "       [-0.13924051, -0.32489451],\n",
       "       [-0.32489451,  0.29957806],\n",
       "       [ 0.29957806, -0.22362869],\n",
       "       [-0.22362869,  0.21518987],\n",
       "       [ 0.21518987,  0.08860759],\n",
       "       [ 0.08860759,  0.02953586],\n",
       "       [ 0.02953586,  0.0464135 ],\n",
       "       [ 0.0464135 ,  0.24894515],\n",
       "       [ 0.24894515, -0.41772152],\n",
       "       [-0.41772152, -0.07172996],\n",
       "       [-0.07172996,  0.01265823],\n",
       "       [ 0.01265823,  0.46835443],\n",
       "       [ 0.46835443, -0.14767932],\n",
       "       [-0.14767932,  0.94092827],\n",
       "       [ 0.94092827,  0.11392405],\n",
       "       [ 0.11392405,  0.08016878],\n",
       "       [ 0.08016878, -0.18987342],\n",
       "       [-0.18987342, -0.12236287],\n",
       "       [-0.12236287,  0.12236287],\n",
       "       [ 0.12236287, -0.29957806],\n",
       "       [-0.29957806,  0.29957806],\n",
       "       [ 0.29957806,  0.08860759],\n",
       "       [ 0.08860759, -0.11392405],\n",
       "       [-0.11392405,  0.02109705],\n",
       "       [ 0.02109705, -0.14767932],\n",
       "       [-0.14767932,  0.69620253],\n",
       "       [ 0.69620253,  0.4092827 ],\n",
       "       [ 0.4092827 , -0.08016878],\n",
       "       [-0.08016878, -0.0464135 ],\n",
       "       [-0.0464135 ,  0.16455696],\n",
       "       [ 0.16455696,  0.01265823],\n",
       "       [ 0.01265823,  0.24050633],\n",
       "       [ 0.24050633,  0.11392405],\n",
       "       [ 0.11392405,  0.01265823],\n",
       "       [ 0.01265823,  0.4092827 ],\n",
       "       [ 0.4092827 ,  0.15611814],\n",
       "       [ 0.15611814, -0.17299578],\n",
       "       [-0.17299578, -0.13924051],\n",
       "       [-0.13924051,  0.10548523],\n",
       "       [ 0.10548523,  0.09704641],\n",
       "       [ 0.09704641,  0.01265823],\n",
       "       [ 0.01265823,  0.0464135 ],\n",
       "       [ 0.0464135 ,  0.01265823],\n",
       "       [ 0.01265823, -0.01265823],\n",
       "       [-0.01265823, -0.37552743]])"
      ]
     },
     "execution_count": 67,
     "metadata": {},
     "output_type": "execute_result"
    }
   ],
   "source": [
    "test_scaled"
   ]
  },
  {
   "cell_type": "code",
   "execution_count": 61,
   "metadata": {
    "ExecuteTime": {
     "end_time": "2019-10-28T04:51:35.625069Z",
     "start_time": "2019-10-28T04:51:35.492594Z"
    }
   },
   "outputs": [
    {
     "data": {
      "image/png": "[encoded data removed]",
      "text/plain": [
       "<Figure size 432x288 with 1 Axes>"
      ]
     },
     "metadata": {
      "needs_background": "light"
     },
     "output_type": "display_data"
    }
   ],
   "source": [
    "# line plot of observed vs predicted\n",
    "pyplot.plot(raw_values[-100:])\n",
    "pyplot.plot(predictions)\n",
    "pyplot.show()"
   ]
  }
 ],
 "metadata": {
  "hide_input": false,
  "kernelspec": {
   "display_name": "Python 3",
   "language": "python",
   "name": "python3"
  },
  "language_info": {
   "codemirror_mode": {
    "name": "ipython",
    "version": 3
   },
   "file_extension": ".py",
   "mimetype": "text/x-python",
   "name": "python",
   "nbconvert_exporter": "python",
   "pygments_lexer": "ipython3",
   "version": "3.7.3"
  },
  "latex_envs": {
   "LaTeX_envs_menu_present": true,
   "autoclose": false,
   "autocomplete": true,
   "bibliofile": "biblio.bib",
   "cite_by": "apalike",
   "current_citInitial": 1,
   "eqLabelWithNumbers": true,
   "eqNumInitial": 1,
   "hotkeys": {
    "equation": "Ctrl-E",
    "itemize": "Ctrl-I"
   },
   "labels_anchors": false,
   "latex_user_defs": false,
   "report_style_numbering": false,
   "user_envs_cfg": false
  },
  "varInspector": {
   "cols": {
    "lenName": 16,
    "lenType": 16,
    "lenVar": 40
   },
   "kernels_config": {
    "python": {
     "delete_cmd_postfix": "",
     "delete_cmd_prefix": "del ",
     "library": "var_list.py",
     "varRefreshCmd": "print(var_dic_list())"
    },
    "r": {
     "delete_cmd_postfix": ") ",
     "delete_cmd_prefix": "rm(",
     "library": "var_list.r",
     "varRefreshCmd": "cat(var_dic_list()) "
    }
   },
   "types_to_exclude": [
    "module",
    "function",
    "builtin_function_or_method",
    "instance",
    "_Feature"
   ],
   "window_display": false
  }
 },
 "nbformat": 4,
 "nbformat_minor": 2
}
