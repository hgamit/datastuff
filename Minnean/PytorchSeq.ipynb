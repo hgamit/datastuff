{
 "cells": [
  {
   "cell_type": "code",
   "execution_count": 4,
   "metadata": {
    "ExecuteTime": {
     "end_time": "2019-10-29T00:41:23.843291Z",
     "start_time": "2019-10-29T00:41:23.835291Z"
    }
   },
   "outputs": [],
   "source": [
    "%matplotlib inline\n",
    "#https://romanorac.github.io/machine/learning/2019/09/27/time-series-prediction-with-lstm.html\n",
    "import glob\n",
    "from platform import python_version\n",
    "\n",
    "import matplotlib\n",
    "import numpy as np\n",
    "import pandas as pd\n",
    "import sklearn\n",
    "import torch \n",
    "\n",
    "#pip3 install https://download.pytorch.org/whl/cu90/torch-1.1.0-cp37-cp37m-win_amd64.whl\n",
    "\n",
    "import matplotlib.pyplot as plt\n",
    "\n",
    "plt.rcParams[\n",
    "    \"figure.facecolor\"\n",
    "] = \"w\"  # force white background on plots when using dark mode in JupyterLab"
   ]
  },
  {
   "cell_type": "code",
   "execution_count": 8,
   "metadata": {
    "ExecuteTime": {
     "end_time": "2019-10-29T00:43:36.896457Z",
     "start_time": "2019-10-29T00:43:04.952003Z"
    }
   },
   "outputs": [
    {
     "data": {
      "text/plain": [
       "(12470895, 10)"
      ]
     },
     "execution_count": 8,
     "metadata": {},
     "output_type": "execute_result"
    }
   ],
   "source": [
    "files = sorted(glob.glob('marketdata/bitmex/*.csv.gz'))\n",
    "df = pd.concat(map(pd.read_csv, files))\n",
    "df.shape"
   ]
  },
  {
   "cell_type": "code",
   "execution_count": 10,
   "metadata": {
    "ExecuteTime": {
     "end_time": "2019-10-29T00:45:11.335755Z",
     "start_time": "2019-10-29T00:44:54.795197Z"
    }
   },
   "outputs": [
    {
     "data": {
      "text/html": [
       "<div>\n",
       "<style scoped>\n",
       "    .dataframe tbody tr th:only-of-type {\n",
       "        vertical-align: middle;\n",
       "    }\n",
       "\n",
       "    .dataframe tbody tr th {\n",
       "        vertical-align: top;\n",
       "    }\n",
       "\n",
       "    .dataframe thead th {\n",
       "        text-align: right;\n",
       "    }\n",
       "</style>\n",
       "<table border=\"1\" class=\"dataframe\">\n",
       "  <thead>\n",
       "    <tr style=\"text-align: right;\">\n",
       "      <th></th>\n",
       "      <th>symbol</th>\n",
       "      <th>side</th>\n",
       "      <th>size</th>\n",
       "      <th>price</th>\n",
       "      <th>tickDirection</th>\n",
       "      <th>trdMatchID</th>\n",
       "      <th>grossValue</th>\n",
       "      <th>homeNotional</th>\n",
       "      <th>foreignNotional</th>\n",
       "    </tr>\n",
       "    <tr>\n",
       "      <th>timestamp</th>\n",
       "      <th></th>\n",
       "      <th></th>\n",
       "      <th></th>\n",
       "      <th></th>\n",
       "      <th></th>\n",
       "      <th></th>\n",
       "      <th></th>\n",
       "      <th></th>\n",
       "      <th></th>\n",
       "    </tr>\n",
       "  </thead>\n",
       "  <tbody>\n",
       "    <tr>\n",
       "      <th>2019-10-14 00:00:02.993748</th>\n",
       "      <td>XBTUSD</td>\n",
       "      <td>Buy</td>\n",
       "      <td>9</td>\n",
       "      <td>8278.0</td>\n",
       "      <td>ZeroPlusTick</td>\n",
       "      <td>4dbd315a-a23b-fef5-9e22-0ef8c1158128</td>\n",
       "      <td>108720</td>\n",
       "      <td>0.001087</td>\n",
       "      <td>9.0</td>\n",
       "    </tr>\n",
       "    <tr>\n",
       "      <th>2019-10-14 00:00:03.009085</th>\n",
       "      <td>XBTUSD</td>\n",
       "      <td>Buy</td>\n",
       "      <td>37</td>\n",
       "      <td>8278.0</td>\n",
       "      <td>ZeroPlusTick</td>\n",
       "      <td>c05bcbf6-c556-c4e5-c314-9b08c5e63039</td>\n",
       "      <td>446960</td>\n",
       "      <td>0.004470</td>\n",
       "      <td>37.0</td>\n",
       "    </tr>\n",
       "    <tr>\n",
       "      <th>2019-10-14 00:00:03.020494</th>\n",
       "      <td>XBTUSD</td>\n",
       "      <td>Buy</td>\n",
       "      <td>930</td>\n",
       "      <td>8278.0</td>\n",
       "      <td>ZeroPlusTick</td>\n",
       "      <td>767f1d5f-fe52-ebde-6286-0ad46be1d915</td>\n",
       "      <td>11234400</td>\n",
       "      <td>0.112344</td>\n",
       "      <td>930.0</td>\n",
       "    </tr>\n",
       "    <tr>\n",
       "      <th>2019-10-14 00:00:03.037252</th>\n",
       "      <td>XBTUSD</td>\n",
       "      <td>Sell</td>\n",
       "      <td>1</td>\n",
       "      <td>8277.5</td>\n",
       "      <td>ZeroMinusTick</td>\n",
       "      <td>637b1eb3-a2a5-4070-8330-4a6f6e28ac84</td>\n",
       "      <td>12081</td>\n",
       "      <td>0.000121</td>\n",
       "      <td>1.0</td>\n",
       "    </tr>\n",
       "    <tr>\n",
       "      <th>2019-10-14 00:00:03.037252</th>\n",
       "      <td>XBTUSD</td>\n",
       "      <td>Sell</td>\n",
       "      <td>1</td>\n",
       "      <td>8277.5</td>\n",
       "      <td>ZeroMinusTick</td>\n",
       "      <td>50026164-bad5-0dd4-c2a6-f4815363b204</td>\n",
       "      <td>12081</td>\n",
       "      <td>0.000121</td>\n",
       "      <td>1.0</td>\n",
       "    </tr>\n",
       "  </tbody>\n",
       "</table>\n",
       "</div>"
      ],
      "text/plain": [
       "                            symbol  side  size   price  tickDirection  \\\n",
       "timestamp                                                               \n",
       "2019-10-14 00:00:02.993748  XBTUSD   Buy     9  8278.0   ZeroPlusTick   \n",
       "2019-10-14 00:00:03.009085  XBTUSD   Buy    37  8278.0   ZeroPlusTick   \n",
       "2019-10-14 00:00:03.020494  XBTUSD   Buy   930  8278.0   ZeroPlusTick   \n",
       "2019-10-14 00:00:03.037252  XBTUSD  Sell     1  8277.5  ZeroMinusTick   \n",
       "2019-10-14 00:00:03.037252  XBTUSD  Sell     1  8277.5  ZeroMinusTick   \n",
       "\n",
       "                                                      trdMatchID  grossValue  \\\n",
       "timestamp                                                                      \n",
       "2019-10-14 00:00:02.993748  4dbd315a-a23b-fef5-9e22-0ef8c1158128      108720   \n",
       "2019-10-14 00:00:03.009085  c05bcbf6-c556-c4e5-c314-9b08c5e63039      446960   \n",
       "2019-10-14 00:00:03.020494  767f1d5f-fe52-ebde-6286-0ad46be1d915    11234400   \n",
       "2019-10-14 00:00:03.037252  637b1eb3-a2a5-4070-8330-4a6f6e28ac84       12081   \n",
       "2019-10-14 00:00:03.037252  50026164-bad5-0dd4-c2a6-f4815363b204       12081   \n",
       "\n",
       "                            homeNotional  foreignNotional  \n",
       "timestamp                                                  \n",
       "2019-10-14 00:00:02.993748      0.001087              9.0  \n",
       "2019-10-14 00:00:03.009085      0.004470             37.0  \n",
       "2019-10-14 00:00:03.020494      0.112344            930.0  \n",
       "2019-10-14 00:00:03.037252      0.000121              1.0  \n",
       "2019-10-14 00:00:03.037252      0.000121              1.0  "
      ]
     },
     "execution_count": 10,
     "metadata": {},
     "output_type": "execute_result"
    }
   ],
   "source": [
    "df = df[df.symbol == 'XBTUSD']\n",
    "df.timestamp = pd.to_datetime(df.timestamp.str.replace('D', 'T'))\n",
    "df = df.sort_values('timestamp')\n",
    "df.set_index('timestamp', inplace=True)\n",
    "df.head()\n",
    "#We are going to use 3 columns: timestamp, price and foreignNotional."
   ]
  },
  {
   "cell_type": "code",
   "execution_count": 11,
   "metadata": {
    "ExecuteTime": {
     "end_time": "2019-10-29T00:58:43.876595Z",
     "start_time": "2019-10-29T00:58:35.002327Z"
    }
   },
   "outputs": [
    {
     "data": {
      "text/plain": [
       "(20160,)"
      ]
     },
     "execution_count": 11,
     "metadata": {},
     "output_type": "execute_result"
    }
   ],
   "source": [
    "df_vwap = df.groupby(pd.Grouper(freq=\"1Min\")).apply(\n",
    "    lambda row: pd.np.sum(row.price * row.foreignNotional) / pd.np.sum(row.foreignNotional)\n",
    ")\n",
    "df_vwap.shape"
   ]
  },
  {
   "cell_type": "code",
   "execution_count": 17,
   "metadata": {
    "ExecuteTime": {
     "end_time": "2019-10-29T01:05:51.540177Z",
     "start_time": "2019-10-29T01:05:51.169592Z"
    }
   },
   "outputs": [
    {
     "data": {
      "text/plain": [
       "<matplotlib.lines.Line2D at 0x196922fe518>"
      ]
     },
     "execution_count": 17,
     "metadata": {},
     "output_type": "execute_result"
    },
    {
     "data": {
      "image/png": "[encoded data removed]",
      "text/plain": [
       "<Figure size 1008x504 with 1 Axes>"
      ]
     },
     "metadata": {},
     "output_type": "display_data"
    }
   ],
   "source": [
    "ax = df_vwap.plot(figsize=(14, 7))\n",
    "ax.axvline(\"2019-10-23\", linestyle=\"--\", c=\"black\")\n",
    "ax.axvline(\"2019-10-26\", linestyle=\"--\", c=\"black\")"
   ]
  },
  {
   "cell_type": "markdown",
   "metadata": {},
   "source": [
    "the first part of the data for the training set, part in-between for validation set and the last part of the data for the test set (vertical lines are delimiters). We can observe volatility in the VWAP, where the price reaches its highs in the first part of August and lows at the end of August. The high and low are captured in the training set, which is important, as the model most probably wouldn’t work well on unseen VWAP intervals."
   ]
  },
  {
   "cell_type": "code",
   "execution_count": 21,
   "metadata": {
    "ExecuteTime": {
     "end_time": "2019-10-29T01:07:07.447848Z",
     "start_time": "2019-10-29T01:07:07.439833Z"
    }
   },
   "outputs": [
    {
     "data": {
      "text/plain": [
       "(12960, 1)"
      ]
     },
     "execution_count": 21,
     "metadata": {},
     "output_type": "execute_result"
    }
   ],
   "source": [
    "df_train = df_vwap[df_vwap.index < \"2019-10-23\"].to_frame(name=\"vwap\")\n",
    "df_train.shape"
   ]
  },
  {
   "cell_type": "code",
   "execution_count": 24,
   "metadata": {
    "ExecuteTime": {
     "end_time": "2019-10-29T01:07:35.442720Z",
     "start_time": "2019-10-29T01:07:35.434719Z"
    }
   },
   "outputs": [
    {
     "data": {
      "text/html": [
       "<div>\n",
       "<style scoped>\n",
       "    .dataframe tbody tr th:only-of-type {\n",
       "        vertical-align: middle;\n",
       "    }\n",
       "\n",
       "    .dataframe tbody tr th {\n",
       "        vertical-align: top;\n",
       "    }\n",
       "\n",
       "    .dataframe thead th {\n",
       "        text-align: right;\n",
       "    }\n",
       "</style>\n",
       "<table border=\"1\" class=\"dataframe\">\n",
       "  <thead>\n",
       "    <tr style=\"text-align: right;\">\n",
       "      <th></th>\n",
       "      <th>vwap</th>\n",
       "    </tr>\n",
       "    <tr>\n",
       "      <th>timestamp</th>\n",
       "      <th></th>\n",
       "    </tr>\n",
       "  </thead>\n",
       "  <tbody>\n",
       "    <tr>\n",
       "      <th>2019-10-14 00:00:00</th>\n",
       "      <td>8276.846772</td>\n",
       "    </tr>\n",
       "    <tr>\n",
       "      <th>2019-10-14 00:01:00</th>\n",
       "      <td>8270.661678</td>\n",
       "    </tr>\n",
       "    <tr>\n",
       "      <th>2019-10-14 00:02:00</th>\n",
       "      <td>8265.244021</td>\n",
       "    </tr>\n",
       "    <tr>\n",
       "      <th>2019-10-14 00:03:00</th>\n",
       "      <td>8259.053885</td>\n",
       "    </tr>\n",
       "    <tr>\n",
       "      <th>2019-10-14 00:04:00</th>\n",
       "      <td>8257.609670</td>\n",
       "    </tr>\n",
       "  </tbody>\n",
       "</table>\n",
       "</div>"
      ],
      "text/plain": [
       "                            vwap\n",
       "timestamp                       \n",
       "2019-10-14 00:00:00  8276.846772\n",
       "2019-10-14 00:01:00  8270.661678\n",
       "2019-10-14 00:02:00  8265.244021\n",
       "2019-10-14 00:03:00  8259.053885\n",
       "2019-10-14 00:04:00  8257.609670"
      ]
     },
     "execution_count": 24,
     "metadata": {},
     "output_type": "execute_result"
    }
   ],
   "source": [
    "df_train.head()"
   ]
  },
  {
   "cell_type": "code",
   "execution_count": 22,
   "metadata": {
    "ExecuteTime": {
     "end_time": "2019-10-29T01:07:09.125816Z",
     "start_time": "2019-10-29T01:07:09.113816Z"
    }
   },
   "outputs": [
    {
     "data": {
      "text/plain": [
       "(4320, 1)"
      ]
     },
     "execution_count": 22,
     "metadata": {},
     "output_type": "execute_result"
    }
   ],
   "source": [
    "df_val = df_vwap[(df_vwap.index >= \"2019-10-23\") & (df_vwap.index < \"2019-10-26\")].to_frame(name=\"vwap\")\n",
    "df_val.shape"
   ]
  },
  {
   "cell_type": "code",
   "execution_count": 23,
   "metadata": {
    "ExecuteTime": {
     "end_time": "2019-10-29T01:07:11.907438Z",
     "start_time": "2019-10-29T01:07:11.899439Z"
    }
   },
   "outputs": [
    {
     "data": {
      "text/plain": [
       "(2880, 1)"
      ]
     },
     "execution_count": 23,
     "metadata": {},
     "output_type": "execute_result"
    }
   ],
   "source": [
    "df_test = df_vwap[df_vwap.index >= \"2019-10-26\"].to_frame(name='vwap')\n",
    "df_test.shape"
   ]
  },
  {
   "cell_type": "code",
   "execution_count": 25,
   "metadata": {
    "ExecuteTime": {
     "end_time": "2019-10-29T01:08:29.793378Z",
     "start_time": "2019-10-29T01:08:29.028710Z"
    }
   },
   "outputs": [],
   "source": [
    "from sklearn.preprocessing import StandardScaler\n",
    "\n",
    "scaler = StandardScaler()\n",
    "train_arr = scaler.fit_transform(df_train)\n",
    "val_arr = scaler.transform(df_val)\n",
    "test_arr = scaler.transform(df_test)"
   ]
  },
  {
   "cell_type": "code",
   "execution_count": 26,
   "metadata": {
    "ExecuteTime": {
     "end_time": "2019-10-29T01:11:10.414250Z",
     "start_time": "2019-10-29T01:11:10.337856Z"
    }
   },
   "outputs": [],
   "source": [
    "def transform_data(arr, seq_len):\n",
    "    x, y = [], []\n",
    "    for i in range(len(arr) - seq_len):\n",
    "        x_i = arr[i : i + seq_len]\n",
    "        y_i = arr[i + 1 : i + seq_len + 1]\n",
    "        x.append(x_i)\n",
    "        y.append(y_i)\n",
    "    x_arr = np.array(x).reshape(-1, seq_len)\n",
    "    y_arr = np.array(y).reshape(-1, seq_len)\n",
    "    x_var = Variable(torch.from_numpy(x_arr).float())\n",
    "    y_var = Variable(torch.from_numpy(y_arr).float())\n",
    "    return x_var, y_var\n",
    "\n",
    "from torch.autograd import Variable\n",
    "\n",
    "seq_len = 100\n",
    "\n",
    "x_train, y_train = transform_data(train_arr, seq_len)\n",
    "x_val, y_val = transform_data(val_arr, seq_len)\n",
    "x_test, y_test = transform_data(test_arr, seq_len)"
   ]
  },
  {
   "cell_type": "code",
   "execution_count": 30,
   "metadata": {
    "ExecuteTime": {
     "end_time": "2019-10-29T01:15:23.695689Z",
     "start_time": "2019-10-29T01:15:23.683653Z"
    }
   },
   "outputs": [],
   "source": [
    "import torch.nn as nn\n",
    "import torch.optim as optim\n",
    "\n",
    "\n",
    "class Model(nn.Module):\n",
    "    def __init__(self, input_size, hidden_size, output_size):\n",
    "        super(Model, self).__init__()\n",
    "        self.input_size = input_size\n",
    "        self.hidden_size = hidden_size\n",
    "        self.output_size = output_size\n",
    "        self.lstm = nn.LSTMCell(self.input_size, self.hidden_size)\n",
    "        self.linear = nn.Linear(self.hidden_size, self.output_size)\n",
    "\n",
    "    def forward(self, input, future=0, y=None):\n",
    "        outputs = []\n",
    "\n",
    "        # reset the state of LSTM\n",
    "        # the state is kept till the end of the sequence\n",
    "        h_t = torch.zeros(input.size(0), self.hidden_size, dtype=torch.float32)\n",
    "        c_t = torch.zeros(input.size(0), self.hidden_size, dtype=torch.float32)\n",
    "\n",
    "        for i, input_t in enumerate(input.chunk(input.size(1), dim=1)):\n",
    "            h_t, c_t = self.lstm(input_t, (h_t, c_t))\n",
    "            output = self.linear(h_t)\n",
    "            outputs += [output]\n",
    "\n",
    "        for i in range(future):\n",
    "            if y is not None and random.random() > 0.5:\n",
    "                output = y[:, [i]]  # teacher forcing\n",
    "            h_t, c_t = self.lstm(output, (h_t, c_t))\n",
    "            output = self.linear(h_t)\n",
    "            outputs += [output]\n",
    "        outputs = torch.stack(outputs, 1).squeeze(2)\n",
    "        return outputs"
   ]
  },
  {
   "cell_type": "code",
   "execution_count": 31,
   "metadata": {
    "ExecuteTime": {
     "end_time": "2019-10-29T01:16:12.362986Z",
     "start_time": "2019-10-29T01:16:12.338968Z"
    }
   },
   "outputs": [],
   "source": [
    "import time\n",
    "import random\n",
    "\n",
    "\n",
    "class Optimization:\n",
    "    \"\"\" A helper class to train, test and diagnose the LSTM\"\"\"\n",
    "\n",
    "    def __init__(self, model, loss_fn, optimizer, scheduler):\n",
    "        self.model = model\n",
    "        self.loss_fn = loss_fn\n",
    "        self.optimizer = optimizer\n",
    "        self.scheduler = scheduler\n",
    "        self.train_losses = []\n",
    "        self.val_losses = []\n",
    "        self.futures = []\n",
    "\n",
    "    @staticmethod\n",
    "    def generate_batch_data(x, y, batch_size):\n",
    "        for batch, i in enumerate(range(0, len(x) - batch_size, batch_size)):\n",
    "            x_batch = x[i : i + batch_size]\n",
    "            y_batch = y[i : i + batch_size]\n",
    "            yield x_batch, y_batch, batch\n",
    "\n",
    "    def train(\n",
    "        self,\n",
    "        x_train,\n",
    "        y_train,\n",
    "        x_val=None,\n",
    "        y_val=None,\n",
    "        batch_size=100,\n",
    "        n_epochs=15,\n",
    "        do_teacher_forcing=None,\n",
    "    ):\n",
    "        seq_len = x_train.shape[1]\n",
    "        for epoch in range(n_epochs):\n",
    "            start_time = time.time()\n",
    "            self.futures = []\n",
    "\n",
    "            train_loss = 0\n",
    "            for x_batch, y_batch, batch in self.generate_batch_data(x_train, y_train, batch_size):\n",
    "                y_pred = self._predict(x_batch, y_batch, seq_len, do_teacher_forcing)\n",
    "                self.optimizer.zero_grad()\n",
    "                loss = self.loss_fn(y_pred, y_batch)\n",
    "                loss.backward()\n",
    "                self.optimizer.step()\n",
    "                train_loss += loss.item()\n",
    "            self.scheduler.step()\n",
    "            train_loss /= batch\n",
    "            self.train_losses.append(train_loss)\n",
    "\n",
    "            self._validation(x_val, y_val, batch_size)\n",
    "\n",
    "            elapsed = time.time() - start_time\n",
    "            print(\n",
    "                \"Epoch %d Train loss: %.2f. Validation loss: %.2f. Avg future: %.2f. Elapsed time: %.2fs.\"\n",
    "                % (epoch + 1, train_loss, self.val_losses[-1], np.average(self.futures), elapsed)\n",
    "            )\n",
    "\n",
    "    def _predict(self, x_batch, y_batch, seq_len, do_teacher_forcing):\n",
    "        if do_teacher_forcing:\n",
    "            future = random.randint(1, int(seq_len) / 2)\n",
    "            limit = x_batch.size(1) - future\n",
    "            y_pred = self.model(x_batch[:, :limit], future=future, y=y_batch[:, limit:])\n",
    "        else:\n",
    "            future = 0\n",
    "            y_pred = self.model(x_batch)\n",
    "        self.futures.append(future)\n",
    "        return y_pred\n",
    "\n",
    "    def _validation(self, x_val, y_val, batch_size):\n",
    "        if x_val is None or y_val is None:\n",
    "            return\n",
    "        with torch.no_grad():\n",
    "            val_loss = 0\n",
    "            for x_batch, y_batch, batch in self.generate_batch_data(x_val, y_val, batch_size):\n",
    "                y_pred = self.model(x_batch)\n",
    "                loss = self.loss_fn(y_pred, y_batch)\n",
    "                val_loss += loss.item()\n",
    "            val_loss /= batch\n",
    "            self.val_losses.append(val_loss)\n",
    "\n",
    "    def evaluate(self, x_test, y_test, batch_size, future=1):\n",
    "        with torch.no_grad():\n",
    "            test_loss = 0\n",
    "            actual, predicted = [], []\n",
    "            for x_batch, y_batch, batch in self.generate_batch_data(x_test, y_test, batch_size):\n",
    "                y_pred = self.model(x_batch, future=future)\n",
    "                y_pred = (\n",
    "                    y_pred[:, -len(y_batch) :] if y_pred.shape[1] > y_batch.shape[1] else y_pred\n",
    "                )\n",
    "                loss = self.loss_fn(y_pred, y_batch)\n",
    "                test_loss += loss.item()\n",
    "                actual += torch.squeeze(y_batch[:, -1]).data.cpu().numpy().tolist()\n",
    "                predicted += torch.squeeze(y_pred[:, -1]).data.cpu().numpy().tolist()\n",
    "            test_loss /= batch\n",
    "            return actual, predicted, test_loss\n",
    "\n",
    "    def plot_losses(self):\n",
    "        plt.plot(self.train_losses, label=\"Training loss\")\n",
    "        plt.plot(self.val_losses, label=\"Validation loss\")\n",
    "        plt.legend()\n",
    "        plt.title(\"Losses\")"
   ]
  },
  {
   "cell_type": "code",
   "execution_count": 32,
   "metadata": {
    "ExecuteTime": {
     "end_time": "2019-10-29T01:16:42.828311Z",
     "start_time": "2019-10-29T01:16:42.820317Z"
    }
   },
   "outputs": [],
   "source": [
    "def generate_sequence(scaler, model, x_sample, future=1000):\n",
    "    \"\"\" Generate future values for x_sample with the model \"\"\"\n",
    "    y_pred_tensor = model(x_sample, future=future)\n",
    "    y_pred = y_pred_tensor.cpu().tolist()\n",
    "    y_pred = scaler.inverse_transform(y_pred)\n",
    "    return y_pred\n",
    "\n",
    "def to_dataframe(actual, predicted):\n",
    "    return pd.DataFrame({\"actual\": actual, \"predicted\": predicted})\n",
    "\n",
    "\n",
    "def inverse_transform(scalar, df, columns):\n",
    "    for col in columns:\n",
    "        df[col] = scaler.inverse_transform(df[col])\n",
    "    return df"
   ]
  },
  {
   "cell_type": "code",
   "execution_count": 33,
   "metadata": {
    "ExecuteTime": {
     "end_time": "2019-10-29T01:21:31.921361Z",
     "start_time": "2019-10-29T01:17:30.013643Z"
    }
   },
   "outputs": [
    {
     "name": "stdout",
     "output_type": "stream",
     "text": [
      "Epoch 1 Train loss: 0.53. Validation loss: 6.81. Avg future: 0.00. Elapsed time: 17.72s.\n",
      "Epoch 2 Train loss: 0.06. Validation loss: 6.20. Avg future: 0.00. Elapsed time: 16.35s.\n",
      "Epoch 3 Train loss: 0.04. Validation loss: 5.45. Avg future: 0.00. Elapsed time: 15.17s.\n",
      "Epoch 4 Train loss: 0.03. Validation loss: 4.94. Avg future: 0.00. Elapsed time: 15.82s.\n",
      "Epoch 5 Train loss: 0.02. Validation loss: 4.49. Avg future: 0.00. Elapsed time: 15.94s.\n",
      "Epoch 6 Train loss: 0.02. Validation loss: 4.58. Avg future: 0.00. Elapsed time: 15.73s.\n",
      "Epoch 7 Train loss: 0.02. Validation loss: 4.55. Avg future: 0.00. Elapsed time: 15.21s.\n",
      "Epoch 8 Train loss: 0.02. Validation loss: 4.52. Avg future: 0.00. Elapsed time: 16.23s.\n",
      "Epoch 9 Train loss: 0.02. Validation loss: 4.48. Avg future: 0.00. Elapsed time: 16.17s.\n",
      "Epoch 10 Train loss: 0.01. Validation loss: 4.43. Avg future: 0.00. Elapsed time: 17.06s.\n",
      "Epoch 11 Train loss: 0.01. Validation loss: 4.43. Avg future: 0.00. Elapsed time: 16.81s.\n",
      "Epoch 12 Train loss: 0.01. Validation loss: 4.42. Avg future: 0.00. Elapsed time: 16.21s.\n",
      "Epoch 13 Train loss: 0.01. Validation loss: 4.42. Avg future: 0.00. Elapsed time: 15.53s.\n",
      "Epoch 14 Train loss: 0.01. Validation loss: 4.41. Avg future: 0.00. Elapsed time: 15.71s.\n",
      "Epoch 15 Train loss: 0.01. Validation loss: 4.40. Avg future: 0.00. Elapsed time: 16.22s.\n"
     ]
    }
   ],
   "source": [
    "model_1 = Model(input_size=1, hidden_size=21, output_size=1)\n",
    "loss_fn_1 = nn.MSELoss()\n",
    "optimizer_1 = optim.Adam(model_1.parameters(), lr=1e-3)\n",
    "scheduler_1 = optim.lr_scheduler.StepLR(optimizer_1, step_size=5, gamma=0.1)\n",
    "optimization_1 = Optimization(model_1, loss_fn_1, optimizer_1, scheduler_1)\n",
    "optimization_1.train(x_train, y_train, x_val, y_val, do_teacher_forcing=False)"
   ]
  },
  {
   "cell_type": "code",
   "execution_count": 34,
   "metadata": {
    "ExecuteTime": {
     "end_time": "2019-10-29T01:21:32.211263Z",
     "start_time": "2019-10-29T01:21:31.973072Z"
    }
   },
   "outputs": [
    {
     "data": {
      "image/png": "[encoded data removed]",
      "text/plain": [
       "<Figure size 432x288 with 1 Axes>"
      ]
     },
     "metadata": {},
     "output_type": "display_data"
    }
   ],
   "source": [
    "optimization_1.plot_losses()"
   ]
  },
  {
   "cell_type": "code",
   "execution_count": 35,
   "metadata": {
    "ExecuteTime": {
     "end_time": "2019-10-29T01:21:33.303718Z",
     "start_time": "2019-10-29T01:21:32.251272Z"
    }
   },
   "outputs": [
    {
     "name": "stdout",
     "output_type": "stream",
     "text": [
      "Test loss 50.6742\n"
     ]
    },
    {
     "data": {
      "image/png": "[encoded data removed]",
      "text/plain": [
       "<Figure size 1008x504 with 1 Axes>"
      ]
     },
     "metadata": {},
     "output_type": "display_data"
    }
   ],
   "source": [
    "actual_1, predicted_1, test_loss_1 = optimization_1.evaluate(x_test, y_test, future=5, batch_size=100)\n",
    "df_result_1 = to_dataframe(actual_1, predicted_1) \n",
    "df_result_1 = inverse_transform(scaler, df_result_1, ['actual', 'predicted'])\n",
    "df_result_1.plot(figsize=(14, 7))\n",
    "print(\"Test loss %.4f\" % test_loss_1)"
   ]
  }
 ],
 "metadata": {
  "hide_input": false,
  "kernelspec": {
   "display_name": "Python 3",
   "language": "python",
   "name": "python3"
  },
  "language_info": {
   "codemirror_mode": {
    "name": "ipython",
    "version": 3
   },
   "file_extension": ".py",
   "mimetype": "text/x-python",
   "name": "python",
   "nbconvert_exporter": "python",
   "pygments_lexer": "ipython3",
   "version": "3.7.3"
  },
  "latex_envs": {
   "LaTeX_envs_menu_present": true,
   "autoclose": false,
   "autocomplete": true,
   "bibliofile": "biblio.bib",
   "cite_by": "apalike",
   "current_citInitial": 1,
   "eqLabelWithNumbers": true,
   "eqNumInitial": 1,
   "hotkeys": {
    "equation": "Ctrl-E",
    "itemize": "Ctrl-I"
   },
   "labels_anchors": false,
   "latex_user_defs": false,
   "report_style_numbering": false,
   "user_envs_cfg": false
  },
  "varInspector": {
   "cols": {
    "lenName": 16,
    "lenType": 16,
    "lenVar": 40
   },
   "kernels_config": {
    "python": {
     "delete_cmd_postfix": "",
     "delete_cmd_prefix": "del ",
     "library": "var_list.py",
     "varRefreshCmd": "print(var_dic_list())"
    },
    "r": {
     "delete_cmd_postfix": ") ",
     "delete_cmd_prefix": "rm(",
     "library": "var_list.r",
     "varRefreshCmd": "cat(var_dic_list()) "
    }
   },
   "types_to_exclude": [
    "module",
    "function",
    "builtin_function_or_method",
    "instance",
    "_Feature"
   ],
   "window_display": false
  }
 },
 "nbformat": 4,
 "nbformat_minor": 2
}
