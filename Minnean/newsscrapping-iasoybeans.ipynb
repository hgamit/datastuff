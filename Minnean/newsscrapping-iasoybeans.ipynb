{
 "cells": [
  {
   "cell_type": "code",
   "execution_count": 1,
   "metadata": {
    "ExecuteTime": {
     "end_time": "2019-12-10T20:07:14.730352Z",
     "start_time": "2019-12-10T20:07:13.011950Z"
    }
   },
   "outputs": [
    {
     "name": "stdout",
     "output_type": "stream",
     "text": [
      "Number of News articles 50\n"
     ]
    }
   ],
   "source": [
    "# importing the necessary packages\n",
    "import requests, re\n",
    "from bs4 import BeautifulSoup\n",
    "import numpy as np\n",
    "import pandas as pd\n",
    "import time, pdb\n",
    "\n",
    "coverpage_news = []\n",
    "website = 'https://www.iasoybeans.com'\n",
    "\n",
    "\n",
    "##Extract Links\n",
    "for i in range(5):\n",
    "    url = website+\"/search/news/?q=soybean&p=\" + str(i)\n",
    "    r1 = requests.get(url)\n",
    "    coverpage = r1.content\n",
    "    soup1 = BeautifulSoup(coverpage, 'html5lib')\n",
    "    for li in soup1.find_all('li'):\n",
    "        h3 = li.findChildren('h3')\n",
    "        for a in h3:\n",
    "            a_link = a.find('a')['href']\n",
    "            #print(a_link)\n",
    "            coverpage_news.append(a_link)\n",
    "\n",
    "print(\"Number of News articles\", len(coverpage_news))"
   ]
  },
  {
   "cell_type": "code",
   "execution_count": 2,
   "metadata": {
    "ExecuteTime": {
     "end_time": "2019-12-10T20:07:23.070483Z",
     "start_time": "2019-12-10T20:07:14.730352Z"
    }
   },
   "outputs": [
    {
     "name": "stdout",
     "output_type": "stream",
     "text": [
      "https://www.iasoybeans.com/news/articles/u-s-soybean-exports-to-china-how-low-will-they-go/\n",
      "U.S. soybean exports to China: How low will they go?\n",
      "https://www.iasoybeans.com/news/articles/soybean-prices-an-uphill-climb/\n",
      "Soybean prices: An uphill climb\n",
      "https://www.iasoybeans.com/news/articles/soybean-leaders-talk-trade-research-sustainability-and-more/\n",
      "Soybean leaders talk trade, research, sustainability and more\n",
      "https://www.iasoybeans.com/news/articles/soybean-yields-are-big-in-iowa/\n",
      "Soybean yields are BIG in Iowa\n",
      "https://www.iasoybeans.com/news/articles/soybean-yields-influenced-by-dicamba-pleasantly-surprise-farmers/\n",
      "Soybean yields influenced by dicamba pleasantly surprise farmers\n",
      "https://www.iasoybeans.com/news/articles/iowa-soybean-association-comments-on-use-of-dicamba/\n",
      "Iowa Soybean Association comments on use of dicamba\n",
      "https://www.iasoybeans.com/news/articles/iowa-soybean-association-leaders-recognized-for-conservation-efforts/\n",
      "Iowa Soybean Association leaders recognized for conservation efforts\n",
      "https://www.iasoybeans.com/news/articles/soybean-records-fall-as-u-s-harvest-begins/\n",
      "Soybean records fall as U.S. harvest begins\n",
      "https://www.iasoybeans.com/news/articles/update-on-soybean-gall-midge/\n",
      "Update on soybean gall midge\n",
      "https://www.iasoybeans.com/news/articles/red-alert-soybean-gall-midge/\n",
      "RED ALERT: Soybean Gall Midge\n",
      "https://www.iasoybeans.com/news/articles/u-s-soybean-exports-to-china-how-low-will-they-go/\n",
      "U.S. soybean exports to China: How low will they go?\n",
      "https://www.iasoybeans.com/news/articles/soybean-prices-an-uphill-climb/\n",
      "Soybean prices: An uphill climb\n",
      "https://www.iasoybeans.com/news/articles/soybean-leaders-talk-trade-research-sustainability-and-more/\n",
      "Soybean leaders talk trade, research, sustainability and more\n",
      "https://www.iasoybeans.com/news/articles/soybean-yields-are-big-in-iowa/\n",
      "Soybean yields are BIG in Iowa\n",
      "https://www.iasoybeans.com/news/articles/soybean-yields-influenced-by-dicamba-pleasantly-surprise-farmers/\n",
      "Soybean yields influenced by dicamba pleasantly surprise farmers\n",
      "https://www.iasoybeans.com/news/articles/iowa-soybean-association-comments-on-use-of-dicamba/\n",
      "Iowa Soybean Association comments on use of dicamba\n",
      "https://www.iasoybeans.com/news/articles/iowa-soybean-association-leaders-recognized-for-conservation-efforts/\n",
      "Iowa Soybean Association leaders recognized for conservation efforts\n",
      "https://www.iasoybeans.com/news/articles/soybean-records-fall-as-u-s-harvest-begins/\n",
      "Soybean records fall as U.S. harvest begins\n",
      "https://www.iasoybeans.com/news/articles/update-on-soybean-gall-midge/\n",
      "Update on soybean gall midge\n",
      "https://www.iasoybeans.com/news/articles/red-alert-soybean-gall-midge/\n",
      "RED ALERT: Soybean Gall Midge\n",
      "https://www.iasoybeans.com/news/articles/iowa-soybean-association-biodiesel-industry-welcome-kim-reynolds-as-iowa-governor/\n",
      "Iowa Soybean Association, biodiesel industry welcome Kim Reynolds as Iowa Governor\n",
      "https://www.iasoybeans.com/news/articles/iowa-soybean-association-recommends-timely-confirmation-of-branstad-as-u-s-ambassador-to-china/\n",
      "Iowa Soybean Association recommends timely confirmation of Branstad as U.S. ambassador to China\n",
      "https://www.iasoybeans.com/news/articles/iowa-soybean-association-board-of-directors-elects-2018-19-officers/\n",
      "Iowa Soybean Association board of directors elects 2018-19 officers\n",
      "https://www.iasoybeans.com/news/articles/despite-challenges-iowa-soybean-association-farmers-expect-record-crop/\n",
      "Despite challenges, Iowa Soybean Association farmers expect record crop\n",
      "https://www.iasoybeans.com/news/articles/soy-sale-farmers-work-to-market-crop-at-premier-soybean-event/\n",
      "Soy sale: Farmers work to market crop at premier soybean event\n",
      "https://www.iasoybeans.com/news/articles/10-minutes-to-increase-your-profit-measuring-harvest-loss-in-soybeans/\n",
      "10 minutes to increase your profit: Measuring harvest loss in soybeans\n",
      "https://www.iasoybeans.com/news/articles/how-fast-do-soybeans-dry-down-during-the-preharvest-time/\n",
      "How fast do soybeans dry down during the preharvest time?\n",
      "https://www.iasoybeans.com/news/articles/surprise-usda-increases-soybean-yields-production-forecast/\n",
      "Surprise! USDA increases soybean yields, production forecast\n",
      "https://www.iasoybeans.com/news/articles/farmers-elected-to-iowa-soybean-association-national-leadership-posts/\n",
      "Farmers elected to Iowa Soybean Association, national leadership posts\n",
      "https://www.iasoybeans.com/news/articles/global-aquaculture-transformed-thanks-to-iowa-soybean-association-investment/\n",
      "Global aquaculture transformed thanks to Iowa Soybean Association investment\n",
      "https://www.iasoybeans.com/news/articles/japanese-learn-about-soybean-supply-chain-in-iowa/\n",
      "Japanese learn about soybean supply chain in Iowa\n",
      "https://www.iasoybeans.com/news/articles/visionary-thinking-soybean-checkoff-contributes-to-soaring-exports/\n",
      "Visionary thinking, soybean checkoff contributes to soaring exports\n",
      "https://www.iasoybeans.com/news/articles/u-s-soybean-acreage-to-soar-in-2017/\n",
      "U.S. soybean acreage to soar in 2017\n",
      "https://www.iasoybeans.com/news/articles/thoughts-from-the-field-think-twice-before-pushing-soybean-planting-dates-too-early/\n",
      "Thoughts from the field: Think twice before pushing soybean planting dates too early\n",
      "https://www.iasoybeans.com/news/articles/gov-reynolds-iowa-soybean-association-to-participate-in-july-trade-mission-to-china/\n",
      "Gov. Reynolds, Iowa Soybean Association to participate in July trade mission to China\n",
      "https://www.iasoybeans.com/news/articles/iowa-soybean-association-board-of-directors-elects-2017-officers/\n",
      "Iowa Soybean Association board of directors elects 2017 officers\n",
      "https://www.iasoybeans.com/news/articles/large-supplies-maintain-pressure-on-soybean-prices/\n",
      "Large supplies maintain pressure on soybean prices\n",
      "https://www.iasoybeans.com/news/articles/stored-soybeans-disappearing-as-a-record-number-are-popping-up/\n",
      "Stored soybeans disappearing as a record number are popping up\n",
      "https://www.iasoybeans.com/news/articles/soybean-research-needs-you/\n",
      "Soybean research needs you!\n",
      "https://www.iasoybeans.com/news/articles/soybean-treatments-yield-results-not-always-returns/\n",
      "Soybean treatments yield results, not always returns\n",
      "https://www.iasoybeans.com/news/articles/quick-hits-from-the-soybean-world/\n",
      "Quick hits from the soybean world\n",
      "https://www.iasoybeans.com/news/articles/soybean-industry-demands-congressional-action-on-gmo-labeling/\n",
      "Soybean industry demands Congressional action on GMO labeling\n",
      "https://www.iasoybeans.com/news/articles/temperatures-and-soybean-stocks-on-the-rise-prices-remain-tepid/\n",
      "Temperatures and soybean stocks on the rise, prices remain tepid\n",
      "https://www.iasoybeans.com/news/articles/4-farm-bill-priorities-every-soybean-farmer-should-share-with-their-policymaker/\n",
      "4 Farm Bill priorities every soybean farmer should share with their policymaker\n",
      "https://www.iasoybeans.com/news/articles/soybean-farmers-serve-as-resource-for-members-of-congress/\n",
      "Soybean farmers serve as resource for members of Congress\n",
      "https://www.iasoybeans.com/news/articles/heisdorffer-elected-american-soybean-association-vice-president/\n",
      "Heisdorffer elected American Soybean Association vice president\n",
      "https://www.iasoybeans.com/news/articles/soybean-issues-touted-weekly-on-fort-dodge-radio/\n",
      "Soybean issues touted weekly on Fort Dodge radio\n",
      "https://www.iasoybeans.com/news/articles/robust-demand-dry-weather-spur-soybean-price-rally/\n",
      "Robust demand, dry weather spur soybean price rally\n",
      "https://www.iasoybeans.com/news/articles/transition-to-el-nino-will-bump-2017-soybean-yields-says-dtn-s-anderson/\n",
      "Transition to El Nino will bump 2017 soybean yields, says DTN’s Anderson\n",
      "https://www.iasoybeans.com/news/articles/genetic-diversity-key-to-improving-soybeans/\n",
      "Genetic diversity key to improving soybeans\n"
     ]
    }
   ],
   "source": [
    "##Get data from the website\n",
    "# Empty lists for content, links and titles\n",
    "news_contents = []\n",
    "list_links = []\n",
    "list_titles = []\n",
    "news_keywords = []\n",
    "news_published_time = []\n",
    "source_orgs = []\n",
    "\n",
    "# Getting the link of the article\n",
    "for n, link in enumerate(coverpage_news):\n",
    "    # Reading the content (it is divided in paragraphs)\n",
    "    link= website+link\n",
    "    print(link)\n",
    "    article = requests.get(link)\n",
    "    article_content = article.content\n",
    "    soup_article = BeautifulSoup(article_content, 'html5lib')\n",
    "    # Getting the title\n",
    "    soup_article = soup_article.find(\"article\", {\"class\": \"featured-article\"})\n",
    "    title = soup_article.find('h1').get_text() #.find('a')\n",
    "    print(title)\n",
    "    list_titles.append(title)\n",
    "    list_links.append(link)\n",
    "    # Reading the content (it is divided in paragraphs)\n",
    "    article_keys = soup_article.find(\"span\").get_text()\n",
    "    article_published_time = soup_article.find(\"span\").get_text()\n",
    "    article_published_time = re.sub('\\s+',' ',article_published_time).split('|')\n",
    "    news_keywords.append(article_published_time[1])\n",
    "    news_published_time.append(article_published_time[0])\n",
    "    \n",
    "    body = soup_article.find_all('p')\n",
    "    final_article = \"\"\n",
    "\n",
    "    if len(body) == 0:\n",
    "        break\n",
    "    else:\n",
    "        # Unifying the paragraphs\n",
    "        list_paragraphs = []\n",
    "        for p in np.arange(0, len(body)):\n",
    "            #print(p)\n",
    "            paragraph = body[p].get_text()\n",
    "            list_paragraphs.append(paragraph)\n",
    "            final_article = \" \".join(list_paragraphs)\n",
    "\n",
    "        #print(final_article)\n",
    "        news_contents.append(final_article)"
   ]
  },
  {
   "cell_type": "code",
   "execution_count": 4,
   "metadata": {
    "ExecuteTime": {
     "end_time": "2019-12-10T20:07:37.574965Z",
     "start_time": "2019-12-10T20:07:37.556515Z"
    }
   },
   "outputs": [
    {
     "name": "stdout",
     "output_type": "stream",
     "text": [
      "                                       Article Title  \\\n",
      "0  U.S. soybean exports to China: How low will th...   \n",
      "1                    Soybean prices: An uphill climb   \n",
      "2  Soybean leaders talk trade, research, sustaina...   \n",
      "3                     Soybean yields are BIG in Iowa   \n",
      "4  Soybean yields influenced by dicamba pleasantl...   \n",
      "\n",
      "                                       news_keywords news_published_time  \\\n",
      "0   Soybean Exports, Policy, Soybean News, Econom...         09/18/2018    \n",
      "1   Soybean Exports, Policy, Transportation, Soyb...         09/26/2018    \n",
      "2   Crop Production Research, Soil Health, Water ...         09/24/2018    \n",
      "3   Soybean Exports, Soybean News, Economics, Wea...         09/19/2018    \n",
      "4                 Soil Health, Weed Issues, Weather          10/26/2017    \n",
      "\n",
      "                                     Article Content  \\\n",
      "0  By Matthew Wilde, ISA senior writer   U.S. soy...   \n",
      "1  By Matthew Wilde, ISA senior writer   Soybean ...   \n",
      "2  By Lauren Houska, ISA communications specialis...   \n",
      "3  By Matthew Wilde, ISA senior writer   As combi...   \n",
      "4  By Matthew Wilde, ISA senior writer Some farme...   \n",
      "\n",
      "                                        Article Link  \n",
      "0  https://www.iasoybeans.com/news/articles/u-s-s...  \n",
      "1  https://www.iasoybeans.com/news/articles/soybe...  \n",
      "2  https://www.iasoybeans.com/news/articles/soybe...  \n",
      "3  https://www.iasoybeans.com/news/articles/soybe...  \n",
      "4  https://www.iasoybeans.com/news/articles/soybe...  \n"
     ]
    }
   ],
   "source": [
    "# Save Data to the dataframe\n",
    "# ['Article Content', 'Article Title', 'Article Link', 'news_keywords', 'news_published_time']\n",
    "df_features = pd.DataFrame(\n",
    "     { \n",
    "    'Article Title': list_titles,\n",
    "    'news_keywords': news_keywords,\n",
    "    'news_published_time': news_published_time,\n",
    "    'Article Content': news_contents,\n",
    "    'Article Link': list_links,\n",
    "    })\n",
    "\n",
    "##Save it to the csv file\n",
    "df_features.to_csv(\"./newsdata.csv\", index=False)\n",
    "print(df_features.head())"
   ]
  }
 ],
 "metadata": {
  "hide_input": false,
  "kernelspec": {
   "display_name": "Python 3",
   "language": "python",
   "name": "python3"
  },
  "language_info": {
   "codemirror_mode": {
    "name": "ipython",
    "version": 3
   },
   "file_extension": ".py",
   "mimetype": "text/x-python",
   "name": "python",
   "nbconvert_exporter": "python",
   "pygments_lexer": "ipython3",
   "version": "3.7.3"
  },
  "latex_envs": {
   "LaTeX_envs_menu_present": true,
   "autoclose": false,
   "autocomplete": true,
   "bibliofile": "biblio.bib",
   "cite_by": "apalike",
   "current_citInitial": 1,
   "eqLabelWithNumbers": true,
   "eqNumInitial": 1,
   "hotkeys": {
    "equation": "Ctrl-E",
    "itemize": "Ctrl-I"
   },
   "labels_anchors": false,
   "latex_user_defs": false,
   "report_style_numbering": false,
   "user_envs_cfg": false
  },
  "varInspector": {
   "cols": {
    "lenName": 16,
    "lenType": 16,
    "lenVar": 40
   },
   "kernels_config": {
    "python": {
     "delete_cmd_postfix": "",
     "delete_cmd_prefix": "del ",
     "library": "var_list.py",
     "varRefreshCmd": "print(var_dic_list())"
    },
    "r": {
     "delete_cmd_postfix": ") ",
     "delete_cmd_prefix": "rm(",
     "library": "var_list.r",
     "varRefreshCmd": "cat(var_dic_list()) "
    }
   },
   "types_to_exclude": [
    "module",
    "function",
    "builtin_function_or_method",
    "instance",
    "_Feature"
   ],
   "window_display": false
  }
 },
 "nbformat": 4,
 "nbformat_minor": 2
}
