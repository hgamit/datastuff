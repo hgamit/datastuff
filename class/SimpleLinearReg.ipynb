{
 "cells": [
  {
   "cell_type": "markdown",
   "metadata": {},
   "source": [
    "## Regression Problem \n",
    "\n",
    "- target column should be continuous numeric variable (dependent)\n",
    "\n",
    "Applications:\n",
    "\n",
    "- Prediction of sales performance\n",
    "- satisfaction estimation\n",
    "- Price estimation\n",
    "- Employment Income\n",
    "\n",
    "Types:\n",
    "\n",
    "- Simple regression - one independent variable is used to estimate a dependent variable.\n",
    "- Multiple regression - more than one\n",
    "\n",
    "Simple regression:\n",
    "\n",
    "y = w0 + w1*X\n",
    "\n",
    "w0 - intercept of the line\n",
    "w1 - slope of the line\n",
    "\n",
    "How do you interpret w0 and w1?\n",
    "\n",
    "Least squared error - SSE and MSE\n",
    "\n",
    "Normal Equation - \n",
    "w = (XT * X)^-1 *XT *y\n",
    "\n",
    "Note- Matrix inversion can get computationally expensive. \n",
    "\n",
    "### Finding optimal weights -Gradient Descent\n",
    "\n",
    "- The general idea of Gradient Descent is to tweak parameters(w and learning rate) iteratively in order to minimize a cost function. An important parameter in Gradient Descent is the size of the steps, determined by the learning rate hyperparameter.\n",
    "- Fortunately, the cost function for a Linear Regression model happens to be aconvex function. So no local minima."
   ]
  },
  {
   "cell_type": "code",
   "execution_count": 1,
   "metadata": {},
   "outputs": [],
   "source": [
    "# Data Preparation and Imports\n",
    "\n",
    "import numpy as np\n",
    "import matplotlib.pyplot as plt\n",
    "import pandas as pd\n",
    "\n",
    "\n",
    "# Loading the dataset\n",
    "dataset = pd.read_csv(\"gm.csv\")\n",
    "\n",
    "# Dividing X and y arrays\n",
    "X = dataset.iloc[:,:-1].values\n",
    "y = dataset.iloc[:,1].values\n",
    "\n",
    "#Splitting the data into Training Set and Test Set\n",
    "from sklearn.model_selection import train_test_split\n",
    "X_train, X_test, y_train, y_test= train_test_split(X,y,test_size=0.3,random_state=0)\n",
    "\n",
    "#Normalizing the features\n",
    "#from sklearn.preprocessing import StandardScaler\n",
    "#sc_X= StandardScaler()\n",
    "#X_train= sc_X.fit_transform(X_train)  # fit stores fit values for that column\n",
    "#X_test= sc_X.transform(X_test) # uses fit values from sc_X to transform test data"
   ]
  },
  {
   "cell_type": "code",
   "execution_count": 2,
   "metadata": {},
   "outputs": [
    {
     "name": "stdout",
     "output_type": "stream",
     "text": [
      "[17.7 16.4 17.2 14.  17.  13.  16.9]\n"
     ]
    }
   ],
   "source": [
    "#Fitting Linear Regression to Training Set\n",
    "from sklearn.linear_model import LinearRegression\n",
    "lrObj= LinearRegression()\n",
    "lrObj.fit(X_train, y_train)\n",
    "\n",
    "#Prediction on the Test Set\n",
    "y_pred= lrObj.predict(X_test)\n",
    "#We can compare the predicted values with the actual values\n",
    "print(y_test)"
   ]
  },
  {
   "cell_type": "code",
   "execution_count": 6,
   "metadata": {},
   "outputs": [
    {
     "name": "stdout",
     "output_type": "stream",
     "text": [
      "[0.99694096]\n",
      "-1.922575711226683\n"
     ]
    }
   ],
   "source": [
    "print (lrObj.coef_)\n",
    "print( lrObj.intercept_)"
   ]
  },
  {
   "cell_type": "code",
   "execution_count": 3,
   "metadata": {},
   "outputs": [
    {
     "name": "stdout",
     "output_type": "stream",
     "text": [
      "[18.31532579 16.81991435 17.71716121 13.53000918 17.51777302 12.33368002\n",
      " 17.41807892]\n"
     ]
    }
   ],
   "source": [
    "print(y_pred)"
   ]
  },
  {
   "cell_type": "code",
   "execution_count": 4,
   "metadata": {},
   "outputs": [
    {
     "data": {
      "image/png": "[encoded data removed]",
      "text/plain": [
       "<Figure size 432x288 with 1 Axes>"
      ]
     },
     "metadata": {
      "needs_background": "light"
     },
     "output_type": "display_data"
    }
   ],
   "source": [
    "#Visual Exploration of Training Set\n",
    "plt.scatter(X_train,y_train,color='red')\n",
    "plt.plot(X_train, lrObj.predict(X_train), color='blue')\n",
    "plt.title('List Price vs Best Price on Training Set')\n",
    "plt.xlabel('List Price')\n",
    "plt.ylabel('Best Price')\n",
    "plt.show()"
   ]
  },
  {
   "cell_type": "code",
   "execution_count": 5,
   "metadata": {},
   "outputs": [
    {
     "data": {
      "image/png": "[encoded data removed]",
      "text/plain": [
       "<Figure size 432x288 with 1 Axes>"
      ]
     },
     "metadata": {
      "needs_background": "light"
     },
     "output_type": "display_data"
    }
   ],
   "source": [
    "#Visual Exploration of Testing Set\n",
    "plt.scatter(X_test,y_test,color='red')\n",
    "plt.plot(X_train, lrObj.predict(X_train), color='blue')\n",
    "plt.title('List Price vs Best Price on TestingSet')\n",
    "plt.xlabel('List Price')\n",
    "plt.ylabel('Best Price')\n",
    "plt.show()"
   ]
  }
 ],
 "metadata": {
  "hide_input": false,
  "kernelspec": {
   "display_name": "Python 3",
   "language": "python",
   "name": "python3"
  },
  "language_info": {
   "codemirror_mode": {
    "name": "ipython",
    "version": 3
   },
   "file_extension": ".py",
   "mimetype": "text/x-python",
   "name": "python",
   "nbconvert_exporter": "python",
   "pygments_lexer": "ipython3",
   "version": "3.6.8"
  },
  "latex_envs": {
   "LaTeX_envs_menu_present": true,
   "autoclose": false,
   "autocomplete": true,
   "bibliofile": "biblio.bib",
   "cite_by": "apalike",
   "current_citInitial": 1,
   "eqLabelWithNumbers": true,
   "eqNumInitial": 1,
   "hotkeys": {
    "equation": "Ctrl-E",
    "itemize": "Ctrl-I"
   },
   "labels_anchors": false,
   "latex_user_defs": false,
   "report_style_numbering": false,
   "user_envs_cfg": false
  }
 },
 "nbformat": 4,
 "nbformat_minor": 2
}
