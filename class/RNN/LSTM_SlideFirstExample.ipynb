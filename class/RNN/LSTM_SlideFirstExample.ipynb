{
 "cells": [
  {
   "cell_type": "code",
   "execution_count": 1,
   "metadata": {},
   "outputs": [
    {
     "name": "stdout",
     "output_type": "stream",
     "text": [
      "(10, 2)\n",
      "(2, 3, 2)\n",
      "(1, 10, 2)\n",
      "[[[ 0.1  1. ]\n",
      "  [ 0.2  0.9]\n",
      "  [ 0.3  0.8]\n",
      "  [ 0.4  0.7]\n",
      "  [ 0.5  0.6]\n",
      "  [ 0.6  0.5]\n",
      "  [ 0.7  0.4]\n",
      "  [ 0.8  0.3]\n",
      "  [ 0.9  0.2]\n",
      "  [ 1.   0.1]]]\n",
      "(2, 5, 2)\n",
      "[[[ 0.1  1. ]\n",
      "  [ 0.2  0.9]\n",
      "  [ 0.3  0.8]\n",
      "  [ 0.4  0.7]\n",
      "  [ 0.5  0.6]]\n",
      "\n",
      " [[ 0.6  0.5]\n",
      "  [ 0.7  0.4]\n",
      "  [ 0.8  0.3]\n",
      "  [ 0.9  0.2]\n",
      "  [ 1.   0.1]]]\n"
     ]
    },
    {
     "data": {
      "text/plain": [
       "(None, None)"
      ]
     },
     "execution_count": 1,
     "metadata": {},
     "output_type": "execute_result"
    }
   ],
   "source": [
    "from numpy import array\n",
    "data = array([\n",
    "[0.1, 1.0],\n",
    "[0.2, 0.9],\n",
    "[0.3, 0.8],\n",
    "[0.4, 0.7],\n",
    "[0.5, 0.6],\n",
    "[0.6, 0.5],\n",
    "[0.7, 0.4],\n",
    "[0.8, 0.3],\n",
    "[0.9, 0.2],\n",
    "[1.0, 0.1]])\n",
    "print(data.shape)\n",
    "\n",
    "data2 = array([ [\n",
    "[0.1, 1.0],\n",
    "[0.2, 0.9],\n",
    "[0.3, 0.8]], \n",
    "    \n",
    "[ [0.1, 1.0],\n",
    "[0.2, 0.9],\n",
    "[0.3, 0.8]] ]  )\n",
    "print(data2.shape)\n",
    "\n",
    "data_input = data.reshape(1, 10, 2)\n",
    "print(data_input.shape), print(data_input)\n",
    "\n",
    "data_input1 = data.reshape(2, 5, 2)\n",
    "print(data_input1.shape), print(data_input1)"
   ]
  },
  {
   "cell_type": "code",
   "execution_count": 14,
   "metadata": {},
   "outputs": [
    {
     "name": "stdout",
     "output_type": "stream",
     "text": [
      "[[ 0. ]\n",
      " [ 0.5]]\n"
     ]
    }
   ],
   "source": [
    "length = 2\n",
    "seq = array([i/float(length) for i in range(length)])\n",
    "Y = seq.reshape(length, 1)\n",
    "print(Y)"
   ]
  },
  {
   "cell_type": "code",
   "execution_count": 19,
   "metadata": {},
   "outputs": [
    {
     "name": "stdout",
     "output_type": "stream",
     "text": [
      "[[  1.82166696e-06]\n",
      " [  4.99998510e-01]]\n"
     ]
    }
   ],
   "source": [
    "from keras.models import Sequential\n",
    "from keras.layers import Dense\n",
    "from keras.layers import LSTM\n",
    "\n",
    "X= data_input1\n",
    "X_dim = 2          \n",
    "seq_length = 5    # what if var length\n",
    "model = Sequential()\n",
    "model.add(LSTM(9, input_shape=(seq_length, X_dim)))\n",
    "model.add(Dense(1))\n",
    "model.compile(loss='mean_squared_error', optimizer='adam')\n",
    "model.fit(X, Y, epochs=200, batch_size=1, verbose=0)\n",
    "#model.fit(X, y, epochs=n_epoch, batch_size=n_batch, verbose=0)\n",
    "YPred = model.predict(X)\n",
    "print(YPred)"
   ]
  },
  {
   "cell_type": "code",
   "execution_count": null,
   "metadata": {},
   "outputs": [],
   "source": []
  }
 ],
 "metadata": {
  "hide_input": false,
  "kernelspec": {
   "display_name": "Python 3",
   "language": "python",
   "name": "python3"
  },
  "language_info": {
   "codemirror_mode": {
    "name": "ipython",
    "version": 3
   },
   "file_extension": ".py",
   "mimetype": "text/x-python",
   "name": "python",
   "nbconvert_exporter": "python",
   "pygments_lexer": "ipython3",
   "version": "3.7.3"
  },
  "latex_envs": {
   "LaTeX_envs_menu_present": true,
   "autoclose": false,
   "autocomplete": true,
   "bibliofile": "biblio.bib",
   "cite_by": "apalike",
   "current_citInitial": 1,
   "eqLabelWithNumbers": true,
   "eqNumInitial": 1,
   "hotkeys": {
    "equation": "Ctrl-E",
    "itemize": "Ctrl-I"
   },
   "labels_anchors": false,
   "latex_user_defs": false,
   "report_style_numbering": false,
   "user_envs_cfg": false
  },
  "varInspector": {
   "cols": {
    "lenName": 16,
    "lenType": 16,
    "lenVar": 40
   },
   "kernels_config": {
    "python": {
     "delete_cmd_postfix": "",
     "delete_cmd_prefix": "del ",
     "library": "var_list.py",
     "varRefreshCmd": "print(var_dic_list())"
    },
    "r": {
     "delete_cmd_postfix": ") ",
     "delete_cmd_prefix": "rm(",
     "library": "var_list.r",
     "varRefreshCmd": "cat(var_dic_list()) "
    }
   },
   "types_to_exclude": [
    "module",
    "function",
    "builtin_function_or_method",
    "instance",
    "_Feature"
   ],
   "window_display": false
  }
 },
 "nbformat": 4,
 "nbformat_minor": 2
}
