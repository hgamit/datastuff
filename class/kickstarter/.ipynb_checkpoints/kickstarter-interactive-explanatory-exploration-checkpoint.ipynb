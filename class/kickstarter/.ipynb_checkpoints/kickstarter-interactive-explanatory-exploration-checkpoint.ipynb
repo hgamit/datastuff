{
 "cells": [
  {
   "cell_type": "markdown",
   "metadata": {
    "_cell_guid": "3df4ac0e-deca-44d0-b3c1-5211c1298518",
    "_uuid": "a0905212a24464984548f5e3e53e7777d818ba1c"
   },
   "source": [
    "<h1>Kickstarter: Exploratory Data Analysis with Python</h1>"
   ]
  },
  {
   "cell_type": "markdown",
   "metadata": {
    "_cell_guid": "25fcc089-29cc-4aa1-afd5-3680085cd8e7",
    "_uuid": "eaf0eadfd219980a694a48b966a108f091f6ff28"
   },
   "source": [
    " <i>Leonado Ferreira, 2018-02-12 </i> \n"
   ]
  },
  {
   "cell_type": "markdown",
   "metadata": {
    "_cell_guid": "ca6941bf-5233-4fcb-8355-16701f44b17a",
    "_uuid": "81c6f6c68eee2a5697b5bffe9c21d69a6846c849"
   },
   "source": [
    "You can acess all my kernels  <a href=\" https://www.kaggle.com/kabure/kernels\">here</a>"
   ]
  },
  {
   "cell_type": "markdown",
   "metadata": {
    "_cell_guid": "aaa0671b-fd00-4a24-b65e-6e8915b71096",
    "_uuid": "05869b4767f629023edc4b7c8e2d636c977f213e"
   },
   "source": [
    "<h2>The goal is try to understand : </h2>\n",
    "- The difference values in  categorys.<br>\n",
    "- The most frequency status of project<br>\n",
    "- Distribuitions<br>\n",
    "- Patterns <br>\n",
    "- And some another informations that the data can show us<br>"
   ]
  },
  {
   "cell_type": "markdown",
   "metadata": {
    "_cell_guid": "07ab88f0-20fe-42a7-8b45-cdf89366e988",
    "_uuid": "3f4dd3d30cbf9bc72735f84e80c54d3e8ec1e3ac"
   },
   "source": [
    "<i>English is not my native language, so sorry for any mistake</i>"
   ]
  },
  {
   "cell_type": "markdown",
   "metadata": {
    "_cell_guid": "0b4e80c0-b343-4812-af86-681ede62424d",
    "_uuid": "d5d0f9a5786f6299f6d4316e6a164b155affa844"
   },
   "source": [
    "If you like me Kernel, give me some feedback and also <b>votes up </b> my kernel =)\n"
   ]
  },
  {
   "cell_type": "markdown",
   "metadata": {
    "_cell_guid": "05caa640-e9b4-4c3e-be49-07c849f838b3",
    "_uuid": "cd857df5227428220f7d12b2cafe4786d411aaed"
   },
   "source": [
    "<h1>Understanding Kickstarter: </h1>"
   ]
  },
  {
   "cell_type": "markdown",
   "metadata": {
    "_cell_guid": "e8a56605-99ea-400d-a205-16b297ac7e6d",
    "_uuid": "85f047da988f1d4dd659ebc1a015ef338be7937d"
   },
   "source": [
    "<b>Kickstarter</b>\n",
    "Is an American public-benefit corporation based in Brooklyn, New York, that maintains a global crowdfunding platform focused on creativity The company's stated mission is to \"help bring creative projects to life\". Kickstarter has reportedly received more than $1.9 billion in pledges from 9.4 million backers to fund 257,000 creative projects, such as films, music, stage shows, comics, journalism, video games, technology and food-related projects.\n",
    "\n",
    "People who back Kickstarter projects are offered tangible rewards or experiences in exchange for their pledges. This model traces its roots to subscription model of arts patronage, where artists would go directly to their audiences to fund their work.\n"
   ]
  },
  {
   "cell_type": "code",
   "execution_count": 1,
   "metadata": {
    "_cell_guid": "d73d156d-e168-40a9-8890-0857f917f3f8",
    "_uuid": "ce8c9bec22c5762dd6383d9b79a836f0cf8b87d2"
   },
   "outputs": [],
   "source": [
    "#Load the Librarys\n",
    "import pandas as pd\n",
    "import numpy as np\n",
    "import seaborn as sns\n",
    "import matplotlib.pyplot as plt"
   ]
  },
  {
   "cell_type": "code",
   "execution_count": 2,
   "metadata": {
    "_cell_guid": "0f3988c9-cdf1-483b-befa-6551b1153430",
    "_uuid": "621577923d2037d8e5569d867ec971e85c6adb82"
   },
   "outputs": [],
   "source": [
    "#loading the data with encode \n",
    "df_kick = pd.read_csv(\"input/ks-projects-201801.csv\", nrows=10000)"
   ]
  },
  {
   "cell_type": "code",
   "execution_count": 3,
   "metadata": {
    "_cell_guid": "067d513a-0ae4-4ff3-ad5b-5f80f912ad9c",
    "_kg_hide-input": false,
    "_uuid": "4b91e770e0d5bde1fadc9159afc0dd1be4659fa4"
   },
   "outputs": [
    {
     "name": "stdout",
     "output_type": "stream",
     "text": [
      "(10000, 15)\n",
      "<class 'pandas.core.frame.DataFrame'>\n",
      "RangeIndex: 10000 entries, 0 to 9999\n",
      "Data columns (total 15 columns):\n",
      "ID                  10000 non-null int64\n",
      "name                10000 non-null object\n",
      "category            10000 non-null object\n",
      "main_category       10000 non-null object\n",
      "currency            10000 non-null object\n",
      "deadline            10000 non-null object\n",
      "goal                10000 non-null float64\n",
      "launched            10000 non-null object\n",
      "pledged             10000 non-null float64\n",
      "state               10000 non-null object\n",
      "backers             10000 non-null int64\n",
      "country             10000 non-null object\n",
      "usd pledged         9898 non-null float64\n",
      "usd_pledged_real    10000 non-null float64\n",
      "usd_goal_real       10000 non-null float64\n",
      "dtypes: float64(5), int64(2), object(8)\n",
      "memory usage: 1.1+ MB\n",
      "None\n"
     ]
    }
   ],
   "source": [
    "#knowning the main informations of our data\n",
    "print(df_kick.shape)\n",
    "print(df_kick.info())"
   ]
  },
  {
   "cell_type": "code",
   "execution_count": 4,
   "metadata": {
    "_cell_guid": "52690df3-c601-4fb2-8af4-301502f957ca",
    "_kg_hide-input": true,
    "_uuid": "4d92eb0e1f23e3fa9d9d3a0c892d4aa24cf0e1a0",
    "scrolled": false
   },
   "outputs": [
    {
     "name": "stdout",
     "output_type": "stream",
     "text": [
      "ID                  10000\n",
      "name                 9994\n",
      "category              155\n",
      "main_category          15\n",
      "currency               14\n",
      "deadline             2624\n",
      "goal                  790\n",
      "launched            10000\n",
      "pledged              4607\n",
      "state                   6\n",
      "backers               716\n",
      "country                23\n",
      "usd pledged          5199\n",
      "usd_pledged_real     5679\n",
      "usd_goal_real        2863\n",
      "dtype: int64\n"
     ]
    }
   ],
   "source": [
    "# Printing unique values in our dataset\n",
    "print(df_kick.nunique())\n"
   ]
  },
  {
   "cell_type": "markdown",
   "metadata": {
    "_cell_guid": "a5feba7a-f1a7-4200-9156-2323054b9fb7",
    "_uuid": "ea4f415245cc551b683df5159933e81d8c8b3889"
   },
   "source": [
    "<h2> Knowing our data</h2>"
   ]
  },
  {
   "cell_type": "code",
   "execution_count": 5,
   "metadata": {
    "_cell_guid": "1abe63c5-cc9e-4670-aa34-ab6d9dd4ca8e",
    "_kg_hide-input": false,
    "_uuid": "5ea714378df6913e7c0ce588f03813fd8d02b34b"
   },
   "outputs": [
    {
     "data": {
      "text/html": [
       "<div>\n",
       "<style scoped>\n",
       "    .dataframe tbody tr th:only-of-type {\n",
       "        vertical-align: middle;\n",
       "    }\n",
       "\n",
       "    .dataframe tbody tr th {\n",
       "        vertical-align: top;\n",
       "    }\n",
       "\n",
       "    .dataframe thead th {\n",
       "        text-align: right;\n",
       "    }\n",
       "</style>\n",
       "<table border=\"1\" class=\"dataframe\">\n",
       "  <thead>\n",
       "    <tr style=\"text-align: right;\">\n",
       "      <th></th>\n",
       "      <th>ID</th>\n",
       "      <th>name</th>\n",
       "      <th>category</th>\n",
       "      <th>main_category</th>\n",
       "      <th>currency</th>\n",
       "      <th>deadline</th>\n",
       "      <th>goal</th>\n",
       "      <th>launched</th>\n",
       "      <th>pledged</th>\n",
       "      <th>state</th>\n",
       "      <th>backers</th>\n",
       "      <th>country</th>\n",
       "      <th>usd pledged</th>\n",
       "      <th>usd_pledged_real</th>\n",
       "      <th>usd_goal_real</th>\n",
       "    </tr>\n",
       "  </thead>\n",
       "  <tbody>\n",
       "    <tr>\n",
       "      <th>0</th>\n",
       "      <td>1000002330</td>\n",
       "      <td>The Songs of Adelaide &amp; Abullah</td>\n",
       "      <td>Poetry</td>\n",
       "      <td>Publishing</td>\n",
       "      <td>GBP</td>\n",
       "      <td>2015-10-09</td>\n",
       "      <td>1000.0</td>\n",
       "      <td>2015-08-11 12:12:28</td>\n",
       "      <td>0.0</td>\n",
       "      <td>failed</td>\n",
       "      <td>0</td>\n",
       "      <td>GB</td>\n",
       "      <td>0.0</td>\n",
       "      <td>0.0</td>\n",
       "      <td>1533.95</td>\n",
       "    </tr>\n",
       "    <tr>\n",
       "      <th>1</th>\n",
       "      <td>1000003930</td>\n",
       "      <td>Greeting From Earth: ZGAC Arts Capsule For ET</td>\n",
       "      <td>Narrative Film</td>\n",
       "      <td>Film &amp; Video</td>\n",
       "      <td>USD</td>\n",
       "      <td>2017-11-01</td>\n",
       "      <td>30000.0</td>\n",
       "      <td>2017-09-02 04:43:57</td>\n",
       "      <td>2421.0</td>\n",
       "      <td>failed</td>\n",
       "      <td>15</td>\n",
       "      <td>US</td>\n",
       "      <td>100.0</td>\n",
       "      <td>2421.0</td>\n",
       "      <td>30000.00</td>\n",
       "    </tr>\n",
       "    <tr>\n",
       "      <th>2</th>\n",
       "      <td>1000004038</td>\n",
       "      <td>Where is Hank?</td>\n",
       "      <td>Narrative Film</td>\n",
       "      <td>Film &amp; Video</td>\n",
       "      <td>USD</td>\n",
       "      <td>2013-02-26</td>\n",
       "      <td>45000.0</td>\n",
       "      <td>2013-01-12 00:20:50</td>\n",
       "      <td>220.0</td>\n",
       "      <td>failed</td>\n",
       "      <td>3</td>\n",
       "      <td>US</td>\n",
       "      <td>220.0</td>\n",
       "      <td>220.0</td>\n",
       "      <td>45000.00</td>\n",
       "    </tr>\n",
       "    <tr>\n",
       "      <th>3</th>\n",
       "      <td>1000007540</td>\n",
       "      <td>ToshiCapital Rekordz Needs Help to Complete Album</td>\n",
       "      <td>Music</td>\n",
       "      <td>Music</td>\n",
       "      <td>USD</td>\n",
       "      <td>2012-04-16</td>\n",
       "      <td>5000.0</td>\n",
       "      <td>2012-03-17 03:24:11</td>\n",
       "      <td>1.0</td>\n",
       "      <td>failed</td>\n",
       "      <td>1</td>\n",
       "      <td>US</td>\n",
       "      <td>1.0</td>\n",
       "      <td>1.0</td>\n",
       "      <td>5000.00</td>\n",
       "    </tr>\n",
       "    <tr>\n",
       "      <th>4</th>\n",
       "      <td>1000011046</td>\n",
       "      <td>Community Film Project: The Art of Neighborhoo...</td>\n",
       "      <td>Film &amp; Video</td>\n",
       "      <td>Film &amp; Video</td>\n",
       "      <td>USD</td>\n",
       "      <td>2015-08-29</td>\n",
       "      <td>19500.0</td>\n",
       "      <td>2015-07-04 08:35:03</td>\n",
       "      <td>1283.0</td>\n",
       "      <td>canceled</td>\n",
       "      <td>14</td>\n",
       "      <td>US</td>\n",
       "      <td>1283.0</td>\n",
       "      <td>1283.0</td>\n",
       "      <td>19500.00</td>\n",
       "    </tr>\n",
       "  </tbody>\n",
       "</table>\n",
       "</div>"
      ],
      "text/plain": [
       "           ID                                               name  \\\n",
       "0  1000002330                    The Songs of Adelaide & Abullah   \n",
       "1  1000003930      Greeting From Earth: ZGAC Arts Capsule For ET   \n",
       "2  1000004038                                     Where is Hank?   \n",
       "3  1000007540  ToshiCapital Rekordz Needs Help to Complete Album   \n",
       "4  1000011046  Community Film Project: The Art of Neighborhoo...   \n",
       "\n",
       "         category main_category currency    deadline     goal  \\\n",
       "0          Poetry    Publishing      GBP  2015-10-09   1000.0   \n",
       "1  Narrative Film  Film & Video      USD  2017-11-01  30000.0   \n",
       "2  Narrative Film  Film & Video      USD  2013-02-26  45000.0   \n",
       "3           Music         Music      USD  2012-04-16   5000.0   \n",
       "4    Film & Video  Film & Video      USD  2015-08-29  19500.0   \n",
       "\n",
       "              launched  pledged     state  backers country  usd pledged  \\\n",
       "0  2015-08-11 12:12:28      0.0    failed        0      GB          0.0   \n",
       "1  2017-09-02 04:43:57   2421.0    failed       15      US        100.0   \n",
       "2  2013-01-12 00:20:50    220.0    failed        3      US        220.0   \n",
       "3  2012-03-17 03:24:11      1.0    failed        1      US          1.0   \n",
       "4  2015-07-04 08:35:03   1283.0  canceled       14      US       1283.0   \n",
       "\n",
       "   usd_pledged_real  usd_goal_real  \n",
       "0               0.0        1533.95  \n",
       "1            2421.0       30000.00  \n",
       "2             220.0       45000.00  \n",
       "3               1.0        5000.00  \n",
       "4            1283.0       19500.00  "
      ]
     },
     "execution_count": 5,
     "metadata": {},
     "output_type": "execute_result"
    }
   ],
   "source": [
    "#Looking the data\n",
    "df_kick.head(n=5)"
   ]
  },
  {
   "cell_type": "markdown",
   "metadata": {
    "_cell_guid": "1aeb95da-0bce-4e8e-8fdf-c253ea9c153b",
    "_kg_hide-input": false,
    "_uuid": "ea30865b2b0b87e7d64771710cdb20bdc21cf0a0"
   },
   "source": [
    "## Importing librarys to do some interactive graphics"
   ]
  },
  {
   "cell_type": "code",
   "execution_count": 6,
   "metadata": {
    "_cell_guid": "d6e93083-57d4-4979-b798-99acebb5b71c",
    "_kg_hide-input": false,
    "_uuid": "70a38ff1ffc50521b3f554d40ca35bf76ac2a1fd"
   },
   "outputs": [
    {
     "data": {
      "text/html": [
       "<script type=\"text/javascript\">window.PlotlyConfig = {MathJaxConfig: 'local'};</script><script type=\"text/javascript\">if (window.MathJax) {MathJax.Hub.Config({SVG: {font: \"STIX-Web\"}});}</script><script>requirejs.config({paths: { 'plotly': ['https://cdn.plot.ly/plotly-latest.min']},});if(!window._Plotly) {require(['plotly'],function(plotly) {window._Plotly=plotly;});}</script>"
      ],
      "text/vnd.plotly.v1+html": [
       "<script type=\"text/javascript\">window.PlotlyConfig = {MathJaxConfig: 'local'};</script><script type=\"text/javascript\">if (window.MathJax) {MathJax.Hub.Config({SVG: {font: \"STIX-Web\"}});}</script><script>requirejs.config({paths: { 'plotly': ['https://cdn.plot.ly/plotly-latest.min']},});if(!window._Plotly) {require(['plotly'],function(plotly) {window._Plotly=plotly;});}</script>"
      ]
     },
     "metadata": {},
     "output_type": "display_data"
    }
   ],
   "source": [
    "import plotly.tools as tls\n",
    "import plotly.offline as py\n",
    "from plotly.offline import init_notebook_mode, iplot, plot\n",
    "import plotly.graph_objs as go\n",
    "\n",
    "init_notebook_mode(connected=True)\n",
    "import warnings\n",
    "from collections import Counter"
   ]
  },
  {
   "cell_type": "markdown",
   "metadata": {
    "_cell_guid": "b32af7df-6ad5-40fc-9eb8-8651cfee0af0",
    "_uuid": "0f743c2a4adb17b2fba4fc0fd4f765c559f72fa9"
   },
   "source": [
    "<h2>I will start, looking the state column distribuition that might will be our key to understand this dataset</h2>"
   ]
  },
  {
   "cell_type": "code",
   "execution_count": null,
   "metadata": {
    "_cell_guid": "068f592d-1c4c-4418-971b-151febf45112",
    "_kg_hide-input": true,
    "_kg_hide-output": false,
    "_uuid": "36fcba7600cb4727de7b7d3d6a036445df4c9ec0",
    "scrolled": false
   },
   "outputs": [],
   "source": [
    "percentual_sucess = round(df_kick[\"state\"].value_counts() / len(df_kick[\"state\"]) * 100,2)\n",
    "\n",
    "print(\"State Percentual in %: \")\n",
    "print(percentual_sucess)\n",
    "\n",
    "state = round(df_kick[\"state\"].value_counts() / len(df_kick[\"state\"]) * 100,2)\n",
    "\n",
    "labels = list(state.index)\n",
    "values = list(state.values)\n",
    "\n",
    "trace1 = go.Pie(labels=labels, values=values, marker=dict(colors=['red']))\n",
    "\n",
    "layout = go.Layout(title='Distribuition of States', legend=dict(orientation=\"h\"));\n",
    "\n",
    "fig = go.Figure(data=[trace1], layout=layout)\n",
    "iplot(fig)"
   ]
  },
  {
   "cell_type": "markdown",
   "metadata": {
    "_cell_guid": "114c66cf-2eda-485d-8b72-51c8b15193dd",
    "_uuid": "2c7f6740722889b473902b2bd6eeb859ab3b3b0c"
   },
   "source": [
    "Very interesting percentual ! <br>\n",
    "just 35,38% of all projects got sucess.<br>\n",
    "More than half have failed or 10% was canceled"
   ]
  },
  {
   "cell_type": "markdown",
   "metadata": {
    "_cell_guid": "4388e950-69a1-4a39-8013-bf64adee6637",
    "_uuid": "05046fc942356b4ff7e5cbe276838c405af32ee4"
   },
   "source": [
    "<h1>Let's start looking our Project values</h1> <br>\n",
    "\n",
    "- I will start exploring the distribuition logarithmn of these values"
   ]
  },
  {
   "cell_type": "code",
   "execution_count": null,
   "metadata": {
    "_cell_guid": "f6794c64-7bc1-4870-b653-642b36731ced",
    "_kg_hide-input": true,
    "_kg_hide-output": false,
    "_uuid": "2d94c2206130ccc1b3279b1c02c3c293ef97a420"
   },
   "outputs": [],
   "source": [
    "df_failed = df_kick[df_kick[\"state\"] == \"failed\"]\n",
    "df_sucess = df_kick[df_kick[\"state\"] == \"successful\"]\n",
    "\n",
    "#First plot\n",
    "trace0 = go.Histogram(\n",
    "    x= np.log(df_kick.usd_goal_real + 1),\n",
    "    histnorm='probability', showlegend=False,\n",
    "    xbins=dict(\n",
    "        start=-5.0,\n",
    "        end=19.0,\n",
    "        size=1),\n",
    "    autobiny=True)\n",
    "\n",
    "#Second plot\n",
    "trace1 = go.Histogram(\n",
    "    x = np.log(df_kick.usd_pledged_real + 1),\n",
    "    histnorm='probability', showlegend=False,\n",
    "    xbins=dict(\n",
    "        start=-1.0,\n",
    "        end=17.0,\n",
    "        size=1))\n",
    "\n",
    "# Add histogram data\n",
    "x1 = np.log(df_failed['usd_goal_real']+1)\n",
    "x2 = np.log(df_sucess[\"usd_goal_real\"]+1)\n",
    "\n",
    "trace3 = go.Histogram(\n",
    "    x=x1,\n",
    "    opacity=0.60, nbinsx=30, name='Goals Failed', histnorm='probability'\n",
    ")\n",
    "trace4 = go.Histogram(\n",
    "    x=x2,\n",
    "    opacity=0.60, nbinsx=30, name='Goals Sucessful', histnorm='probability'\n",
    ")\n",
    "\n",
    "\n",
    "data = [trace0, trace1, trace3, trace4]\n",
    "layout = go.Layout(barmode='overlay')\n",
    "\n",
    "#Creating the grid\n",
    "fig = tls.make_subplots(rows=2, cols=2, specs=[ [{'colspan': 2}, None], [{}, {}]],\n",
    "                          subplot_titles=('Failed and Sucessful Projects',\n",
    "                                          'Goal','Pledged'))\n",
    "\n",
    "#setting the figs\n",
    "fig.append_trace(trace0, 2, 1)\n",
    "fig.append_trace(trace1, 2, 2)\n",
    "fig.append_trace(trace3, 1, 1)\n",
    "fig.append_trace(trace4, 1, 1)\n",
    "\n",
    "fig['layout'].update(title=\"Distribuitions\",\n",
    "                     height=500, width=900, barmode='overlay')\n",
    "iplot(fig)"
   ]
  },
  {
   "cell_type": "markdown",
   "metadata": {
    "_cell_guid": "cec4a955-5bc7-4a04-9e33-8310f9c41de7",
    "_uuid": "044606ac18a4be94f3e35e94dcdaa4b06ab071e4"
   },
   "source": [
    "Interesting difference between Pledged and Goal distribuition!  But we cannot see significantly differences beween failed and successful state\n"
   ]
  },
  {
   "cell_type": "code",
   "execution_count": null,
   "metadata": {
    "_cell_guid": "01fd5fd2-1246-4f97-b6d9-361351c3e0f4",
    "_kg_hide-input": true,
    "_uuid": "aa99a4461188d33853ce425debda8f6ffc86bdf2"
   },
   "outputs": [],
   "source": [
    "df_kick['pledged_log'] = np.log(df_kick['usd_pledged_real'] + 1)\n",
    "df_kick['goal_log'] = np.log(df_kick['usd_goal_real'] + 1)\n",
    "\n",
    "df_kick['diff_pledged_goal'] = round((df_kick['usd_pledged_real'] /df_kick['usd_goal_real']) * 100, 2)\n",
    "df_kick['diff_pledged_goal'] = df_kick['diff_pledged_goal'].astype(float)"
   ]
  },
  {
   "cell_type": "markdown",
   "metadata": {
    "_cell_guid": "b3ba9cdc-2acc-495a-b301-b7e407c192a6",
    "_uuid": "ab1b5e2491e8df0923b7471eda1e48032bc4cdd2"
   },
   "source": [
    "<h2>Description of the continous variables</h2>"
   ]
  },
  {
   "cell_type": "code",
   "execution_count": null,
   "metadata": {
    "_cell_guid": "ce5517ee-1da3-457c-906e-0d385ccb6d0f",
    "_kg_hide-input": true,
    "_kg_hide-output": false,
    "_uuid": "f167455c6ce684e446596154c02dba49eef8e080"
   },
   "outputs": [],
   "source": [
    "print(\"Min Goal and Pledged values\")\n",
    "print(df_kick[[\"goal\", \"pledged\"]].min())\n",
    "print(\"\")\n",
    "print(\"Mean Goal and Pledged values\")\n",
    "print(round(df_kick[[\"goal\", \"pledged\"]].mean(),2))\n",
    "print(\"\")\n",
    "print(\"Median Goal and Pledged values\")\n",
    "print(df_kick[[\"goal\", \"pledged\"]].median())\n",
    "print(\"\")\n",
    "print(\"Max Goal and Pledged values\")\n",
    "print(\"goal       100000000.0\") #If i put the both together give me back log values, \n",
    "print(\"pledged     20338986.27\") # so i decide to just show this values\n",
    "print(\"dtype: float64\")\n",
    "print(\"\")\n",
    "print(\"Std Goal and Pledged values\")\n",
    "print(round(df_kick[[\"goal\", \"pledged\"]].std(),2))"
   ]
  },
  {
   "cell_type": "markdown",
   "metadata": {
    "_cell_guid": "bfed0e93-fa1f-4a49-8550-9a4a9d7655d5",
    "_uuid": "fbf0ca034d3f87357191a2eadecc159d17157f20"
   },
   "source": [
    "<h2>Looking the State variable</h2>\n",
    "- pledge log by state\n",
    "- goal log by state\n",
    "- goal log x pledged log"
   ]
  },
  {
   "cell_type": "code",
   "execution_count": null,
   "metadata": {
    "_cell_guid": "98020aee-b4e5-4e0d-bad4-19f5a3af6094",
    "_kg_hide-input": true,
    "_uuid": "a66363444e82025df8543e5a4aed7f34b94035ef"
   },
   "outputs": [],
   "source": [
    "#First plot\n",
    "trace0 = go.Box(\n",
    "    x=df_kick['state'],\n",
    "    y=df_kick['goal_log'],\n",
    "    name=\"State x Goal Log\"\n",
    ")\n",
    "#Second plot\n",
    "trace1 = go.Box(\n",
    "    x=df_kick['state'],\n",
    "    y=df_kick['pledged_log'],\n",
    "    name=\"State x Pledged Log\"\n",
    ")\n",
    "#Third plot\n",
    "trace2 = go.Scatter(\n",
    "    x=df_kick['goal_log'], y=df_kick['pledged_log'],\n",
    "    name=\"Goal x Pledged Distribuition\",  showlegend=False,\n",
    "    mode = 'markers'\n",
    ")\n",
    "\n",
    "#Creating the grid\n",
    "fig = tls.make_subplots(rows=2, cols=2, specs=[[{}, {}], [{'colspan': 2}, None]],\n",
    "                          subplot_titles=('Goal','Pledged', \"Goal x Pledged (Both Log)\"))\n",
    "\n",
    "#setting the figs\n",
    "fig.append_trace(trace0, 1, 1)\n",
    "fig.append_trace(trace1, 1, 2)\n",
    "fig.append_trace(trace2, 2, 1)\n",
    "\n",
    "fig['layout'].update(showlegend=True, title=\"Some State Distribuitions\",\n",
    "                     xaxis=dict(\n",
    "                         title='State', ticklen=5, zeroline=False, gridwidth=2\n",
    "                     ),\n",
    "                     yaxis=dict(\n",
    "                         title='Goal(Log)', ticklen=5, gridwidth=2\n",
    "                     ),\n",
    "                     xaxis1=dict(title='State', ticklen=5, zeroline=False, gridwidth=2),\n",
    "                     yaxis1=dict(title='Pledged(Log)', ticklen=5, gridwidth=2),\n",
    "                     xaxis2=dict(title='Goal(Log)', ticklen=5, zeroline=False, gridwidth=2),\n",
    "                     yaxis2=dict(title='Pledged(Log)', ticklen=5, gridwidth=2))\n",
    "iplot(fig)"
   ]
  },
  {
   "cell_type": "markdown",
   "metadata": {
    "_cell_guid": "f6328aae-5e50-462d-a617-beadbf6e5cb9",
    "_uuid": "9c49caaec3307891cd96a00242170b50bb94438f"
   },
   "source": [
    "<h2>Analysing further the Categorys: </h2>\n",
    "- Sucessful category's frequency\n",
    "- failed category's frequency\n",
    "- General Goal Distribuition by Category"
   ]
  },
  {
   "cell_type": "code",
   "execution_count": null,
   "metadata": {
    "_cell_guid": "e3a280ec-1c70-4724-a184-b2641b892272",
    "_kg_hide-input": true,
    "_uuid": "551f2a49323237bf958acbe890fd2078eb979d09"
   },
   "outputs": [],
   "source": [
    "main_cats = df_kick[\"main_category\"].value_counts()\n",
    "main_cats_failed = df_kick[df_kick[\"state\"] == \"failed\"][\"main_category\"].value_counts()\n",
    "main_cats_sucess = df_kick[df_kick[\"state\"] == \"successful\"][\"main_category\"].value_counts()"
   ]
  },
  {
   "cell_type": "code",
   "execution_count": null,
   "metadata": {
    "_cell_guid": "afb82d17-f465-4bad-ab6b-323b97e650a6",
    "_kg_hide-input": true,
    "_kg_hide-output": false,
    "_uuid": "78e6585ab7e7bde17b1e1b1dbfa1689b5c8e5cc8"
   },
   "outputs": [],
   "source": [
    "#First plot\n",
    "trace0 = go.Bar(\n",
    "    x=main_cats_failed.index,\n",
    "    y=main_cats_failed.values,\n",
    "    name=\"Failed Category's\"\n",
    ")\n",
    "#Second plot\n",
    "trace1 = go.Bar(\n",
    "    x=main_cats_sucess.index,\n",
    "    y=main_cats_sucess.values,\n",
    "    name=\"Sucess Category's\"\n",
    ")\n",
    "#Third plot\n",
    "trace2 = go.Bar(\n",
    "    x=main_cats.index,\n",
    "    y=main_cats.values,\n",
    "    name=\"All Category's Distribuition\"\n",
    ")\n",
    "\n",
    "#Creating the grid\n",
    "fig = tls.make_subplots(rows=2, cols=2, specs=[[{}, {}], [{'colspan': 2}, None]],\n",
    "                          subplot_titles=('Failed','Sucessful', \"General Category's\"))\n",
    "\n",
    "#setting the figs\n",
    "fig.append_trace(trace0, 1, 1)\n",
    "fig.append_trace(trace1, 1, 2)\n",
    "fig.append_trace(trace2, 2, 1)\n",
    "\n",
    "fig['layout'].update(showlegend=True, title=\"Main Category's Distribuition\",bargap=0.05)\n",
    "iplot(fig)"
   ]
  },
  {
   "cell_type": "markdown",
   "metadata": {
    "_cell_guid": "33dfc7eb-f5cf-4098-9828-fae9fed422d5",
    "_uuid": "671d67a8554bbc823bae473b45437d4dadd6c06b"
   },
   "source": [
    "<h2>Looking the Goal and Pledged Means by State</h2>"
   ]
  },
  {
   "cell_type": "code",
   "execution_count": null,
   "metadata": {
    "_cell_guid": "d2a11a31-bdea-46fd-b6cd-4f2e9359e9ac",
    "_kg_hide-input": true,
    "_uuid": "f0cc84d8b9d5421ed6e5867f960c3c407b3a6f20"
   },
   "outputs": [],
   "source": [
    "print(\"Looking Goal and Pledged Mean by state \")\n",
    "print(round(df_kick.groupby([\"state\"])[\"goal\", \"usd_pledged_real\"].mean(),2))"
   ]
  },
  {
   "cell_type": "markdown",
   "metadata": {
    "_cell_guid": "0e35e0d6-f6dd-4ea9-902a-9a030717e46b",
    "_uuid": "dce46d149127537d5d705790a0cc9f980edc3d9d"
   },
   "source": [
    "We have a high mean and standard deviation... Interesting values. <br>\n",
    "Let's known better the distribuition of this values using log scale"
   ]
  },
  {
   "cell_type": "markdown",
   "metadata": {
    "_cell_guid": "2cdc4d06-2528-4a86-b684-716c2e7204d9",
    "_uuid": "d00202d0c97f419e76dc950a2e5c2bf0b4ed2a2c"
   },
   "source": [
    "<h2>We have a very interesting distribuition in goal values.</h2>"
   ]
  },
  {
   "cell_type": "code",
   "execution_count": null,
   "metadata": {
    "_cell_guid": "44652496-40c5-41bf-9b39-7e20eef05396",
    "_uuid": "e875e06999188d891912916e6bc0b9e57f0332aa"
   },
   "outputs": [],
   "source": []
  },
  {
   "cell_type": "code",
   "execution_count": null,
   "metadata": {
    "_cell_guid": "b4f41203-9d95-42d6-8871-2360a1cb8e25",
    "_kg_hide-input": true,
    "_uuid": "790eb1b905b6a623e5983edb51411b061992e514"
   },
   "outputs": [],
   "source": [
    "categorys_failed = df_kick[df_kick[\"state\"] == \"failed\"][\"category\"].value_counts()[:25]\n",
    "categorys_sucessful = df_kick[df_kick[\"state\"] == \"successful\"][\"category\"].value_counts()[:25]\n",
    "categorys_general = df_kick[\"category\"].value_counts()[:25]\n",
    "\n",
    "#First plot\n",
    "trace0 = go.Histogram(\n",
    "    x=df_kick[(df_kick.category.isin(categorys_failed.index.values)) & \n",
    "              (df_kick[\"state\"] == \"failed\")]['category'].head(100000),\n",
    "    histnorm='percent', name=\"Top 15 Failed\", showlegend=False\n",
    ")\n",
    "#Second plot\n",
    "trace1 = go.Histogram(\n",
    "    x=df_kick[(df_kick.category.isin(categorys_sucessful.index.values)) & \n",
    "              (df_kick[\"state\"] == \"successful\")]['category'].head(100000),\n",
    "    histnorm='percent', name=\"Top 15 Sucessful\", showlegend=False\n",
    ")\n",
    "\n",
    "#Third plot\n",
    "trace2 = go.Histogram(\n",
    "    x=df_kick[(df_kick.category.isin(categorys_general.index.values))]['category'].head(100000),\n",
    "    histnorm='percent', name=\"Top 25 All Category's\", showlegend=False\n",
    ")\n",
    "\n",
    "#Creating the grid\n",
    "fig = tls.make_subplots(rows=2, cols=2, specs=[[{}, {}], [{'colspan': 2}, None]],\n",
    "                          subplot_titles=('Top 15 Failed','Top 15 Sucessful', \"Top 25 All Category's\"))\n",
    "\n",
    "#setting the figs\n",
    "fig.append_trace(trace0, 1, 1)\n",
    "fig.append_trace(trace1, 1, 2)\n",
    "fig.append_trace(trace2, 2, 1)\n",
    "\n",
    "fig['layout'].update(showlegend=True, title=\"Top Frequency Category's\")\n",
    "iplot(fig)"
   ]
  },
  {
   "cell_type": "markdown",
   "metadata": {
    "_cell_guid": "1a75c5fe-b6dc-4414-8cee-26200d8e36b6",
    "_uuid": "75a90732d65cad34b8f0a7594889394b88b1c390"
   },
   "source": [
    "## I will take a further look at top 10 sucessful and failed categorys.\n",
    "I will look at:\n",
    "- Goal\n",
    "- Pledged\n",
    "- diff_pleded_goal "
   ]
  },
  {
   "cell_type": "code",
   "execution_count": null,
   "metadata": {
    "_cell_guid": "da46b4ca-1bd3-4d4e-8d6f-f56bd161b8d6",
    "_kg_hide-input": true,
    "_uuid": "a378f793fdeaf4ca6a06f9bad05abb08115c3174"
   },
   "outputs": [],
   "source": [
    "#First plot\n",
    "trace0 = go.Box(\n",
    "    x=df_kick[(df_kick.category.isin(categorys_failed.index.values)) & \n",
    "              (df_kick[\"state\"] == \"failed\")]['category'],\n",
    "    y=df_kick[(df_kick.category.isin(categorys_failed.index.values)) & \n",
    "              (df_kick[\"state\"] == \"failed\")]['pledged_log'].head(100000),\n",
    "    name=\"Failed Category's\", showlegend=False\n",
    ")\n",
    "\n",
    "#Second plot\n",
    "trace1 = go.Box(\n",
    "    x=df_kick[(df_kick.category.isin(categorys_sucessful.index.values)) & \n",
    "              (df_kick[\"state\"] == \"successful\")]['category'],\n",
    "    y=df_kick[(df_kick.category.isin(categorys_sucessful.index.values)) & \n",
    "              (df_kick[\"state\"] == \"successful\")]['pledged_log'].head(100000),\n",
    "    name=\"Sucessful Category's\", showlegend=False\n",
    ")\n",
    "\n",
    "#Third plot\n",
    "trace2 = go.Box(\n",
    "    x=df_kick[(df_kick.category.isin(categorys_general.index.values))]['category'],\n",
    "    y=df_kick[(df_kick.category.isin(categorys_general.index.values))]['pledged_log'].head(100000),\n",
    "    name=\"All Category's Distribuition\", showlegend=False\n",
    ")\n",
    "\n",
    "#Creating the grid\n",
    "fig = tls.make_subplots(rows=2, cols=2, specs=[[{}, {}], [{'colspan': 2}, None]],\n",
    "                          subplot_titles=('Failed','Sucessful', \"General Category's\", ))\n",
    "\n",
    "#setting the figs\n",
    "fig.append_trace(trace0, 1, 1)\n",
    "fig.append_trace(trace1, 1, 2)\n",
    "fig.append_trace(trace2, 2, 1)\n",
    "\n",
    "fig['layout'].update(showlegend=True, title=\"Main Category's Distribuition\")\n",
    "iplot(fig)"
   ]
  },
  {
   "cell_type": "code",
   "execution_count": null,
   "metadata": {
    "_cell_guid": "74c75fd9-88ab-43f7-a973-446e6845e306",
    "_kg_hide-input": true,
    "_uuid": "42ea0f92d8d3afcc8c1123b859bf3d459bdeaeae"
   },
   "outputs": [],
   "source": []
  },
  {
   "cell_type": "markdown",
   "metadata": {
    "_cell_guid": "c5c1e8e3-695e-4df8-b606-e1272b5232cd",
    "_uuid": "79ec441806247e6df0b938823730ee114f03199f"
   },
   "source": [
    "We can see that almost all categorys in sucessful have the same distribuition of values but some video games projects have the highest values in % difference of Pledged by Goal "
   ]
  },
  {
   "cell_type": "markdown",
   "metadata": {
    "_cell_guid": "f850a6b7-7227-4a84-9ead-13b970c92001",
    "_uuid": "c1d988594df608854a314bcd6168c6483c7a3527"
   },
   "source": [
    "## Now I will take a look at top 10 failed categorys"
   ]
  },
  {
   "cell_type": "code",
   "execution_count": null,
   "metadata": {
    "_cell_guid": "0de8c281-a217-4efa-a258-8ce8686795db",
    "_kg_hide-input": true,
    "_uuid": "d53e53d52ea9a7ff50962b90c99b7029329d34bd"
   },
   "outputs": [],
   "source": [
    "cat_fill = df_kick[df_kick.category.isin(categorys_failed[:10].index.values)]\n",
    "\n",
    "#First plot\n",
    "trace0 = go.Box(\n",
    "    x=cat_fill['category'],\n",
    "    y=cat_fill['goal_log'].head(100000),\n",
    "    name=\"Failed Category's\", showlegend=False\n",
    ")\n",
    "\n",
    "#Second plot\n",
    "trace1 = go.Box(\n",
    "    x=cat_fill['category'],\n",
    "    y=cat_fill['pledged_log'].head(100000),\n",
    "    name=\"Sucessful Category's\", showlegend=False\n",
    ")\n",
    "\n",
    "#Third plot\n",
    "trace2 = go.Box(\n",
    "    x=cat_fill['category'],\n",
    "    y=np.log(cat_fill['diff_pledged_goal'] + 1).head(100000),\n",
    "    name=\"Pledged\", showlegend=False\n",
    ")\n",
    "\n",
    "#Creating the grid\n",
    "fig = tls.make_subplots(rows=2, cols=2, specs=[[{}, {}], [{'colspan': 2}, None]],\n",
    "                          subplot_titles=('Goal Log','Pledged Log', \"Diff of Pledged and Goal\", ))\n",
    "\n",
    "#setting the figs\n",
    "fig.append_trace(trace0, 1, 1)\n",
    "fig.append_trace(trace1, 1, 2)\n",
    "fig.append_trace(trace2, 2, 1)\n",
    "\n",
    "fig['layout'].update(showlegend=True, \n",
    "                     title=\"Distribuition of Values by Top 10 Categorys\")\n",
    "iplot(fig)\n",
    "\n"
   ]
  },
  {
   "cell_type": "markdown",
   "metadata": {
    "_cell_guid": "d98cc0d9-5a2c-4ef3-abaf-1516364bbe1b",
    "_uuid": "0593cedb301395079036f73676bee252022258b4"
   },
   "source": []
  },
  {
   "cell_type": "markdown",
   "metadata": {
    "_cell_guid": "e468a962-9ec5-445d-af42-0ac5ca0ca2f7",
    "_uuid": "daa5811490d6cdf93ee091c483b0a1d494b6e823"
   },
   "source": [
    "<h2>Now I will start to Investigating the 3 top sucess and fail projects</h2>\n"
   ]
  },
  {
   "cell_type": "code",
   "execution_count": null,
   "metadata": {
    "_cell_guid": "b51992d6-ef89-47b1-8d0b-4dfd495df405",
    "_kg_hide-input": true,
    "_uuid": "c61188f82e34e8327ac51f83a5afc600c12ff453"
   },
   "outputs": [],
   "source": [
    "sucess_music = df_kick[(df_kick['main_category'] == 'Music') & \n",
    "                      (df_kick['state'] == 'successful')]\n",
    "sucess_filme_video = df_kick[(df_kick['main_category'] == 'Film & Video') & \n",
    "                      (df_kick['state'] == 'successful')]\n",
    "sucess_games = df_kick[(df_kick['main_category'] == 'Games') & \n",
    "                      (df_kick['state'] == 'successful')]\n",
    "\n",
    "plt.figure(figsize=(12,12))\n",
    "\n",
    "plt.subplot(3,1,1)\n",
    "ax0 = sns.countplot(x='category', data=sucess_music)\n",
    "ax0.set_xticklabels(ax0.get_xticklabels(),rotation=45)\n",
    "ax0.set_title(\"Categorys of Music with Sucess\", fontsize=15)\n",
    "ax0.set_xlabel(\"Music categories\", fontsize=12)\n",
    "ax0.set_ylabel(\"Counts\", fontsize=12)\n",
    "\n",
    "plt.subplot(3,1,2)\n",
    "ax1 = sns.countplot(x='category', data=sucess_filme_video)\n",
    "ax1.set_xticklabels(ax1.get_xticklabels(),rotation=45)\n",
    "ax1.set_title(\"Categorys of Film & Video with Sucess\", fontsize=15)\n",
    "ax1.set_xlabel(\"Film and Video Categorys\", fontsize=12)\n",
    "ax1.set_ylabel(\"Counts\", fontsize=12)\n",
    "\n",
    "plt.subplot(3,1,3)\n",
    "ax2 = sns.countplot(x='category', data=sucess_games)\n",
    "ax2.set_xticklabels(ax2.get_xticklabels(),rotation=45)\n",
    "ax2.set_title(\"Category Games with Sucess\", fontsize=15)\n",
    "ax2.set_xlabel(\"Categorys of Games with Sucess\", fontsize=12)\n",
    "ax2.set_ylabel(\"Counts\", fontsize=12)\n",
    "\n",
    "plt.subplots_adjust(wspace = 0.3, hspace = 0.9,top = 0.9)\n",
    "\n",
    "plt.show()"
   ]
  },
  {
   "cell_type": "markdown",
   "metadata": {
    "_cell_guid": "af0ed0c4-7f70-4eaa-ae7c-44c7bf72b94c",
    "_uuid": "9e10b0e5450214280b1d2833b9727dcddd24247b",
    "collapsed": true
   },
   "source": [
    "<h2>Main Category</h2>"
   ]
  },
  {
   "cell_type": "code",
   "execution_count": null,
   "metadata": {
    "_cell_guid": "023c0e71-178d-4d9f-af6e-27faae783184",
    "_kg_hide-input": true,
    "_uuid": "25a6a84b06afad81736f75aeb78408beb3187d73"
   },
   "outputs": [],
   "source": [
    "failed_film = df_kick[(df_kick['main_category'] == 'Film & Video') & \n",
    "                      (df_kick['state'] == 'failed')]\n",
    "failed_publishing = df_kick[(df_kick['main_category'] == 'Publishing') & \n",
    "                      (df_kick['state'] == 'failed')]\n",
    "failed_music = df_kick[(df_kick['main_category'] == 'Music') & \n",
    "                      (df_kick['state'] == 'failed')]\n",
    "\n",
    "plt.figure(figsize=(12,12))\n",
    "\n",
    "plt.subplot(3,1,1)\n",
    "ax0 = sns.countplot(x='category', data=failed_film)\n",
    "ax0.set_xticklabels(ax0.get_xticklabels(),rotation=45)\n",
    "ax0.set_title(\"Film & Video Most Fail Category's \", fontsize=15)\n",
    "ax0.set_xlabel(\"\", fontsize=12)\n",
    "ax0.set_ylabel(\"Counts\", fontsize=12)\n",
    "\n",
    "plt.subplot(3,1,2)\n",
    "ax1 = sns.countplot(x='category', data=failed_publishing)\n",
    "ax1.set_xticklabels(ax1.get_xticklabels(),rotation=45)\n",
    "ax1.set_title(\"Publishing Most Fail Category's\", fontsize=15)\n",
    "ax1.set_xlabel(\"\", fontsize=12)\n",
    "ax1.set_ylabel(\"Counts\", fontsize=12)\n",
    "\n",
    "plt.subplot(3,1,3)\n",
    "ax2 = sns.countplot(x='category', data=failed_music)\n",
    "ax2.set_xticklabels(ax2.get_xticklabels(),rotation=45)\n",
    "ax2.set_title(\"Music Most Fail Category's\", fontsize=15)\n",
    "ax2.set_xlabel(\"\", fontsize=12)\n",
    "ax2.set_ylabel(\"Counts\", fontsize=12)\n",
    "\n",
    "plt.subplots_adjust(wspace = 0.5, hspace = 0.9,top = 0.9)\n",
    "plt.show()"
   ]
  },
  {
   "cell_type": "markdown",
   "metadata": {
    "_cell_guid": "cced5ed4-7e61-4579-a911-aa207e24ddbf",
    "_uuid": "4f45233dce74a7bbfa665d5d74310cfd4168b0c1"
   },
   "source": [
    "In the musics with sucess the most frequent is Indie, and fails is Rock and Hip Hop! \n",
    "\n",
    "Another interesting thing, is that Documentary is a significant value in both states... "
   ]
  },
  {
   "cell_type": "markdown",
   "metadata": {
    "_cell_guid": "220c3a90-b8b7-4e2c-9ee4-0504e45fc844",
    "_uuid": "1966817ed65c9f4d87df8f5fb157be08dbf5f388"
   },
   "source": [
    "<h1> Looking the time and another features  </h1>\n"
   ]
  },
  {
   "cell_type": "code",
   "execution_count": null,
   "metadata": {
    "_cell_guid": "dd9c1b83-0d90-417d-be0c-1b04b2d0173a",
    "_uuid": "1c83de0b93a20ebc40aeb96cf9de9624ea88c7f2",
    "scrolled": false
   },
   "outputs": [],
   "source": [
    "df_kick['launched'] = pd.to_datetime(df_kick['launched'])\n",
    "df_kick['laun_month_year'] = df_kick['launched'].dt.to_period(\"M\")\n",
    "df_kick['laun_year'] = df_kick['launched'].dt.to_period(\"A\")\n",
    "df_kick['laun_hour'] = df_kick['launched'].dt.hour\n",
    "\n",
    "df_kick['deadline'] = pd.to_datetime(df_kick['deadline'])\n",
    "df_kick['dead_month_year'] = df_kick['deadline'].dt.to_period(\"M\")\n",
    "df_kick['dead_year'] = df_kick['launched'].dt.to_period(\"A\")"
   ]
  },
  {
   "cell_type": "code",
   "execution_count": null,
   "metadata": {
    "_cell_guid": "d65bf40f-2126-47b1-ae70-f77e1d1a7e1b",
    "_uuid": "16e74e6a1d7bdd3c57c1f4a3990476f99be07427"
   },
   "outputs": [],
   "source": [
    "#Creating a new columns with Campaign total months\n",
    "df_kick['time_campaign'] = df_kick['dead_month_year'] - df_kick['laun_month_year']\n",
    "df_kick['time_campaign'] = df_kick['time_campaign'].astype(int)\n"
   ]
  },
  {
   "cell_type": "code",
   "execution_count": null,
   "metadata": {
    "_cell_guid": "4023f81c-30a7-48dd-83fc-430a75a50f0d",
    "_uuid": "e3143b23ce4a029508513c850687a4b06d551cff"
   },
   "outputs": [],
   "source": [
    "plt.figure(figsize = (10,6))\n",
    "\n",
    "ax = sns.countplot(x='time_campaign', hue='state', \n",
    "                   data=df_kick[df_kick['time_campaign'] < 10])\n",
    "ax.set_title(\"Distribuition of Campaign Time by State\", fontsize=30)\n",
    "ax.set_xlabel(\"Campaign Total Months\", fontsize=20)\n",
    "ax.set_ylabel(\"Count\", fontsize=20)\n",
    "plt.show()\n",
    "\n",
    "print(\"Descriptions of Campaign Time x State\")\n",
    "print(pd.crosstab(df_kick[df_kick['time_campaign'] < 5]['time_campaign'], df_kick.state))\n",
    "\n"
   ]
  },
  {
   "cell_type": "code",
   "execution_count": null,
   "metadata": {
    "_cell_guid": "aa9e2480-24f1-4b51-86a0-c17a392ae108",
    "_uuid": "92f817ee32992675ffac94c871fa52c17cbcf968"
   },
   "outputs": [],
   "source": [
    "df_kick.laun_month_year = df_kick.laun_month_year.dt.strftime('%Y-%m')\n",
    "df_kick.laun_year = df_kick.laun_year.dt.strftime('%Y')"
   ]
  },
  {
   "cell_type": "code",
   "execution_count": null,
   "metadata": {
    "_cell_guid": "0a5881c3-16d2-4508-8fa1-89711deab643",
    "_kg_hide-input": true,
    "_uuid": "230b12b4710c9a40b60ad44a0b4abbfe27fe2297",
    "scrolled": false
   },
   "outputs": [],
   "source": [
    "year = df_kick['laun_year'].value_counts()\n",
    "month = df_kick['laun_month_year'].value_counts()\n",
    "\n",
    "fig, ax = plt.subplots(2,1, figsize=(12,10))\n",
    "\n",
    "plt.subplot(211)\n",
    "ax1 = sns.boxplot(x=\"laun_year\", y='pledged_log', \n",
    "                  data=df_kick[(df_kick.laun_year > '2008') & (df_kick.laun_year < '2018')])\n",
    "ax1.set_title(\"Project Pledged by Year\", fontsize=15)\n",
    "ax1.set_xlabel(\"Years\", fontsize=12)\n",
    "ax1.set_ylabel(\"Pledged(log)\", fontsize=12)\n",
    "\n",
    "plt.subplot(212)\n",
    "ax2 = sns.countplot(x=\"laun_year\", hue='state', \n",
    "                    data=df_kick[(df_kick.laun_year > '2008') & (df_kick.laun_year < '2018')])\n",
    "ax2.set_title(\"Projects count by Year\", fontsize=18)\n",
    "ax2.set_xlabel(\"State columns by Year\", fontsize=15)\n",
    "ax2.set_ylabel(\"Count\", fontsize=15)\n",
    "\n",
    "#order=['1970','2009','2010','2011','2012',\n",
    "#'2013','2014','2015', '2016', '2017','2018']\n",
    "# Why the order are not working? \n",
    "plt.show()\n",
    "\n",
    "print(\"Descriptive status count by year\")\n",
    "print(pd.crosstab(df_kick.laun_year, df_kick.state))"
   ]
  },
  {
   "cell_type": "code",
   "execution_count": null,
   "metadata": {
    "_cell_guid": "19df4894-eb57-4659-a713-77f9a30dbcba",
    "_uuid": "18057e37d07428dc8329bc67f982f24639b22a30"
   },
   "outputs": [],
   "source": [
    "hour = df_kick['laun_hour'].value_counts()\n",
    "\n",
    "plt.figure(figsize=(16,12))\n",
    "\n",
    "g1 = plt.subplot(311)\n",
    "g1 = sns.boxplot(x='laun_hour', y='goal_log', \n",
    "                 data=df_kick)\n",
    "g1.set_title(\"TOP 15 most frequent sucessful categorys\", fontsize=20)\n",
    "g1.set_xlabel(\"\", fontsize=15)\n",
    "g1.set_xticklabels(g1.get_xticklabels(),rotation=90)\n",
    "g1.set_ylabel(\"Goal(Log)\", fontsize=15)\n",
    "\n",
    "g2 = plt.subplot(312)\n",
    "g2 = sns.boxplot(x= 'laun_hour', y='pledged_log', \n",
    "                 data=df_kick)\n",
    "g2.set_title(\"TOP 15 most frequent sucessful categorys\", fontsize=20)\n",
    "g2.set_xlabel(\"\", fontsize=15)\n",
    "g2.set_xticklabels(g2.get_xticklabels(),rotation=90)\n",
    "g2.set_ylabel(\"Pledged (log)\", fontsize=15)\n",
    "\n",
    "ax2 = plt.subplot(313)\n",
    "ax2 = sns.boxplot(x= 'laun_hour', y='diff_pledged_goal', \n",
    "                 data=df_kick)\n",
    "ax2.set_xticklabels(ax2.get_xticklabels(),rotation=90)\n",
    "ax2.set_title(\"TOP 15 most frequent sucessful categorys\", fontsize=20)\n",
    "ax2.set_xlabel(\"TOP 15 Sucessful Category's\", fontsize=18)\n",
    "ax2.set_ylabel(\"Diff by Ledged Goal (%)\", fontsize=15)\n",
    "\n",
    "plt.subplots_adjust(wspace = 0.5, hspace = 0.9,top = 0.9)\n",
    "\n",
    "plt.show()"
   ]
  },
  {
   "cell_type": "markdown",
   "metadata": {
    "_cell_guid": "8d33a78a-de57-4655-872b-1adfd80b9147",
    "_uuid": "0d2318f840d721d75c80402707c3c985766d010f"
   },
   "source": [
    "## Taking a look athe the distribuition of Diff Pledged sucessful and failed Projects"
   ]
  },
  {
   "cell_type": "code",
   "execution_count": null,
   "metadata": {
    "_cell_guid": "2439cd55-1bbb-448b-add6-0d537386691a",
    "_uuid": "328b82135c1c2a844c1209da285d5d17e82f5bb3"
   },
   "outputs": [],
   "source": [
    "plt.figure(figsize = (12,6))\n",
    "sns.distplot(df_kick[(df_kick['diff_pledged_goal'] < 200) & \n",
    "                     (df_kick['state'] == 'failed')]['diff_pledged_goal'], color='r')\n",
    "sns.distplot(df_kick[(df_kick['diff_pledged_goal'] < 200) & \n",
    "                     (df_kick['state'] == 'successful')]['diff_pledged_goal'],color='g')\n",
    "plt.show()"
   ]
  },
  {
   "cell_type": "code",
   "execution_count": null,
   "metadata": {
    "_cell_guid": "79b69e74-80b1-4b5b-8bed-da5e81fd82fd",
    "_kg_hide-input": true,
    "_uuid": "9946ef48bb02205a4b62c188150494895e8f6264"
   },
   "outputs": [],
   "source": [
    "plt.figure(figsize = (18,15))\n",
    "\n",
    "plt.subplots_adjust(hspace = 0.35, top = 0.8)\n",
    "\n",
    "g1 = plt.subplot(211)\n",
    "g1 = sns.countplot(x=\"laun_month_year\", data=df_kick[df_kick['laun_month_year'] >= '2010-01'])\n",
    "g1.set_xticklabels(g1.get_xticklabels(),rotation=90)\n",
    "g1.set_title(\"Value Distribuition by Date Distribuition\", fontsize=30)\n",
    "g1.set_xlabel(\"Date Distribuition\", fontsize=20)\n",
    "g1.set_ylabel(\"Count\", fontsize=20)\n",
    "\n",
    "g2 = plt.subplot(212)\n",
    "g2 = sns.boxplot(x=\"laun_year\", y=\"diff_pledged_goal\",\n",
    "                 data=df_kick[df_kick['diff_pledged_goal'] < 150], \n",
    "                 hue=\"state\")\n",
    "g2.set_xticklabels(g2.get_xticklabels(),rotation=90)\n",
    "g2.set_title(\"Value Distribuition by Date Distribuition\", fontsize=20)\n",
    "g2.set_xlabel(\"Date Distribuition\", fontsize=20)\n",
    "g2.set_ylabel(\"Goal x Pledged (%)\", fontsize=20)\n",
    "plt.show()"
   ]
  },
  {
   "cell_type": "markdown",
   "metadata": {
    "_cell_guid": "c5d99aa6-2b69-4298-a378-d5bfcbeb15af",
    "_uuid": "b192902402facfff0271cbce76fee45bb8ef0f3d"
   },
   "source": [
    "Looking the difference pledged x goal between failed and sucessful "
   ]
  },
  {
   "cell_type": "code",
   "execution_count": null,
   "metadata": {
    "_cell_guid": "a8482a22-c029-462c-98d3-672d59ce64a8",
    "_kg_hide-input": true,
    "_uuid": "12a1f02dc88c73052263d270adbf6bd1da0d38cc"
   },
   "outputs": [],
   "source": [
    "plt.figure(figsize = (14,10))\n",
    "\n",
    "plt.subplots_adjust(hspace = 0.50, top = 0.8)\n",
    "\n",
    "plt.subplot(311)\n",
    "g =sns.boxplot(x='state', y='goal_log', \n",
    "            data=df_kick[df_kick['time_campaign'] < 10], \n",
    "            hue='time_campaign')\n",
    "g.set_title(\"State Goal's by Campaign Time\", fontsize=24)\n",
    "g.set_xlabel(\"\", fontsize=20)\n",
    "g.set_ylabel(\"Goal(log)\", fontsize=20)\n",
    "\n",
    "plt.subplot(312, sharex=g)\n",
    "g1 = sns.boxplot(x='state', y='pledged_log', \n",
    "            data=df_kick[df_kick['time_campaign'] < 10], \n",
    "            hue='time_campaign')\n",
    "g1.set_title(\"State Pledged's by Campaign Time\", fontsize=24)\n",
    "g1.set_xlabel(\"\", fontsize=20)\n",
    "g1.set_ylabel(\"Pledged(log)\", fontsize=20)\n",
    "\n",
    "plt.subplot(313)\n",
    "g2 = sns.boxplot(x='state', y='diff_pledged_goal', \n",
    "            data=df_kick)\n",
    "g2.set_title(\"State % of Goal reached by Campaign Time\", fontsize=30)\n",
    "g2.set_xlabel(\"State\", fontsize=20)\n",
    "g2.set_ylabel(\"Percentual Goal\", fontsize=20)\n",
    "plt.show()"
   ]
  },
  {
   "cell_type": "code",
   "execution_count": null,
   "metadata": {
    "_cell_guid": "71feb5e1-fd53-48bb-9b79-a31414b90a60",
    "_uuid": "ac87d88f1d92c25457010a601c7e1edb10ab890f",
    "scrolled": false
   },
   "outputs": [],
   "source": [
    "df_kick['backers_log'] = np.log(df_kick['backers'] + 1 ) \n",
    "#The + 1 is to normalize the zero or negative values\n",
    "\n",
    "plt.figure(figsize = (8,6))\n",
    "sns.distplot(df_kick['backers_log'])\n",
    "\n",
    "plt.show()"
   ]
  },
  {
   "cell_type": "code",
   "execution_count": null,
   "metadata": {
    "_cell_guid": "c5d5bd79-337f-4fc1-af6e-91efdbdaee67",
    "_uuid": "af4058eb88fd28dfc26d971abd8fcaaf36b178d0"
   },
   "outputs": [],
   "source": [
    "plt.figure(figsize = (12,8))\n",
    "\n",
    "plt.subplot(211)\n",
    "g = sns.violinplot(x='state',y='backers_log', \n",
    "               data=df_kick)\n",
    "g.set_title(\"Backers by STATE\", fontsize=18)\n",
    "\n",
    "plt.subplot(212)\n",
    "g = sns.violinplot(x='main_category',y='backers_log', \n",
    "                   data=df_kick)\n",
    "g.set_xticklabels(g.get_xticklabels(),rotation=45)\n",
    "\n",
    "plt.show()"
   ]
  },
  {
   "cell_type": "markdown",
   "metadata": {
    "_uuid": "352f4cf9dd32950fdc46a9cc603b6c55ad80818a"
   },
   "source": [
    "## backers_log"
   ]
  },
  {
   "cell_type": "code",
   "execution_count": null,
   "metadata": {
    "_cell_guid": "f33fa8b9-191a-44ea-b78f-0157d141f831",
    "_kg_hide-input": true,
    "_uuid": "8133fe72e65450f03a8f928b15cecd7a35f7bd95"
   },
   "outputs": [],
   "source": [
    "plt.figure(figsize = (12,8))\n",
    "\n",
    "plt.subplot(211)\n",
    "g = sns.boxplot(x='laun_year',y='backers_log', \n",
    "               data=df_kick[(df_kick.laun_year > '2008') & (df_kick.laun_year < '2018')])\n",
    "g.set_title(\"Backers by YEAR\", fontsize=18)\n",
    "\n",
    "plt.show()"
   ]
  },
  {
   "cell_type": "code",
   "execution_count": null,
   "metadata": {
    "_cell_guid": "6d32b5cd-7872-4cab-80b4-d404ad5454d0",
    "_kg_hide-input": true,
    "_kg_hide-output": false,
    "_uuid": "e7b3822b5943b74150d930ce77d328ba63ce9c27"
   },
   "outputs": [],
   "source": [
    "#Looking the relation of Backers and % of goal reached\n",
    "sns.lmplot(x='diff_pledged_goal', y ='backers_log', \n",
    "           data=df_kick[df_kick['diff_pledged_goal'] < 2000], size = 5, aspect = 2,\n",
    "           hue='state')\n",
    "plt.show()"
   ]
  },
  {
   "cell_type": "code",
   "execution_count": null,
   "metadata": {
    "_cell_guid": "ec3d9f75-ed5d-48d8-a2e0-650cdb0b990a",
    "_kg_hide-input": true,
    "_uuid": "26e68af39edb38fdccb93ea034ce11b0b2374083"
   },
   "outputs": [],
   "source": [
    "from wordcloud import WordCloud, STOPWORDS\n",
    "import nltk.tokenize as word_tokenize\n",
    "import re\n",
    "from nltk.tokenize import word_tokenize\n",
    "from nltk.corpus import stopwords\n",
    "import string\n",
    "import re\n",
    "from nltk.stem.porter import *\n",
    "from nltk.tokenize import sent_tokenize\n",
    "from sklearn.feature_extraction import stop_words\n",
    "\n",
    "from wordcloud import WordCloud, STOPWORDS\n",
    "\n",
    "stopwords = set(STOPWORDS)\n",
    "\n",
    "wordcloud = WordCloud(\n",
    "    background_color='white',\n",
    "    stopwords=stopwords,\n",
    "    max_words=1500,\n",
    "    max_font_size=200, \n",
    "    width=1000, height=800,\n",
    "    random_state=42,\n",
    ").generate(\" \".join(df_kick['name'].dropna().astype(str)))\n",
    "\n",
    "print(wordcloud)\n",
    "fig = plt.figure(figsize = (12,14))\n",
    "plt.imshow(wordcloud)\n",
    "plt.title(\"WORD CLOUD - REGION DESCRIPTION\",fontsize=25)\n",
    "plt.axis('off')\n",
    "plt.show()"
   ]
  },
  {
   "cell_type": "markdown",
   "metadata": {
    "_cell_guid": "1ad95b92-0bcd-4178-bcbb-ea1e8111661b",
    "_uuid": "bc3e1a744a6fd80049081a33de411bc84e372e5d"
   },
   "source": [
    "Someone can help me to fix this error in wordcloud?"
   ]
  },
  {
   "cell_type": "markdown",
   "metadata": {
    "_cell_guid": "7758c58e-dd69-4198-a8e5-7792830c1d4e",
    "_uuid": "6e643bad04028d31bd473f8e3f993d3ecc190c04"
   },
   "source": [
    "<h1>Conclusions: </h1>\n",
    "\n",
    "<i>I will continue</i>\n",
    "\n",
    "Below I did some tests\n",
    "    "
   ]
  },
  {
   "cell_type": "code",
   "execution_count": null,
   "metadata": {
    "_cell_guid": "baebd77d-cb53-46ba-be56-137617d44450",
    "_uuid": "7e64dbdb24a8815536ae06534d056dc0510c4417"
   },
   "outputs": [],
   "source": [
    "df_kick[df_kick['diff_pledged_goal'] > 1000].shape"
   ]
  },
  {
   "cell_type": "code",
   "execution_count": null,
   "metadata": {
    "_cell_guid": "54d87ed5-8e6c-470b-ae09-508b0a09f737",
    "_uuid": "51f812df16cc4afa1701973dc8bc227532a07cc4"
   },
   "outputs": [],
   "source": [
    "df_kick.columns"
   ]
  },
  {
   "cell_type": "code",
   "execution_count": null,
   "metadata": {
    "_cell_guid": "098a4223-18e8-41ea-92ec-6b4b1ad0611c",
    "_uuid": "db7290afe9369ec0c48c3a78e6e9217c79a920d3"
   },
   "outputs": [],
   "source": [
    "iplot([go.Histogram2dContour(x=df_kick['usd_goal_real'], \n",
    "                             y=df_kick['usd_pledged_real'], \n",
    "                             contours=go.Contours(coloring='heatmap')),\n",
    "       go.Scatter(x=df_kick['usd_goal_real'], y=df_kick['usd_pledged_real'], mode='markers')])"
   ]
  },
  {
   "cell_type": "markdown",
   "metadata": {
    "_cell_guid": "70ea7924-7c59-46fd-b640-ee3c4cba18ff",
    "_uuid": "8e12bd2089961f0f6c665b02e38df6239d41e6a7",
    "collapsed": true
   },
   "source": [
    "iplot([go.Histogram2dContour(x=df_kick['usd_goal_real'], y=df_kick['usd_pledged_real'], \n",
    "                          contours=Contours(coloring='heatmap')),\n",
    "       Scatter(x=df_kick['usd_goal_real'], y=df_kick['usd_pledged_real'], mode='markers', \n",
    "               marker=Marker(color='white', size=3, opacity=0.3))], \n",
    "      show_link=False)"
   ]
  },
  {
   "cell_type": "code",
   "execution_count": null,
   "metadata": {
    "_cell_guid": "9ac06835-9e74-47cd-979d-88450e0b6d06",
    "_uuid": "a3586844b41a767fb8319affcfcafe6f75032bec"
   },
   "outputs": [],
   "source": [
    "cats = df_kick.main_category.value_counts()[:6]\n",
    "\n",
    "data = [\n",
    "    go.Scatterpolar(\n",
    "      r=np.log(df_kick['diff_pledged_goal'] + 1),\n",
    "      theta=df_kick[df_kick['main_category'].isin(cats.index.values)]['main_category'],opacity=.8, \n",
    "      name = 'Diff Pledged'\n",
    "    ),\n",
    "    go.Scatterpolar(\n",
    "      r=df_kick['goal_log'],\n",
    "      theta=df_kick[df_kick['main_category'].isin(cats.index.values)]['main_category'],opacity=.6, \n",
    "      name = 'Goal Log'\n",
    "    ),\n",
    "    go.Scatterpolar(\n",
    "      r = df_kick['pledged_log'],\n",
    "      theta = df_kick[df_kick['main_category'].isin(cats.index.values)]['main_category'], opacity=.6,\n",
    "      name = 'Pledged Log'\n",
    "    ),\n",
    "    go.Scatterpolar(\n",
    "      r = df_kick['backers_log'],\n",
    "      theta = df_kick[df_kick['main_category'].isin(cats.index.values)]['main_category'], opacity=.6,\n",
    "      name = 'Backers Log')\n",
    "]\n",
    "\n",
    "layout = go.Layout(\n",
    "  polar = dict(\n",
    "    radialaxis = dict(\n",
    "      visible = True,\n",
    "      range = [0,20]\n",
    "    )\n",
    "  ),\n",
    "  showlegend = True\n",
    ")\n",
    "\n",
    "fig = go.Figure(data=data, layout=layout)\n",
    "iplot(fig)"
   ]
  },
  {
   "cell_type": "code",
   "execution_count": null,
   "metadata": {
    "_cell_guid": "b9aea30e-e1f7-465b-b615-3fa0d6b44368",
    "_uuid": "983c4c24db00b98ad1a8eea21328bdc57f78c044"
   },
   "outputs": [],
   "source": []
  },
  {
   "cell_type": "code",
   "execution_count": null,
   "metadata": {
    "_uuid": "04f92ff143487b30a1511fb3a6ff7d220373bbc4"
   },
   "outputs": [],
   "source": []
  }
 ],
 "metadata": {
  "hide_input": false,
  "kernelspec": {
   "display_name": "Python 3",
   "language": "python",
   "name": "python3"
  },
  "language_info": {
   "codemirror_mode": {
    "name": "ipython",
    "version": 3
   },
   "file_extension": ".py",
   "mimetype": "text/x-python",
   "name": "python",
   "nbconvert_exporter": "python",
   "pygments_lexer": "ipython3",
   "version": "3.6.8"
  },
  "latex_envs": {
   "LaTeX_envs_menu_present": true,
   "autoclose": false,
   "autocomplete": true,
   "bibliofile": "biblio.bib",
   "cite_by": "apalike",
   "current_citInitial": 1,
   "eqLabelWithNumbers": true,
   "eqNumInitial": 1,
   "hotkeys": {
    "equation": "Ctrl-E",
    "itemize": "Ctrl-I"
   },
   "labels_anchors": false,
   "latex_user_defs": false,
   "report_style_numbering": false,
   "user_envs_cfg": false
  }
 },
 "nbformat": 4,
 "nbformat_minor": 1
}
