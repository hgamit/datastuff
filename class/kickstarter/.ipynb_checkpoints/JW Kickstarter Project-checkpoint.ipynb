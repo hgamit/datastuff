{
 "cells": [
  {
   "cell_type": "code",
   "execution_count": 3,
   "metadata": {},
   "outputs": [
    {
     "name": "stdout",
     "output_type": "stream",
     "text": [
      "(370454, 15)\n",
      "(370222, 15)\n",
      "(370222, 15)\n"
     ]
    },
    {
     "data": {
      "text/plain": [
       "(370222, 77)"
      ]
     },
     "execution_count": 3,
     "metadata": {},
     "output_type": "execute_result"
    }
   ],
   "source": [
    "import numpy as np\n",
    "import matplotlib.pyplot as plt\n",
    "import pandas as pd\n",
    "\n",
    "#Loading the dataset\n",
    "dataset = pd.read_csv('ks-projects-201801.csv')\n",
    "dataset=dataset[(dataset['state'] == 'failed')|(dataset['state']=='canceled') | (dataset['state'] == 'successful')]\n",
    "print(dataset.shape)\n",
    "dataset.drop(dataset.index[dataset['country'] == 'N,0\"'], inplace = True)\n",
    "print(dataset.shape)\n",
    "dataset.drop(dataset.index[dataset['launched'] == '1970-01-01 01:00:00'], inplace = True)\n",
    "print(dataset.shape)\n",
    "\n",
    "onehotcurrency = pd.get_dummies(dataset['currency'])\n",
    "dataset = onehotcurrency.join(dataset)\n",
    "#dataset.shape\n",
    "\n",
    "onehotcountry = pd.get_dummies(dataset['country'])\n",
    "dataset = onehotcountry.join(dataset)\n",
    "#dataset.shape\n",
    "\n",
    "onehotmaincategory = pd.get_dummies(dataset['main_category'])\n",
    "dataset = onehotmaincategory.join(dataset)\n",
    "#dataset.shape\n",
    "\n",
    "onehotstate = pd.get_dummies(dataset['state'])\n",
    "dataset = onehotstate.join(dataset)\n",
    "#dataset.shape\n",
    "\n",
    "dataset['launched'] = pd.to_datetime(dataset['launched'])\n",
    "dataset['laun_month_year'] = dataset['launched'].dt.to_period(\"M\")\n",
    "dataset['laun_day_month_year'] = dataset['launched'].dt.to_period(\"D\")\n",
    "dataset['laun_year'] = dataset['launched'].dt.to_period(\"A\")\n",
    "dataset['laun_hour'] = dataset['launched'].dt.hour\n",
    "\n",
    "dataset['deadline'] = pd.to_datetime(dataset['deadline'])\n",
    "dataset['dead_month_year'] = dataset['deadline'].dt.to_period(\"M\")\n",
    "dataset['dead_day_month_year'] = dataset['deadline'].dt.to_period(\"D\")\n",
    "dataset['dead_year'] = dataset['deadline'].dt.to_period(\"A\")\n",
    "\n",
    "\n",
    "#Creating a new columns with Campaign total months\n",
    "dataset['time_campaign'] = dataset['dead_month_year'] - dataset['laun_month_year']\n",
    "#dataset['time_campaign'] = (((dataset.dead_day_month_year - dataset.laun_day_month_year)/np.timedelta64(1, 'M'))).astype(int)\n",
    "dataset.shape"
   ]
  },
  {
   "cell_type": "code",
   "execution_count": 117,
   "metadata": {},
   "outputs": [
    {
     "name": "stdout",
     "output_type": "stream",
     "text": [
      "<class 'pandas.core.frame.DataFrame'>\n",
      "Int64Index: 370216 entries, 0 to 378660\n",
      "Data columns (total 77 columns):\n",
      "canceled               370216 non-null uint8\n",
      "failed                 370216 non-null uint8\n",
      "successful             370216 non-null uint8\n",
      "Art                    370216 non-null uint8\n",
      "Comics                 370216 non-null uint8\n",
      "Crafts                 370216 non-null uint8\n",
      "Dance                  370216 non-null uint8\n",
      "Design                 370216 non-null uint8\n",
      "Fashion                370216 non-null uint8\n",
      "Film & Video           370216 non-null uint8\n",
      "Food                   370216 non-null uint8\n",
      "Games                  370216 non-null uint8\n",
      "Journalism             370216 non-null uint8\n",
      "Music                  370216 non-null uint8\n",
      "Photography            370216 non-null uint8\n",
      "Publishing             370216 non-null uint8\n",
      "Technology             370216 non-null uint8\n",
      "Theater                370216 non-null uint8\n",
      "AT                     370216 non-null uint8\n",
      "AU                     370216 non-null uint8\n",
      "BE                     370216 non-null uint8\n",
      "CA                     370216 non-null uint8\n",
      "CH                     370216 non-null uint8\n",
      "DE                     370216 non-null uint8\n",
      "DK                     370216 non-null uint8\n",
      "ES                     370216 non-null uint8\n",
      "FR                     370216 non-null uint8\n",
      "GB                     370216 non-null uint8\n",
      "HK                     370216 non-null uint8\n",
      "IE                     370216 non-null uint8\n",
      "IT                     370216 non-null uint8\n",
      "JP                     370216 non-null uint8\n",
      "LU                     370216 non-null uint8\n",
      "MX                     370216 non-null uint8\n",
      "NL                     370216 non-null uint8\n",
      "NO                     370216 non-null uint8\n",
      "NZ                     370216 non-null uint8\n",
      "SE                     370216 non-null uint8\n",
      "SG                     370216 non-null uint8\n",
      "US                     370216 non-null uint8\n",
      "AUD                    370216 non-null uint8\n",
      "CAD                    370216 non-null uint8\n",
      "CHF                    370216 non-null uint8\n",
      "DKK                    370216 non-null uint8\n",
      "EUR                    370216 non-null uint8\n",
      "GBP                    370216 non-null uint8\n",
      "HKD                    370216 non-null uint8\n",
      "JPY                    370216 non-null uint8\n",
      "MXN                    370216 non-null uint8\n",
      "NOK                    370216 non-null uint8\n",
      "NZD                    370216 non-null uint8\n",
      "SEK                    370216 non-null uint8\n",
      "SGD                    370216 non-null uint8\n",
      "USD                    370216 non-null uint8\n",
      "ID                     370216 non-null int64\n",
      "name                   370213 non-null object\n",
      "category               370216 non-null object\n",
      "main_category          370216 non-null object\n",
      "currency               370216 non-null object\n",
      "deadline               370216 non-null datetime64[ns]\n",
      "goal                   370216 non-null float64\n",
      "launched               370216 non-null datetime64[ns]\n",
      "pledged                370216 non-null float64\n",
      "state                  370216 non-null object\n",
      "backers                370216 non-null int64\n",
      "country                370216 non-null object\n",
      "usd pledged            370216 non-null float64\n",
      "usd_pledged_real       370216 non-null float64\n",
      "usd_goal_real          370216 non-null float64\n",
      "laun_month_year        370216 non-null object\n",
      "laun_day_month_year    370216 non-null object\n",
      "laun_year              370216 non-null object\n",
      "laun_hour              370216 non-null int64\n",
      "dead_month_year        370216 non-null object\n",
      "dead_day_month_year    370216 non-null object\n",
      "dead_year              370216 non-null object\n",
      "time_campaign          370216 non-null object\n",
      "dtypes: datetime64[ns](2), float64(5), int64(3), object(13), uint8(54)\n",
      "memory usage: 96.9+ MB\n"
     ]
    },
    {
     "data": {
      "text/html": [
       "<div>\n",
       "<style scoped>\n",
       "    .dataframe tbody tr th:only-of-type {\n",
       "        vertical-align: middle;\n",
       "    }\n",
       "\n",
       "    .dataframe tbody tr th {\n",
       "        vertical-align: top;\n",
       "    }\n",
       "\n",
       "    .dataframe thead th {\n",
       "        text-align: right;\n",
       "    }\n",
       "</style>\n",
       "<table border=\"1\" class=\"dataframe\">\n",
       "  <thead>\n",
       "    <tr style=\"text-align: right;\">\n",
       "      <th></th>\n",
       "      <th>canceled</th>\n",
       "      <th>failed</th>\n",
       "      <th>successful</th>\n",
       "      <th>Art</th>\n",
       "      <th>Comics</th>\n",
       "      <th>Crafts</th>\n",
       "      <th>Dance</th>\n",
       "      <th>Design</th>\n",
       "      <th>Fashion</th>\n",
       "      <th>Film &amp; Video</th>\n",
       "      <th>...</th>\n",
       "      <th>usd_pledged_real</th>\n",
       "      <th>usd_goal_real</th>\n",
       "      <th>laun_month_year</th>\n",
       "      <th>laun_day_month_year</th>\n",
       "      <th>laun_year</th>\n",
       "      <th>laun_hour</th>\n",
       "      <th>dead_month_year</th>\n",
       "      <th>dead_day_month_year</th>\n",
       "      <th>dead_year</th>\n",
       "      <th>time_campaign</th>\n",
       "    </tr>\n",
       "  </thead>\n",
       "  <tbody>\n",
       "    <tr>\n",
       "      <th>0</th>\n",
       "      <td>0</td>\n",
       "      <td>1</td>\n",
       "      <td>0</td>\n",
       "      <td>0</td>\n",
       "      <td>0</td>\n",
       "      <td>0</td>\n",
       "      <td>0</td>\n",
       "      <td>0</td>\n",
       "      <td>0</td>\n",
       "      <td>0</td>\n",
       "      <td>...</td>\n",
       "      <td>0.0</td>\n",
       "      <td>1533.95</td>\n",
       "      <td>2015-08</td>\n",
       "      <td>2015-08-11</td>\n",
       "      <td>2015</td>\n",
       "      <td>12</td>\n",
       "      <td>2015-10</td>\n",
       "      <td>2015-10-09</td>\n",
       "      <td>2015</td>\n",
       "      <td>2</td>\n",
       "    </tr>\n",
       "    <tr>\n",
       "      <th>1</th>\n",
       "      <td>0</td>\n",
       "      <td>1</td>\n",
       "      <td>0</td>\n",
       "      <td>0</td>\n",
       "      <td>0</td>\n",
       "      <td>0</td>\n",
       "      <td>0</td>\n",
       "      <td>0</td>\n",
       "      <td>0</td>\n",
       "      <td>1</td>\n",
       "      <td>...</td>\n",
       "      <td>2421.0</td>\n",
       "      <td>30000.00</td>\n",
       "      <td>2017-09</td>\n",
       "      <td>2017-09-02</td>\n",
       "      <td>2017</td>\n",
       "      <td>4</td>\n",
       "      <td>2017-11</td>\n",
       "      <td>2017-11-01</td>\n",
       "      <td>2017</td>\n",
       "      <td>2</td>\n",
       "    </tr>\n",
       "    <tr>\n",
       "      <th>2</th>\n",
       "      <td>0</td>\n",
       "      <td>1</td>\n",
       "      <td>0</td>\n",
       "      <td>0</td>\n",
       "      <td>0</td>\n",
       "      <td>0</td>\n",
       "      <td>0</td>\n",
       "      <td>0</td>\n",
       "      <td>0</td>\n",
       "      <td>1</td>\n",
       "      <td>...</td>\n",
       "      <td>220.0</td>\n",
       "      <td>45000.00</td>\n",
       "      <td>2013-01</td>\n",
       "      <td>2013-01-12</td>\n",
       "      <td>2013</td>\n",
       "      <td>0</td>\n",
       "      <td>2013-02</td>\n",
       "      <td>2013-02-26</td>\n",
       "      <td>2013</td>\n",
       "      <td>1</td>\n",
       "    </tr>\n",
       "    <tr>\n",
       "      <th>3</th>\n",
       "      <td>0</td>\n",
       "      <td>1</td>\n",
       "      <td>0</td>\n",
       "      <td>0</td>\n",
       "      <td>0</td>\n",
       "      <td>0</td>\n",
       "      <td>0</td>\n",
       "      <td>0</td>\n",
       "      <td>0</td>\n",
       "      <td>0</td>\n",
       "      <td>...</td>\n",
       "      <td>1.0</td>\n",
       "      <td>5000.00</td>\n",
       "      <td>2012-03</td>\n",
       "      <td>2012-03-17</td>\n",
       "      <td>2012</td>\n",
       "      <td>3</td>\n",
       "      <td>2012-04</td>\n",
       "      <td>2012-04-16</td>\n",
       "      <td>2012</td>\n",
       "      <td>1</td>\n",
       "    </tr>\n",
       "    <tr>\n",
       "      <th>4</th>\n",
       "      <td>1</td>\n",
       "      <td>0</td>\n",
       "      <td>0</td>\n",
       "      <td>0</td>\n",
       "      <td>0</td>\n",
       "      <td>0</td>\n",
       "      <td>0</td>\n",
       "      <td>0</td>\n",
       "      <td>0</td>\n",
       "      <td>1</td>\n",
       "      <td>...</td>\n",
       "      <td>1283.0</td>\n",
       "      <td>19500.00</td>\n",
       "      <td>2015-07</td>\n",
       "      <td>2015-07-04</td>\n",
       "      <td>2015</td>\n",
       "      <td>8</td>\n",
       "      <td>2015-08</td>\n",
       "      <td>2015-08-29</td>\n",
       "      <td>2015</td>\n",
       "      <td>1</td>\n",
       "    </tr>\n",
       "  </tbody>\n",
       "</table>\n",
       "<p>5 rows × 77 columns</p>\n",
       "</div>"
      ],
      "text/plain": [
       "   canceled  failed  successful  Art  Comics  Crafts  Dance  Design  Fashion  \\\n",
       "0         0       1           0    0       0       0      0       0        0   \n",
       "1         0       1           0    0       0       0      0       0        0   \n",
       "2         0       1           0    0       0       0      0       0        0   \n",
       "3         0       1           0    0       0       0      0       0        0   \n",
       "4         1       0           0    0       0       0      0       0        0   \n",
       "\n",
       "   Film & Video      ...        usd_pledged_real  usd_goal_real  \\\n",
       "0             0      ...                     0.0        1533.95   \n",
       "1             1      ...                  2421.0       30000.00   \n",
       "2             1      ...                   220.0       45000.00   \n",
       "3             0      ...                     1.0        5000.00   \n",
       "4             1      ...                  1283.0       19500.00   \n",
       "\n",
       "   laun_month_year  laun_day_month_year  laun_year  laun_hour  \\\n",
       "0          2015-08           2015-08-11       2015         12   \n",
       "1          2017-09           2017-09-02       2017          4   \n",
       "2          2013-01           2013-01-12       2013          0   \n",
       "3          2012-03           2012-03-17       2012          3   \n",
       "4          2015-07           2015-07-04       2015          8   \n",
       "\n",
       "   dead_month_year  dead_day_month_year  dead_year  time_campaign  \n",
       "0          2015-10           2015-10-09       2015              2  \n",
       "1          2017-11           2017-11-01       2017              2  \n",
       "2          2013-02           2013-02-26       2013              1  \n",
       "3          2012-04           2012-04-16       2012              1  \n",
       "4          2015-08           2015-08-29       2015              1  \n",
       "\n",
       "[5 rows x 77 columns]"
      ]
     },
     "execution_count": 117,
     "metadata": {},
     "output_type": "execute_result"
    }
   ],
   "source": [
    "dataset.info()\n",
    "dataset.head()"
   ]
  },
  {
   "cell_type": "code",
   "execution_count": 83,
   "metadata": {},
   "outputs": [
    {
     "name": "stdout",
     "output_type": "stream",
     "text": [
      "canceled                    2\n",
      "failed                      2\n",
      "successful                  2\n",
      "AUD                         2\n",
      "CAD                         2\n",
      "CHF                         2\n",
      "DKK                         2\n",
      "EUR                         2\n",
      "GBP                         2\n",
      "HKD                         2\n",
      "JPY                         2\n",
      "MXN                         2\n",
      "NOK                         2\n",
      "NZD                         2\n",
      "SEK                         2\n",
      "SGD                         2\n",
      "USD                         2\n",
      "ID                     370219\n",
      "name                   367472\n",
      "category                  159\n",
      "main_category              15\n",
      "currency                   14\n",
      "deadline                 3147\n",
      "goal                     8233\n",
      "launched               369664\n",
      "pledged                 61556\n",
      "state                       3\n",
      "backers                  3940\n",
      "country                    22\n",
      "usd pledged             94706\n",
      "usd_pledged_real       104287\n",
      "usd_goal_real           49309\n",
      "laun_month_year           107\n",
      "laun_day_month_year      3166\n",
      "laun_year                  11\n",
      "laun_hour                  24\n",
      "dead_month_year           106\n",
      "dead_day_month_year      3147\n",
      "dead_year                  10\n",
      "time_campaign              10\n",
      "dtype: int64\n",
      "0             failed\n",
      "1             failed\n",
      "2             failed\n",
      "3             failed\n",
      "4           canceled\n",
      "5         successful\n",
      "6         successful\n",
      "7             failed\n",
      "8           canceled\n",
      "9           canceled\n",
      "10            failed\n",
      "11        successful\n",
      "12            failed\n",
      "13            failed\n",
      "14        successful\n",
      "15            failed\n",
      "16            failed\n",
      "17            failed\n",
      "18        successful\n",
      "19            failed\n",
      "20        successful\n",
      "21            failed\n",
      "22            failed\n",
      "23            failed\n",
      "24        successful\n",
      "25        successful\n",
      "26            failed\n",
      "27        successful\n",
      "28        successful\n",
      "29        successful\n",
      "             ...    \n",
      "378631    successful\n",
      "378632        failed\n",
      "378633        failed\n",
      "378634        failed\n",
      "378635        failed\n",
      "378636    successful\n",
      "378637    successful\n",
      "378638        failed\n",
      "378639    successful\n",
      "378640      canceled\n",
      "378641        failed\n",
      "378642    successful\n",
      "378643      canceled\n",
      "378644    successful\n",
      "378645        failed\n",
      "378646    successful\n",
      "378647        failed\n",
      "378648      canceled\n",
      "378649        failed\n",
      "378650        failed\n",
      "378651    successful\n",
      "378652    successful\n",
      "378653        failed\n",
      "378654        failed\n",
      "378655      canceled\n",
      "378656      canceled\n",
      "378657        failed\n",
      "378658        failed\n",
      "378659        failed\n",
      "378660        failed\n",
      "Name: state, Length: 370219, dtype: object\n"
     ]
    }
   ],
   "source": [
    "print(dataset.nunique())"
   ]
  },
  {
   "cell_type": "code",
   "execution_count": 4,
   "metadata": {
    "scrolled": false
   },
   "outputs": [
    {
     "name": "stderr",
     "output_type": "stream",
     "text": [
      "C:\\Users\\jwang2\\AppData\\Local\\Continuum\\anaconda3\\lib\\site-packages\\ipykernel_launcher.py:1: DeprecationWarning: \n",
      ".ix is deprecated. Please use\n",
      ".loc for label based indexing or\n",
      ".iloc for positional indexing\n",
      "\n",
      "See the documentation here:\n",
      "http://pandas.pydata.org/pandas-docs/stable/indexing.html#ix-indexer-is-deprecated\n",
      "  \"\"\"Entry point for launching an IPython kernel.\n",
      "C:\\Users\\jwang2\\AppData\\Local\\Continuum\\anaconda3\\lib\\site-packages\\sklearn\\preprocessing\\data.py:625: DataConversionWarning: Data with input dtype uint8, int64, float64, object were all converted to float64 by StandardScaler.\n",
      "  return self.partial_fit(X, y)\n",
      "C:\\Users\\jwang2\\AppData\\Local\\Continuum\\anaconda3\\lib\\site-packages\\sklearn\\base.py:462: DataConversionWarning: Data with input dtype uint8, int64, float64, object were all converted to float64 by StandardScaler.\n",
      "  return self.fit(X, **fit_params).transform(X)\n",
      "C:\\Users\\jwang2\\AppData\\Local\\Continuum\\anaconda3\\lib\\site-packages\\ipykernel_launcher.py:11: DataConversionWarning: Data with input dtype uint8, int64, float64, object were all converted to float64 by StandardScaler.\n",
      "  # This is added back by InteractiveShellApp.init_path()\n"
     ]
    }
   ],
   "source": [
    "X= pd.concat([dataset.ix[:,3:55],dataset.ix[:,64:65], dataset.ix[:,67:69], dataset.ix[:,76:]], axis=1)\n",
    "y = dataset.iloc[:,63]\n",
    "\n",
    "#print(y)\n",
    "from sklearn.model_selection import train_test_split\n",
    "X_train, X_test, y_train, y_test= train_test_split(X,y,test_size=0.25,random_state=0)\n",
    "\n",
    "from sklearn.preprocessing import StandardScaler\n",
    "sc_X= StandardScaler()\n",
    "X_train= sc_X.fit_transform(X_train)\n",
    "X_test= sc_X.transform(X_test)\n"
   ]
  },
  {
   "cell_type": "markdown",
   "metadata": {},
   "source": [
    "### Logistic Regression"
   ]
  },
  {
   "cell_type": "code",
   "execution_count": 5,
   "metadata": {},
   "outputs": [
    {
     "name": "stderr",
     "output_type": "stream",
     "text": [
      "C:\\Users\\jwang2\\AppData\\Local\\Continuum\\anaconda3\\lib\\site-packages\\sklearn\\linear_model\\logistic.py:433: FutureWarning: Default solver will be changed to 'lbfgs' in 0.22. Specify a solver to silence this warning.\n",
      "  FutureWarning)\n",
      "C:\\Users\\jwang2\\AppData\\Local\\Continuum\\anaconda3\\lib\\site-packages\\sklearn\\linear_model\\logistic.py:460: FutureWarning: Default multi_class will be changed to 'auto' in 0.22. Specify the multi_class option to silence this warning.\n",
      "  \"this warning.\", FutureWarning)\n"
     ]
    },
    {
     "data": {
      "text/plain": [
       "0.7841522969877696"
      ]
     },
     "execution_count": 5,
     "metadata": {},
     "output_type": "execute_result"
    }
   ],
   "source": [
    "from sklearn.linear_model import LogisticRegression\n",
    "classifierObj= LogisticRegression(random_state=0)\n",
    "classifierObj.fit(X_train, y_train)\n",
    "\n",
    "#Making predictions on the Test Set\n",
    "y_pred= classifierObj.predict(X_test)\n",
    "\n",
    "#Evaluating the predictions using a Confusion Matrix\n",
    "from sklearn.metrics import confusion_matrix\n",
    "cm = confusion_matrix(y_test, y_pred)\n",
    "\n",
    "classifierObj.score(X_test,y_test)"
   ]
  },
  {
   "cell_type": "markdown",
   "metadata": {},
   "source": [
    "### KNN"
   ]
  },
  {
   "cell_type": "code",
   "execution_count": null,
   "metadata": {},
   "outputs": [],
   "source": [
    "#Fitting Classifier to Training Set. Create a classifier object here and call it classifierObj\n",
    "from sklearn.neighbors import KNeighborsClassifier\n",
    "classifierObj= KNeighborsClassifier(n_neighbors=5, p=2, metric='minkowski')\n",
    "classifierObj.fit(X_train, y_train) \n",
    "\n",
    "#Making predictions on the Test Set\n",
    "y_pred= classifierObj.predict(X_test)\n",
    "\n",
    "#Evaluating the predictions using a Confusion Matrix\n",
    "from sklearn.metrics import confusion_matrix\n",
    "cm = confusion_matrix(y_test, y_pred)\n",
    "classifierObj.score(X_test,y_test)"
   ]
  },
  {
   "cell_type": "markdown",
   "metadata": {},
   "source": [
    "### SVM"
   ]
  },
  {
   "cell_type": "code",
   "execution_count": null,
   "metadata": {},
   "outputs": [],
   "source": [
    "#Fitting Classifier to Training Set. Create a classifier object here and call it classifierObj\n",
    "#Default kernel it uses is RBF, which is a gaussian kernel. For now we will specify that we want to use a “linear” kernel. \n",
    "from sklearn.svm import SVC\n",
    "classifierObj= SVC(kernel='linear')\n",
    "classifierObj.fit(X_train, y_train) \n",
    "\n",
    "#Making predictions on the Test Set\n",
    "y_pred= classifierObj.predict(X_test)\n",
    "\n",
    "#Evaluating the predictions using a Confusion Matrix\n",
    "from sklearn.metrics import confusion_matrix\n",
    "cm = confusion_matrix(y_test, y_pred)\n",
    "classifierObj.score(X_test,y_test)\n",
    "\n",
    "#from sklearn.model_selection import cross_val_score\n",
    "#modelAccuracies= cross_val_score(estimator=classifierObj, X=X_train, y=y_train, cv=10)\n",
    "#print(modelAccuracies.mean())\n",
    "#print(modelAccuracies.std())"
   ]
  },
  {
   "cell_type": "markdown",
   "metadata": {},
   "source": [
    "### Kernel SVM"
   ]
  },
  {
   "cell_type": "code",
   "execution_count": null,
   "metadata": {},
   "outputs": [],
   "source": [
    "#Fitting Classifier to Training Set. Create a classifier object here and call it classifierObj\n",
    "from sklearn.svm import SVC\n",
    "classifierObj= SVC()\n",
    "#try different degrees of polynomial kernels\n",
    "#classifierObj= SVC(kernel='poly', degree=3)\n",
    "#classifierObj=SVC(kernel='sigmoid')\n",
    "classifierObj.fit(X_train, y_train)\n",
    "\n",
    "#Making predictions on the Test Set\n",
    "y_pred= classifierObj.predict(X_test)\n",
    "\n",
    "#Evaluating the predictions using a Confusion Matrix\n",
    "from sklearn.metrics import confusion_matrix\n",
    "cm = confusion_matrix(y_test, y_pred)\n",
    "classifierObj.score(X_test,y_test)"
   ]
  },
  {
   "cell_type": "markdown",
   "metadata": {},
   "source": [
    "### Naive Bayes"
   ]
  },
  {
   "cell_type": "code",
   "execution_count": null,
   "metadata": {},
   "outputs": [],
   "source": [
    "#Fitting Classifier to Training Set. Create a classifier object here and call it classifierObj\n",
    "from sklearn.naive_bayes import GaussianNB\n",
    "classifierObj= GaussianNB()\n",
    "classifierObj.fit(X_train, y_train) \n",
    "\n",
    "#Making predictions on the Test Set\n",
    "y_pred= classifierObj.predict(X_test)\n",
    "\n",
    "#Evaluating the predictions using a Confusion Matrix\n",
    "from sklearn.metrics import confusion_matrix\n",
    "cm = confusion_matrix(y_test, y_pred)\n",
    "classifierObj.score(X_test,y_test)"
   ]
  },
  {
   "cell_type": "markdown",
   "metadata": {},
   "source": [
    "### Decision Tree"
   ]
  },
  {
   "cell_type": "code",
   "execution_count": null,
   "metadata": {},
   "outputs": [],
   "source": [
    "#Fitting Classifier to Training Set. Create a classifier object here and call it classifierObj\n",
    "from sklearn.tree import DecisionTreeClassifier\n",
    "classifierObj= DecisionTreeClassifier(criterion='entropy')\n",
    "classifierObj.fit(X_train,y_train)\n",
    "\n",
    "#Making predictions on the Test Set\n",
    "y_pred= classifierObj.predict(X_test)\n",
    "\n",
    "#Evaluating the predictions using a Confusion Matrix\n",
    "from sklearn.metrics import confusion_matrix\n",
    "cm = confusion_matrix(y_test, y_pred)\n",
    "classifierObj.score(X_test,y_test)"
   ]
  },
  {
   "cell_type": "markdown",
   "metadata": {},
   "source": [
    "### Random Forest"
   ]
  },
  {
   "cell_type": "code",
   "execution_count": 6,
   "metadata": {},
   "outputs": [
    {
     "name": "stderr",
     "output_type": "stream",
     "text": [
      "C:\\Users\\jwang2\\AppData\\Local\\Continuum\\anaconda3\\lib\\site-packages\\sklearn\\ensemble\\forest.py:246: FutureWarning: The default value of n_estimators will change from 10 in version 0.20 to 100 in 0.22.\n",
      "  \"10 in version 0.20 to 100 in 0.22.\", FutureWarning)\n"
     ]
    },
    {
     "data": {
      "text/plain": [
       "0.8627209473183802"
      ]
     },
     "execution_count": 6,
     "metadata": {},
     "output_type": "execute_result"
    }
   ],
   "source": [
    "#Fitting Classifier to Training Set. Create a classifier object here and call it classifierObj\n",
    "from sklearn.ensemble import RandomForestClassifier\n",
    "classifierObj= RandomForestClassifier(criterion='entropy')\n",
    "classifierObj.fit(X_train,y_train)\n",
    "\n",
    "#Making predictions on the Test Set\n",
    "y_pred= classifierObj.predict(X_test)\n",
    "\n",
    "#Evaluating the predictions using a Confusion Matrix\n",
    "from sklearn.metrics import confusion_matrix\n",
    "cm = confusion_matrix(y_test, y_pred)\n",
    "classifierObj.score(X_test,y_test)"
   ]
  },
  {
   "cell_type": "code",
   "execution_count": 7,
   "metadata": {},
   "outputs": [
    {
     "name": "stderr",
     "output_type": "stream",
     "text": [
      "C:\\Users\\jwang2\\AppData\\Local\\Continuum\\anaconda3\\lib\\site-packages\\sklearn\\discriminant_analysis.py:388: UserWarning: Variables are collinear.\n",
      "  warnings.warn(\"Variables are collinear.\")\n"
     ]
    }
   ],
   "source": [
    "#Applying LDA\n",
    "from sklearn.discriminant_analysis import LinearDiscriminantAnalysis as LDA\n",
    "ldaObj= LDA(n_components=55)\n",
    "X_train= ldaObj.fit_transform(X_train,y_train)\n",
    "X_test= ldaObj.transform(X_test)"
   ]
  },
  {
   "cell_type": "code",
   "execution_count": 8,
   "metadata": {},
   "outputs": [
    {
     "name": "stderr",
     "output_type": "stream",
     "text": [
      "C:\\Users\\jwang2\\AppData\\Local\\Continuum\\anaconda3\\lib\\site-packages\\sklearn\\ensemble\\forest.py:246: FutureWarning: The default value of n_estimators will change from 10 in version 0.20 to 100 in 0.22.\n",
      "  \"10 in version 0.20 to 100 in 0.22.\", FutureWarning)\n"
     ]
    },
    {
     "data": {
      "text/plain": [
       "0.713816500280911"
      ]
     },
     "execution_count": 8,
     "metadata": {},
     "output_type": "execute_result"
    }
   ],
   "source": [
    "#Fitting Classifier to Training Set. Create a classifier object here and call it classifierObj\n",
    "from sklearn.ensemble import RandomForestClassifier\n",
    "classifierObj= RandomForestClassifier(criterion='entropy')\n",
    "classifierObj.fit(X_train,y_train)\n",
    "\n",
    "#Making predictions on the Test Set\n",
    "y_pred= classifierObj.predict(X_test)\n",
    "\n",
    "#Evaluating the predictions using a Confusion Matrix\n",
    "from sklearn.metrics import confusion_matrix\n",
    "cm = confusion_matrix(y_test, y_pred)\n",
    "classifierObj.score(X_test,y_test)"
   ]
  },
  {
   "cell_type": "code",
   "execution_count": 9,
   "metadata": {},
   "outputs": [
    {
     "name": "stderr",
     "output_type": "stream",
     "text": [
      "C:\\Users\\jwang2\\AppData\\Local\\Continuum\\anaconda3\\lib\\site-packages\\sklearn\\linear_model\\logistic.py:433: FutureWarning: Default solver will be changed to 'lbfgs' in 0.22. Specify a solver to silence this warning.\n",
      "  FutureWarning)\n",
      "C:\\Users\\jwang2\\AppData\\Local\\Continuum\\anaconda3\\lib\\site-packages\\sklearn\\linear_model\\logistic.py:460: FutureWarning: Default multi_class will be changed to 'auto' in 0.22. Specify the multi_class option to silence this warning.\n",
      "  \"this warning.\", FutureWarning)\n"
     ]
    },
    {
     "data": {
      "text/plain": [
       "0.571394615151908"
      ]
     },
     "execution_count": 9,
     "metadata": {},
     "output_type": "execute_result"
    }
   ],
   "source": [
    "from sklearn.linear_model import LogisticRegression\n",
    "classifierObj= LogisticRegression(random_state=0)\n",
    "classifierObj.fit(X_train, y_train)\n",
    "\n",
    "#Making predictions on the Test Set\n",
    "y_pred= classifierObj.predict(X_test)\n",
    "\n",
    "#Evaluating the predictions using a Confusion Matrix\n",
    "from sklearn.metrics import confusion_matrix\n",
    "cm = confusion_matrix(y_test, y_pred)\n",
    "\n",
    "classifierObj.score(X_test,y_test)"
   ]
  },
  {
   "cell_type": "code",
   "execution_count": null,
   "metadata": {},
   "outputs": [],
   "source": [
    "#Applying PCA\n",
    "from sklearn.decomposition import PCA\n",
    "pcaObj= PCA(n_components=None)\n",
    "X_train= pcaObj.fit_transform(X_train)\n",
    "X_test= pcaObj.transform(X_test)\n",
    "components_variance= pcaObj.explained_variance_ratio_"
   ]
  },
  {
   "cell_type": "code",
   "execution_count": null,
   "metadata": {},
   "outputs": [],
   "source": []
  }
 ],
 "metadata": {
  "kernelspec": {
   "display_name": "Python 3",
   "language": "python",
   "name": "python3"
  },
  "language_info": {
   "codemirror_mode": {
    "name": "ipython",
    "version": 3
   },
   "file_extension": ".py",
   "mimetype": "text/x-python",
   "name": "python",
   "nbconvert_exporter": "python",
   "pygments_lexer": "ipython3",
   "version": "3.7.1"
  }
 },
 "nbformat": 4,
 "nbformat_minor": 2
}
