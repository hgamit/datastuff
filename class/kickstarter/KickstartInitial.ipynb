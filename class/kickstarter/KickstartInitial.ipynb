{
 "cells": [
  {
   "cell_type": "markdown",
   "metadata": {},
   "source": [
    "#### Kickstarter - Crowfunding and Success\n",
    "\n",
    "Kickstarter Is an American public-benefit corporation based in Brooklyn, New York, that maintains a global crowdfunding platform focused on creativity The company's stated mission is to \"help bring creative projects to life\". Kickstarter has reportedly received more than $1.9 billion in pledges from 9.4 million backers to fund 257,000 creative projects, such as films, music, stage shows, comics, journalism, video games, technology and food-related projects.\n",
    "People who back Kickstarter projects are offered tangible rewards or experiences in exchange for their pledges. This model traces its roots to subscription model of arts patronage, where artists would go directly to their audiences to fund their work.\n",
    "\n",
    "**Project Owner's Perspective:**\n",
    "\n",
    "1. What is an ideal and optimal range of the funding goal for my project ? \n",
    "2. On which day of the week, I should post the project on Kickstarter ? \n",
    "3. How many keywords should I use in my project title ? \n",
    "4. What should be the total length of my project description ? \n",
    "\n",
    "**Kickstarters Perspective:** A large amount of manual effort is required to screen the project before it is approved to be hosted on the platform. Key ingredients for the project to be successfull.\n",
    "\n",
    "### why not a model to predict if a project will be successful before it is released?\n",
    "\n",
    "\n",
    "**List of possible predicting factors:**\n",
    "\n",
    "- **Total amount to be raised** - More amount may decrease the chances that the project will be successful. \n",
    "- **Total duration of the project** - It is possible that projects which are active for very short or very long time periods are not successful. \n",
    "- **Theme of the project** - People may consider donating to a project which has a good cause or a good theme. \n",
    "- **Writing style of the project description** - If the message is not very clear, the project may not get complete funding. \n",
    "- **Length of the project description** - Very long piecies of text may not perform good as compared to shorter crisp texts. \n",
    "- **Project launch time** - A project launched on weekdays as compared to weekends or holidays may not get complete funding amount. \n",
    "\n",
    "\n",
    "### Given Dataset\n",
    "\n",
    "#### Independent-\n",
    "\n",
    "#### ID:\n",
    "- ID                  378661 non-null int64 -- Unique project Id\n",
    "\n",
    "#### Text:\n",
    "- name                378657 non-null object -- Project name\n",
    "- category            378661 non-null object -- Type of Industry, For ex- Retaurant, Food, Poetry\n",
    "- main_category       378661 non-null object -- main campaign category or idea - Food/Music/Video\n",
    "\n",
    "#### Date:\n",
    "- deadline            378661 non-null object -- Crowd Funding Dead line\n",
    "- launched            378661 non-null object -- date launched\n",
    "\n",
    "#### Categorical: Nominal\n",
    "- currency            378661 non-null object -- Type of Currency\n",
    "- country             378661 non-null object -- Country\n",
    "\n",
    "#### Numerical:\n",
    "- goal                378661 non-null float64 -- Goal - The amount of money creator needs to complete the project\n",
    "- pledged             378661 non-null float64 -- amount pledged by crowd\n",
    "- backers             378661 non-null int64 -- number of supporters\n",
    "- usd pledged         374864 non-null float64 -- Pledged amount in USD (conversion made by KS) \n",
    "- usd_pledged_real    378661 non-null float64 -- Pledged amount in USD (conversion made by fixer.io api)\n",
    "- usd_goal_real       378661 non-null float64 -- Goal amount in USD \n",
    "\n",
    "##### Dependent- Nominal\n",
    "- state               378661 non-null object -- Project Status - Successfull, failed, canceled, undefined, etc..."
   ]
  },
  {
   "cell_type": "code",
   "execution_count": 1,
   "metadata": {},
   "outputs": [],
   "source": [
    "#Load the Librarys\n",
    "import sys\n",
    "import pandas as pd\n",
    "import numpy as np\n",
    "import seaborn as sns\n",
    "import matplotlib.pyplot as plt\n",
    "\n",
    "np.set_printoptions(threshold=sys.maxsize)"
   ]
  },
  {
   "cell_type": "code",
   "execution_count": 2,
   "metadata": {},
   "outputs": [],
   "source": [
    "#loading the data with encode \n",
    "df_ks = pd.read_csv(\"input/ks-projects-201801.csv\" , parse_dates = [\"launched\", \"deadline\"])"
   ]
  },
  {
   "cell_type": "code",
   "execution_count": 3,
   "metadata": {},
   "outputs": [
    {
     "name": "stdout",
     "output_type": "stream",
     "text": [
      "Total Projects:  378661 \n",
      "Total Features:  15\n"
     ]
    },
    {
     "data": {
      "text/html": [
       "<div>\n",
       "<style scoped>\n",
       "    .dataframe tbody tr th:only-of-type {\n",
       "        vertical-align: middle;\n",
       "    }\n",
       "\n",
       "    .dataframe tbody tr th {\n",
       "        vertical-align: top;\n",
       "    }\n",
       "\n",
       "    .dataframe thead th {\n",
       "        text-align: right;\n",
       "    }\n",
       "</style>\n",
       "<table border=\"1\" class=\"dataframe\">\n",
       "  <thead>\n",
       "    <tr style=\"text-align: right;\">\n",
       "      <th></th>\n",
       "      <th>ID</th>\n",
       "      <th>name</th>\n",
       "      <th>category</th>\n",
       "      <th>main_category</th>\n",
       "      <th>currency</th>\n",
       "      <th>deadline</th>\n",
       "      <th>goal</th>\n",
       "      <th>launched</th>\n",
       "      <th>pledged</th>\n",
       "      <th>state</th>\n",
       "      <th>backers</th>\n",
       "      <th>country</th>\n",
       "      <th>usd pledged</th>\n",
       "      <th>usd_pledged_real</th>\n",
       "      <th>usd_goal_real</th>\n",
       "    </tr>\n",
       "  </thead>\n",
       "  <tbody>\n",
       "    <tr>\n",
       "      <th>0</th>\n",
       "      <td>1000002330</td>\n",
       "      <td>The Songs of Adelaide &amp; Abullah</td>\n",
       "      <td>Poetry</td>\n",
       "      <td>Publishing</td>\n",
       "      <td>GBP</td>\n",
       "      <td>2015-10-09</td>\n",
       "      <td>1000.0</td>\n",
       "      <td>2015-08-11 12:12:28</td>\n",
       "      <td>0.0</td>\n",
       "      <td>failed</td>\n",
       "      <td>0</td>\n",
       "      <td>GB</td>\n",
       "      <td>0.0</td>\n",
       "      <td>0.0</td>\n",
       "      <td>1533.95</td>\n",
       "    </tr>\n",
       "    <tr>\n",
       "      <th>1</th>\n",
       "      <td>1000003930</td>\n",
       "      <td>Greeting From Earth: ZGAC Arts Capsule For ET</td>\n",
       "      <td>Narrative Film</td>\n",
       "      <td>Film &amp; Video</td>\n",
       "      <td>USD</td>\n",
       "      <td>2017-11-01</td>\n",
       "      <td>30000.0</td>\n",
       "      <td>2017-09-02 04:43:57</td>\n",
       "      <td>2421.0</td>\n",
       "      <td>failed</td>\n",
       "      <td>15</td>\n",
       "      <td>US</td>\n",
       "      <td>100.0</td>\n",
       "      <td>2421.0</td>\n",
       "      <td>30000.00</td>\n",
       "    </tr>\n",
       "    <tr>\n",
       "      <th>2</th>\n",
       "      <td>1000004038</td>\n",
       "      <td>Where is Hank?</td>\n",
       "      <td>Narrative Film</td>\n",
       "      <td>Film &amp; Video</td>\n",
       "      <td>USD</td>\n",
       "      <td>2013-02-26</td>\n",
       "      <td>45000.0</td>\n",
       "      <td>2013-01-12 00:20:50</td>\n",
       "      <td>220.0</td>\n",
       "      <td>failed</td>\n",
       "      <td>3</td>\n",
       "      <td>US</td>\n",
       "      <td>220.0</td>\n",
       "      <td>220.0</td>\n",
       "      <td>45000.00</td>\n",
       "    </tr>\n",
       "    <tr>\n",
       "      <th>3</th>\n",
       "      <td>1000007540</td>\n",
       "      <td>ToshiCapital Rekordz Needs Help to Complete Album</td>\n",
       "      <td>Music</td>\n",
       "      <td>Music</td>\n",
       "      <td>USD</td>\n",
       "      <td>2012-04-16</td>\n",
       "      <td>5000.0</td>\n",
       "      <td>2012-03-17 03:24:11</td>\n",
       "      <td>1.0</td>\n",
       "      <td>failed</td>\n",
       "      <td>1</td>\n",
       "      <td>US</td>\n",
       "      <td>1.0</td>\n",
       "      <td>1.0</td>\n",
       "      <td>5000.00</td>\n",
       "    </tr>\n",
       "    <tr>\n",
       "      <th>4</th>\n",
       "      <td>1000011046</td>\n",
       "      <td>Community Film Project: The Art of Neighborhoo...</td>\n",
       "      <td>Film &amp; Video</td>\n",
       "      <td>Film &amp; Video</td>\n",
       "      <td>USD</td>\n",
       "      <td>2015-08-29</td>\n",
       "      <td>19500.0</td>\n",
       "      <td>2015-07-04 08:35:03</td>\n",
       "      <td>1283.0</td>\n",
       "      <td>canceled</td>\n",
       "      <td>14</td>\n",
       "      <td>US</td>\n",
       "      <td>1283.0</td>\n",
       "      <td>1283.0</td>\n",
       "      <td>19500.00</td>\n",
       "    </tr>\n",
       "  </tbody>\n",
       "</table>\n",
       "</div>"
      ],
      "text/plain": [
       "           ID                                               name  \\\n",
       "0  1000002330                    The Songs of Adelaide & Abullah   \n",
       "1  1000003930      Greeting From Earth: ZGAC Arts Capsule For ET   \n",
       "2  1000004038                                     Where is Hank?   \n",
       "3  1000007540  ToshiCapital Rekordz Needs Help to Complete Album   \n",
       "4  1000011046  Community Film Project: The Art of Neighborhoo...   \n",
       "\n",
       "         category main_category currency    deadline     goal  \\\n",
       "0          Poetry    Publishing      GBP  2015-10-09   1000.0   \n",
       "1  Narrative Film  Film & Video      USD  2017-11-01  30000.0   \n",
       "2  Narrative Film  Film & Video      USD  2013-02-26  45000.0   \n",
       "3           Music         Music      USD  2012-04-16   5000.0   \n",
       "4    Film & Video  Film & Video      USD  2015-08-29  19500.0   \n",
       "\n",
       "              launched  pledged     state  backers country  usd pledged  \\\n",
       "0  2015-08-11 12:12:28      0.0    failed        0      GB          0.0   \n",
       "1  2017-09-02 04:43:57   2421.0    failed       15      US        100.0   \n",
       "2  2013-01-12 00:20:50    220.0    failed        3      US        220.0   \n",
       "3  2012-03-17 03:24:11      1.0    failed        1      US          1.0   \n",
       "4  2015-07-04 08:35:03   1283.0  canceled       14      US       1283.0   \n",
       "\n",
       "   usd_pledged_real  usd_goal_real  \n",
       "0               0.0        1533.95  \n",
       "1            2421.0       30000.00  \n",
       "2             220.0       45000.00  \n",
       "3               1.0        5000.00  \n",
       "4            1283.0       19500.00  "
      ]
     },
     "execution_count": 3,
     "metadata": {},
     "output_type": "execute_result"
    }
   ],
   "source": [
    "print (\"Total Projects: \", df_ks.shape[0], \"\\nTotal Features: \", df_ks.shape[1])\n",
    "df_ks.head()"
   ]
  },
  {
   "cell_type": "markdown",
   "metadata": {},
   "source": [
    "#### Data Clean Up\n",
    "1. Verify Individual distinct column values\n",
    "2. Get rid of unwanted columns (active stage columns)  \n",
    "3. Remove Duplicates \n",
    "4. Handle Missing Values \n",
    " "
   ]
  },
  {
   "cell_type": "markdown",
   "metadata": {},
   "source": [
    "- Feature Engineering (driven from our hypothesis generation) \n",
    "- Encode the Categorical Features"
   ]
  },
  {
   "cell_type": "code",
   "execution_count": 4,
   "metadata": {},
   "outputs": [
    {
     "name": "stdout",
     "output_type": "stream",
     "text": [
      "ID                  378661\n",
      "name                375764\n",
      "category               159\n",
      "main_category           15\n",
      "currency                14\n",
      "deadline              3164\n",
      "goal                  8353\n",
      "launched            378089\n",
      "pledged              62130\n",
      "state                    6\n",
      "backers               3963\n",
      "country                 23\n",
      "usd pledged          95455\n",
      "usd_pledged_real    106065\n",
      "usd_goal_real        50339\n",
      "dtype: int64\n"
     ]
    }
   ],
   "source": [
    "# Printing unique values in our dataset\n",
    "#print(df_ks.nunique())\n",
    "\n",
    "df_ks = df_ks.dropna() ## Drop the rows where at least one element is missing.\n",
    "#df_ks = df_ks[df_ks[\"currency\"] == \"USD\"] # Keep USD currency rows only\n",
    "df_ks.replace({'state': \"canceled\"}, \"failed\", inplace = True)\n",
    "df_ks = df_ks[df_ks[\"state\"].isin([\"failed\", \"successful\"])] ## State - Successful and Failed\n",
    "##Drop other not needed columns\n",
    "df_ks = df_ks.drop([\"backers\", \"ID\", \"currency\", \"country\", \"pledged\", \"usd pledged\", \"usd_pledged_real\", \"goal\"], axis = 1)\n",
    "##Dropping 1970 rows - all are failed\n",
    "df_ks.drop(df_ks.index[df_ks['launched'].str.contains(\"1970\")], inplace = True)"
   ]
  },
  {
   "cell_type": "code",
   "execution_count": 7,
   "metadata": {},
   "outputs": [],
   "source": [
    "#Counting null in each column\n",
    "#df_ks.isnull().sum()\n",
    "\n",
    "#Printing nan rows\n",
    "#nans = lambda df: df[df.isnull().any(axis=1)]\n",
    "#nans(df_ks)"
   ]
  },
  {
   "cell_type": "code",
   "execution_count": 8,
   "metadata": {},
   "outputs": [],
   "source": [
    "#df_ks['usd pledged'].describe()"
   ]
  },
  {
   "cell_type": "code",
   "execution_count": null,
   "metadata": {},
   "outputs": [],
   "source": [
    "#df_ks = df_ks.drop(['usd pledged'], axis=1)"
   ]
  },
  {
   "cell_type": "code",
   "execution_count": null,
   "metadata": {},
   "outputs": [],
   "source": [
    "#df_ks = df_ks.dropna(axis=0) ## Removing Rows - NaNs with no project Name"
   ]
  },
  {
   "cell_type": "code",
   "execution_count": null,
   "metadata": {},
   "outputs": [],
   "source": [
    "#Remove live, undefined, suspended rows as it has little to no impact on independent variable\n",
    "\n",
    "#df_ks.drop(df_ks.index[df_ks['state'] == 'live'], inplace = True)\n",
    "#df_ks.drop(df_ks.index[df_ks['state'] == 'undefined'], inplace = True)\n",
    "#df_ks.drop(df_ks.index[df_ks['state'] == 'suspended'], inplace = True)\n",
    "#df_ks.drop(df_ks.index[df_ks['state'] == 'canceled'], inplace = True)"
   ]
  },
  {
   "cell_type": "code",
   "execution_count": null,
   "metadata": {},
   "outputs": [],
   "source": [
    "#Print rows with canceled state\n",
    "#df_ks[df_ks['state'].str.contains(\"canceled\")]\n",
    "\n",
    "#Replacing canceled with failed state\n",
    "\n"
   ]
  },
  {
   "cell_type": "code",
   "execution_count": null,
   "metadata": {},
   "outputs": [],
   "source": [
    "#df_ks['currency'].unique()\n",
    "#df_ks['country'].value_counts()\n",
    "#replace function to fix \"N,0\" Countries\n",
    "'''def replace(s, r1, r2):\n",
    "    if(\"N,0\\\"\" in str(s)):\n",
    "        s = str(s).replace(r2,r1)\n",
    "    return s\n",
    "\n",
    "df_ks['country'] = df_ks.apply(lambda r: replace(r['country'], r['currency'], \"N,0\\\"\"), axis=1)\n",
    "#replace function\n",
    "df_ks.replace({'country': \"GBP\"}, \"GB\", inplace = True)\n",
    "df_ks.replace({'country': \"CAD\"}, \"CA\", inplace = True)\n",
    "df_ks.replace({'country': \"NOK\"}, \"NO\", inplace = True)\n",
    "df_ks.replace({'country': \"DKK\"}, \"DK\", inplace = True)\n",
    "df_ks.replace({'country': \"SEK\"}, \"SK\", inplace = True)\n",
    "df_ks.replace({'country': \"AUD\"}, \"AU\", inplace = True)\n",
    "df_ks.replace({'country': \"USD\"}, \"US\", inplace = True)\n",
    "df_ks.replace({'country': \"EUR\"}, \"DE\", inplace = True) ##there are some othe countries with same currency'''"
   ]
  },
  {
   "cell_type": "code",
   "execution_count": null,
   "metadata": {},
   "outputs": [],
   "source": [
    "#df_ks[df_ks['launched'].str.contains(\"1970\")]"
   ]
  },
  {
   "cell_type": "code",
   "execution_count": null,
   "metadata": {},
   "outputs": [],
   "source": [
    "#df_ks['launched'] = pd.DatetimeIndex(df_ks.launched).normalize() #Removing time from Launched"
   ]
  },
  {
   "cell_type": "code",
   "execution_count": null,
   "metadata": {},
   "outputs": [],
   "source": [
    "#df_ks['launched'] = pd.to_datetime(df_ks['launched'])\n",
    "#df_ks['deadline'] = pd.to_datetime(df_ks['deadline'])\n",
    "#df_ks.groupby(df_ks[\"deadline\"].dt.year).count()"
   ]
  },
  {
   "cell_type": "code",
   "execution_count": null,
   "metadata": {},
   "outputs": [],
   "source": [
    "# Calculate duration between features\n",
    "#df_ks['totaltime'] = [delta.days for delta in (df_ks['deadline'] - df_ks['launched'])]"
   ]
  },
  {
   "cell_type": "markdown",
   "metadata": {},
   "source": [
    "Distributions - Outliers and Skew"
   ]
  },
  {
   "cell_type": "code",
   "execution_count": null,
   "metadata": {},
   "outputs": [],
   "source": [
    "#df_ks.info()"
   ]
  },
  {
   "cell_type": "code",
   "execution_count": null,
   "metadata": {},
   "outputs": [],
   "source": [
    "#test = df_ks.drop(['ID','pledged','goal'], axis=1)"
   ]
  },
  {
   "cell_type": "code",
   "execution_count": null,
   "metadata": {},
   "outputs": [],
   "source": [
    "#test.head()"
   ]
  },
  {
   "cell_type": "code",
   "execution_count": null,
   "metadata": {},
   "outputs": [],
   "source": [
    "#df_ks['backers'].describe()\n",
    "#test.plot.kde()\n",
    "#df_ks.groupby('state').hist()\n",
    "#sns.scatterplot(x=\"usd_pledged_real\", y=\"usd_goal_real\", s=150,hue='state' , data=test)"
   ]
  },
  {
   "cell_type": "code",
   "execution_count": 10,
   "metadata": {},
   "outputs": [
    {
     "name": "stdout",
     "output_type": "stream",
     "text": [
      "USD    78.00\n",
      "GBP     9.01\n",
      "EUR     4.60\n",
      "CAD     3.95\n",
      "AUD     2.10\n",
      "SEK     0.47\n",
      "MXN     0.46\n",
      "NZD     0.39\n",
      "DKK     0.30\n",
      "CHF     0.20\n",
      "NOK     0.19\n",
      "HKD     0.16\n",
      "SGD     0.15\n",
      "JPY     0.01\n",
      "Name: currency, dtype: float64\n"
     ]
    }
   ],
   "source": [
    "def ret_percentage(column):\n",
    "    return round(column.value_counts(normalize=True) * 100,2)\n",
    "\n",
    "print(ret_percentage(df_ks['currency']))"
   ]
  },
  {
   "cell_type": "code",
   "execution_count": null,
   "metadata": {},
   "outputs": [],
   "source": [
    "test = df_ks.drop(df_ks.index[df_ks['backers'] == 0], inplace = False)\n",
    "test = test.drop(df_ks.index[df_ks['backers'] == 1], inplace = False)\n",
    "#print(ret_percentage(test['backers']))\n",
    "#df_ks.sort_values(by=['backers'], ascending=True)\n",
    "#df_ks.index[df_ks['backers'].str.contains(\"1970\")]"
   ]
  },
  {
   "cell_type": "markdown",
   "metadata": {},
   "source": [
    "#### Data looks biased towards 'failed' class, Need to recheck"
   ]
  },
  {
   "cell_type": "code",
   "execution_count": null,
   "metadata": {},
   "outputs": [],
   "source": [
    "df_ks['usd_goal_real'].describe()"
   ]
  },
  {
   "cell_type": "code",
   "execution_count": null,
   "metadata": {},
   "outputs": [],
   "source": [
    "percentage_dist = round(df_ks['state'].value_counts(normalize=True) * 100,2)\n",
    "print(percentage_dist)"
   ]
  },
  {
   "cell_type": "code",
   "execution_count": null,
   "metadata": {},
   "outputs": [],
   "source": [
    "sns.set(style='darkgrid')\n",
    "sns.countplot(y = 'state',\n",
    "              data = df_ks,\n",
    "              order = percentage_dist.index)\n",
    "plt.show()"
   ]
  },
  {
   "cell_type": "markdown",
   "metadata": {},
   "source": [
    "#### Remove live, undefined, suspended rows as it has little to no impact on independent variable"
   ]
  },
  {
   "cell_type": "markdown",
   "metadata": {},
   "source": [
    "#### Additional cleanup\n",
    "\n",
    "    - usd pledged - Currency column generated by kaggle user. Dropping it has most NaN Values. Instead, usd_pledged_real can be used.\n",
    "\n",
    "    -Remove rows with no project name \n",
    "    - Checking for duplicates"
   ]
  },
  {
   "cell_type": "code",
   "execution_count": null,
   "metadata": {},
   "outputs": [],
   "source": [
    "# Select duplicate rows except first occurrence based on all columns\n",
    "duplicateRowsDF = df_ks[df_ks.duplicated()]\n",
    " \n",
    "print(\"Duplicate Rows except first occurrence based on all columns are :\")\n",
    "print(duplicateRowsDF)"
   ]
  },
  {
   "cell_type": "markdown",
   "metadata": {},
   "source": [
    "#### Feature Extraction: \n",
    "\n",
    "    -Launched and deadline are strings. Convert those into timestamp to create duration of project feature plus additional.\n",
    "    - One hot encode categorical values"
   ]
  },
  {
   "cell_type": "code",
   "execution_count": null,
   "metadata": {},
   "outputs": [],
   "source": [
    "df_ks['launched'] = pd.to_datetime(df_ks['launched'])\n",
    "df_ks['laun_month_year'] = df_ks['launched'].dt.to_period(\"M\")\n",
    "df_ks['laun_day_month_year'] = df_ks['launched'].dt.to_period(\"D\")\n",
    "df_ks['laun_year'] = df_ks['launched'].dt.to_period(\"A\")\n",
    "df_ks['laun_hour'] = df_ks['launched'].dt.hour\n",
    "\n",
    "df_ks['deadline'] = pd.to_datetime(df_ks['deadline'])\n",
    "df_ks['dead_month_year'] = df_ks['deadline'].dt.to_period(\"M\")\n",
    "df_ks['dead_day_month_year'] = df_ks['deadline'].dt.to_period(\"D\")\n",
    "df_ks['dead_year'] = df_ks['deadline'].dt.to_period(\"A\")\n",
    "\n",
    "\n",
    "#Creating a new columns with Campaign total months\n",
    "df_ks['time_campaign'] = (((df_ks.dead_day_month_year - df_ks.laun_day_month_year)/np.timedelta64(1, 'M'))).astype(int)\n",
    "#df_ks['time_campaign'] = df_ks['dead_month_year'] - df_ks['laun_month_year']\n",
    "#df_ks['time_campaign'] = df_ks['time_campaign']"
   ]
  },
  {
   "cell_type": "code",
   "execution_count": null,
   "metadata": {},
   "outputs": [],
   "source": [
    "onehot = pd.get_dummies(df_ks['state'])\n",
    "df_ks = onehot.join(df_ks)\n",
    "df_ks.shape"
   ]
  },
  {
   "cell_type": "code",
   "execution_count": null,
   "metadata": {},
   "outputs": [],
   "source": [
    "from sklearn.preprocessing import LabelEncoder \n",
    "labelencoder_X = LabelEncoder() \n",
    "df_ks['state'] = labelencoder_X.fit_transform(df_ks['state'])"
   ]
  },
  {
   "cell_type": "code",
   "execution_count": null,
   "metadata": {},
   "outputs": [],
   "source": [
    "onehot = pd.get_dummies(df_ks['currency'])\n",
    "df_ks = onehot.join(df_ks)\n",
    "df_ks.shape"
   ]
  },
  {
   "cell_type": "code",
   "execution_count": null,
   "metadata": {},
   "outputs": [],
   "source": [
    "df_ks.head()"
   ]
  },
  {
   "cell_type": "markdown",
   "metadata": {},
   "source": [
    "#### Creating model and Testing Accuracy\n",
    "\n",
    "1. RandomForestClassifier - 65%\n",
    "2. XGBClassifier - 67%"
   ]
  },
  {
   "cell_type": "code",
   "execution_count": null,
   "metadata": {},
   "outputs": [],
   "source": [
    "from sklearn import *\n",
    "from sklearn.ensemble import RandomForestClassifier\n",
    "import xgboost as xgb\n",
    "from xgboost import XGBClassifier\n",
    "\n",
    "col = ['AUD','CAD','CHF','DKK','EUR','GBP','HKD','JPY','MXN','NOK','NZD','SEK','SGD','USD','backers','usd_pledged_real','usd_goal_real','time_campaign']\n",
    "X_train, X_test, y_train, y_test = model_selection.train_test_split(df_ks[col], df_ks[['canceled','failed','successful']], random_state=1, stratify=df_ks[['canceled','failed','successful']], \n",
    "                                                    test_size=0.25)\n",
    "#Normalizing the features \n",
    "import math\n",
    "from sklearn.preprocessing import StandardScaler \n",
    "sc_X = StandardScaler() \n",
    "X_train = sc_X.fit_transform(X_train) \n",
    "X_test = sc_X.transform(X_test)"
   ]
  },
  {
   "cell_type": "code",
   "execution_count": null,
   "metadata": {
    "scrolled": true
   },
   "outputs": [],
   "source": [
    "#model = multiclass.OneVsRestClassifier(ensemble.RandomForestClassifier(max_depth = 7, n_estimators=1000, random_state=33))\n",
    "#model = multiclass.OneVsRestClassifier(ensemble.ExtraTreesClassifier(n_jobs=-1, n_estimators=100, random_state=33))\n",
    "\n",
    "param_dist = {'objective': 'binary:logistic', 'max_depth': 1, 'n_estimators':1000, 'num_round':1000, 'eval_metric': 'logloss'}\n",
    "model = multiclass.OneVsRestClassifier(xgb.XGBClassifier(**param_dist))\n",
    "\n",
    "model.fit(X_train, y_train)"
   ]
  },
  {
   "cell_type": "code",
   "execution_count": null,
   "metadata": {},
   "outputs": [],
   "source": [
    "import math\n",
    "import pickle\n",
    "# save the model to disk\n",
    "filename = 'XGBClassifierLLabel.sav'\n",
    "pickle.dump(model, open(filename, 'wb'))"
   ]
  },
  {
   "cell_type": "code",
   "execution_count": null,
   "metadata": {},
   "outputs": [],
   "source": [
    "# some time later...\n",
    " \n",
    "# load the model from disk\n",
    "loaded_model = pickle.load(open(filename, 'rb'))\n",
    "print('Accuracy:',(math.exp(-metrics.log_loss(y_test, loaded_model.predict_proba(X_test)))))"
   ]
  }
 ],
 "metadata": {
  "hide_input": false,
  "kernelspec": {
   "display_name": "Python 3",
   "language": "python",
   "name": "python3"
  },
  "language_info": {
   "codemirror_mode": {
    "name": "ipython",
    "version": 3
   },
   "file_extension": ".py",
   "mimetype": "text/x-python",
   "name": "python",
   "nbconvert_exporter": "python",
   "pygments_lexer": "ipython3",
   "version": "3.6.8"
  },
  "latex_envs": {
   "LaTeX_envs_menu_present": true,
   "autoclose": false,
   "autocomplete": true,
   "bibliofile": "biblio.bib",
   "cite_by": "apalike",
   "current_citInitial": 1,
   "eqLabelWithNumbers": true,
   "eqNumInitial": 1,
   "hotkeys": {
    "equation": "Ctrl-E",
    "itemize": "Ctrl-I"
   },
   "labels_anchors": false,
   "latex_user_defs": false,
   "report_style_numbering": false,
   "user_envs_cfg": false
  }
 },
 "nbformat": 4,
 "nbformat_minor": 2
}
