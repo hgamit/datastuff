{
 "cells": [
  {
   "cell_type": "markdown",
   "metadata": {},
   "source": [
    "# Data Preparation"
   ]
  },
  {
   "cell_type": "code",
   "execution_count": 1,
   "metadata": {},
   "outputs": [
    {
     "data": {
      "text/html": [
       "<div>\n",
       "<style scoped>\n",
       "    .dataframe tbody tr th:only-of-type {\n",
       "        vertical-align: middle;\n",
       "    }\n",
       "\n",
       "    .dataframe tbody tr th {\n",
       "        vertical-align: top;\n",
       "    }\n",
       "\n",
       "    .dataframe thead th {\n",
       "        text-align: right;\n",
       "    }\n",
       "</style>\n",
       "<table border=\"1\" class=\"dataframe\">\n",
       "  <thead>\n",
       "    <tr style=\"text-align: right;\">\n",
       "      <th></th>\n",
       "      <th>City</th>\n",
       "      <th>Age</th>\n",
       "      <th>Salary</th>\n",
       "      <th>Approved</th>\n",
       "    </tr>\n",
       "  </thead>\n",
       "  <tbody>\n",
       "    <tr>\n",
       "      <th>0</th>\n",
       "      <td>Apple Valley</td>\n",
       "      <td>25.0</td>\n",
       "      <td>65000.0</td>\n",
       "      <td>Yes</td>\n",
       "    </tr>\n",
       "    <tr>\n",
       "      <th>1</th>\n",
       "      <td>Maplewood</td>\n",
       "      <td>30.0</td>\n",
       "      <td>81000.0</td>\n",
       "      <td>No</td>\n",
       "    </tr>\n",
       "    <tr>\n",
       "      <th>2</th>\n",
       "      <td>Eagan</td>\n",
       "      <td>33.0</td>\n",
       "      <td>NaN</td>\n",
       "      <td>Yes</td>\n",
       "    </tr>\n",
       "    <tr>\n",
       "      <th>3</th>\n",
       "      <td>Apple Valley</td>\n",
       "      <td>39.0</td>\n",
       "      <td>100000.0</td>\n",
       "      <td>No</td>\n",
       "    </tr>\n",
       "    <tr>\n",
       "      <th>4</th>\n",
       "      <td>Maplewood</td>\n",
       "      <td>28.0</td>\n",
       "      <td>91000.0</td>\n",
       "      <td>Yes</td>\n",
       "    </tr>\n",
       "    <tr>\n",
       "      <th>5</th>\n",
       "      <td>Eagan</td>\n",
       "      <td>NaN</td>\n",
       "      <td>66000.0</td>\n",
       "      <td>No</td>\n",
       "    </tr>\n",
       "    <tr>\n",
       "      <th>6</th>\n",
       "      <td>Apple Valley</td>\n",
       "      <td>40.0</td>\n",
       "      <td>98000.0</td>\n",
       "      <td>Yes</td>\n",
       "    </tr>\n",
       "    <tr>\n",
       "      <th>7</th>\n",
       "      <td>Maplewood</td>\n",
       "      <td>34.0</td>\n",
       "      <td>86000.0</td>\n",
       "      <td>Yes</td>\n",
       "    </tr>\n",
       "    <tr>\n",
       "      <th>8</th>\n",
       "      <td>Eagan</td>\n",
       "      <td>25.0</td>\n",
       "      <td>70000.0</td>\n",
       "      <td>No</td>\n",
       "    </tr>\n",
       "    <tr>\n",
       "      <th>9</th>\n",
       "      <td>Maplewood</td>\n",
       "      <td>24.0</td>\n",
       "      <td>62000.0</td>\n",
       "      <td>Yes</td>\n",
       "    </tr>\n",
       "  </tbody>\n",
       "</table>\n",
       "</div>"
      ],
      "text/plain": [
       "           City   Age    Salary Approved\n",
       "0  Apple Valley  25.0   65000.0      Yes\n",
       "1     Maplewood  30.0   81000.0       No\n",
       "2         Eagan  33.0       NaN      Yes\n",
       "3  Apple Valley  39.0  100000.0       No\n",
       "4     Maplewood  28.0   91000.0      Yes\n",
       "5         Eagan   NaN   66000.0       No\n",
       "6  Apple Valley  40.0   98000.0      Yes\n",
       "7     Maplewood  34.0   86000.0      Yes\n",
       "8         Eagan  25.0   70000.0       No\n",
       "9     Maplewood  24.0   62000.0      Yes"
      ]
     },
     "execution_count": 1,
     "metadata": {},
     "output_type": "execute_result"
    }
   ],
   "source": [
    "# Data Preparation and Imports\n",
    "\n",
    "import numpy as np\n",
    "import matplotlib.pyplot as plt\n",
    "import pandas as pd\n",
    "\n",
    "\n",
    "# Loading the dataset\n",
    "dataset = pd.read_csv(\"loans.csv\")\n",
    "# to view data\n",
    "dataset"
   ]
  },
  {
   "cell_type": "code",
   "execution_count": 2,
   "metadata": {},
   "outputs": [
    {
     "data": {
      "text/html": [
       "<div>\n",
       "<style scoped>\n",
       "    .dataframe tbody tr th:only-of-type {\n",
       "        vertical-align: middle;\n",
       "    }\n",
       "\n",
       "    .dataframe tbody tr th {\n",
       "        vertical-align: top;\n",
       "    }\n",
       "\n",
       "    .dataframe thead th {\n",
       "        text-align: right;\n",
       "    }\n",
       "</style>\n",
       "<table border=\"1\" class=\"dataframe\">\n",
       "  <thead>\n",
       "    <tr style=\"text-align: right;\">\n",
       "      <th></th>\n",
       "      <th>City</th>\n",
       "      <th>Age</th>\n",
       "      <th>Salary</th>\n",
       "      <th>Approved</th>\n",
       "    </tr>\n",
       "  </thead>\n",
       "  <tbody>\n",
       "    <tr>\n",
       "      <th>5</th>\n",
       "      <td>Eagan</td>\n",
       "      <td>NaN</td>\n",
       "      <td>66000.0</td>\n",
       "      <td>No</td>\n",
       "    </tr>\n",
       "    <tr>\n",
       "      <th>6</th>\n",
       "      <td>Apple Valley</td>\n",
       "      <td>40.0</td>\n",
       "      <td>98000.0</td>\n",
       "      <td>Yes</td>\n",
       "    </tr>\n",
       "    <tr>\n",
       "      <th>7</th>\n",
       "      <td>Maplewood</td>\n",
       "      <td>34.0</td>\n",
       "      <td>86000.0</td>\n",
       "      <td>Yes</td>\n",
       "    </tr>\n",
       "    <tr>\n",
       "      <th>8</th>\n",
       "      <td>Eagan</td>\n",
       "      <td>25.0</td>\n",
       "      <td>70000.0</td>\n",
       "      <td>No</td>\n",
       "    </tr>\n",
       "    <tr>\n",
       "      <th>9</th>\n",
       "      <td>Maplewood</td>\n",
       "      <td>24.0</td>\n",
       "      <td>62000.0</td>\n",
       "      <td>Yes</td>\n",
       "    </tr>\n",
       "  </tbody>\n",
       "</table>\n",
       "</div>"
      ],
      "text/plain": [
       "           City   Age   Salary Approved\n",
       "5         Eagan   NaN  66000.0       No\n",
       "6  Apple Valley  40.0  98000.0      Yes\n",
       "7     Maplewood  34.0  86000.0      Yes\n",
       "8         Eagan  25.0  70000.0       No\n",
       "9     Maplewood  24.0  62000.0      Yes"
      ]
     },
     "execution_count": 2,
     "metadata": {},
     "output_type": "execute_result"
    }
   ],
   "source": [
    "# using head  or tail\n",
    "dataset.tail()"
   ]
  },
  {
   "cell_type": "code",
   "execution_count": 3,
   "metadata": {},
   "outputs": [],
   "source": [
    "# Dividing X and y arrays\n",
    "X = dataset.iloc[:,:-1].values\n",
    "y = dataset.iloc[:,3].values"
   ]
  },
  {
   "cell_type": "markdown",
   "metadata": {},
   "source": [
    "# Handling missing values based on data\n",
    "- impute val if it is numeric column(mean)\n",
    "- predict making it as a dependent variable\n",
    "- drop entire row or column if value missing\n",
    "\n",
    "Business rule customizations:\n",
    "\n",
    "•One of the easiest ways to deal with missing data is to simply remove thecorresponding features (columns) or samples (rows) from the dataset entirely; rows with missing values can be easily dropped via the dropnamethod:\n",
    "\n",
    "-- df.dropna(axis=0)\n",
    "\n",
    "Similarly, we can drop columns that have at least one NaNin any row by setting the axis argument to \n",
    "\n",
    "-- df.dropna(axis=1)\n",
    "\n",
    "•The dropnamethod supports several additional parameters that can come in handy:\n",
    "#only drop rows where all columns are NaN\n",
    "-- df.dropna(how='all’)\n",
    "\n",
    "#Keep only the rows with at least 2 non-NaNvalues.\n",
    "-- df.dropna(thresh=2)\n",
    "\n",
    "#only drop rows where NaNappear in specific columns (here: 'C')\n",
    "-- df.dropna(subset=['C'])"
   ]
  },
  {
   "cell_type": "code",
   "execution_count": 4,
   "metadata": {},
   "outputs": [
    {
     "name": "stdout",
     "output_type": "stream",
     "text": [
      "[['Apple Valley' 25.0 65000.0]\n",
      " ['Maplewood' 30.0 81000.0]\n",
      " ['Eagan' 33.0 79888.88888888889]\n",
      " ['Apple Valley' 39.0 100000.0]\n",
      " ['Maplewood' 28.0 91000.0]\n",
      " ['Eagan' 30.88888888888889 66000.0]\n",
      " ['Apple Valley' 40.0 98000.0]\n",
      " ['Maplewood' 34.0 86000.0]\n",
      " ['Eagan' 25.0 70000.0]\n",
      " ['Maplewood' 24.0 62000.0]]\n"
     ]
    }
   ],
   "source": [
    "#Dealing with missing values Numeric - mean imputation\n",
    "#From the scikit.imputelibrary we first import the SimpleImputerclass\n",
    "from sklearn.preprocessing import Imputer\n",
    "#Next we define an object of the SimpleImputerclass by looking at the docstring (use Shift+Tab)\n",
    "imputer = Imputer(missing_values=np.nan, strategy='mean')\n",
    "imputer.fit(X[:,[1,2]])\n",
    "X[:,1:3]= imputer.transform(X[:,1:3])\n",
    "print(X)"
   ]
  },
  {
   "cell_type": "markdown",
   "metadata": {},
   "source": [
    "### Dealing with categorical variables\n",
    "• ML models are based on mathematical equations. \n",
    "• We need to somehow code the categorical variables as numbers."
   ]
  },
  {
   "cell_type": "code",
   "execution_count": 5,
   "metadata": {},
   "outputs": [
    {
     "name": "stdout",
     "output_type": "stream",
     "text": [
      "[[0 25.0 65000.0]\n",
      " [2 30.0 81000.0]\n",
      " [1 33.0 79888.88888888889]\n",
      " [0 39.0 100000.0]\n",
      " [2 28.0 91000.0]\n",
      " [1 30.88888888888889 66000.0]\n",
      " [0 40.0 98000.0]\n",
      " [2 34.0 86000.0]\n",
      " [1 25.0 70000.0]\n",
      " [2 24.0 62000.0]]\n"
     ]
    }
   ],
   "source": [
    "#Dealing with categorical variables\n",
    "from sklearn.preprocessing import LabelEncoder\n",
    "labelencoder_X= LabelEncoder()\n",
    "X[:,0] = labelencoder_X.fit_transform(X[:,0])\n",
    "print(X)\n",
    "\n",
    "# This won't work as the numbers implying order"
   ]
  },
  {
   "cell_type": "code",
   "execution_count": 6,
   "metadata": {},
   "outputs": [
    {
     "name": "stdout",
     "output_type": "stream",
     "text": [
      "[[1.00000000e+00 0.00000000e+00 0.00000000e+00 2.50000000e+01\n",
      "  6.50000000e+04]\n",
      " [0.00000000e+00 0.00000000e+00 1.00000000e+00 3.00000000e+01\n",
      "  8.10000000e+04]\n",
      " [0.00000000e+00 1.00000000e+00 0.00000000e+00 3.30000000e+01\n",
      "  7.98888889e+04]\n",
      " [1.00000000e+00 0.00000000e+00 0.00000000e+00 3.90000000e+01\n",
      "  1.00000000e+05]\n",
      " [0.00000000e+00 0.00000000e+00 1.00000000e+00 2.80000000e+01\n",
      "  9.10000000e+04]\n",
      " [0.00000000e+00 1.00000000e+00 0.00000000e+00 3.08888889e+01\n",
      "  6.60000000e+04]\n",
      " [1.00000000e+00 0.00000000e+00 0.00000000e+00 4.00000000e+01\n",
      "  9.80000000e+04]\n",
      " [0.00000000e+00 0.00000000e+00 1.00000000e+00 3.40000000e+01\n",
      "  8.60000000e+04]\n",
      " [0.00000000e+00 1.00000000e+00 0.00000000e+00 2.50000000e+01\n",
      "  7.00000000e+04]\n",
      " [0.00000000e+00 0.00000000e+00 1.00000000e+00 2.40000000e+01\n",
      "  6.20000000e+04]]\n"
     ]
    }
   ],
   "source": [
    "#Dealing with categorical variables\n",
    "##From the scikit.preprocessinglibrary we first import few classes\n",
    "from sklearn.preprocessing import LabelEncoder, OneHotEncoder\n",
    "labelencoder_X= LabelEncoder()\n",
    "X[:,0] = labelencoder_X.fit_transform(X[:,0])\n",
    "onehotencoder= OneHotEncoder(categorical_features=[0])\n",
    "X = onehotencoder.fit_transform(X).toarray()\n",
    "print(X)"
   ]
  },
  {
   "cell_type": "code",
   "execution_count": 7,
   "metadata": {},
   "outputs": [],
   "source": [
    "#Dependent variable\n",
    "labelencoder_y= LabelEncoder()\n",
    "y = labelencoder_y.fit_transform(y)"
   ]
  },
  {
   "cell_type": "markdown",
   "metadata": {},
   "source": [
    "## Training, testing split and third part called validation(Evaluation)\n",
    "\n",
    "Test/validate and Choose model with less VE and less complexity. \n",
    "\n",
    "- Underfit – TE high + VE high \n",
    "- Bestfit – TE high or low + VE low \n",
    "- Overfit – TE low + VE high"
   ]
  },
  {
   "cell_type": "code",
   "execution_count": 8,
   "metadata": {},
   "outputs": [
    {
     "data": {
      "text/plain": [
       "(2,)"
      ]
     },
     "execution_count": 8,
     "metadata": {},
     "output_type": "execute_result"
    }
   ],
   "source": [
    "#Splitting the data into Training Set and Test Set\n",
    "from sklearn.model_selection import train_test_split\n",
    "X_train, X_test, y_train, y_test= train_test_split(X,y,test_size=0.2,random_state=0)\n",
    "\n",
    "X_train.shape\n",
    "X_test.shape\n",
    "y_train.shape\n",
    "y_test.shape"
   ]
  },
  {
   "cell_type": "markdown",
   "metadata": {},
   "source": [
    "# Normalization \n",
    "Different attributes are measured on different scales - normalize it to same scale\n",
    "\n",
    "Two popular approaches:\n",
    "\n",
    "- scale using min max to range[0,1]\n",
    "- Transforms the data to have zero mean and unit variance (z-score)"
   ]
  },
  {
   "cell_type": "code",
   "execution_count": 9,
   "metadata": {},
   "outputs": [],
   "source": [
    "#Normalizing the features\n",
    "from sklearn.preprocessing import StandardScaler\n",
    "sc_X= StandardScaler()\n",
    "X_train= sc_X.fit_transform(X_train)  # fit stores fit values for that column\n",
    "X_test= sc_X.transform(X_test) # uses fit values from sc_X to transform test data"
   ]
  }
 ],
 "metadata": {
  "hide_input": false,
  "kernelspec": {
   "display_name": "Python 3",
   "language": "python",
   "name": "python3"
  },
  "language_info": {
   "codemirror_mode": {
    "name": "ipython",
    "version": 3
   },
   "file_extension": ".py",
   "mimetype": "text/x-python",
   "name": "python",
   "nbconvert_exporter": "python",
   "pygments_lexer": "ipython3",
   "version": "3.6.8"
  },
  "latex_envs": {
   "LaTeX_envs_menu_present": true,
   "autoclose": false,
   "autocomplete": true,
   "bibliofile": "biblio.bib",
   "cite_by": "apalike",
   "current_citInitial": 1,
   "eqLabelWithNumbers": true,
   "eqNumInitial": 1,
   "hotkeys": {
    "equation": "Ctrl-E",
    "itemize": "Ctrl-I"
   },
   "labels_anchors": false,
   "latex_user_defs": false,
   "report_style_numbering": false,
   "user_envs_cfg": false
  }
 },
 "nbformat": 4,
 "nbformat_minor": 2
}
