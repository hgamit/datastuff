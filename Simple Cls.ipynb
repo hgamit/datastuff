{
 "cells": [
  {
   "cell_type": "markdown",
   "metadata": {},
   "source": [
    "## Step 1: Understanding the Data\n",
    "\n",
    "- Load Data and Fix Target Variable\n",
    "- Sample Rows: 1217 entries, Data columns (total 14 columns - including target)\n",
    "- all numerical fields"
   ]
  },
  {
   "cell_type": "code",
   "execution_count": 1,
   "metadata": {
    "ExecuteTime": {
     "end_time": "2019-09-17T18:20:11.402916Z",
     "start_time": "2019-09-17T18:20:10.265423Z"
    }
   },
   "outputs": [
    {
     "data": {
      "text/html": [
       "<div>\n",
       "<style scoped>\n",
       "    .dataframe tbody tr th:only-of-type {\n",
       "        vertical-align: middle;\n",
       "    }\n",
       "\n",
       "    .dataframe tbody tr th {\n",
       "        vertical-align: top;\n",
       "    }\n",
       "\n",
       "    .dataframe thead th {\n",
       "        text-align: right;\n",
       "    }\n",
       "</style>\n",
       "<table border=\"1\" class=\"dataframe\">\n",
       "  <thead>\n",
       "    <tr style=\"text-align: right;\">\n",
       "      <th></th>\n",
       "      <th>0</th>\n",
       "      <th>1</th>\n",
       "      <th>2</th>\n",
       "      <th>3</th>\n",
       "      <th>4</th>\n",
       "      <th>5</th>\n",
       "      <th>6</th>\n",
       "      <th>7</th>\n",
       "      <th>8</th>\n",
       "      <th>9</th>\n",
       "      <th>10</th>\n",
       "      <th>11</th>\n",
       "      <th>12</th>\n",
       "      <th>13</th>\n",
       "    </tr>\n",
       "  </thead>\n",
       "  <tbody>\n",
       "    <tr>\n",
       "      <th>0</th>\n",
       "      <td>222</td>\n",
       "      <td>31.189189</td>\n",
       "      <td>40.342342</td>\n",
       "      <td>35.579087</td>\n",
       "      <td>8.883917</td>\n",
       "      <td>0.968325</td>\n",
       "      <td>-80.113673</td>\n",
       "      <td>222</td>\n",
       "      <td>1</td>\n",
       "      <td>16.812471</td>\n",
       "      <td>0.816176</td>\n",
       "      <td>0.578125</td>\n",
       "      <td>78.591</td>\n",
       "      <td>0</td>\n",
       "    </tr>\n",
       "    <tr>\n",
       "      <th>1</th>\n",
       "      <td>73</td>\n",
       "      <td>29.493151</td>\n",
       "      <td>271.397260</td>\n",
       "      <td>15.517202</td>\n",
       "      <td>6.407490</td>\n",
       "      <td>0.910764</td>\n",
       "      <td>76.042946</td>\n",
       "      <td>73</td>\n",
       "      <td>1</td>\n",
       "      <td>9.640876</td>\n",
       "      <td>0.858824</td>\n",
       "      <td>0.608333</td>\n",
       "      <td>39.217</td>\n",
       "      <td>0</td>\n",
       "    </tr>\n",
       "    <tr>\n",
       "      <th>2</th>\n",
       "      <td>256</td>\n",
       "      <td>58.816406</td>\n",
       "      <td>289.941406</td>\n",
       "      <td>37.226013</td>\n",
       "      <td>9.863895</td>\n",
       "      <td>0.964256</td>\n",
       "      <td>85.324742</td>\n",
       "      <td>256</td>\n",
       "      <td>1</td>\n",
       "      <td>18.054067</td>\n",
       "      <td>0.752941</td>\n",
       "      <td>0.562637</td>\n",
       "      <td>89.111</td>\n",
       "      <td>0</td>\n",
       "    </tr>\n",
       "    <tr>\n",
       "      <th>3</th>\n",
       "      <td>126</td>\n",
       "      <td>71.023810</td>\n",
       "      <td>477.412698</td>\n",
       "      <td>13.112980</td>\n",
       "      <td>12.790672</td>\n",
       "      <td>0.220351</td>\n",
       "      <td>63.523477</td>\n",
       "      <td>126</td>\n",
       "      <td>1</td>\n",
       "      <td>12.666025</td>\n",
       "      <td>0.881119</td>\n",
       "      <td>0.646154</td>\n",
       "      <td>43.832</td>\n",
       "      <td>0</td>\n",
       "    </tr>\n",
       "    <tr>\n",
       "      <th>4</th>\n",
       "      <td>225</td>\n",
       "      <td>90.808889</td>\n",
       "      <td>541.946667</td>\n",
       "      <td>44.463110</td>\n",
       "      <td>7.858879</td>\n",
       "      <td>0.984256</td>\n",
       "      <td>-52.874983</td>\n",
       "      <td>225</td>\n",
       "      <td>1</td>\n",
       "      <td>16.925688</td>\n",
       "      <td>0.728155</td>\n",
       "      <td>0.252525</td>\n",
       "      <td>90.072</td>\n",
       "      <td>1</td>\n",
       "    </tr>\n",
       "  </tbody>\n",
       "</table>\n",
       "</div>"
      ],
      "text/plain": [
       "    0          1           2          3          4         5          6    7   \\\n",
       "0  222  31.189189   40.342342  35.579087   8.883917  0.968325 -80.113673  222   \n",
       "1   73  29.493151  271.397260  15.517202   6.407490  0.910764  76.042946   73   \n",
       "2  256  58.816406  289.941406  37.226013   9.863895  0.964256  85.324742  256   \n",
       "3  126  71.023810  477.412698  13.112980  12.790672  0.220351  63.523477  126   \n",
       "4  225  90.808889  541.946667  44.463110   7.858879  0.984256 -52.874983  225   \n",
       "\n",
       "   8          9         10        11      12  13  \n",
       "0   1  16.812471  0.816176  0.578125  78.591   0  \n",
       "1   1   9.640876  0.858824  0.608333  39.217   0  \n",
       "2   1  18.054067  0.752941  0.562637  89.111   0  \n",
       "3   1  12.666025  0.881119  0.646154  43.832   0  \n",
       "4   1  16.925688  0.728155  0.252525  90.072   1  "
      ]
     },
     "execution_count": 1,
     "metadata": {},
     "output_type": "execute_result"
    }
   ],
   "source": [
    "import warnings\n",
    "warnings.filterwarnings('ignore')\n",
    "import os\n",
    "import numpy as np\n",
    "import pandas as pd\n",
    "import seaborn as sns\n",
    "import matplotlib.pyplot as plt\n",
    "%matplotlib inline\n",
    "\n",
    "df = pd.read_csv(\"./CellDNA.csv\", header=None)\n",
    "'''The last column with non-zero values indicate the bacterium are interesting enough for further study. \n",
    "Otherwise (i.e. last column with zero values), those bacterium are not interesting candidates for further study.'''\n",
    "df[13] = (df[13] > 0).astype(int)\n",
    "df.head()"
   ]
  },
  {
   "cell_type": "code",
   "execution_count": 2,
   "metadata": {
    "ExecuteTime": {
     "end_time": "2019-09-17T18:20:11.482220Z",
     "start_time": "2019-09-17T18:20:11.457384Z"
    }
   },
   "outputs": [
    {
     "name": "stdout",
     "output_type": "stream",
     "text": [
      "<class 'pandas.core.frame.DataFrame'>\n",
      "RangeIndex: 1217 entries, 0 to 1216\n",
      "Data columns (total 14 columns):\n",
      "0     1217 non-null int64\n",
      "1     1217 non-null float64\n",
      "2     1217 non-null float64\n",
      "3     1217 non-null float64\n",
      "4     1217 non-null float64\n",
      "5     1217 non-null float64\n",
      "6     1217 non-null float64\n",
      "7     1217 non-null int64\n",
      "8     1217 non-null int64\n",
      "9     1217 non-null float64\n",
      "10    1217 non-null float64\n",
      "11    1217 non-null float64\n",
      "12    1217 non-null float64\n",
      "13    1217 non-null int32\n",
      "dtypes: float64(10), int32(1), int64(3)\n",
      "memory usage: 128.4 KB\n"
     ]
    }
   ],
   "source": [
    "df.info()"
   ]
  },
  {
   "cell_type": "markdown",
   "metadata": {},
   "source": [
    "## Step 2: Data Exploration\n",
    "- There is no null values\n",
    "- Unbalanced Data (Class Variable), Bacterium which is interesting enough shows is more important to us (Class 1)\n",
    "- Some columns are skewed - Normalizing should fix a problem\n",
    "- Based on correlation heatmap and pairplot, Most independent variable are useful towards separating target classes"
   ]
  },
  {
   "cell_type": "code",
   "execution_count": 3,
   "metadata": {},
   "outputs": [
    {
     "name": "stdout",
     "output_type": "stream",
     "text": [
      "0    83.57\n",
      "1    16.43\n",
      "Name: 13, dtype: float64\n"
     ]
    },
    {
     "data": {
      "text/plain": [
       "0    1017\n",
       "1     200\n",
       "Name: 13, dtype: int64"
      ]
     },
     "execution_count": 3,
     "metadata": {},
     "output_type": "execute_result"
    }
   ],
   "source": [
    "def ret_percentage(column):\n",
    "    return round(column.value_counts(normalize=True) * 100,2)\n",
    "\n",
    "print(ret_percentage(df[13]))\n",
    "\n",
    "df[13].value_counts() #Unbalanced Dataset"
   ]
  },
  {
   "cell_type": "markdown",
   "metadata": {},
   "source": [
    "- **Interpreting Skewness:** If skewness is less than −1 or greater than +1, the distribution is highly skewed. If skewness is between −1 and −½ or between +½ and +1, the distribution is moderately skewed. If skewness is between −½ and +½, the distribution is approximately symmetric."
   ]
  },
  {
   "cell_type": "code",
   "execution_count": 4,
   "metadata": {},
   "outputs": [
    {
     "name": "stdout",
     "output_type": "stream",
     "text": [
      "0     2.457449\n",
      "1    -0.059809\n",
      "2     0.823809\n",
      "3     1.526790\n",
      "4     4.153459\n",
      "5    -2.473485\n",
      "6     0.008928\n",
      "7     2.717102\n",
      "8    -8.242723\n",
      "9     1.300952\n",
      "10   -0.683266\n",
      "11    0.033663\n",
      "12    2.935010\n",
      "13    1.813771\n",
      "dtype: float64\n"
     ]
    }
   ],
   "source": [
    "print(df.skew(axis = 0, skipna = True))"
   ]
  },
  {
   "cell_type": "code",
   "execution_count": 5,
   "metadata": {
    "ExecuteTime": {
     "end_time": "2019-09-17T18:20:11.554220Z",
     "start_time": "2019-09-17T18:20:11.482220Z"
    }
   },
   "outputs": [
    {
     "data": {
      "text/html": [
       "<div>\n",
       "<style scoped>\n",
       "    .dataframe tbody tr th:only-of-type {\n",
       "        vertical-align: middle;\n",
       "    }\n",
       "\n",
       "    .dataframe tbody tr th {\n",
       "        vertical-align: top;\n",
       "    }\n",
       "\n",
       "    .dataframe thead th {\n",
       "        text-align: right;\n",
       "    }\n",
       "</style>\n",
       "<table border=\"1\" class=\"dataframe\">\n",
       "  <thead>\n",
       "    <tr style=\"text-align: right;\">\n",
       "      <th></th>\n",
       "      <th>0</th>\n",
       "      <th>1</th>\n",
       "      <th>2</th>\n",
       "      <th>3</th>\n",
       "      <th>4</th>\n",
       "      <th>5</th>\n",
       "      <th>6</th>\n",
       "      <th>7</th>\n",
       "      <th>8</th>\n",
       "      <th>9</th>\n",
       "      <th>10</th>\n",
       "      <th>11</th>\n",
       "      <th>12</th>\n",
       "      <th>13</th>\n",
       "    </tr>\n",
       "  </thead>\n",
       "  <tbody>\n",
       "    <tr>\n",
       "      <th>count</th>\n",
       "      <td>1217.000000</td>\n",
       "      <td>1217.000000</td>\n",
       "      <td>1217.000000</td>\n",
       "      <td>1217.000000</td>\n",
       "      <td>1217.000000</td>\n",
       "      <td>1217.000000</td>\n",
       "      <td>1217.000000</td>\n",
       "      <td>1217.000000</td>\n",
       "      <td>1217.000000</td>\n",
       "      <td>1217.000000</td>\n",
       "      <td>1217.000000</td>\n",
       "      <td>1217.000000</td>\n",
       "      <td>1217.000000</td>\n",
       "      <td>1217.000000</td>\n",
       "    </tr>\n",
       "    <tr>\n",
       "      <th>mean</th>\n",
       "      <td>200.366475</td>\n",
       "      <td>419.476953</td>\n",
       "      <td>211.335155</td>\n",
       "      <td>33.388599</td>\n",
       "      <td>9.376939</td>\n",
       "      <td>0.908628</td>\n",
       "      <td>0.160337</td>\n",
       "      <td>202.640099</td>\n",
       "      <td>0.516845</td>\n",
       "      <td>15.288929</td>\n",
       "      <td>0.775538</td>\n",
       "      <td>0.474788</td>\n",
       "      <td>78.928198</td>\n",
       "      <td>0.164339</td>\n",
       "    </tr>\n",
       "    <tr>\n",
       "      <th>std</th>\n",
       "      <td>135.665649</td>\n",
       "      <td>215.563920</td>\n",
       "      <td>141.592818</td>\n",
       "      <td>19.152143</td>\n",
       "      <td>3.634969</td>\n",
       "      <td>0.110942</td>\n",
       "      <td>50.589440</td>\n",
       "      <td>142.585975</td>\n",
       "      <td>2.071880</td>\n",
       "      <td>4.623930</td>\n",
       "      <td>0.117802</td>\n",
       "      <td>0.158341</td>\n",
       "      <td>48.798548</td>\n",
       "      <td>0.370735</td>\n",
       "    </tr>\n",
       "    <tr>\n",
       "      <th>min</th>\n",
       "      <td>70.000000</td>\n",
       "      <td>28.176471</td>\n",
       "      <td>27.870130</td>\n",
       "      <td>10.282437</td>\n",
       "      <td>3.080963</td>\n",
       "      <td>0.218074</td>\n",
       "      <td>-89.531335</td>\n",
       "      <td>70.000000</td>\n",
       "      <td>-26.000000</td>\n",
       "      <td>9.440697</td>\n",
       "      <td>0.261049</td>\n",
       "      <td>0.114482</td>\n",
       "      <td>28.193000</td>\n",
       "      <td>0.000000</td>\n",
       "    </tr>\n",
       "    <tr>\n",
       "      <th>25%</th>\n",
       "      <td>107.000000</td>\n",
       "      <td>243.400000</td>\n",
       "      <td>96.200000</td>\n",
       "      <td>18.760441</td>\n",
       "      <td>7.529888</td>\n",
       "      <td>0.885337</td>\n",
       "      <td>-41.131405</td>\n",
       "      <td>108.000000</td>\n",
       "      <td>1.000000</td>\n",
       "      <td>11.672045</td>\n",
       "      <td>0.702186</td>\n",
       "      <td>0.353261</td>\n",
       "      <td>45.974000</td>\n",
       "      <td>0.000000</td>\n",
       "    </tr>\n",
       "    <tr>\n",
       "      <th>50%</th>\n",
       "      <td>160.000000</td>\n",
       "      <td>415.360000</td>\n",
       "      <td>183.834286</td>\n",
       "      <td>27.832476</td>\n",
       "      <td>8.463304</td>\n",
       "      <td>0.949998</td>\n",
       "      <td>-0.104479</td>\n",
       "      <td>161.000000</td>\n",
       "      <td>1.000000</td>\n",
       "      <td>14.272993</td>\n",
       "      <td>0.789474</td>\n",
       "      <td>0.474359</td>\n",
       "      <td>66.302000</td>\n",
       "      <td>0.000000</td>\n",
       "    </tr>\n",
       "    <tr>\n",
       "      <th>75%</th>\n",
       "      <td>252.000000</td>\n",
       "      <td>611.128440</td>\n",
       "      <td>292.824742</td>\n",
       "      <td>44.462419</td>\n",
       "      <td>9.801152</td>\n",
       "      <td>0.978903</td>\n",
       "      <td>41.010273</td>\n",
       "      <td>253.000000</td>\n",
       "      <td>1.000000</td>\n",
       "      <td>17.912464</td>\n",
       "      <td>0.866071</td>\n",
       "      <td>0.592593</td>\n",
       "      <td>97.928000</td>\n",
       "      <td>0.000000</td>\n",
       "    </tr>\n",
       "    <tr>\n",
       "      <th>max</th>\n",
       "      <td>1089.000000</td>\n",
       "      <td>773.919643</td>\n",
       "      <td>575.340206</td>\n",
       "      <td>155.330123</td>\n",
       "      <td>43.487111</td>\n",
       "      <td>0.998459</td>\n",
       "      <td>89.881120</td>\n",
       "      <td>1159.000000</td>\n",
       "      <td>1.000000</td>\n",
       "      <td>37.236513</td>\n",
       "      <td>1.000000</td>\n",
       "      <td>0.905882</td>\n",
       "      <td>493.749000</td>\n",
       "      <td>1.000000</td>\n",
       "    </tr>\n",
       "  </tbody>\n",
       "</table>\n",
       "</div>"
      ],
      "text/plain": [
       "                0            1            2            3            4   \\\n",
       "count  1217.000000  1217.000000  1217.000000  1217.000000  1217.000000   \n",
       "mean    200.366475   419.476953   211.335155    33.388599     9.376939   \n",
       "std     135.665649   215.563920   141.592818    19.152143     3.634969   \n",
       "min      70.000000    28.176471    27.870130    10.282437     3.080963   \n",
       "25%     107.000000   243.400000    96.200000    18.760441     7.529888   \n",
       "50%     160.000000   415.360000   183.834286    27.832476     8.463304   \n",
       "75%     252.000000   611.128440   292.824742    44.462419     9.801152   \n",
       "max    1089.000000   773.919643   575.340206   155.330123    43.487111   \n",
       "\n",
       "                5            6            7            8            9   \\\n",
       "count  1217.000000  1217.000000  1217.000000  1217.000000  1217.000000   \n",
       "mean      0.908628     0.160337   202.640099     0.516845    15.288929   \n",
       "std       0.110942    50.589440   142.585975     2.071880     4.623930   \n",
       "min       0.218074   -89.531335    70.000000   -26.000000     9.440697   \n",
       "25%       0.885337   -41.131405   108.000000     1.000000    11.672045   \n",
       "50%       0.949998    -0.104479   161.000000     1.000000    14.272993   \n",
       "75%       0.978903    41.010273   253.000000     1.000000    17.912464   \n",
       "max       0.998459    89.881120  1159.000000     1.000000    37.236513   \n",
       "\n",
       "                10           11           12           13  \n",
       "count  1217.000000  1217.000000  1217.000000  1217.000000  \n",
       "mean      0.775538     0.474788    78.928198     0.164339  \n",
       "std       0.117802     0.158341    48.798548     0.370735  \n",
       "min       0.261049     0.114482    28.193000     0.000000  \n",
       "25%       0.702186     0.353261    45.974000     0.000000  \n",
       "50%       0.789474     0.474359    66.302000     0.000000  \n",
       "75%       0.866071     0.592593    97.928000     0.000000  \n",
       "max       1.000000     0.905882   493.749000     1.000000  "
      ]
     },
     "execution_count": 5,
     "metadata": {},
     "output_type": "execute_result"
    }
   ],
   "source": [
    "df.describe(include='all')"
   ]
  },
  {
   "cell_type": "code",
   "execution_count": 6,
   "metadata": {},
   "outputs": [
    {
     "data": {
      "text/plain": [
       "'plt.figure(figsize = (16,8))\\nax = sns.pairplot(df, hue=13)'"
      ]
     },
     "execution_count": 6,
     "metadata": {},
     "output_type": "execute_result"
    }
   ],
   "source": [
    "'''plt.figure(figsize = (16,8))\n",
    "ax = sns.pairplot(df, hue=13)'''"
   ]
  },
  {
   "cell_type": "code",
   "execution_count": 7,
   "metadata": {
    "ExecuteTime": {
     "end_time": "2019-09-17T18:20:12.451888Z",
     "start_time": "2019-09-17T18:20:11.554220Z"
    }
   },
   "outputs": [
    {
     "data": {
      "text/plain": [
       "'plt.figure(figsize = (16,8))\\nax = sns.heatmap(df.corr(), annot=True)'"
      ]
     },
     "execution_count": 7,
     "metadata": {},
     "output_type": "execute_result"
    }
   ],
   "source": [
    "'''plt.figure(figsize = (16,8))\n",
    "ax = sns.heatmap(df.corr(), annot=True)'''"
   ]
  },
  {
   "cell_type": "markdown",
   "metadata": {},
   "source": [
    "## Step 3: Prepare Train-Test Dataset\n",
    "- Create input and target variables\n",
    "- Normalize Data\n",
    "- Perform Train-Test Split for Model Evaluation"
   ]
  },
  {
   "cell_type": "code",
   "execution_count": 8,
   "metadata": {
    "ExecuteTime": {
     "end_time": "2019-09-17T18:20:12.458151Z",
     "start_time": "2019-09-17T18:20:12.451888Z"
    }
   },
   "outputs": [],
   "source": [
    "# creating input features and target variables\n",
    "X= df.iloc[:,0:13]\n",
    "y= df.iloc[:,13]"
   ]
  },
  {
   "cell_type": "code",
   "execution_count": 9,
   "metadata": {
    "ExecuteTime": {
     "end_time": "2019-09-17T18:20:12.485342Z",
     "start_time": "2019-09-17T18:20:12.458151Z"
    }
   },
   "outputs": [
    {
     "data": {
      "text/html": [
       "<div>\n",
       "<style scoped>\n",
       "    .dataframe tbody tr th:only-of-type {\n",
       "        vertical-align: middle;\n",
       "    }\n",
       "\n",
       "    .dataframe tbody tr th {\n",
       "        vertical-align: top;\n",
       "    }\n",
       "\n",
       "    .dataframe thead th {\n",
       "        text-align: right;\n",
       "    }\n",
       "</style>\n",
       "<table border=\"1\" class=\"dataframe\">\n",
       "  <thead>\n",
       "    <tr style=\"text-align: right;\">\n",
       "      <th></th>\n",
       "      <th>0</th>\n",
       "      <th>1</th>\n",
       "      <th>2</th>\n",
       "      <th>3</th>\n",
       "      <th>4</th>\n",
       "      <th>5</th>\n",
       "      <th>6</th>\n",
       "      <th>7</th>\n",
       "      <th>8</th>\n",
       "      <th>9</th>\n",
       "      <th>10</th>\n",
       "      <th>11</th>\n",
       "      <th>12</th>\n",
       "    </tr>\n",
       "  </thead>\n",
       "  <tbody>\n",
       "    <tr>\n",
       "      <th>0</th>\n",
       "      <td>222</td>\n",
       "      <td>31.189189</td>\n",
       "      <td>40.342342</td>\n",
       "      <td>35.579087</td>\n",
       "      <td>8.883917</td>\n",
       "      <td>0.968325</td>\n",
       "      <td>-80.113673</td>\n",
       "      <td>222</td>\n",
       "      <td>1</td>\n",
       "      <td>16.812471</td>\n",
       "      <td>0.816176</td>\n",
       "      <td>0.578125</td>\n",
       "      <td>78.591</td>\n",
       "    </tr>\n",
       "    <tr>\n",
       "      <th>1</th>\n",
       "      <td>73</td>\n",
       "      <td>29.493151</td>\n",
       "      <td>271.397260</td>\n",
       "      <td>15.517202</td>\n",
       "      <td>6.407490</td>\n",
       "      <td>0.910764</td>\n",
       "      <td>76.042946</td>\n",
       "      <td>73</td>\n",
       "      <td>1</td>\n",
       "      <td>9.640876</td>\n",
       "      <td>0.858824</td>\n",
       "      <td>0.608333</td>\n",
       "      <td>39.217</td>\n",
       "    </tr>\n",
       "    <tr>\n",
       "      <th>2</th>\n",
       "      <td>256</td>\n",
       "      <td>58.816406</td>\n",
       "      <td>289.941406</td>\n",
       "      <td>37.226013</td>\n",
       "      <td>9.863895</td>\n",
       "      <td>0.964256</td>\n",
       "      <td>85.324742</td>\n",
       "      <td>256</td>\n",
       "      <td>1</td>\n",
       "      <td>18.054067</td>\n",
       "      <td>0.752941</td>\n",
       "      <td>0.562637</td>\n",
       "      <td>89.111</td>\n",
       "    </tr>\n",
       "    <tr>\n",
       "      <th>3</th>\n",
       "      <td>126</td>\n",
       "      <td>71.023810</td>\n",
       "      <td>477.412698</td>\n",
       "      <td>13.112980</td>\n",
       "      <td>12.790672</td>\n",
       "      <td>0.220351</td>\n",
       "      <td>63.523477</td>\n",
       "      <td>126</td>\n",
       "      <td>1</td>\n",
       "      <td>12.666025</td>\n",
       "      <td>0.881119</td>\n",
       "      <td>0.646154</td>\n",
       "      <td>43.832</td>\n",
       "    </tr>\n",
       "    <tr>\n",
       "      <th>4</th>\n",
       "      <td>225</td>\n",
       "      <td>90.808889</td>\n",
       "      <td>541.946667</td>\n",
       "      <td>44.463110</td>\n",
       "      <td>7.858879</td>\n",
       "      <td>0.984256</td>\n",
       "      <td>-52.874983</td>\n",
       "      <td>225</td>\n",
       "      <td>1</td>\n",
       "      <td>16.925688</td>\n",
       "      <td>0.728155</td>\n",
       "      <td>0.252525</td>\n",
       "      <td>90.072</td>\n",
       "    </tr>\n",
       "  </tbody>\n",
       "</table>\n",
       "</div>"
      ],
      "text/plain": [
       "    0          1           2          3          4         5          6    7   \\\n",
       "0  222  31.189189   40.342342  35.579087   8.883917  0.968325 -80.113673  222   \n",
       "1   73  29.493151  271.397260  15.517202   6.407490  0.910764  76.042946   73   \n",
       "2  256  58.816406  289.941406  37.226013   9.863895  0.964256  85.324742  256   \n",
       "3  126  71.023810  477.412698  13.112980  12.790672  0.220351  63.523477  126   \n",
       "4  225  90.808889  541.946667  44.463110   7.858879  0.984256 -52.874983  225   \n",
       "\n",
       "   8          9         10        11      12  \n",
       "0   1  16.812471  0.816176  0.578125  78.591  \n",
       "1   1   9.640876  0.858824  0.608333  39.217  \n",
       "2   1  18.054067  0.752941  0.562637  89.111  \n",
       "3   1  12.666025  0.881119  0.646154  43.832  \n",
       "4   1  16.925688  0.728155  0.252525  90.072  "
      ]
     },
     "execution_count": 9,
     "metadata": {},
     "output_type": "execute_result"
    }
   ],
   "source": [
    "X.head()"
   ]
  },
  {
   "cell_type": "code",
   "execution_count": 10,
   "metadata": {
    "ExecuteTime": {
     "end_time": "2019-09-17T18:20:12.700221Z",
     "start_time": "2019-09-17T18:20:12.485342Z"
    }
   },
   "outputs": [
    {
     "name": "stderr",
     "output_type": "stream",
     "text": [
      "C:\\ProgramData\\Anaconda3\\lib\\site-packages\\sklearn\\preprocessing\\data.py:625: DataConversionWarning: Data with input dtype int64, float64 were all converted to float64 by StandardScaler.\n",
      "  return self.partial_fit(X, y)\n",
      "C:\\ProgramData\\Anaconda3\\lib\\site-packages\\sklearn\\base.py:462: DataConversionWarning: Data with input dtype int64, float64 were all converted to float64 by StandardScaler.\n",
      "  return self.fit(X, **fit_params).transform(X)\n"
     ]
    }
   ],
   "source": [
    "#standardizing the input feature\n",
    "from sklearn.preprocessing import StandardScaler\n",
    "sc = StandardScaler()\n",
    "X = sc.fit_transform(X)"
   ]
  },
  {
   "cell_type": "code",
   "execution_count": 11,
   "metadata": {
    "ExecuteTime": {
     "end_time": "2019-09-17T18:20:12.740543Z",
     "start_time": "2019-09-17T18:20:12.700221Z"
    }
   },
   "outputs": [],
   "source": [
    "from sklearn.model_selection import train_test_split\n",
    "X_train, X_test, y_train, y_test = train_test_split(X, y, test_size=0.2,stratify=y, random_state=2019)"
   ]
  },
  {
   "cell_type": "markdown",
   "metadata": {},
   "source": [
    "## Step 4: Create Baseline Model \n",
    "- Define Model\n",
    "- Fit on training Set\n",
    "- Evaluate Model on Test Set\n",
    "- Focal Loss Check to handle Data Imbalanace"
   ]
  },
  {
   "cell_type": "code",
   "execution_count": 12,
   "metadata": {
    "ExecuteTime": {
     "end_time": "2019-09-17T18:20:14.604939Z",
     "start_time": "2019-09-17T18:20:12.740543Z"
    }
   },
   "outputs": [
    {
     "name": "stderr",
     "output_type": "stream",
     "text": [
      "Using TensorFlow backend.\n"
     ]
    }
   ],
   "source": [
    "from keras import backend as K\n",
    "import tensorflow as tf\n",
    "from keras import Sequential\n",
    "from keras.layers import Dense"
   ]
  },
  {
   "cell_type": "code",
   "execution_count": 13,
   "metadata": {},
   "outputs": [],
   "source": [
    "# Define our custom loss function\n",
    "def focal_loss(y_true, y_pred):\n",
    "    gamma = 2.0\n",
    "    alpha = 0.25\n",
    "    pt_1 = tf.where(tf.equal(y_true, 1), y_pred, tf.ones_like(y_pred))\n",
    "    pt_0 = tf.where(tf.equal(y_true, 0), y_pred, tf.zeros_like(y_pred))\n",
    "    return -K.sum(alpha * K.pow(1. - pt_1, gamma) * K.log(pt_1))-K.sum((1-alpha) * K.pow( pt_0, gamma) * K.log(1. - pt_0))"
   ]
  },
  {
   "cell_type": "code",
   "execution_count": 14,
   "metadata": {
    "ExecuteTime": {
     "end_time": "2019-09-17T18:20:14.836554Z",
     "start_time": "2019-09-17T18:20:14.604939Z"
    }
   },
   "outputs": [],
   "source": [
    "classifier = Sequential()\n",
    "#First Hidden Layer\n",
    "classifier.add(Dense(5, activation='relu', kernel_initializer='random_normal', input_dim=13))\n",
    "#Second  Hidden Layer\n",
    "classifier.add(Dense(5, activation='relu', kernel_initializer='random_normal'))\n",
    "#Output Layer\n",
    "classifier.add(Dense(1, activation='sigmoid', kernel_initializer='random_normal'))\n",
    "#Compiling the neural network\n",
    "classifier.compile(optimizer ='adam',loss=['binary_crossentropy'], metrics =['accuracy']) #binary_crossentropy\n",
    "#, metrics =['accuracy']"
   ]
  },
  {
   "cell_type": "code",
   "execution_count": 15,
   "metadata": {
    "ExecuteTime": {
     "end_time": "2019-09-17T18:20:23.481563Z",
     "start_time": "2019-09-17T18:20:14.836554Z"
    }
   },
   "outputs": [
    {
     "name": "stdout",
     "output_type": "stream",
     "text": [
      "Train on 875 samples, validate on 98 samples\n",
      "Epoch 1/100\n",
      "875/875 [==============================] - 0s 264us/step - loss: 0.6704 - acc: 0.8377 - val_loss: 0.6343 - val_acc: 0.8061\n",
      "Epoch 2/100\n",
      "875/875 [==============================] - 0s 57us/step - loss: 0.5259 - acc: 0.8389 - val_loss: 0.4102 - val_acc: 0.8061\n",
      "Epoch 3/100\n",
      "875/875 [==============================] - 0s 55us/step - loss: 0.3509 - acc: 0.8389 - val_loss: 0.3251 - val_acc: 0.8061\n",
      "Epoch 4/100\n",
      "875/875 [==============================] - 0s 56us/step - loss: 0.3137 - acc: 0.8389 - val_loss: 0.3089 - val_acc: 0.8061\n",
      "Epoch 5/100\n",
      "875/875 [==============================] - 0s 55us/step - loss: 0.3011 - acc: 0.8389 - val_loss: 0.3003 - val_acc: 0.8061\n",
      "Epoch 6/100\n",
      "875/875 [==============================] - 0s 55us/step - loss: 0.2875 - acc: 0.8389 - val_loss: 0.2862 - val_acc: 0.8061\n",
      "Epoch 7/100\n",
      "875/875 [==============================] - 0s 54us/step - loss: 0.2718 - acc: 0.8389 - val_loss: 0.2675 - val_acc: 0.8061\n",
      "Epoch 8/100\n",
      "875/875 [==============================] - 0s 54us/step - loss: 0.2586 - acc: 0.8389 - val_loss: 0.2553 - val_acc: 0.8061\n",
      "Epoch 9/100\n",
      "875/875 [==============================] - 0s 55us/step - loss: 0.2498 - acc: 0.8389 - val_loss: 0.2452 - val_acc: 0.8061\n",
      "Epoch 10/100\n",
      "875/875 [==============================] - 0s 55us/step - loss: 0.2413 - acc: 0.8389 - val_loss: 0.2360 - val_acc: 0.8061\n",
      "Epoch 11/100\n",
      "875/875 [==============================] - 0s 56us/step - loss: 0.2339 - acc: 0.8389 - val_loss: 0.2269 - val_acc: 0.8061\n",
      "Epoch 12/100\n",
      "875/875 [==============================] - 0s 56us/step - loss: 0.2270 - acc: 0.8389 - val_loss: 0.2199 - val_acc: 0.8061\n",
      "Epoch 13/100\n",
      "875/875 [==============================] - 0s 55us/step - loss: 0.2206 - acc: 0.8389 - val_loss: 0.2134 - val_acc: 0.8061\n",
      "Epoch 14/100\n",
      "875/875 [==============================] - 0s 56us/step - loss: 0.2156 - acc: 0.8903 - val_loss: 0.2090 - val_acc: 0.9388\n",
      "Epoch 15/100\n",
      "875/875 [==============================] - 0s 51us/step - loss: 0.2120 - acc: 0.9063 - val_loss: 0.2067 - val_acc: 0.9388\n",
      "Epoch 16/100\n",
      "875/875 [==============================] - 0s 54us/step - loss: 0.2084 - acc: 0.9120 - val_loss: 0.2032 - val_acc: 0.9388\n",
      "Epoch 17/100\n",
      "875/875 [==============================] - 0s 52us/step - loss: 0.2056 - acc: 0.9086 - val_loss: 0.1997 - val_acc: 0.9388\n",
      "Epoch 18/100\n",
      "875/875 [==============================] - 0s 52us/step - loss: 0.2025 - acc: 0.9154 - val_loss: 0.1964 - val_acc: 0.9388\n",
      "Epoch 19/100\n",
      "875/875 [==============================] - 0s 54us/step - loss: 0.2002 - acc: 0.9154 - val_loss: 0.1941 - val_acc: 0.9490\n",
      "Epoch 20/100\n",
      "875/875 [==============================] - 0s 54us/step - loss: 0.1977 - acc: 0.9189 - val_loss: 0.1920 - val_acc: 0.9388\n",
      "Epoch 21/100\n",
      "875/875 [==============================] - 0s 54us/step - loss: 0.1953 - acc: 0.9166 - val_loss: 0.1894 - val_acc: 0.9388\n",
      "Epoch 22/100\n",
      "875/875 [==============================] - 0s 54us/step - loss: 0.1936 - acc: 0.9166 - val_loss: 0.1860 - val_acc: 0.9388\n",
      "Epoch 23/100\n",
      "875/875 [==============================] - 0s 52us/step - loss: 0.1912 - acc: 0.9223 - val_loss: 0.1847 - val_acc: 0.9388\n",
      "Epoch 24/100\n",
      "875/875 [==============================] - 0s 54us/step - loss: 0.1894 - acc: 0.9234 - val_loss: 0.1818 - val_acc: 0.9388\n",
      "Epoch 25/100\n",
      "875/875 [==============================] - 0s 52us/step - loss: 0.1871 - acc: 0.9223 - val_loss: 0.1802 - val_acc: 0.9388\n",
      "Epoch 26/100\n",
      "875/875 [==============================] - 0s 51us/step - loss: 0.1855 - acc: 0.9234 - val_loss: 0.1780 - val_acc: 0.9388\n",
      "Epoch 27/100\n",
      "875/875 [==============================] - 0s 51us/step - loss: 0.1833 - acc: 0.9269 - val_loss: 0.1767 - val_acc: 0.9388\n",
      "Epoch 28/100\n",
      "875/875 [==============================] - 0s 51us/step - loss: 0.1823 - acc: 0.9269 - val_loss: 0.1739 - val_acc: 0.9388\n",
      "Epoch 29/100\n",
      "875/875 [==============================] - 0s 52us/step - loss: 0.1804 - acc: 0.9291 - val_loss: 0.1733 - val_acc: 0.9490\n",
      "Epoch 30/100\n",
      "875/875 [==============================] - 0s 52us/step - loss: 0.1793 - acc: 0.9246 - val_loss: 0.1715 - val_acc: 0.9490\n",
      "Epoch 31/100\n",
      "875/875 [==============================] - 0s 51us/step - loss: 0.1771 - acc: 0.9234 - val_loss: 0.1701 - val_acc: 0.9490\n",
      "Epoch 32/100\n",
      "875/875 [==============================] - 0s 54us/step - loss: 0.1763 - acc: 0.9234 - val_loss: 0.1685 - val_acc: 0.9490\n",
      "Epoch 33/100\n",
      "875/875 [==============================] - 0s 54us/step - loss: 0.1744 - acc: 0.9291 - val_loss: 0.1661 - val_acc: 0.9490\n",
      "Epoch 34/100\n",
      "875/875 [==============================] - 0s 54us/step - loss: 0.1729 - acc: 0.9303 - val_loss: 0.1642 - val_acc: 0.9490\n",
      "Epoch 35/100\n",
      "875/875 [==============================] - 0s 52us/step - loss: 0.1731 - acc: 0.9269 - val_loss: 0.1630 - val_acc: 0.9490\n",
      "Epoch 36/100\n",
      "875/875 [==============================] - 0s 51us/step - loss: 0.1708 - acc: 0.9303 - val_loss: 0.1622 - val_acc: 0.9592\n",
      "Epoch 37/100\n",
      "875/875 [==============================] - 0s 51us/step - loss: 0.1702 - acc: 0.9314 - val_loss: 0.1603 - val_acc: 0.9592\n",
      "Epoch 38/100\n",
      "875/875 [==============================] - 0s 52us/step - loss: 0.1692 - acc: 0.9291 - val_loss: 0.1592 - val_acc: 0.9592\n",
      "Epoch 39/100\n",
      "875/875 [==============================] - 0s 52us/step - loss: 0.1678 - acc: 0.9291 - val_loss: 0.1580 - val_acc: 0.9592\n",
      "Epoch 40/100\n",
      "875/875 [==============================] - 0s 51us/step - loss: 0.1667 - acc: 0.9291 - val_loss: 0.1583 - val_acc: 0.9592\n",
      "Epoch 41/100\n",
      "875/875 [==============================] - 0s 51us/step - loss: 0.1668 - acc: 0.9280 - val_loss: 0.1559 - val_acc: 0.9592\n",
      "Epoch 42/100\n",
      "875/875 [==============================] - 0s 52us/step - loss: 0.1656 - acc: 0.9291 - val_loss: 0.1559 - val_acc: 0.9592\n",
      "Epoch 43/100\n",
      "875/875 [==============================] - 0s 52us/step - loss: 0.1651 - acc: 0.9303 - val_loss: 0.1539 - val_acc: 0.9694\n",
      "Epoch 44/100\n",
      "875/875 [==============================] - 0s 52us/step - loss: 0.1639 - acc: 0.9269 - val_loss: 0.1534 - val_acc: 0.9592\n",
      "Epoch 45/100\n",
      "875/875 [==============================] - 0s 52us/step - loss: 0.1633 - acc: 0.9314 - val_loss: 0.1525 - val_acc: 0.9694\n",
      "Epoch 46/100\n",
      "875/875 [==============================] - 0s 52us/step - loss: 0.1629 - acc: 0.9303 - val_loss: 0.1519 - val_acc: 0.9592\n",
      "Epoch 47/100\n",
      "875/875 [==============================] - 0s 52us/step - loss: 0.1622 - acc: 0.9291 - val_loss: 0.1509 - val_acc: 0.9694\n",
      "Epoch 48/100\n",
      "875/875 [==============================] - 0s 51us/step - loss: 0.1616 - acc: 0.9291 - val_loss: 0.1501 - val_acc: 0.9592\n",
      "Epoch 49/100\n",
      "875/875 [==============================] - 0s 51us/step - loss: 0.1617 - acc: 0.9257 - val_loss: 0.1495 - val_acc: 0.9592\n",
      "Epoch 50/100\n",
      "875/875 [==============================] - 0s 52us/step - loss: 0.1612 - acc: 0.9303 - val_loss: 0.1497 - val_acc: 0.9694\n",
      "Epoch 51/100\n",
      "875/875 [==============================] - 0s 51us/step - loss: 0.1599 - acc: 0.9314 - val_loss: 0.1497 - val_acc: 0.9592\n",
      "Epoch 52/100\n",
      "875/875 [==============================] - 0s 50us/step - loss: 0.1594 - acc: 0.9291 - val_loss: 0.1475 - val_acc: 0.9592\n",
      "Epoch 53/100\n",
      "875/875 [==============================] - 0s 58us/step - loss: 0.1593 - acc: 0.9303 - val_loss: 0.1470 - val_acc: 0.9694\n",
      "Epoch 54/100\n",
      "875/875 [==============================] - 0s 57us/step - loss: 0.1587 - acc: 0.9280 - val_loss: 0.1454 - val_acc: 0.9694\n",
      "Epoch 55/100\n",
      "875/875 [==============================] - 0s 56us/step - loss: 0.1572 - acc: 0.9314 - val_loss: 0.1446 - val_acc: 0.9592\n",
      "Epoch 56/100\n",
      "875/875 [==============================] - 0s 55us/step - loss: 0.1575 - acc: 0.9314 - val_loss: 0.1427 - val_acc: 0.9694\n",
      "Epoch 57/100\n",
      "875/875 [==============================] - 0s 52us/step - loss: 0.1573 - acc: 0.9326 - val_loss: 0.1431 - val_acc: 0.9694\n",
      "Epoch 58/100\n",
      "875/875 [==============================] - 0s 49us/step - loss: 0.1568 - acc: 0.9314 - val_loss: 0.1430 - val_acc: 0.9694\n",
      "Epoch 59/100\n",
      "875/875 [==============================] - 0s 51us/step - loss: 0.1559 - acc: 0.9337 - val_loss: 0.1419 - val_acc: 0.9592\n",
      "Epoch 60/100\n",
      "875/875 [==============================] - 0s 50us/step - loss: 0.1556 - acc: 0.9326 - val_loss: 0.1411 - val_acc: 0.9592\n",
      "Epoch 61/100\n"
     ]
    },
    {
     "name": "stdout",
     "output_type": "stream",
     "text": [
      "875/875 [==============================] - 0s 51us/step - loss: 0.1558 - acc: 0.9326 - val_loss: 0.1403 - val_acc: 0.9694\n",
      "Epoch 62/100\n",
      "875/875 [==============================] - 0s 50us/step - loss: 0.1558 - acc: 0.9337 - val_loss: 0.1423 - val_acc: 0.9694\n",
      "Epoch 63/100\n",
      "875/875 [==============================] - 0s 49us/step - loss: 0.1557 - acc: 0.9337 - val_loss: 0.1402 - val_acc: 0.9694\n",
      "Epoch 64/100\n",
      "875/875 [==============================] - 0s 50us/step - loss: 0.1557 - acc: 0.9349 - val_loss: 0.1396 - val_acc: 0.9694\n",
      "Epoch 65/100\n",
      "875/875 [==============================] - 0s 50us/step - loss: 0.1562 - acc: 0.9303 - val_loss: 0.1382 - val_acc: 0.9694\n",
      "Epoch 66/100\n",
      "875/875 [==============================] - 0s 49us/step - loss: 0.1542 - acc: 0.9383 - val_loss: 0.1420 - val_acc: 0.9694\n",
      "Epoch 67/100\n",
      "875/875 [==============================] - 0s 49us/step - loss: 0.1547 - acc: 0.9326 - val_loss: 0.1403 - val_acc: 0.9694\n",
      "Epoch 68/100\n",
      "875/875 [==============================] - 0s 49us/step - loss: 0.1548 - acc: 0.9337 - val_loss: 0.1377 - val_acc: 0.9694\n",
      "Epoch 69/100\n",
      "875/875 [==============================] - 0s 50us/step - loss: 0.1557 - acc: 0.9349 - val_loss: 0.1371 - val_acc: 0.9694\n",
      "Epoch 70/100\n",
      "875/875 [==============================] - 0s 50us/step - loss: 0.1528 - acc: 0.9349 - val_loss: 0.1386 - val_acc: 0.9694\n",
      "Epoch 71/100\n",
      "875/875 [==============================] - 0s 51us/step - loss: 0.1532 - acc: 0.9314 - val_loss: 0.1371 - val_acc: 0.9694\n",
      "Epoch 72/100\n",
      "875/875 [==============================] - 0s 51us/step - loss: 0.1527 - acc: 0.9291 - val_loss: 0.1365 - val_acc: 0.9694\n",
      "Epoch 73/100\n",
      "875/875 [==============================] - 0s 50us/step - loss: 0.1541 - acc: 0.9337 - val_loss: 0.1367 - val_acc: 0.9694\n",
      "Epoch 74/100\n",
      "875/875 [==============================] - 0s 50us/step - loss: 0.1521 - acc: 0.9337 - val_loss: 0.1376 - val_acc: 0.9694\n",
      "Epoch 75/100\n",
      "875/875 [==============================] - 0s 49us/step - loss: 0.1527 - acc: 0.9349 - val_loss: 0.1365 - val_acc: 0.9694\n",
      "Epoch 76/100\n",
      "875/875 [==============================] - 0s 50us/step - loss: 0.1520 - acc: 0.9371 - val_loss: 0.1355 - val_acc: 0.9694\n",
      "Epoch 77/100\n",
      "875/875 [==============================] - 0s 50us/step - loss: 0.1519 - acc: 0.9360 - val_loss: 0.1360 - val_acc: 0.9694\n",
      "Epoch 78/100\n",
      "875/875 [==============================] - 0s 49us/step - loss: 0.1519 - acc: 0.9349 - val_loss: 0.1342 - val_acc: 0.9694\n",
      "Epoch 79/100\n",
      "875/875 [==============================] - 0s 50us/step - loss: 0.1516 - acc: 0.9360 - val_loss: 0.1337 - val_acc: 0.9694\n",
      "Epoch 80/100\n",
      "875/875 [==============================] - 0s 50us/step - loss: 0.1514 - acc: 0.9337 - val_loss: 0.1366 - val_acc: 0.9694\n",
      "Epoch 81/100\n",
      "875/875 [==============================] - 0s 50us/step - loss: 0.1515 - acc: 0.9326 - val_loss: 0.1348 - val_acc: 0.9694\n",
      "Epoch 82/100\n",
      "875/875 [==============================] - 0s 49us/step - loss: 0.1506 - acc: 0.9371 - val_loss: 0.1332 - val_acc: 0.9694\n",
      "Epoch 83/100\n",
      "875/875 [==============================] - 0s 49us/step - loss: 0.1506 - acc: 0.9371 - val_loss: 0.1352 - val_acc: 0.9694\n",
      "Epoch 84/100\n",
      "875/875 [==============================] - 0s 49us/step - loss: 0.1509 - acc: 0.9360 - val_loss: 0.1342 - val_acc: 0.9694\n",
      "Epoch 85/100\n",
      "875/875 [==============================] - 0s 50us/step - loss: 0.1503 - acc: 0.9360 - val_loss: 0.1331 - val_acc: 0.9694\n",
      "Epoch 86/100\n",
      "875/875 [==============================] - 0s 51us/step - loss: 0.1506 - acc: 0.9360 - val_loss: 0.1334 - val_acc: 0.9694\n",
      "Epoch 87/100\n",
      "875/875 [==============================] - 0s 51us/step - loss: 0.1506 - acc: 0.9349 - val_loss: 0.1337 - val_acc: 0.9694\n",
      "Epoch 88/100\n",
      "875/875 [==============================] - 0s 51us/step - loss: 0.1503 - acc: 0.9360 - val_loss: 0.1332 - val_acc: 0.9694\n",
      "Epoch 89/100\n",
      "875/875 [==============================] - 0s 51us/step - loss: 0.1503 - acc: 0.9349 - val_loss: 0.1328 - val_acc: 0.9694\n",
      "Epoch 90/100\n",
      "875/875 [==============================] - 0s 50us/step - loss: 0.1502 - acc: 0.9326 - val_loss: 0.1311 - val_acc: 0.9694\n",
      "Epoch 91/100\n",
      "875/875 [==============================] - 0s 50us/step - loss: 0.1499 - acc: 0.9349 - val_loss: 0.1309 - val_acc: 0.9694\n",
      "Epoch 92/100\n",
      "875/875 [==============================] - 0s 50us/step - loss: 0.1506 - acc: 0.9371 - val_loss: 0.1319 - val_acc: 0.9694\n",
      "Epoch 93/100\n",
      "875/875 [==============================] - 0s 50us/step - loss: 0.1494 - acc: 0.9349 - val_loss: 0.1313 - val_acc: 0.9694\n",
      "Epoch 94/100\n",
      "875/875 [==============================] - 0s 49us/step - loss: 0.1490 - acc: 0.9371 - val_loss: 0.1323 - val_acc: 0.9694\n",
      "Epoch 95/100\n",
      "875/875 [==============================] - 0s 50us/step - loss: 0.1497 - acc: 0.9394 - val_loss: 0.1330 - val_acc: 0.9694\n",
      "Epoch 96/100\n",
      "875/875 [==============================] - 0s 49us/step - loss: 0.1497 - acc: 0.9314 - val_loss: 0.1341 - val_acc: 0.9694\n",
      "Epoch 97/100\n",
      "875/875 [==============================] - 0s 49us/step - loss: 0.1500 - acc: 0.9371 - val_loss: 0.1330 - val_acc: 0.9694\n",
      "Epoch 98/100\n",
      "875/875 [==============================] - 0s 49us/step - loss: 0.1505 - acc: 0.9360 - val_loss: 0.1345 - val_acc: 0.9694\n",
      "Epoch 99/100\n",
      "875/875 [==============================] - 0s 50us/step - loss: 0.1488 - acc: 0.9371 - val_loss: 0.1312 - val_acc: 0.9694\n",
      "Epoch 100/100\n",
      "875/875 [==============================] - 0s 51us/step - loss: 0.1493 - acc: 0.9371 - val_loss: 0.1306 - val_acc: 0.9694\n"
     ]
    },
    {
     "data": {
      "text/plain": [
       "<keras.callbacks.History at 0x198c0c240f0>"
      ]
     },
     "execution_count": 15,
     "metadata": {},
     "output_type": "execute_result"
    }
   ],
   "source": [
    "#Fitting the data to the training dataset\n",
    "classifier.fit(X_train,y_train, batch_size=10, epochs=100, validation_split=0.1) #batch_size=32, epochs=150 - 92%test"
   ]
  },
  {
   "cell_type": "code",
   "execution_count": 16,
   "metadata": {
    "ExecuteTime": {
     "end_time": "2019-09-17T18:20:23.540684Z",
     "start_time": "2019-09-17T18:20:23.481563Z"
    }
   },
   "outputs": [
    {
     "name": "stdout",
     "output_type": "stream",
     "text": [
      "973/973 [==============================] - 0s 8us/step\n"
     ]
    },
    {
     "data": {
      "text/plain": [
       "[0.14464352562456925, 0.9414182939975382]"
      ]
     },
     "execution_count": 16,
     "metadata": {},
     "output_type": "execute_result"
    }
   ],
   "source": [
    "eval_model=classifier.evaluate(X_train, y_train)\n",
    "eval_model"
   ]
  },
  {
   "cell_type": "code",
   "execution_count": 17,
   "metadata": {},
   "outputs": [
    {
     "name": "stdout",
     "output_type": "stream",
     "text": [
      "244/244 [==============================] - 0s 25us/step\n"
     ]
    },
    {
     "data": {
      "text/plain": [
       "[0.234797901305996, 0.8975409855608081]"
      ]
     },
     "execution_count": 17,
     "metadata": {},
     "output_type": "execute_result"
    }
   ],
   "source": [
    "eval_model=classifier.evaluate(X_test, y_test)\n",
    "eval_model"
   ]
  },
  {
   "cell_type": "code",
   "execution_count": 18,
   "metadata": {
    "ExecuteTime": {
     "end_time": "2019-09-17T18:20:23.860455Z",
     "start_time": "2019-09-17T18:20:23.543268Z"
    },
    "scrolled": false
   },
   "outputs": [],
   "source": [
    "y_pred=classifier.predict(X_test)\n",
    "y_pred =(y_pred>0.5)\n",
    "y_pred_2 = classifier.predict_classes(X_test)"
   ]
  },
  {
   "cell_type": "code",
   "execution_count": 19,
   "metadata": {},
   "outputs": [
    {
     "data": {
      "text/plain": [
       "0    204\n",
       "1     40\n",
       "Name: 13, dtype: int64"
      ]
     },
     "execution_count": 19,
     "metadata": {},
     "output_type": "execute_result"
    }
   ],
   "source": [
    "y_test.value_counts()"
   ]
  },
  {
   "cell_type": "code",
   "execution_count": 20,
   "metadata": {},
   "outputs": [
    {
     "name": "stdout",
     "output_type": "stream",
     "text": [
      "Test Set Accuracy:\n",
      " 0.8975409836065574\n"
     ]
    },
    {
     "data": {
      "image/png": "[encoded data removed]",
      "text/plain": [
       "<Figure size 432x288 with 2 Axes>"
      ]
     },
     "metadata": {},
     "output_type": "display_data"
    }
   ],
   "source": [
    "from sklearn.metrics import accuracy_score, confusion_matrix, classification_report\n",
    "#Evaluating the predictions using a Confusion Matrix\n",
    "print(\"Test Set Accuracy:\\n\", accuracy_score(y_pred, y_test))\n",
    "\n",
    "df_cm = pd.DataFrame(confusion_matrix(y_test, y_pred), index = ['Class 0', 'Class 1'],\n",
    "                  columns = ['Class 0(p)', 'Class 1(p)'])\n",
    "plt.figure(figsize=(6,4))\n",
    "s_title = ' Confusion Matrix- Test Data'\n",
    "plt.suptitle(s_title, fontsize=16)\n",
    "\n",
    "#plt.subplot(2,2,1)\n",
    "#plt.gca().set_title('Test Data')\n",
    "sns.heatmap(df_cm, annot=True, cmap=plt.cm.Reds)\n",
    "plt.show()"
   ]
  },
  {
   "cell_type": "markdown",
   "metadata": {},
   "source": [
    "## The accuracy, Precision, and Recall for each class prediction"
   ]
  },
  {
   "cell_type": "code",
   "execution_count": 21,
   "metadata": {},
   "outputs": [
    {
     "name": "stdout",
     "output_type": "stream",
     "text": [
      "              precision    recall  f1-score   support\n",
      "\n",
      "           0       0.96      0.91      0.94       204\n",
      "           1       0.65      0.82      0.73        40\n",
      "\n",
      "   micro avg       0.90      0.90      0.90       244\n",
      "   macro avg       0.81      0.87      0.83       244\n",
      "weighted avg       0.91      0.90      0.90       244\n",
      "\n"
     ]
    }
   ],
   "source": [
    "from sklearn.metrics import classification_report\n",
    "print(classification_report(y_test, y_pred))"
   ]
  },
  {
   "cell_type": "code",
   "execution_count": 24,
   "metadata": {},
   "outputs": [
    {
     "name": "stdout",
     "output_type": "stream",
     "text": [
      "              precision    recall  f1-score   support\n",
      "\n",
      "           0       0.97      0.96      0.96       813\n",
      "           1       0.80      0.86      0.83       160\n",
      "\n",
      "   micro avg       0.94      0.94      0.94       973\n",
      "   macro avg       0.89      0.91      0.90       973\n",
      "weighted avg       0.94      0.94      0.94       973\n",
      "\n"
     ]
    }
   ],
   "source": [
    "yt_pred=classifier.predict(X_train)\n",
    "yt_pred =(yt_pred>0.5)\n",
    "print(classification_report(y_train, yt_pred))"
   ]
  },
  {
   "cell_type": "markdown",
   "metadata": {},
   "source": [
    "## ROC curve plot "
   ]
  },
  {
   "cell_type": "code",
   "execution_count": 25,
   "metadata": {},
   "outputs": [
    {
     "data": {
      "image/png": "[encoded data removed]",
      "text/plain": [
       "<Figure size 432x288 with 1 Axes>"
      ]
     },
     "metadata": {},
     "output_type": "display_data"
    }
   ],
   "source": [
    "from sklearn.metrics import roc_curve,roc_auc_score\n",
    "y_pred_prob=classifier.predict_proba(X_test)\n",
    "yt_pred_prob=classifier.predict_proba(X_train)\n",
    "fpr , tpr , thresholds = roc_curve ( y_test , y_pred_prob)\n",
    "fprt , tprt , thresholdst = roc_curve ( y_train , yt_pred_prob)\n",
    "\n",
    "def plot_roc_curve(fpr,tpr): \n",
    "    plt.plot(fpr,tpr) \n",
    "    plt.plot(fprt,tprt) \n",
    "    plt.axis([0,1,0,1]) \n",
    "    plt.xlabel('False Positive Rate') \n",
    "    plt.ylabel('True Positive Rate') \n",
    "    plt.show()    \n",
    "\n",
    "plot_roc_curve (fpr,tpr) "
   ]
  },
  {
   "cell_type": "code",
   "execution_count": 23,
   "metadata": {},
   "outputs": [
    {
     "name": "stdout",
     "output_type": "stream",
     "text": [
      "Test Set AUC:\n",
      " 0.9464460784313726\n"
     ]
    }
   ],
   "source": [
    "auc_score=roc_auc_score(y_test , y_pred_prob) \n",
    "print(\"Test Set AUC:\\n\", auc_score)"
   ]
  },
  {
   "cell_type": "markdown",
   "metadata": {},
   "source": [
    "## Final Models\n",
    "\n",
    "Both the models are performing well on classifying Target Classes. It can be improved by applying advanced regularization techniques.\n",
    "\n",
    "| Model | AUC Score | Accuracy |\n",
    "| --- | --- | --- |\n",
    "|Binary Cross Entropy Loss | 0.9486 | 0.91 |\n",
    "|Focal Loss|0.9537|0.90|"
   ]
  }
 ],
 "metadata": {
  "hide_input": false,
  "kernelspec": {
   "display_name": "Python 3",
   "language": "python",
   "name": "python3"
  },
  "language_info": {
   "codemirror_mode": {
    "name": "ipython",
    "version": 3
   },
   "file_extension": ".py",
   "mimetype": "text/x-python",
   "name": "python",
   "nbconvert_exporter": "python",
   "pygments_lexer": "ipython3",
   "version": "3.6.8"
  },
  "latex_envs": {
   "LaTeX_envs_menu_present": true,
   "autoclose": false,
   "autocomplete": true,
   "bibliofile": "biblio.bib",
   "cite_by": "apalike",
   "current_citInitial": 1,
   "eqLabelWithNumbers": true,
   "eqNumInitial": 1,
   "hotkeys": {
    "equation": "Ctrl-E",
    "itemize": "Ctrl-I"
   },
   "labels_anchors": false,
   "latex_user_defs": false,
   "report_style_numbering": false,
   "user_envs_cfg": false
  },
  "varInspector": {
   "cols": {
    "lenName": 16,
    "lenType": 16,
    "lenVar": 40
   },
   "kernels_config": {
    "python": {
     "delete_cmd_postfix": "",
     "delete_cmd_prefix": "del ",
     "library": "var_list.py",
     "varRefreshCmd": "print(var_dic_list())"
    },
    "r": {
     "delete_cmd_postfix": ") ",
     "delete_cmd_prefix": "rm(",
     "library": "var_list.r",
     "varRefreshCmd": "cat(var_dic_list()) "
    }
   },
   "types_to_exclude": [
    "module",
    "function",
    "builtin_function_or_method",
    "instance",
    "_Feature"
   ],
   "window_display": false
  }
 },
 "nbformat": 4,
 "nbformat_minor": 1
}
