{
 "cells": [
  {
   "cell_type": "markdown",
   "metadata": {},
   "source": [
    "### Loading the Data (Numpy Array Dictionary) from sklearn dataset library"
   ]
  },
  {
   "cell_type": "code",
   "execution_count": 1,
   "metadata": {},
   "outputs": [],
   "source": [
    "import numpy as np\n",
    "import matplotlib.pyplot as plt\n",
    "import warnings\n",
    "warnings.filterwarnings('ignore')\n",
    "\n",
    "#Loading the dataset\n",
    "from sklearn.datasets import load_digits\n",
    "\n",
    "digits = load_digits()"
   ]
  },
  {
   "cell_type": "code",
   "execution_count": 22,
   "metadata": {},
   "outputs": [
    {
     "name": "stdout",
     "output_type": "stream",
     "text": [
      "Dataset Keys: dict_keys(['data', 'target', 'target_names', 'images', 'DESCR'])\n",
      "Dataset: (1797, 64)\n",
      "Target: (1797,)\n"
     ]
    },
    {
     "data": {
      "text/plain": [
       "<Figure size 432x288 with 0 Axes>"
      ]
     },
     "metadata": {},
     "output_type": "display_data"
    },
    {
     "data": {
      "image/png": "[encoded data removed]",
      "text/plain": [
       "<Figure size 288x288 with 1 Axes>"
      ]
     },
     "metadata": {
      "needs_background": "light"
     },
     "output_type": "display_data"
    }
   ],
   "source": [
    "print(\"Dataset Keys:\", digits.keys())\n",
    "print(\"Dataset:\", digits.data.shape)\n",
    "print(\"Target:\",digits.target.shape)\n",
    "\n",
    "plt.gray()\n",
    "plt.matshow(digits.images[1])\n",
    "plt.show()"
   ]
  },
  {
   "cell_type": "markdown",
   "metadata": {},
   "source": [
    "### 1. Load the dataset and split it into a training set (75%) and a test set (25%)."
   ]
  },
  {
   "cell_type": "code",
   "execution_count": 3,
   "metadata": {},
   "outputs": [
    {
     "name": "stdout",
     "output_type": "stream",
     "text": [
      "Train Dataset: (1347, 64)\n",
      "Train Target: (1347,)\n"
     ]
    }
   ],
   "source": [
    "#Splitting the data into Training Set and Test Set\n",
    "from sklearn.model_selection import train_test_split\n",
    "X_train, X_test, y_train, y_test = train_test_split(digits.data,digits.target,test_size=0.25,random_state=0)\n",
    "\n",
    "#Normalizing the features\n",
    "from sklearn.preprocessing import StandardScaler\n",
    "sc_X = StandardScaler()\n",
    "X_train = sc_X.fit_transform(X_train)\n",
    "X_test = sc_X.transform(X_test)\n",
    "\n",
    "print(\"Train Dataset:\", X_train.shape)\n",
    "print(\"Train Target:\", y_train.shape)"
   ]
  },
  {
   "cell_type": "markdown",
   "metadata": {},
   "source": [
    "### 2. Train Logistic Regression model on the dataset, and print the accuracy of the model using the score method."
   ]
  },
  {
   "cell_type": "code",
   "execution_count": 4,
   "metadata": {},
   "outputs": [
    {
     "name": "stdout",
     "output_type": "stream",
     "text": [
      "Logistic Regression Test Accuracy Score:  0.9622222222222222\n"
     ]
    }
   ],
   "source": [
    "#Fitting Logistic Regression to Training Set\n",
    "from sklearn.linear_model import LogisticRegression\n",
    "classifierObj = LogisticRegression(random_state=0)\n",
    "classifierObj.fit(X_train, y_train)\n",
    "#Making predictions on the Test Set\n",
    "y_pred = classifierObj.predict(X_test)\n",
    "print(\"Logistic Regression Test Accuracy Score: \" , classifierObj.score(X_test, y_test))"
   ]
  },
  {
   "cell_type": "markdown",
   "metadata": {},
   "source": [
    "#### 3. Train SVM with linear kernel, and print the accuracy of the model."
   ]
  },
  {
   "cell_type": "code",
   "execution_count": 5,
   "metadata": {},
   "outputs": [
    {
     "name": "stdout",
     "output_type": "stream",
     "text": [
      "Test Accuracy of SVM with linear kernel:  0.9733333333333334\n"
     ]
    }
   ],
   "source": [
    "#Fitting Classifier to Training Set. Create a classifier object here and call it classifierObj\n",
    "from sklearn.svm import SVC\n",
    "classifierObj = SVC(kernel='linear')\n",
    "classifierObj.fit(X_train, y_train)\n",
    "\n",
    "#Making predictions on the Test Set\n",
    "y_pred = classifierObj.predict(X_test)\n",
    "\n",
    "#Model accuracy\n",
    "print(\"Test Accuracy of SVM with linear kernel: \", classifierObj.score(X_test, y_test))"
   ]
  },
  {
   "cell_type": "markdown",
   "metadata": {},
   "source": [
    "### 4. Write a loop trying different values of degree and train SVM with poly kernel. For every value of degree, you should have an accuracy. Plot a graph with degree on x-axis and test accuracy on the y-axis. What value of degree gives you the best accuracy?"
   ]
  },
  {
   "cell_type": "code",
   "execution_count": 6,
   "metadata": {},
   "outputs": [
    {
     "name": "stdout",
     "output_type": "stream",
     "text": [
      "Accuracy for degree  2 :  0.9822222222222222\n",
      "Accuracy for degree  5 :  0.6266666666666667\n",
      "Accuracy for degree  8 :  0.26666666666666666\n",
      "Accuracy for degree  11 :  0.19111111111111112\n",
      "Accuracy for degree  14 :  0.18\n",
      "Accuracy for degree  17 :  0.1688888888888889\n",
      "Accuracy for degree  20 :  0.16666666666666666\n"
     ]
    },
    {
     "data": {
      "image/png": "[encoded data removed]",
      "text/plain": [
       "<Figure size 432x288 with 1 Axes>"
      ]
     },
     "metadata": {
      "needs_background": "light"
     },
     "output_type": "display_data"
    }
   ],
   "source": [
    "# range(start, stop[, step]) -> range object\n",
    "#Fitting Classifier to Training Set. Create a classifier object here and call it classifierObj - poly\n",
    "degree = []\n",
    "accuracy = []\n",
    "for n in range(2,22,3):\n",
    " degree.append(n)\n",
    " classifierObj = SVC(kernel='poly', degree=n)\n",
    " classifierObj.fit(X_train, y_train)\n",
    " print(\"Accuracy for degree \", n, \": \", classifierObj.score(X_test, y_test))\n",
    " accuracy.append(classifierObj.score(X_test, y_test))\n",
    "\n",
    "#Visual Exploration of Training Set\n",
    "plt.scatter(degree, accuracy,color='red')\n",
    "plt.title('Relationship between Test Accuracy and Poly Degree')\n",
    "plt.xlabel('Polynomial Degree')\n",
    "plt.ylabel('Test Accuracy')\n",
    "plt.show()\n",
    "# Degree 2 gives me the best accuracy of 98.22%"
   ]
  },
  {
   "cell_type": "markdown",
   "metadata": {},
   "source": [
    "##### SVM with Polynomial Degree 2 gives me the best accuracy of 98.22%"
   ]
  },
  {
   "cell_type": "markdown",
   "metadata": {},
   "source": [
    "### 5. Train SVM with RBF kernel, and print the accuracy of the model."
   ]
  },
  {
   "cell_type": "code",
   "execution_count": 7,
   "metadata": {},
   "outputs": [
    {
     "name": "stdout",
     "output_type": "stream",
     "text": [
      "Accuracy of SVM with RBF kernel model:  0.9844444444444445\n"
     ]
    }
   ],
   "source": [
    "#Fitting Classifier to Training Set. Create a classifier object here and call it classifierObj - Default RBF kernel\n",
    "classifierObj = SVC()\n",
    "classifierObj.fit(X_train, y_train)\n",
    "\n",
    "#Making predictions on the Test Set\n",
    "y_pred = classifierObj.predict(X_test)\n",
    "\n",
    "#Model accuracy\n",
    "print(\"Accuracy of SVM with RBF kernel model: \", classifierObj.score(X_test, y_test))"
   ]
  },
  {
   "cell_type": "markdown",
   "metadata": {},
   "source": [
    "### 6. Write a loop trying different values of k and perform classification using k-NN. For every value of k, you should have an accuracy. Plot a graph with k on the x-axis and the test accuracy on the y-axis. What value of k gives you the best accuracy?"
   ]
  },
  {
   "cell_type": "code",
   "execution_count": 8,
   "metadata": {},
   "outputs": [
    {
     "name": "stdout",
     "output_type": "stream",
     "text": [
      "k =  2 :  0.9666666666666667\n",
      "k =  8 :  0.9688888888888889\n",
      "k =  14 :  0.9644444444444444\n",
      "k =  20 :  0.9533333333333334\n",
      "k =  26 :  0.9511111111111111\n"
     ]
    },
    {
     "data": {
      "image/png": "[encoded data removed]",
      "text/plain": [
       "<Figure size 432x288 with 1 Axes>"
      ]
     },
     "metadata": {
      "needs_background": "light"
     },
     "output_type": "display_data"
    }
   ],
   "source": [
    "#Fitting Classifier to Training Set. Create a classifier object here and call it classifierObj - k-NN\n",
    "from sklearn.neighbors import KNeighborsClassifier\n",
    "kValues = []\n",
    "accuracy = []\n",
    "for k in range(2,30,6):\n",
    " kValues.append(k)\n",
    " classifierObj = KNeighborsClassifier(n_neighbors=k, p=2, metric='minkowski')\n",
    " classifierObj.fit(X_train, y_train)\n",
    " print(\"k = \", k, \": \", classifierObj.score(X_test, y_test))\n",
    " accuracy.append(classifierObj.score(X_test, y_test))\n",
    "\n",
    "#Making predictions on the Test Set\n",
    "y_pred = classifierObj.predict(X_test)\n",
    "\n",
    "import matplotlib.pyplot as plt\n",
    "#Visual Exploration of Training Set\n",
    "plt.scatter(kValues,accuracy,color='red')\n",
    "plt.title('Relationship between Test Accuracy and kValues')\n",
    "plt.xlabel('kValues')\n",
    "plt.ylabel('Test Accuracy')\n",
    "plt.show()\n",
    "\n",
    "# k value 8 gives me the best accuracy of 96.89%"
   ]
  },
  {
   "cell_type": "markdown",
   "metadata": {},
   "source": [
    "##### Using KNeighborsClassifier, k = 8 gives me the best accuracy of 96.89%"
   ]
  },
  {
   "cell_type": "markdown",
   "metadata": {},
   "source": [
    "### 7. Train Naïve Bayes Model, and print the accuracy of the model."
   ]
  },
  {
   "cell_type": "code",
   "execution_count": 9,
   "metadata": {},
   "outputs": [
    {
     "name": "stdout",
     "output_type": "stream",
     "text": [
      "Test Accuracy of Naive Bayes model:  0.7733333333333333\n"
     ]
    }
   ],
   "source": [
    "#Fitting Classifier to Training Set. Create a classifier object here and call it classifierObj\n",
    "from sklearn.naive_bayes import GaussianNB\n",
    "classifierObj = GaussianNB()\n",
    "classifierObj.fit(X_train, y_train)\n",
    "\n",
    "#Making predictions on the Test Set\n",
    "y_pred = classifierObj.predict(X_test)\n",
    "\n",
    "#Model accuracy\n",
    "print(\"Test Accuracy of Naive Bayes model: \", classifierObj.score(X_test, y_test))"
   ]
  },
  {
   "cell_type": "markdown",
   "metadata": {},
   "source": [
    "### 8. Train Decision Tree, and print the accuracy of the model."
   ]
  },
  {
   "cell_type": "code",
   "execution_count": 10,
   "metadata": {},
   "outputs": [
    {
     "name": "stdout",
     "output_type": "stream",
     "text": [
      "Test Accuracy of Decision tree model:  0.8288888888888889\n"
     ]
    }
   ],
   "source": [
    "#Fitting Classifier to Training Set. Create a classifier object here and call it classifierObj\n",
    "from sklearn.tree import DecisionTreeClassifier\n",
    "classifierObj = DecisionTreeClassifier(criterion='entropy')\n",
    "classifierObj.fit(X_train,y_train)\n",
    "\n",
    "#Making predictions on the Test Set\n",
    "y_pred = classifierObj.predict(X_test)\n",
    "\n",
    "#Model accuracy -> model got correct results\n",
    "print(\"Test Accuracy of Decision tree model: \", classifierObj.score(X_test, y_test))"
   ]
  },
  {
   "cell_type": "markdown",
   "metadata": {},
   "source": [
    "### 9. Write a loop to train Random Forest with different values of n_estimators. For every value of n_estimators you should have an accuracy. Plot a graph with n_estimators on the x-axis and the test accuracy on the y-axis. What value of n_estimators gives you the best accuracy?"
   ]
  },
  {
   "cell_type": "code",
   "execution_count": 21,
   "metadata": {},
   "outputs": [
    {
     "name": "stdout",
     "output_type": "stream",
     "text": [
      "n_estimators = 1 :  0.7422222222222222\n",
      "n_estimators = 17 :  0.9688888888888889\n",
      "n_estimators = 33 :  0.9666666666666667\n",
      "n_estimators = 49 :  0.9777777777777777\n",
      "n_estimators = 65 :  0.9688888888888889\n",
      "n_estimators = 81 :  0.9733333333333334\n",
      "n_estimators = 97 :  0.98\n",
      "n_estimators = 113 :  0.9711111111111111\n",
      "n_estimators = 129 :  0.9711111111111111\n",
      "n_estimators = 145 :  0.9733333333333334\n"
     ]
    },
    {
     "data": {
      "image/png": "[encoded data removed]",
      "text/plain": [
       "<Figure size 432x288 with 1 Axes>"
      ]
     },
     "metadata": {
      "needs_background": "light"
     },
     "output_type": "display_data"
    }
   ],
   "source": [
    "#Fitting Classifier to Training Set. Create a classifier object here and call it classifierObj\n",
    "from sklearn.ensemble import RandomForestClassifier\n",
    "n_estimators = []\n",
    "accuracy = []\n",
    "for n in range(1,150,16):\n",
    " n_estimators.append(n)\n",
    " classifierObj = RandomForestClassifier(n_estimators=n, criterion='entropy')\n",
    " classifierObj.fit(X_train,y_train)\n",
    " print(\"n_estimators =\", n, \": \", classifierObj.score(X_test, y_test))\n",
    " accuracy.append(classifierObj.score(X_test, y_test))\n",
    "\n",
    "#Making predictions on the Test Set\n",
    "y_pred = classifierObj.predict(X_test)\n",
    "\n",
    "\n",
    "import matplotlib.pyplot as plt\n",
    "#Visual Exploration of Training Set\n",
    "plt.scatter(n_estimators,accuracy,color='red')\n",
    "plt.title('Relationship between accuracy and n_estimators')\n",
    "plt.xlabel('n_estimators')\n",
    "plt.ylabel('Test Accuracy')\n",
    "plt.show()\n",
    "\n",
    "# n_estimators accuracy stays stable around  98.00%"
   ]
  },
  {
   "cell_type": "markdown",
   "metadata": {},
   "source": [
    "##### Using RandomForestClassifier, # n_estimators accuracy stays stable around  98.00%"
   ]
  }
 ],
 "metadata": {
  "hide_input": false,
  "kernelspec": {
   "display_name": "Python 3",
   "language": "python",
   "name": "python3"
  },
  "language_info": {
   "codemirror_mode": {
    "name": "ipython",
    "version": 3
   },
   "file_extension": ".py",
   "mimetype": "text/x-python",
   "name": "python",
   "nbconvert_exporter": "python",
   "pygments_lexer": "ipython3",
   "version": "3.6.8"
  },
  "latex_envs": {
   "LaTeX_envs_menu_present": true,
   "autoclose": false,
   "autocomplete": true,
   "bibliofile": "biblio.bib",
   "cite_by": "apalike",
   "current_citInitial": 1,
   "eqLabelWithNumbers": true,
   "eqNumInitial": 1,
   "hotkeys": {
    "equation": "Ctrl-E",
    "itemize": "Ctrl-I"
   },
   "labels_anchors": false,
   "latex_user_defs": false,
   "report_style_numbering": false,
   "user_envs_cfg": false
  }
 },
 "nbformat": 4,
 "nbformat_minor": 2
}
